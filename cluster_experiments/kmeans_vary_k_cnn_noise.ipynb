{
 "metadata": {
  "language_info": {
   "codemirror_mode": {
    "name": "ipython",
    "version": 3
   },
   "file_extension": ".py",
   "mimetype": "text/x-python",
   "name": "python",
   "nbconvert_exporter": "python",
   "pygments_lexer": "ipython3",
   "version": 3
  },
  "orig_nbformat": 2
 },
 "nbformat": 4,
 "nbformat_minor": 2,
 "cells": [
  {
   "cell_type": "code",
   "execution_count": null,
   "metadata": {},
   "outputs": [],
   "source": [
    "import numpy as np\n",
    "import matplotlib.pyplot as plt\n",
    "import joblib\n",
    "\n",
    "# I keep having import issues with plotly so now I will just install it from whatever environment I'm currently in\n",
    "# import sys\n",
    "# !conda install --yes --prefix {sys.prefix} plotly\n",
    "import plotly.graph_objects as go\n",
    "\n",
    "from cfl.cluster_methods.kmeans import KMeans\n",
    "from cfl.experiment import Experiment\n",
    "from visual_bars import generate_visual_bars_data as vbd\n",
    "from cfl.util.data_processing import one_hot_encode\n",
    "from cfl.dataset import Dataset\n",
    "from cfl.visualization_methods import clustering_to_sankey as sk\n"
   ]
  },
  {
   "cell_type": "code",
   "execution_count": null,
   "metadata": {},
   "outputs": [],
   "source": [
    "# create a visual bars data set\n",
    "\n",
    "n_samples = 1000\n",
    "noise_lvl = 0.03\n",
    "im_shape = (10, 10)\n",
    "random_seed = 143\n",
    "print('Generating a visual bars dataset with {} samples at noise level {}'.format(n_samples, noise_lvl))\n",
    "\n",
    "vb_data = vbd.VisualBarsData(n_samples=n_samples, im_shape = im_shape, noise_lvl=noise_lvl, set_random_seed=random_seed)\n",
    "\n",
    "ims = vb_data.getImages()\n",
    "y = vb_data.getTarget()\n",
    "\n",
    "# format data\n",
    "x = np.expand_dims(ims, -1)\n",
    "\n",
    "# y = one_hot_encode(y, unique_labels=[0,1])\n",
    "y = np.expand_dims(y, -1)\n",
    "\n"
   ]
  },
  {
   "cell_type": "code",
   "execution_count": null,
   "metadata": {},
   "outputs": [],
   "source": [
    "y.shape\n",
    "y[:10]"
   ]
  },
  {
   "cell_type": "code",
   "execution_count": null,
   "metadata": {},
   "outputs": [],
   "source": [
    "data_info = {'X_dims': x.shape,\n",
    "             'Y_dims': y.shape,\n",
    "             'Y_type': 'categorical'}\n",
    "\n",
    "# # paragmeters for CDE\n",
    "CNN_params = { # parameters for model creation\n",
    "                    'filters'         : [32, 64],\n",
    "                    'input_shape'     : (10, 10, 1),\n",
    "                    'kernel_size'     : [(3, 3)] *2,\n",
    "                    'pool_size'       : [(2, 2)] *2,\n",
    "                    'padding'         : ['same'] *2,\n",
    "                    'conv_activation' : ['softmax']*2,\n",
    "                    'dense_units'     : 64,\n",
    "                    'dense_activation' : 'softmax',\n",
    "                    'output_activation': None,\n",
    "\n",
    "                    # parameters for training\n",
    "                    'batch_size'  : 32,\n",
    "                    'n_epochs'    : 100,\n",
    "                    'optimizer'   : 'adam',\n",
    "                    'opt_config'  : {},\n",
    "                    'verbose'     : 2,\n",
    "                    'weights_path': None,\n",
    "                    'loss'        : 'mean_squared_error',\n",
    "                    'show_plot'   : True,\n",
    "                    'standardize' : False,\n",
    "                    'best'        : True,\n",
    "                    }\n",
    "\n",
    "\n",
    "block_names = ['CondExpCNN']\n",
    "block_params = [CNN_params]\n",
    "\n",
    "# save_path = '/Users/imanwahle/Desktop/cfl/examples/exp_results'\n",
    "save_path = 'C:/Users/yumen/Documents/Schmidt Academy/cfl/cnn_test'\n",
    "my_exp = Experiment(X_train=x, Y_train=y, data_info=data_info, block_names=block_names, block_params=block_params, blocks=None, results_path=save_path)\n"
   ]
  },
  {
   "cell_type": "code",
   "execution_count": null,
   "metadata": {},
   "outputs": [],
   "source": [
    "my_exp.blocks[0].model.summary()"
   ]
  },
  {
   "cell_type": "code",
   "execution_count": null,
   "metadata": {},
   "outputs": [],
   "source": [
    "cde_results_dict = joblib.load(os.path.join('/', save_path, 'experiment0032/dataset_train/CondExpCNN_results.pickle'))\n",
    "\n",
    "# 29 is a good one, 32 is about the same\n",
    "pyx = cde_results_dict['pyx']\n"
   ]
  },
  {
   "cell_type": "code",
   "execution_count": null,
   "metadata": {},
   "outputs": [],
   "source": [
    "truth = vb_data.getGroundTruth()\n",
    "\n",
    "#choose a thousand random samples from the pyx results\n",
    "plot_idx = np.random.choice(pyx.shape[0], 1000, replace=False)\n",
    "\n",
    "# plot them\n",
    "plt.scatter(range(1000), pyx[plot_idx,0], c=truth[plot_idx])\n",
    "plt.ylabel(\"Probability that target = 1\")\n",
    "plt.xlabel(\"Sample\")\n",
    "plt.show()\n",
    "\n",
    "for i in range(4):\n",
    "    print('Average prediction for x-class {}: {:.2f}'.format(i, np.mean(pyx[truth==i,0])))\n"
   ]
  },
  {
   "cell_type": "code",
   "execution_count": null,
   "metadata": {},
   "outputs": [],
   "source": [
    "cluster_params = {'n_Xclusters': 4, 'n_Yclusters': 2}\n",
    "kmeans_obj = KMeans('Kmeans', data_info, cluster_params, random_state=143)\n",
    "res = kmeans_obj.train(Dataset(x, y), cde_results_dict)\n",
    "\n"
   ]
  },
  {
   "cell_type": "code",
   "execution_count": null,
   "metadata": {},
   "outputs": [],
   "source": [
    "from sklearn.metrics import adjusted_rand_score\n",
    "\n",
    "adjusted_rand_score(truth, res['x_lbls'])\n"
   ]
  },
  {
   "cell_type": "code",
   "execution_count": null,
   "metadata": {},
   "outputs": [],
   "source": [
    "# # this graph is the reverse of the above graph\n",
    "# plt.scatter(range(1000), pyx[plot_idx,0], c=truth[plot_idx])\n",
    "# plt.ylabel(\"Probability that target = 0\")\n",
    "# plt.xlabel(\"Sample\")\n",
    "# plt.show()\n",
    "\n",
    "# for i in range(4):\n",
    "#     print('Average prediction for x-class {}: {:.2f}'.format(i, np.mean(pyx[truth==i,0])))\n",
    "\n",
    "\n"
   ]
  },
  {
   "cell_type": "code",
   "execution_count": null,
   "metadata": {},
   "outputs": [],
   "source": [
    "# show all the probabilities that y=1\n",
    "plt.hist(pyx[:, 1], bins=25)\n",
    "plt.show()\n",
    "\n",
    "#same info as above, in a hist\n"
   ]
  },
  {
   "cell_type": "code",
   "execution_count": null,
   "metadata": {},
   "outputs": [],
   "source": [
    "# create a number of Kmeans objects with different Ks\n",
    "k_range = range(2, 8)\n",
    "\n",
    "kmeans_l = []\n",
    "for n_clusters in k_range:\n",
    "    params = {'n_Xclusters': n_clusters, 'n_Yclusters': 2}\n",
    "    kmeans_obj = KMeans('Kmeans', data_info, params, random_state=143)\n",
    "    kmeans_l.append(kmeans_obj)\n",
    "\n",
    "data = Dataset(x, y)\n",
    "\n",
    "# trained all the data on the kmeanss\n",
    "x_lbls_L = []\n",
    "for kmeans_obj in kmeans_l:\n",
    "  cluster_results = kmeans_obj.train(data, cde_results_dict)\n",
    "  x_lbls_L.append(cluster_results['x_lbls'])\n"
   ]
  },
  {
   "cell_type": "code",
   "execution_count": null,
   "metadata": {},
   "outputs": [],
   "source": [
    "link, label = sk.convert_lbls_to_sankey_nodes(x_lbls_L)\n",
    "# plot\n",
    "fig = go.Figure(data=\n",
    "          [go.Sankey(node = dict(pad = 15, thickness=20, label = label, color =  \"blue\"),\n",
    "                     link = link)])\n",
    "\n",
    "fig.update_layout(title_text=\"Visual Bars Clustering, no noise, with 2 to 7 Clusters\", font_size=10)\n",
    "fig.show()"
   ]
  },
  {
   "cell_type": "code",
   "execution_count": null,
   "metadata": {},
   "outputs": [],
   "source": [
    "# x_lbls_L[2][plot_idx].shape\n"
   ]
  },
  {
   "cell_type": "code",
   "execution_count": null,
   "metadata": {},
   "outputs": [],
   "source": [
    "truth = vb_data.getGroundTruth()\n",
    "\n",
    "\n",
    "# plot them\n",
    "markers = [\".\" , \",\" , \"o\" , \"v\" ]\n",
    "colors = ['g','b', 'm', 'y']\n",
    "\n",
    "#choose a thousand random samples from the pyx results\n",
    "plot_idx = np.random.choice(pyx.shape[0], 1000, replace=False)\n",
    "\n",
    "# for each sample\n",
    "for i in range(1000):\n",
    "    pi = pyx[plot_idx[i]] # plot probability\n",
    "    mi = markers[x_lbls_L[2][plot_idx[i]]] #marker based on cluster assignment\n",
    "    ci = colors[truth[plot_idx[i]]] #color based on ground truth class\n",
    "\n",
    "    plt.scatter(i,pi, marker=mi, color=ci)\n",
    "plt.show()\n",
    "\n"
   ]
  },
  {
   "cell_type": "code",
   "execution_count": null,
   "metadata": {},
   "outputs": [],
   "source": [
    "from cfl.visualization_methods import general_vis as vis\n",
    "\n",
    "vis.view_class_examples(ims, im_shape, 10, x_lbls_L[0])\n"
   ]
  },
  {
   "cell_type": "code",
   "execution_count": null,
   "metadata": {},
   "outputs": [],
   "source": [
    "# vis.view_class_examples(ims, im_shape, 10, x_lbls_L[1])\n",
    "\n",
    "\n",
    "# # %%\n",
    "# vis.view_class_examples(ims, im_shape, 10, x_lbls_L[2])\n",
    "\n",
    "\n",
    "# %%\n",
    "# vis.view_class_examples(ims, im_shape, 10, x_lbls_L[3])\n",
    "\n",
    "\n",
    "# %%\n",
    "# vis.view_class_examples(ims, im_shape, 10, x_lbls_L[4])\n",
    "\n",
    "\n",
    "# %%\n",
    "# vis.view_class_examples(ims, im_shape, 10, x_lbls_L[5])\n",
    "\n"
   ]
  },
  {
   "cell_type": "code",
   "execution_count": null,
   "metadata": {},
   "outputs": [],
   "source": [
    "truth = vb_data.getGroundTruth()\n",
    "\n",
    "\n",
    "# plot them\n",
    "markers = [\".\" , \",\" , \"o\" , \"v\" , \"^\" , \"<\", \">\"]\n",
    "colors = ['c','m', 'y', 'k', 'r', 'g','b']\n",
    "\n",
    "\n",
    "#choose a thousand random samples from the pyx results\n",
    "plot_idx = np.random.choice(pyx.shape[0], 1000, replace=False)\n",
    "\n",
    "# for each sample\n",
    "fig = plt.figure(figsize=(10, 10))\n",
    "for i in range(1000):\n",
    "    pi = pyx[plot_idx[i],1] # plot probability\n",
    "    mi = markers[truth[plot_idx[i]]] #marker based on ground truth\n",
    "    ci = colors[x_lbls_L[5][plot_idx[i]]] #color based on cluster assignment\n",
    "\n",
    "    plt.scatter(i,pi, marker=mi, color=ci)\n",
    "plt.show()\n"
   ]
  }
 ]
}