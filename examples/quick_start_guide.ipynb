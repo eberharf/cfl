{
 "cells": [
  {
   "cell_type": "markdown",
   "metadata": {},
   "source": [
    "#### 11/2/20"
   ]
  },
  {
   "cell_type": "markdown",
   "metadata": {},
   "source": [
    "# Quick Start Guide \n",
    "-----------------\n",
    "This notebook will show how to run a basic experiment using the `cfl` package. It will also explain the visual bars data and some background for CFL. \n",
    "\n",
    "\n",
    "\n",
    "Contents \n",
    "- Background: What is CFL?\n",
    "- Importing the `cfl` package \n",
    "- Background: Visual Bars Data \n",
    "- Loading Data \n",
    "- Saving Results \n",
    "- Training and Predicting with a CFL object \n",
    "- Visualizing the results  \n",
    "- Beyond the Basics: Training and predicting just the conditional density or just with clustering \n",
    "- Beyond the Basics: Loading Saved Weights\n"
   ]
  },
  {
   "cell_type": "markdown",
   "metadata": {},
   "source": [
    "## Background \n",
    "\n",
    "Macrovariables are a useful way to summarize the relevant features detailed, low-level data at a higher level. For example, instead of keeping track of the kinetic energy of every particle in a room, we can instead monitor just the temperature of the room. In this case, 'temperature' is a macrovariable which summarizes the kinetic energy in the room. Additionally, all the particle configurations which have the same temperature (i.e. are part of the same macrovariable class) may differ in some ways, but for many purposes, are functionally the same. Thus, macrovariables can abstract away unnecessary information while preserving important distinctions. Which features are important to distinguish depends on the task for which the macrovariable is being used. \n",
    "\n",
    "Causal Feature Learning (CFL) is an algorithm designed to construct macrovariables from low-level data in an unsupervised manner while accounting for the causal relationships between these macrovariables. CFL is designed to take two data sets as input. The `X` dataset contains all of the features which may potentially cause the effects seen in the `Y` dataset. The word \"potentially\" is used because both datasets may contain features which turn out not to be causally relevant; if that is the case, then CFL should not consider them when assigning a macrovariable label. CFL partitions each input dataset into a set of macrovariables: `X` into a set of macro-causes (e.g. the temperature of the room) and `Y` into a set of macro-effects (e.g. whether someone turns on the air conditioner). \n",
    "\n",
    "CFL works by first learning the conditional probability distribution $P(Y|X)$ (or some reasonable proxy for this distibution). This step is called conditional density estimation, or CDE. It then clusters together `X`s for which the equivalence relation $P(Y|X=x_1) = P(Y|X=x_2)$ is (approximately) true, followed by clustering `Y`s for which the relation $P(Y=y_1|X) = P(Y=y_2|X)$ approximately holds. Thus, CFL works in two steps: first, it estimates a conditional probability distribution; and second, it clusters based on that distribution. The image below provides a visual overview of the inputs and outputs of each step of CFL. \n",
    "\n",
    "<img src=\"img/CFLpipeline.png\" alt=\"Overview of CFL pipeline\" height=\"200\"/>\n",
    "\n",
    "As stated above, CFL learns a method to partition the sample space of each dataset. This information is contained in the parameters of the trained model. These parameters generate the labels that are output at the end of training and can be used to classify new data into macrovariables.\n"
   ]
  },
  {
   "cell_type": "code",
   "execution_count": 1,
   "metadata": {},
   "outputs": [],
   "source": [
    "#import standard pacakges \n",
    "import numpy as np #needed for reshaping arrays \n",
    "import matplotlib.pyplot as plt #for rendering plots"
   ]
  },
  {
   "cell_type": "markdown",
   "metadata": {},
   "source": [
    "## Importing the `cfl` package \n",
    "\n",
    "Type `import cfl` in order to import the entire `cfl` package, or import the specific modules you intend to use. "
   ]
  },
  {
   "cell_type": "code",
   "execution_count": 3,
   "metadata": {},
   "outputs": [],
   "source": [
    "# importing cfl will import all of the sub-modules inside of cfl as well\n",
    "import cfl\n",
    "\n",
    "# you can also import specific files, functions, or classes\n",
    "# into the local namespace \n",
    "from cfl.cfl_wrapper import make_CFL\n",
    "from cfl.save.experiment_saver import ExperimentSaver\n",
    "from cfl.dataset import Dataset\n",
    "\n",
    "# or rename modules for brevity \n",
    "from cfl.visualization_methods import visual_bars_vis as vis"
   ]
  },
  {
   "cell_type": "markdown",
   "metadata": {},
   "source": [
    "## Background: Visual Bars Data\n",
    "\n",
    "For this experiment, we will use the Visual Bars dataset (from Chalupka 2015). \n",
    "\n",
    "The causal dataset consists of a set of binary (black-and-white) images. These images each have a black background \n",
    "and contain white pixels of random noise. Each image may also contain either a white vertical and/or a horizontal bar. Below are a few sample images. \n",
    "\n",
    "<img src=\"img/vbImage1.png\" alt=\"Sample Visual Bars Image\" height=\"150\"/>\n",
    "<img src=\"img/vbImage2.png\" alt=\"Sample Visual Bars Image\" height=\"150\"/>\n",
    "<img src=\"img/vbImage3.png\" alt=\"Sample Visual Bars Image\" height=\"150\"/>\n",
    "\n",
    "\n",
    "The effect dataset (aka the \"target\") is, in this case, a single-dimensional, binary variable. In other words, there is only one variable in the target data set, and that variable can either take on the value of \"0\" or \"1\". \n",
    "\n",
    "The underlying causal structure used to generate the visual bars images is shown below. The solid circles are the observed variables, the dotted lines are hidden (unobserved) variables, and the arrows denote a causal relationship from one variable to another. \n",
    "\n",
    "\n",
    "<img src=\"img/VisualBarsCausal.png\" alt=\"causal graph for visual bars\" height=\"300\"/>\n",
    "\n",
    "The causal graph includes two 'hidden variables' ($H_1$ and $H_2$), whether an image contains a horizontal and/or vertical bar, and the target variable's value. The values of hidden variables are not observed directly in the data, but they impact the values of variables that we do observe. \n",
    "\n",
    "More specifically, when the $H_{1}$ hidden variable is \"on\", that causes a vertical bar to be present in the image. It also increases the probability that the target variable's value will be $1$. The $H_{2}$ hidden variable causes a horizontal bar to be present in the image, but does not directly impact the value of the target. The presence of a horizontal bar in the image increases the probability of the target's value being $1$, but the presence of a vertical bar does not directly impact the value of the target variable. \n",
    "\n",
    "Wow! All that's a little confusing. What does it mean? \n",
    "\n",
    "Basically, this means that there is confounding in our data! You can see in the image above that $H_{1}$ has influence on both the contents of the images, and on the target directly. Confounding makes disentangling the causal relationships a little more complicated. \n",
    "\n",
    "\n",
    "So, for this data set, we want CFL to separate the images into four observational macrovariables: one for each combination of values for $H_1$ and $H_2$. This will allow later researchers to design later experiments that determine which of the differences in these macrovariables are causally important (vs merely predictive).\n",
    "\n",
    "The table below shows the 'ground truth' probability of the target value being $1$, given each possible state of the hidden variables. These values are used to generate the target values. At the end of the CDE step of CFL, we want to recover these probabilities as accurately as possible, and by the end of the clustering step, recover these four categories.\n",
    "\n",
    "<img src=\"img/VisualBarsProbs.png\" alt=\"probability table for visual bars\" height=\"150\"/>\n"
   ]
  },
  {
   "cell_type": "markdown",
   "metadata": {},
   "source": [
    "## Loading Visual Bars Data\n",
    "\n",
    "In order to create a visual bars data set (ie a set of images and associated target values), we need to import the file `generate_visual_bars_data.py`. If you are trying to generate the visual bars data from somewhere outside the root directory of the reposity, add the visual_bars_test directory path to the PYTHONPATH (same as you did for the `cfl` package) for easy importing. "
   ]
  },
  {
   "cell_type": "code",
   "execution_count": 4,
   "metadata": {},
   "outputs": [],
   "source": [
    "#import the file to generate visual bars data \n",
    "import visual_bars.generate_visual_bars_data as vbd\n",
    "\n",
    "# uncomment this line and use it instead if you have added visual_bars_test to the pythonpath\n",
    "# import generate_visual_bars_data as vbd"
   ]
  },
  {
   "cell_type": "markdown",
   "metadata": {},
   "source": [
    "In order to generate visual bars data, we set the number of images we want to generate (`n_samples`), the size of each image in pixels (`im_shape`), and the intensity of random noise in the image (`noise_lvl`). To have reproducible results, we also will set a random seed. "
   ]
  },
  {
   "cell_type": "code",
   "execution_count": 5,
   "metadata": {},
   "outputs": [],
   "source": [
    "n_samples = 1000\n",
    "im_shape = (10, 10)\n",
    "noise_lvl= 0.03\n",
    "random_state = 180\n",
    "\n",
    "# create visual bars data \n",
    "vb_data = vbd.VisualBarsData(n_samples=n_samples, im_shape = im_shape, noise_lvl=noise_lvl, set_random_seed=random_state)"
   ]
  },
  {
   "cell_type": "markdown",
   "metadata": {},
   "source": [
    "We save the images from this data to a variable `X` and the array of target behavior to a variable `Y`. Note that `X` and `Y` are aligned - they must have the same number of observations, and the nth image in `X` must correspond to the nth target value in `Y`. "
   ]
  },
  {
   "cell_type": "code",
   "execution_count": 6,
   "metadata": {},
   "outputs": [
    {
     "data": {
      "image/png": "[encoded data removed]",
      "text/plain": [
       "<Figure size 432x288 with 1 Axes>"
      ]
     },
     "metadata": {
      "needs_background": "light"
     },
     "output_type": "display_data"
    },
    {
     "data": {
      "image/png": "[encoded data removed]",
      "text/plain": [
       "<Figure size 432x288 with 1 Axes>"
      ]
     },
     "metadata": {
      "needs_background": "light"
     },
     "output_type": "display_data"
    },
    {
     "data": {
      "image/png": "[encoded data removed]",
      "text/plain": [
       "<Figure size 432x288 with 1 Axes>"
      ]
     },
     "metadata": {
      "needs_background": "light"
     },
     "output_type": "display_data"
    },
    {
     "name": "stdout",
     "output_type": "stream",
     "text": [
      "(1000, 10, 10)\n",
      "(1000,)\n",
      "True\n"
     ]
    }
   ],
   "source": [
    "# retrieve the images and the target \n",
    "X = vb_data.getImages()\n",
    "Y = vb_data.getTarget()\n",
    "\n",
    "# visualize some example images \n",
    "vis.viewSingleImage(X)\n",
    "vis.viewSingleImage(X)\n",
    "vis.viewSingleImage(X)\n",
    "\n",
    "# X and Y have the same number of rows  \n",
    "print(X.shape)\n",
    "print(Y.shape)\n",
    "print(X.shape[0]==Y.shape[0])"
   ]
  },
  {
   "cell_type": "markdown",
   "metadata": {},
   "source": [
    "### Shaping the Data \n",
    "\n",
    "Before putting our data into CFL, we must reshape `X` and `Y` into the right shapes to be passed through the conditional density estimation (CDE) step of CFL. Most of the models we use expect data with 2 dimensions, where the first dimension is samples and the second is features. Since `X` is currently 3-dimensional (an array of 2D images), we need to flatten the 2D images into 1-D before passing `X` in. NOTE: not all CDEs need the same input shape! Most take in 1D inputs, but a convolutional neural net (CNN), take in 2D input. If we were using a CNN, we would not flatten `X`. \n",
    "\n",
    "We then expand `Y` because it is currently only 1D. Expanding to 2 dimensions makes `Y` have the shape `(n_samples, 1)` instead of `(n_samples,)`."
   ]
  },
  {
   "cell_type": "code",
   "execution_count": 7,
   "metadata": {},
   "outputs": [
    {
     "name": "stdout",
     "output_type": "stream",
     "text": [
      "(1000, 100)\n",
      "(1000, 1)\n"
     ]
    }
   ],
   "source": [
    "#reformat x, y into the right shape for the neural net \n",
    "\n",
    "# flatten X \n",
    "X = np.reshape(X, (X.shape[0], X.shape[1]*X.shape[2])) \n",
    "print(X.shape)\n",
    "\n",
    "# expand Y\n",
    "Y = np.expand_dims(Y, -1)\n",
    "print(Y.shape)"
   ]
  },
  {
   "cell_type": "markdown",
   "metadata": {},
   "source": [
    "### Key Points for Loading Data\n",
    "1. The data should consist of a data set `X` and a data set `Y` that are aligned (each row in `X` corresponds to the row with the same index in `Y`)\n",
    "2. For most instances of CFL, `X` and `Y` should be reshaped such that that each one is a 2D array, where the first dimension is samples/observations and the second dimension is all the features "
   ]
  },
  {
   "cell_type": "markdown",
   "metadata": {},
   "source": [
    "## Saving Results \n",
    "\n",
    "We will now set up an `ExperimentSaver`. This will save not only the results from each step of CFL, but also the parameters input to CFL. This is an optional step; if you do not create an `ExperimentSaver`, then the CFL parameters and results will not be saved. \n",
    "\n",
    "We will also pass the X and Y data and the `ExperimentSaver` into a `Dataset` object. (This step is necessary; CFL only accepts a `Dataset` object). By associating this dataset with an `ExperimentSaver`, the results from running this dataset through a CFL pipeline will be saved in an appropriate location. Then, every time we pass that `Dataset` through any part of the CFL pipeline, the results will automatically be stored in a directory associated with that `Dataset` and experiment.\n",
    "\n",
    "We need to create a new `ExperimentSaver` every time we begin a new experiment; that means every time we change the CFL configuration. \n",
    "This can happen if either  \n",
    "1. The CFL parameters change or\n",
    "2. The data that we train the CFL with changes "
   ]
  },
  {
   "cell_type": "code",
   "execution_count": 8,
   "metadata": {},
   "outputs": [
    {
     "name": "stdout",
     "output_type": "stream",
     "text": [
      "base_path 'results/visual_bars' doesn't exist, creating now.\n",
      "All results from this run will be saved to results/visual_bars\\experiment0000\n"
     ]
    }
   ],
   "source": [
    "# save experiment results from this CFL configuration across all datasets to 'results/visual_bars/experiment000x'\n",
    "experiment_saver = ExperimentSaver('results/visual_bars')\n",
    "\n",
    "# construct dataset. this will save all dataset-specific results to 'results/visual_bars/experiment000x/dataset0'\n",
    "train_dataset = Dataset(X, Y, dataset_label='train_data', experiment_saver=experiment_saver)"
   ]
  },
  {
   "cell_type": "markdown",
   "metadata": {},
   "source": [
    "## Training and Predicting with a CFL object \n",
    "\n",
    "Now we're ready to go! \n",
    "\n",
    "CFL takes in several sets of parameters, each in dictionary form: \n",
    "- `data_info`  \n",
    "- `CDE_params`   \n",
    "- `cluster_params`   \n",
    "\n",
    "For further details on the meaning of these parameters, consult the documentation for the clusterer and the CondExp base class. \n",
    "\n",
    "Note that not all of the CDE_params listed here need to be specified - if they are not specified, default values will be provided.  \n"
   ]
  },
  {
   "cell_type": "code",
   "execution_count": 9,
   "metadata": {},
   "outputs": [],
   "source": [
    "# set all CFL parameters\n",
    "\n",
    "# generic data parameters\n",
    "data_info = { 'X_dims' : X.shape, \n",
    "              'Y_dims' : Y.shape } \n",
    "\n",
    "# conditional density estimator parameters\n",
    "CDE_params = { 'batch_size'  : 32,  #these first four parameters control the training \n",
    "               'optimizer'   : 'adam',\n",
    "               'n_epochs'    : 60,\n",
    "               'opt_config'  : {'lr': 1e-3}, \n",
    "               'verbose'     : 1,  #these last two parameters control what output is displayed\n",
    "               'show_plot'   : True }\n",
    "\n",
    "# clusterer parameters\n",
    "cluster_params = { 'n_Xclusters' : 4, \n",
    "                   'n_Yclusters' : 2 }"
   ]
  },
  {
   "cell_type": "markdown",
   "metadata": {},
   "source": [
    "Then we make the cfl object with the `make_CFL` function! This function allows you to create both parts of the cfl model in one step. It takes in the parameter dictionaries, and strings specifying which type of CDE/ clusterer to use. In this case, we use our basic Conditional Expection model for CDE, and K-means for clustering. Consult the PyDoc documentation for the other available models. Note that we didn't specify some parameters, and so those parameters are given default values and  printed below. \n"
   ]
  },
  {
   "cell_type": "code",
   "execution_count": 10,
   "metadata": {},
   "outputs": [
    {
     "name": "stdout",
     "output_type": "stream",
     "text": [
      "dense_units not specified in params, defaulting to [50, 1]\n",
      "activations not specified in params, defaulting to ['relu', 'linear']\n",
      "dropouts not specified in params, defaulting to [0, 0]\n",
      "weights_path not specified in params, defaulting to None\n",
      "loss not specified in params, defaulting to mean_squared_error\n",
      "model_name not specified in params, defaulting to CondExp\n"
     ]
    },
    {
     "ename": "TypeError",
     "evalue": "__init__() got an unexpected keyword argument 'experiment_saver'",
     "output_type": "error",
     "traceback": [
      "\u001b[1;31m---------------------------------------------------------------------------\u001b[0m",
      "\u001b[1;31mTypeError\u001b[0m                                 Traceback (most recent call last)",
      "\u001b[1;32m<ipython-input-10-de97777c4653>\u001b[0m in \u001b[0;36m<module>\u001b[1;34m\u001b[0m\n\u001b[0;32m      1\u001b[0m \u001b[1;31m# build CFL object!\u001b[0m\u001b[1;33m\u001b[0m\u001b[1;33m\u001b[0m\u001b[1;33m\u001b[0m\u001b[0m\n\u001b[1;32m----> 2\u001b[1;33m cfl_object = make_CFL(  data_info=data_info, \n\u001b[0m\u001b[0;32m      3\u001b[0m                         \u001b[0mCDE_type\u001b[0m\u001b[1;33m=\u001b[0m\u001b[1;34m'CondExpVB'\u001b[0m\u001b[1;33m,\u001b[0m\u001b[1;33m\u001b[0m\u001b[1;33m\u001b[0m\u001b[0m\n\u001b[0;32m      4\u001b[0m                         \u001b[0mcluster_type\u001b[0m\u001b[1;33m=\u001b[0m\u001b[1;34m'Kmeans'\u001b[0m\u001b[1;33m,\u001b[0m\u001b[1;33m\u001b[0m\u001b[1;33m\u001b[0m\u001b[0m\n\u001b[0;32m      5\u001b[0m                         \u001b[0mCDE_params\u001b[0m\u001b[1;33m=\u001b[0m\u001b[0mCDE_params\u001b[0m\u001b[1;33m,\u001b[0m\u001b[1;33m\u001b[0m\u001b[1;33m\u001b[0m\u001b[0m\n",
      "\u001b[1;32m~\\Documents\\Schmidt Academy\\cfl\\cfl\\cfl_wrapper.py\u001b[0m in \u001b[0;36mmake_CFL\u001b[1;34m(data_info, CDE_type, cluster_type, CDE_params, cluster_params, experiment_saver)\u001b[0m\n\u001b[0;32m     20\u001b[0m     \u001b[1;31m# build CFL object!\u001b[0m\u001b[1;33m\u001b[0m\u001b[1;33m\u001b[0m\u001b[1;33m\u001b[0m\u001b[0m\n\u001b[0;32m     21\u001b[0m     \u001b[0mCDE_object\u001b[0m \u001b[1;33m=\u001b[0m \u001b[0mCDE_key\u001b[0m\u001b[1;33m[\u001b[0m\u001b[0mCDE_type\u001b[0m\u001b[1;33m]\u001b[0m\u001b[1;33m(\u001b[0m\u001b[0mdata_info\u001b[0m\u001b[1;33m,\u001b[0m \u001b[0mCDE_params\u001b[0m\u001b[1;33m,\u001b[0m \u001b[0mexperiment_saver\u001b[0m\u001b[1;33m=\u001b[0m\u001b[0mexperiment_saver\u001b[0m\u001b[1;33m)\u001b[0m\u001b[1;33m\u001b[0m\u001b[1;33m\u001b[0m\u001b[0m\n\u001b[1;32m---> 22\u001b[1;33m     \u001b[0mcluster_object\u001b[0m \u001b[1;33m=\u001b[0m \u001b[0mcluster_key\u001b[0m\u001b[1;33m[\u001b[0m\u001b[0mcluster_type\u001b[0m\u001b[1;33m]\u001b[0m\u001b[1;33m(\u001b[0m\u001b[0mcluster_params\u001b[0m\u001b[1;33m,\u001b[0m \u001b[0mrandom_state\u001b[0m\u001b[1;33m=\u001b[0m\u001b[1;32mNone\u001b[0m\u001b[1;33m,\u001b[0m \u001b[0mexperiment_saver\u001b[0m\u001b[1;33m=\u001b[0m\u001b[0mexperiment_saver\u001b[0m\u001b[1;33m)\u001b[0m\u001b[1;33m\u001b[0m\u001b[1;33m\u001b[0m\u001b[0m\n\u001b[0m\u001b[0;32m     23\u001b[0m     \u001b[0mcfl_object\u001b[0m \u001b[1;33m=\u001b[0m \u001b[0mTwo_Step_CFL_Core\u001b[0m\u001b[1;33m(\u001b[0m\u001b[0mCDE_object\u001b[0m\u001b[1;33m,\u001b[0m \u001b[0mcluster_object\u001b[0m\u001b[1;33m)\u001b[0m\u001b[1;33m\u001b[0m\u001b[1;33m\u001b[0m\u001b[0m\n\u001b[0;32m     24\u001b[0m \u001b[1;33m\u001b[0m\u001b[0m\n",
      "\u001b[1;31mTypeError\u001b[0m: __init__() got an unexpected keyword argument 'experiment_saver'"
     ]
    }
   ],
   "source": [
    "# build CFL object! \n",
    "cfl_object = make_CFL(  data_info=data_info, \n",
    "                        CDE_type='CondExpVB', \n",
    "                        cluster_type='Kmeans', \n",
    "                        CDE_params=CDE_params, \n",
    "                        cluster_params=cluster_params,\n",
    "                        experiment_saver=experiment_saver) "
   ]
  },
  {
   "cell_type": "markdown",
   "metadata": {},
   "source": [
    "We now train the CFL object on our data. \n",
    "\n",
    "A progress bar is printed for each epoch of training, and then a graph of the loss over training is displayed. The blue line represents the loss for the training set and the orange line represents the loss for the validation set. When the training and the validation loss converge and flatten out, then the model has been trained for a sufficient number of epochs. "
   ]
  },
  {
   "cell_type": "code",
   "execution_count": null,
   "metadata": {
    "tags": []
   },
   "outputs": [],
   "source": [
    "train_results = cfl_object.train(train_dataset, standardize=False)"
   ]
  },
  {
   "cell_type": "markdown",
   "metadata": {},
   "source": [
    "The results come in the form `(x_labels, y_labels, train_loss, test_loss)`. \n",
    "The `x_labels` and `y_labels` are the macrovariable labels for each sample in the `X` and `Y` data set, respectively, \n",
    "and the train and test losses are the losses from the density estimation step of training. Below, we print the first few `x_lbls`. We can see that, there are 4 classes in the data, and that they are represented by the numbers `0` through `3`. Each of these labels tells us the macrovariable to which the corresponding visual bars image was assigned. "
   ]
  },
  {
   "cell_type": "code",
   "execution_count": null,
   "metadata": {},
   "outputs": [],
   "source": [
    "print(train_results[0][:20])"
   ]
  },
  {
   "cell_type": "markdown",
   "metadata": {},
   "source": [
    "To predict on different data using the previously trained model, we just create a second data set with the same experiment_saver, and call the predict method on that new dataset: "
   ]
  },
  {
   "cell_type": "code",
   "execution_count": null,
   "metadata": {},
   "outputs": [],
   "source": [
    "n_samples = 100\n",
    "im_shape = (10, 10)\n",
    "noise_lvl= 0.03\n",
    "random_state = 180 \n",
    "\n",
    "# make second dataset for prediction\n",
    "vb_data = vbd.VisualBarsData(n_samples=n_samples, im_shape = im_shape, noise_lvl=noise_lvl, set_random_seed=random_state)\n",
    "\n",
    "# retrieve the images and the target \n",
    "X_new = vb_data.getImages()\n",
    "Y_new = vb_data.getTarget()\n",
    "\n",
    "#reformat x, y into the right shape for the neural net \n",
    "X_new = np.reshape(X_new, (X_new.shape[0], X_new.shape[1]*X_new.shape[2])) \n",
    "Y_new = np.expand_dims(Y_new, -1)\n",
    "\n",
    "# put X, Y into a new Dataset object\n",
    "dataset_new = Dataset(X_new, Y_new, dataset_label='dataset_new', experiment_saver=experiment_saver) \n",
    "\n",
    "# predict! \n",
    "results_new = cfl_object.predict(dataset_new)"
   ]
  },
  {
   "cell_type": "markdown",
   "metadata": {},
   "source": [
    "## Visualize Results \n",
    "We can view some images with their predicted label using the `viewImages` function. As we can see, the results are pretty inconsistent - multiple images that should be in the same class are part of different classes. This is in part because our sample size is not quite large enough for CFL to learn it very well. Try this experiment again with a larger sample size and see how the results change. You can also try with a different type of density estimator. "
   ]
  },
  {
   "cell_type": "code",
   "execution_count": null,
   "metadata": {},
   "outputs": [],
   "source": [
    "vis.viewImagesAndLabels(X_new, im_shape=im_shape, n_examples=10, x_lbls=results_new[0])"
   ]
  },
  {
   "cell_type": "markdown",
   "metadata": {},
   "source": [
    "## Beyond the Basics: Training and predicting with just the conditional density or just with clustering \n",
    "\n",
    "In some cases, you may not want to perform both steps of CFL on your data, but rather just one of the steps. In that case, you need to make the CDE or clusterer object individually. \n",
    "\n",
    "The commands to train and predict with a component of the CFL follow the same pattern as with the full CFL. Here is a demonstration with a CDE: "
   ]
  },
  {
   "cell_type": "code",
   "execution_count": null,
   "metadata": {},
   "outputs": [],
   "source": [
    "# save experiment results from this CFL configuration across all datasets to 'results/visual_bars/experiment000x'\n",
    "# note: each new instantiation of ExperimentSaver will create a new experiment000x directory.\n",
    "# here, we will be runninga new configuration of CFL, so we want to store this in a new experiment\n",
    "experiment_saver2 = ExperimentSaver('results/visual_bars')\n",
    "\n",
    "# construct dataset. this will save all dataset-specific results to 'results/visual_bars/experiment000x/dataset2'\n",
    "n_samples = 1000\n",
    "im_shape = (10, 10)\n",
    "noise_lvl= 0.03\n",
    "random_state = 180 \n",
    "vb_data = vbd.VisualBarsData(n_samples=n_samples, im_shape = im_shape, noise_lvl=noise_lvl, set_random_seed=random_state)\n",
    "dataset2 = Dataset(X, Y, dataset_label='dataset2', experiment_saver=experiment_saver2)\n",
    "\n",
    "# generic data parameters\n",
    "data_info = { 'X_dims' : X.shape, \n",
    "              'Y_dims' : Y.shape } \n",
    "\n",
    "# conditional density estimator parameters\n",
    "CDE_params = { 'batch_size'  : 32,\n",
    "               'optimizer'   : 'adam',\n",
    "               'n_epochs'    : 60,\n",
    "               'opt_config'  : {'lr': 1e-3},\n",
    "               'verbose'     : 1,\n",
    "               'show_plot'   : False }\n",
    "\n",
    "# construct a CDE object (no saver specified - results will not be saved)\n",
    "CDE_object = cfl.density_estimation_methods.condExpVB.CondExpVB(data_info, CDE_params, experiment_saver=experiment_saver)\n",
    "\n",
    "# training a CDE object is very straightforward! \n",
    "CDE_object.train(dataset2, standardize=False, best=True)\n",
    "\n",
    "#predicting with it is also easy! \n",
    "CDE_object.predict(dataset2)\n"
   ]
  },
  {
   "cell_type": "markdown",
   "metadata": {},
   "source": [
    "The scatter plot below shows the output of the CDE for 1000 samples. The Y-axis shows the expectation of the target given X, which, since the target is a binary variable, is equivalent to the probability that the target equals 1. The colors of the dots indicate which \"ground truth\" class the sample belongs to. Ideally, this plot would show the same conditional probabilities as in the ground truth table above (in the Visual Bars Background section). However, as evidenced by the mixing between the blue and teal dots, we can see that the CDE did not learn to distinguish very well between the images containing just a horizontal bar or just a vertical bar."
   ]
  },
  {
   "cell_type": "code",
   "execution_count": null,
   "metadata": {},
   "outputs": [],
   "source": [
    "# create a scatter plot showing conditional expectation of the target, as predicted by the CDE, \n",
    "# colored by ground truth class  \n",
    "truth = vb_data.getGroundTruth()\n",
    "fig = plt.figure()\n",
    "plot_idx = np.random.choice(dataset2.pyx.shape[0], 1000, replace=False)\n",
    "plt.scatter(range(1000), dataset2.pyx[plot_idx], c=truth[plot_idx])\n",
    "plt.xlabel('Samples')\n",
    "plt.ylabel('Expectation of Y Given X')\n",
    "fig.show()\n",
    "\n",
    "for i in range(4):\n",
    "    print('Average prediction for x-class {}: {:.2f}'.format(i, np.mean(dataset2.pyx[truth==i])))\n"
   ]
  },
  {
   "cell_type": "markdown",
   "metadata": {},
   "source": [
    "The input and output a component needs depends on which step of CFL you're using: \n",
    "\n",
    "<img src=\"img/SampleCFLworkflow.png\" alt=\"sample CFL workflow, showing inputs and outputs of each step\" height=\"200\"/>\n",
    "\n",
    "So if you are working with just the clusterer, you need to input the conditional expectations, not the dataset! Below is an example creating and training using a Kmeans clusterer. "
   ]
  },
  {
   "cell_type": "code",
   "execution_count": null,
   "metadata": {},
   "outputs": [],
   "source": [
    "#we'll use the same dataset2 from above \n",
    "\n",
    "# clusterer parameters\n",
    "cluster_params = { 'n_Xclusters' : 4, \n",
    "                   'n_Yclusters' : 2 }\n",
    "\n",
    "# create a clusterer object \n",
    "clusterer = cfl.cluster_methods.kmeans.KMeans(cluster_params) \n",
    "\n",
    "#train \n",
    "x_lbls, y_lbls = clusterer.train(dataset2)"
   ]
  },
  {
   "cell_type": "markdown",
   "metadata": {},
   "source": [
    "## Beyond the Basics: Loading Saved Results \n",
    "\n",
    "You can load a previously trained conditional density model by specifying a `weights_path` in the CDE_params dictionary. This can be helpful in the case where we want to tune the clusterer, but don't want to wait for the CDE to train every time we retrain the clusterer. \n",
    "\n",
    "\n",
    "Note: in the future, we will implement the ability to load parameters and the clusterer model from previous runs, but those methods doesn't exist at the moment. "
   ]
  },
  {
   "cell_type": "code",
   "execution_count": null,
   "metadata": {},
   "outputs": [],
   "source": [
    "# making a new experiment to save to, because we're going to train a new clusterer!\n",
    "\n",
    "# save experiment results from this CFL configuration across all datasets to 'results/visual_bars/experiment000x'\n",
    "experiment_saver_new = ExperimentSaver('results/visual_bars')\n",
    "\n",
    "# construct dataset. this will save all dataset-specific results to 'results/visual_bars/experiment000x/dataset0'\n",
    "# use the same dataset as before, to compare against original clusterer\n",
    "dataset0 = Dataset(X, Y, dataset_label='dataset0', experiment_saver=experiment_saver_new) # using new experiment saver"
   ]
  },
  {
   "cell_type": "code",
   "execution_count": null,
   "metadata": {},
   "outputs": [],
   "source": [
    "# set all CFL parameters\n",
    "\n",
    "# dataset params should be same as before\n",
    "# generic data parameters\n",
    "data_info = { 'X_dims' : X.shape, \n",
    "              'Y_dims' : Y.shape } \n",
    "\n",
    "# using same cde architecture as before\n",
    "# conditional density estimator parameters\n",
    "CDE_params = { 'batch_size'  : 32,\n",
    "               'optimizer'   : 'adam',\n",
    "               'n_epochs'    : 60,\n",
    "               'opt_config'  : {'lr': 1e-3},\n",
    "               'verbose'     : 1,\n",
    "               'show_plot'   : False,\n",
    "               'weights_path': 'results/visual_bars/experiment0000/train_data/checkpoints/best_weights' } # we want a pretrained cde to skip right to clustering\n",
    "\n",
    "# we're going to try different cluster parameters!    \n",
    "# clusterer parameters\n",
    "cluster_params = { 'n_Xclusters' : 4, \n",
    "                   'n_Yclusters' : 6 }"
   ]
  },
  {
   "cell_type": "code",
   "execution_count": null,
   "metadata": {},
   "outputs": [],
   "source": [
    "# build CFL object! \n",
    "cfl_object = make_CFL(  data_info=data_info, \n",
    "                        CDE_type='CondExpVB', \n",
    "                        cluster_type='Kmeans', \n",
    "                        CDE_params=CDE_params, \n",
    "                        cluster_params=cluster_params,\n",
    "                        experiment_saver=experiment_saver) # new experiment saver"
   ]
  },
  {
   "cell_type": "code",
   "execution_count": null,
   "metadata": {},
   "outputs": [],
   "source": [
    "# this should skip cde training and just go straight to clustering\n",
    "train_results = cfl_object.train(dataset0, standardize=True)"
   ]
  },
  {
   "cell_type": "code",
   "execution_count": null,
   "metadata": {},
   "outputs": [],
   "source": []
  }
 ],
 "metadata": {
  "kernelspec": {
   "display_name": "cfl-env",
   "language": "python",
   "name": "cfl-env"
  },
  "language_info": {
   "codemirror_mode": {
    "name": "ipython",
    "version": 3
   },
   "file_extension": ".py",
   "mimetype": "text/x-python",
   "name": "python",
   "nbconvert_exporter": "python",
   "pygments_lexer": "ipython3",
   "version": "3.8.5"
  }
 },
 "nbformat": 4,
 "nbformat_minor": 2
}