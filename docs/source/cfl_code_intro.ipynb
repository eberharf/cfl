{
 "cells": [
  {
   "cell_type": "markdown",
   "metadata": {},
   "source": [
    "# CFL Code Demo \n",
    "\n",
    "This example runs a basic CFL experiment on Visual Bars Data \n"
   ]
  },
  {
   "cell_type": "code",
   "execution_count": 1,
   "metadata": {},
   "outputs": [],
   "source": [
    "import numpy as np"
   ]
  },
  {
   "cell_type": "markdown",
   "metadata": {},
   "source": [
    "## Loading Data "
   ]
  },
  {
   "cell_type": "markdown",
   "metadata": {},
   "source": [
    "### Key Points for Loading Data\n",
    "1. The data should consist of a data set `X` and a data set `Y` that are aligned (each row in `X` corresponds to the row with the same index in `Y`)\n",
    "2. 'X' should be the causal data set and 'Y' should be the effect data \n",
    "3. For most instances of CFL, `X` and `Y` should be reshaped such that that each one is a 2D array with dimensions (n_samples, n_features). Some instances of CFL require that `X` be a 4-D array."
   ]
  },
  {
   "cell_type": "markdown",
   "metadata": {},
   "source": [
    "### Load the Visual Bars Data\n",
    "To create a visual bars data set, we need to import the file `generate_visual_bars_data.py`. If you are trying to generate the visual bars data from outside of the root directory of the `cfl` reposity, add the `visual_bars` directory path to the PYTHONPATH (same as you did for the `cfl` package) for easy importing. \n",
    "\n",
    "See the [visual bars page](https://cfl.readthedocs.io/en/latest/Visual_Bars_data.html) for background on the visual bars data set."
   ]
  },
  {
   "cell_type": "code",
   "execution_count": 2,
   "metadata": {},
   "outputs": [],
   "source": [
    "#import the file to generate visual bars data \n",
    "import visual_bars.generate_visual_bars_data as vbd\n",
    "\n",
    "# uncomment this line and use it instead if you have added `visual_bars` to the pythonpath\n",
    "# import generate_visual_bars_data as vbd"
   ]
  },
  {
   "cell_type": "code",
   "execution_count": 3,
   "metadata": {},
   "outputs": [],
   "source": [
    "# In order to generate visual bars data, we set the number of images we want to generate (`n_samples`), the size of each image in pixels (`im_shape`), and the intensity of random noise in the image (`noise_lvl`). To have reproducible results, we also will set a random seed. \n",
    "\n",
    "# create visual bars data \n",
    "n_samples = 5000 \n",
    "im_shape = (10, 10) \n",
    "noise_lvl= 0.03\n",
    "random_state = 180\n",
    "\n",
    "vb_data = vbd.VisualBarsData(n_samples=n_samples, im_shape=im_shape, noise_lvl=noise_lvl, set_random_seed=random_state)\n"
   ]
  },
  {
   "cell_type": "code",
   "execution_count": 4,
   "metadata": {},
   "outputs": [
    {
     "name": "stdout",
     "output_type": "stream",
     "text": [
      "(5000, 10, 10)\n",
      "(5000,)\n",
      "True\n"
     ]
    }
   ],
   "source": [
    "# We save an array of images to a variable `X` and the array of target behavior to a variable `Y`. Note that `X` and `Y` are aligned - they must have the same number of observations, and the nth image in `X` must correspond to the nth target value in `Y`. \n",
    "\n",
    "# retrieve the images and the target \n",
    "X = vb_data.getImages()\n",
    "Y = vb_data.getTarget()\n",
    "\n",
    "# X and Y have the same number of rows  \n",
    "print(X.shape)\n",
    "print(Y.shape)\n",
    "print(X.shape[0]==Y.shape[0])\n",
    "\n"
   ]
  },
  {
   "cell_type": "markdown",
   "metadata": {},
   "source": [
    "## Shaping the Data \n",
    "\n",
    "Before putting our data into CFL, we must reshape `X` and `Y` into the right shapes to be passed through the first step, the conditional density estimator (CDE), of CFL. For further guidelines about shaping your data, see [info about CDEs](https://cfl.readthedocs.io/en/latest/CDEs.html#input-shape-for-cdes). \n",
    "\n",
    "\n",
    "For this CDE, we must reshape `X` to be a 4-D array with dimensions (n_samples, im_height, im_width, n_channels) and `Y` to be 2 dimensional, with shape (n_samples, n_features)"
   ]
  },
  {
   "cell_type": "code",
   "execution_count": 5,
   "metadata": {},
   "outputs": [
    {
     "name": "stdout",
     "output_type": "stream",
     "text": [
      "(5000, 10, 10, 1)\n",
      "(5000, 1)\n"
     ]
    }
   ],
   "source": [
    "#reformat x, y into the right shape for the neural net \n",
    "\n",
    "# expand X \n",
    "X = np.expand_dims(X, -1) \n",
    "print(X.shape) #black and white images have just one channel\n",
    "\n",
    "# expand Y\n",
    "Y = np.expand_dims(Y, -1)\n",
    "print(Y.shape)"
   ]
  },
  {
   "cell_type": "markdown",
   "metadata": {},
   "source": [
    "## Setting up the CFL Pipeline \n",
    "\n",
    "We will now set up an `Experiment`. The `Experiment` will create a CFL pipeline and automatically save all the parameters, results, and the trained models generated during this experiment.\n"
   ]
  },
  {
   "cell_type": "markdown",
   "metadata": {},
   "source": [
    "CFL takes in several sets of parameters, each in dictionary form: \n",
    "- `data_info`  \n",
    "- `CDE_params`   \n",
    "- `cause_clusterer_params`   \n",
    "- `effect_clusterer_params`   \n",
    "\n",
    "For further details on the meaning of these parameters, consult the documentation for the clusterer and the CondExp base class. \n",
    "\n",
    "Note that not all of the parameters need to be specified - if they are not specified, default values will be provided.  \n",
    "\n",
    "In this case, we use a convolutional neural net for the CDE, and K-means for clustering. Consult the documentation for the other available models. Note that we didn't specify some parameters, and so those parameters are given default values (values printed below). While we use the default CondExpCNN parameters for simplicity here, note below that these parameters could benefit from tuning to improve training. Please consult the [\"CDE Hyperparameter Tuning with Optuna\"](https://cfl.readthedocs.io/en/latest/examples/train_cde_with_optuna_pruner.html) demo for more information on neural network tuning."
   ]
  },
  {
   "cell_type": "code",
   "execution_count": 6,
   "metadata": {},
   "outputs": [
    {
     "name": "stdout",
     "output_type": "stream",
     "text": [
      "All results from this run will be saved to results/experiment0002\n",
      "filters not specified in input, defaulting to [32, 16]\n",
      "input_shape not specified in input, defaulting to (10, 10, 1)\n",
      "kernel_size not specified in input, defaulting to [(3, 3), (3, 3)]\n",
      "pool_size not specified in input, defaulting to [(2, 2), (2, 2)]\n",
      "padding not specified in input, defaulting to ['same', 'same']\n",
      "conv_activation not specified in input, defaulting to ['relu', 'relu']\n",
      "dense_units not specified in input, defaulting to 16\n",
      "dense_activation not specified in input, defaulting to relu\n",
      "output_activation not specified in input, defaulting to None\n",
      "batch_size not specified in input, defaulting to 32\n",
      "n_epochs not specified in input, defaulting to 20\n",
      "optimizer not specified in input, defaulting to adam\n",
      "opt_config not specified in input, defaulting to {}\n",
      "verbose not specified in input, defaulting to 1\n",
      "weights_path not specified in input, defaulting to None\n",
      "loss not specified in input, defaulting to mean_squared_error\n",
      "show_plot not specified in input, defaulting to True\n",
      "standardize not specified in input, defaulting to False\n",
      "best not specified in input, defaulting to True\n",
      "tb_path not specified in input, defaulting to None\n",
      "optuna_callback not specified in input, defaulting to None\n",
      "optuna_trial not specified in input, defaulting to None\n",
      "early_stopping not specified in input, defaulting to False\n"
     ]
    }
   ],
   "source": [
    "from cfl.experiment import Experiment\n",
    "from sklearn.cluster import KMeans\n",
    "\n",
    "# the parameters should be passed in dictionary form \n",
    "data_info = {'X_dims' : X.shape, \n",
    "             'Y_dims' : Y.shape, \n",
    "             'Y_type' : 'categorical' #options: 'categorical' or 'continuous'\n",
    "            }\n",
    "cnn_params = {'model' : 'CondExpCNN'} # pass in empty parameter dictionaries to use the default parameter values (not allowed for data_info)\n",
    "cause_clusterer_params =  {'model' : 'KMeans', 'n_clusters' : 4, 'verbose' : 0}\n",
    "effect_clusterer_params = {'model' : 'KMeans', 'n_clusters' : 2, 'verbose' : 0}\n",
    "\n",
    "# steps of this CFL pipeline\n",
    "block_names = ['CondDensityEstimator', 'CauseClusterer', 'EffectClusterer']\n",
    "block_params = [cnn_params, cause_clusterer_params, effect_clusterer_params]\n",
    "\n",
    "# folder to save results to \n",
    "save_path = 'results' \n",
    "\n",
    "# create the experiment!\n",
    "my_exp = Experiment(X_train=X, Y_train=Y, data_info=data_info, block_names=block_names, block_params=block_params, results_path=save_path)"
   ]
  },
  {
   "cell_type": "markdown",
   "metadata": {},
   "source": [
    "## Training and Predicting with a CFL object  \n",
    "\n",
    "We now train the CFL object on our data."
   ]
  },
  {
   "cell_type": "code",
   "execution_count": 7,
   "metadata": {},
   "outputs": [
    {
     "name": "stdout",
     "output_type": "stream",
     "text": [
      "#################### Beginning CFL Experiment training. ####################\n",
      "Beginning CondDensityEstimator training...\n",
      "No GPU device detected.\n",
      "Train on 3750 samples, validate on 1250 samples\n",
      "Epoch 1/20\n",
      "3750/3750 [==============================] - 7s 2ms/sample - loss: 0.1972 - val_loss: 0.1582\n",
      "Epoch 2/20\n",
      "3750/3750 [==============================] - 1s 373us/sample - loss: 0.1479 - val_loss: 0.1469\n",
      "Epoch 3/20\n",
      "3750/3750 [==============================] - 2s 405us/sample - loss: 0.1407 - val_loss: 0.1450\n",
      "Epoch 4/20\n",
      "3750/3750 [==============================] - 1s 385us/sample - loss: 0.1385 - val_loss: 0.1471\n",
      "Epoch 5/20\n",
      "3750/3750 [==============================] - 1s 366us/sample - loss: 0.1375 - val_loss: 0.1481\n",
      "Epoch 6/20\n",
      "3750/3750 [==============================] - 1s 310us/sample - loss: 0.1361 - val_loss: 0.1448\n",
      "Epoch 7/20\n",
      "3750/3750 [==============================] - 1s 356us/sample - loss: 0.1349 - val_loss: 0.1446\n",
      "Epoch 8/20\n",
      "3750/3750 [==============================] - 1s 358us/sample - loss: 0.1352 - val_loss: 0.1450\n",
      "Epoch 9/20\n",
      "3750/3750 [==============================] - 1s 355us/sample - loss: 0.1332 - val_loss: 0.1461\n",
      "Epoch 10/20\n",
      "3750/3750 [==============================] - 1s 326us/sample - loss: 0.1336 - val_loss: 0.1454\n",
      "Epoch 11/20\n",
      "3750/3750 [==============================] - 1s 391us/sample - loss: 0.1338 - val_loss: 0.1467\n",
      "Epoch 12/20\n",
      "3750/3750 [==============================] - 1s 267us/sample - loss: 0.1311 - val_loss: 0.1480\n",
      "Epoch 13/20\n",
      "3750/3750 [==============================] - 1s 199us/sample - loss: 0.1299 - val_loss: 0.1467\n",
      "Epoch 14/20\n",
      "3750/3750 [==============================] - 1s 197us/sample - loss: 0.1294 - val_loss: 0.1457\n",
      "Epoch 15/20\n",
      "3750/3750 [==============================] - 1s 194us/sample - loss: 0.1283 - val_loss: 0.1494\n",
      "Epoch 16/20\n",
      "3750/3750 [==============================] - 1s 226us/sample - loss: 0.1270 - val_loss: 0.1503\n",
      "Epoch 17/20\n",
      "3750/3750 [==============================] - 1s 243us/sample - loss: 0.1257 - val_loss: 0.1511\n",
      "Epoch 18/20\n",
      "3750/3750 [==============================] - 1s 186us/sample - loss: 0.1248 - val_loss: 0.1491\n",
      "Epoch 19/20\n",
      "3750/3750 [==============================] - 1s 194us/sample - loss: 0.1227 - val_loss: 0.1500\n",
      "Epoch 20/20\n",
      "3750/3750 [==============================] - 1s 304us/sample - loss: 0.1222 - val_loss: 0.1517\n"
     ]
    },
    {
     "data": {
      "image/png": "[encoded data removed]",
      "text/plain": [
       "<Figure size 432x288 with 1 Axes>"
      ]
     },
     "metadata": {
      "needs_background": "light"
     },
     "output_type": "display_data"
    },
    {
     "name": "stdout",
     "output_type": "stream",
     "text": [
      "Loading parameters from  tmp_checkpoints01122021154707/best_weights\n",
      "Saving parameters to  results/experiment0002/trained_blocks/CondDensityEstimator\n",
      "CondDensityEstimator training complete.\n",
      "Beginning CauseClusterer training...\n",
      "CauseClusterer training complete.\n",
      "Beginning EffectClusterer training...\n",
      "EffectClusterer training complete.\n",
      "Experiment training complete.\n"
     ]
    }
   ],
   "source": [
    "train_results = my_exp.train()"
   ]
  },
  {
   "cell_type": "code",
   "execution_count": 9,
   "metadata": {},
   "outputs": [
    {
     "name": "stdout",
     "output_type": "stream",
     "text": [
      "First 20 cause macrostate assignments\n",
      "[0 3 1 2 3 3 0 2 1 3 1 1 3 0 3 1 2 1 2 3]\n",
      "First 20 effect macrostate assignments\n",
      "[1 1 1 0 1 0 1 0 1 0 1 1 1 1 1 0 0 0 0 0]\n"
     ]
    }
   ],
   "source": [
    "# The results are returned as a dictionary of dictionaries \n",
    "# \n",
    "# The `x_labels` and `y_labels` are the macrovariable labels for each sample in the `X` and `Y` data set, respectively, \n",
    "# Below, we print the first few `x_lbls`. We can see that, there are 4 classes in the data, and that they are represented by the numbers `0` through `3`. Each of these labels tells us the macrovariable to which the corresponding visual bars image was assigned. \n",
    "\n",
    "print('First 20 cause macrostate assignments')\n",
    "print(train_results['CauseClusterer']['x_lbls'][:20])\n",
    "print('First 20 effect macrostate assignments')\n",
    "print(train_results['EffectClusterer']['y_lbls'][:20])"
   ]
  },
  {
   "cell_type": "markdown",
   "metadata": {},
   "source": [
    "## Predicting on a New Dataset"
   ]
  },
  {
   "cell_type": "code",
   "execution_count": null,
   "metadata": {},
   "outputs": [],
   "source": [
    "# To predict on different data using the same, already trained CFL pipeline, we just create a second data set, and call the predict method on that new dataset: \n"
   ]
  },
  {
   "cell_type": "code",
   "execution_count": 10,
   "metadata": {},
   "outputs": [
    {
     "name": "stdout",
     "output_type": "stream",
     "text": [
      "Beginning Experiment prediction.\n",
      "Beginning CondDensityEstimator prediction...\n",
      "CondDensityEstimator prediction complete.\n",
      "Beginning CauseClusterer prediction...\n",
      "CauseClusterer prediction complete.\n",
      "Beginning EffectClusterer prediction...\n",
      "EffectClusterer prediction complete.\n",
      "Prediction complete.\n"
     ]
    }
   ],
   "source": [
    "n_samples = 100\n",
    "im_shape = (10, 10)\n",
    "noise_lvl= 0.03\n",
    "random_state = 180 \n",
    "\n",
    "# make second dataset for prediction\n",
    "vb_data = vbd.VisualBarsData(n_samples=n_samples, im_shape = im_shape, noise_lvl=noise_lvl, set_random_seed=random_state)\n",
    "\n",
    "# retrieve the images and the target \n",
    "X_new = vb_data.getImages()\n",
    "Y_new = vb_data.getTarget()\n",
    "\n",
    "#reformat x, y into the right shape for the neural net \n",
    "X_new_CNN = np.expand_dims(X_new, -1) \n",
    "Y_new_CNN = np.expand_dims(Y_new, -1)\n",
    "\n",
    "# put X, Y into a new Dataset object\n",
    "# add a new dataset to this experiment's known set of data sets \n",
    "\n",
    "# register the new dataset with the Experiment\n",
    "my_exp.add_dataset(X=X_new_CNN, Y=Y_new_CNN, dataset_name='predict_data')  \n",
    "\n",
    "# predict! \n",
    "results_new = my_exp.predict('predict_data')"
   ]
  },
  {
   "cell_type": "code",
   "execution_count": 11,
   "metadata": {},
   "outputs": [
    {
     "name": "stdout",
     "output_type": "stream",
     "text": [
      "[0 1 1 0 0 3 1 2 0 2 0 3 0 0 1 0 2 1 2 1]\n"
     ]
    }
   ],
   "source": [
    "# take a look at some of the results for the new data set \n",
    "print(results_new['CauseClusterer']['x_lbls'][:20])"
   ]
  },
  {
   "cell_type": "markdown",
   "metadata": {},
   "source": [
    "## Visualize Results \n",
    "\n",
    "We can view some images with their predicted label using the `viewImagesandLabels` function. "
   ]
  },
  {
   "cell_type": "code",
   "execution_count": 13,
   "metadata": {},
   "outputs": [
    {
     "data": {
      "image/png": "[encoded data removed]",
      "text/plain": [
       "<Figure size 576x1440 with 40 Axes>"
      ]
     },
     "metadata": {
      "needs_background": "light"
     },
     "output_type": "display_data"
    }
   ],
   "source": [
    "import visual_bars.visual_bars_vis as vis\n",
    "\n",
    "vis.viewImagesAndLabels(X_new, im_shape=im_shape, n_examples=10, x_lbls=results_new['CauseClusterer']['x_lbls'])"
   ]
  },
  {
   "cell_type": "markdown",
   "metadata": {},
   "source": [
    "As we can see, CFL has done a pretty good job of recovering the observational partitions (with some errors). For the most part, the images with a horizontal bar, a vertical bar, both, or neither, have been separated into distinct classes. Try this experiment again with a different CDE or a different sample size, and see how your results differ! "
   ]
  }
 ],
 "metadata": {
  "interpreter": {
   "hash": "a3e2eae926291f18d1afe7b431ab5303b6e9ec8df44d60cf0ff75f0c781aceac"
  },
  "kernelspec": {
   "display_name": "Python 3.8.5 64-bit ('cfl-env': conda)",
   "language": "python",
   "name": "python3"
  },
  "language_info": {
   "codemirror_mode": {
    "name": "ipython",
    "version": 3
   },
   "file_extension": ".py",
   "mimetype": "text/x-python",
   "name": "python",
   "nbconvert_exporter": "python",
   "pygments_lexer": "ipython3",
   "version": "3.7.9"
  },
  "orig_nbformat": 2
 },
 "nbformat": 4,
 "nbformat_minor": 2
}
