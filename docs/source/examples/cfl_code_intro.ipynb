{
 "cells": [
  {
   "cell_type": "markdown",
   "metadata": {},
   "source": [
    "# CFL Code Demo and Explanation: Visual Bars \n",
    "This example demonstrates how to run a basic CFL experiment on Visual Bars Data. \n"
   ]
  },
  {
   "cell_type": "code",
   "execution_count": 1,
   "metadata": {},
   "outputs": [],
   "source": [
    "import numpy as np"
   ]
  },
  {
   "cell_type": "markdown",
   "metadata": {},
   "source": [
    "## 1. Loading Data "
   ]
  },
  {
   "cell_type": "markdown",
   "metadata": {},
   "source": [
    "### Key Points for Loading Data\n",
    "1. The data should consist of a data set `X` and a data set `Y` that are aligned (each row in `X` corresponds to the row with the same index in `Y`)\n",
    "2. `X` should be the causal data set and `Y` should be the effect data \n",
    "3. For most instances of CFL, `X` and `Y` should be reshaped such that each one is a 2D array with dimensions (n_samples, n_features). Some instances of CFL require that `X` be a 4-D array."
   ]
  },
  {
   "cell_type": "markdown",
   "metadata": {},
   "source": [
    "### Load the Visual Bars Data\n",
    "To create a visual bars data set, we need to import the file `generate_visual_bars_data.py`. If you are trying to generate the visual bars data from outside of the root directory of the `cfl` reposity, add the `visual_bars` directory path to the PYTHONPATH (same as you did for the `cfl` package) for easy importing. \n",
    "\n",
    "See the [visual bars page](https://cfl.readthedocs.io/en/latest/more_info/Visual_Bars_data.html) for background on the visual bars data set."
   ]
  },
  {
   "cell_type": "code",
   "execution_count": 2,
   "metadata": {},
   "outputs": [],
   "source": [
    "# import the file to generate visual bars data \n",
    "import visual_bars.generate_visual_bars_data as vbd\n",
    "\n",
    "# uncomment this line and use it instead if you have added `visual_bars` to the pythonpath\n",
    "# import generate_visual_bars_data as vbd"
   ]
  },
  {
   "cell_type": "code",
   "execution_count": 3,
   "metadata": {},
   "outputs": [],
   "source": [
    "# In order to generate visual bars data, we set the number of images we want to generate \n",
    "# (`n_samples`), the size of each image in pixels (`im_shape`), and the intensity of random noise\n",
    "# in the image (`noise_lvl`). To have reproducible results, we also will set a random seed. \n",
    "\n",
    "# create visual bars data \n",
    "n_samples = 5000 \n",
    "im_shape = (10, 10) \n",
    "noise_lvl= 0.03\n",
    "random_state = 180\n",
    "\n",
    "vb_data = vbd.VisualBarsData(n_samples=n_samples, im_shape=im_shape, \n",
    "                             noise_lvl=noise_lvl, set_random_seed=random_state)\n"
   ]
  },
  {
   "cell_type": "code",
   "execution_count": 4,
   "metadata": {},
   "outputs": [
    {
     "name": "stdout",
     "output_type": "stream",
     "text": [
      "(5000, 10, 10)\n",
      "(5000,)\n",
      "True\n"
     ]
    }
   ],
   "source": [
    "# We save an array of images to a variable `X` and the array of target behavior to a variable \n",
    "# `Y`. Note that `X` and `Y` are aligned - they must have the same number of observations, and \n",
    "# the nth image in `X` must correspond to the nth target value in `Y`. \n",
    "\n",
    "# retrieve the images and the target \n",
    "X = vb_data.getImages()\n",
    "Y = vb_data.getTarget()\n",
    "\n",
    "# X and Y have the same number of rows  \n",
    "print(X.shape)\n",
    "print(Y.shape)\n",
    "print(X.shape[0]==Y.shape[0])\n",
    "\n"
   ]
  },
  {
   "cell_type": "markdown",
   "metadata": {},
   "source": [
    "## 2. Shaping the Data \n",
    "Because our `X` dataset is a set of images, we will use `CondExpCNN` for our CDE. This CDE requires that `X` be a 4-D array with dimensions `(n_samples, im_height, im_width, n_channels)` and `Y` to be 2-dimensional, with shape `(n_samples, n_features)`. \n",
    "\n",
    "The 'basic' CDE `CondExpMod`, which is better suited to non-spatially-organized data, requires a different input shape than `CondExpCNN`. For further guidelines about shaping your data, see [info about CDEs](https://cfl.readthedocs.io/en/latest/CDEs.html#input-shape-for-cdes). "
   ]
  },
  {
   "cell_type": "code",
   "execution_count": 5,
   "metadata": {},
   "outputs": [
    {
     "name": "stdout",
     "output_type": "stream",
     "text": [
      "(5000, 10, 10, 1)\n",
      "(5000, 1)\n"
     ]
    }
   ],
   "source": [
    "#reformat x, y into the right shape for the neural net \n",
    "\n",
    "# expand X \n",
    "X = np.expand_dims(X, -1) \n",
    "print(X.shape) #black and white images have just one channel\n",
    "\n",
    "# expand Y\n",
    "Y = np.expand_dims(Y, -1)\n",
    "print(Y.shape)"
   ]
  },
  {
   "cell_type": "markdown",
   "metadata": {},
   "source": [
    "## 3. Setting up the CFL Pipeline \n",
    "\n",
    "We will now set up an `Experiment`. The `Experiment` will create a CFL pipeline and automatically save all the parameters, results, and the trained models generated during this experiment.\n"
   ]
  },
  {
   "cell_type": "markdown",
   "metadata": {},
   "source": [
    "CFL takes in 3 sets of parameters, each in dictionary form: \n",
    "\n",
    "- `data_info`  \n",
    "- `CDE_params`   \n",
    "- `cluster_params`   \n",
    "\n",
    "For further details on the meaning of these parameters, consult the documentation for the clusterer and the CondExp base class. \n",
    "\n",
    "In this case, we use a convolutional neural net for the CDE, and K-means for clustering. Consult the documentation for the other available models. \n",
    "\n",
    "Note that we didn't specify some parameters, and so those parameters are given default values (values printed below). \n",
    "\n",
    "Here we only are interested in clustering our cause space. For an example\n",
    "of how to cluster both cause and effect spaces, please refer to the El Niño tutorial."
   ]
  },
  {
   "cell_type": "code",
   "execution_count": 6,
   "metadata": {},
   "outputs": [
    {
     "name": "stdout",
     "output_type": "stream",
     "text": [
      "All results from this run will be saved to visual_bars_cfl/experiment0006\n",
      "opt_config not specified in input, defaulting to {}\n",
      "activations not specified in input, defaulting to ['relu', 'linear']\n",
      "dropouts not specified in input, defaulting to [0, 0]\n",
      "weights_path not specified in input, defaulting to None\n",
      "show_plot not specified in input, defaulting to True\n",
      "standardize not specified in input, defaulting to False\n",
      "tb_path not specified in input, defaulting to None\n",
      "tune not specified in input, defaulting to False\n",
      "precompute_distances not specified in input, defaulting to True\n",
      "tune not specified in input, defaulting to False\n"
     ]
    }
   ],
   "source": [
    "from cfl.experiment import Experiment\n",
    "from sklearn.cluster import KMeans\n",
    "\n",
    "# the parameters should be passed in dictionary form \n",
    "data_info = {'X_dims' : X.shape, \n",
    "             'Y_dims' : Y.shape, \n",
    "             'Y_type' : 'categorical' #options: 'categorical' or 'continuous'\n",
    "            }\n",
    "\n",
    "# pass in empty parameter dictionaries to use the default parameter values (not \n",
    "# allowed for data_info)\n",
    "cnn_params = {  'model'            : 'CondExpCNN',\n",
    "                'filters'          : [8],\n",
    "                'input_shape'      : data_info['X_dims'][1:],\n",
    "                'kernel_size'      : [(4, 4)],\n",
    "                'pool_size'        : [(2, 2)],\n",
    "                'padding'          : ['same'],\n",
    "                'conv_activation'  : ['relu'],\n",
    "                'dense_units'      : 16,\n",
    "                'dense_activation' : 'relu',\n",
    "                'output_activation': None,\n",
    "\n",
    "                'batch_size'  : 84, # parameters for training \n",
    "                'n_epochs'    : 20,\n",
    "                'optimizer'   : 'adam',\n",
    "                'loss'        : 'mean_squared_error',\n",
    "                'best'        : True, \n",
    "                'verbose'     : 1\n",
    "            }\n",
    "\n",
    "cause_cluster_params = {'model' : 'KMeans', 'n_clusters' : 4, 'verbose' : 1}\n",
    "\n",
    "# steps of this CFL pipeline\n",
    "block_names = ['CondDensityEstimator', 'CauseClusterer']\n",
    "block_params = [cnn_params, cause_cluster_params]\n",
    "\n",
    "# folder to save results to \n",
    "save_path = 'visual_bars_cfl' \n",
    "\n",
    "# create the experiment!\n",
    "my_exp = Experiment(X_train=X, Y_train=Y, data_info=data_info, block_names=block_names, block_params=block_params, results_path=save_path)"
   ]
  },
  {
   "cell_type": "markdown",
   "metadata": {},
   "source": [
    "Note that any parameters not specified will be given default values (shown in the print statements)."
   ]
  },
  {
   "cell_type": "markdown",
   "metadata": {},
   "source": [
    "## 4. Training with a CFL object  \n",
    "\n",
    "We now train the CFL object on our data. "
   ]
  },
  {
   "cell_type": "code",
   "execution_count": 7,
   "metadata": {},
   "outputs": [
    {
     "name": "stdout",
     "output_type": "stream",
     "text": [
      "#################### Beginning CFL Experiment training. ####################\n",
      "Beginning CDE training...\n",
      "No GPU device detected.\n",
      "Train on 3750 samples, validate on 1250 samples\n",
      "Epoch 1/20\n",
      "3750/3750 [==============================] - 5s 1ms/sample - loss: 0.1819 - val_loss: 0.1639\n",
      "Epoch 2/20\n",
      "3750/3750 [==============================] - 0s 105us/sample - loss: 0.1547 - val_loss: 0.1527\n",
      "Epoch 3/20\n",
      "3750/3750 [==============================] - 1s 163us/sample - loss: 0.1464 - val_loss: 0.1473\n",
      "Epoch 4/20\n",
      "3750/3750 [==============================] - 1s 298us/sample - loss: 0.1427 - val_loss: 0.1460\n",
      "Epoch 5/20\n",
      "3750/3750 [==============================] - 1s 168us/sample - loss: 0.1409 - val_loss: 0.1448\n",
      "Epoch 6/20\n",
      "3750/3750 [==============================] - 1s 140us/sample - loss: 0.1405 - val_loss: 0.1483\n",
      "Epoch 7/20\n",
      "3750/3750 [==============================] - 0s 98us/sample - loss: 0.1402 - val_loss: 0.1444\n",
      "Epoch 8/20\n",
      "3750/3750 [==============================] - 0s 112us/sample - loss: 0.1380 - val_loss: 0.1439\n",
      "Epoch 9/20\n",
      "3750/3750 [==============================] - 1s 146us/sample - loss: 0.1371 - val_loss: 0.1442\n",
      "Epoch 10/20\n",
      "3750/3750 [==============================] - 1s 171us/sample - loss: 0.1364 - val_loss: 0.1433\n",
      "Epoch 11/20\n",
      "3750/3750 [==============================] - 1s 145us/sample - loss: 0.1360 - val_loss: 0.1458\n",
      "Epoch 12/20\n",
      "3750/3750 [==============================] - 0s 93us/sample - loss: 0.1353 - val_loss: 0.1434\n",
      "Epoch 13/20\n",
      "3750/3750 [==============================] - 0s 104us/sample - loss: 0.1341 - val_loss: 0.1429\n",
      "Epoch 14/20\n",
      "3750/3750 [==============================] - 0s 96us/sample - loss: 0.1343 - val_loss: 0.1433\n",
      "Epoch 15/20\n",
      "3750/3750 [==============================] - 0s 93us/sample - loss: 0.1347 - val_loss: 0.1443\n",
      "Epoch 16/20\n",
      "3750/3750 [==============================] - 0s 131us/sample - loss: 0.1334 - val_loss: 0.1463\n",
      "Epoch 17/20\n",
      "3750/3750 [==============================] - 0s 94us/sample - loss: 0.1332 - val_loss: 0.1440\n",
      "Epoch 18/20\n",
      "3750/3750 [==============================] - 1s 146us/sample - loss: 0.1318 - val_loss: 0.1452\n",
      "Epoch 19/20\n",
      "3750/3750 [==============================] - 0s 96us/sample - loss: 0.1323 - val_loss: 0.1450\n",
      "Epoch 20/20\n",
      "3750/3750 [==============================] - 1s 184us/sample - loss: 0.1311 - val_loss: 0.1438\n"
     ]
    },
    {
     "data": {
      "image/png": "[encoded data removed]",
      "text/plain": [
       "<Figure size 432x288 with 1 Axes>"
      ]
     },
     "metadata": {
      "needs_background": "light"
     },
     "output_type": "display_data"
    },
    {
     "name": "stdout",
     "output_type": "stream",
     "text": [
      "Loading parameters from  tmp_checkpoints21102021171248/best_weights\n",
      "Saving parameters to  visual_bars_cfl/experiment0006/trained_blocks/CDE\n",
      "CDE training complete.\n",
      "Beginning CauseClusterer training...\n",
      "CauseClusterer training complete.\n",
      "Beginning EffectClusterer training...\n",
      "EffectClusterer training complete.\n",
      "Experiment training complete.\n"
     ]
    }
   ],
   "source": [
    "train_results = my_exp.train()"
   ]
  },
  {
   "cell_type": "markdown",
   "metadata": {},
   "source": [
    "Calling `train()` on the CFL `Experiment` results in a dictionary of dictionaries. The keys of the first dictionary correspond to the `Blocks` in the CFL pipeline. In this case (and in all cases at the moment), they are `CDE` and `Clusterer`. The keys of the inner dictionaries are the results returned by each `Block`. Below, we access the cause macrostate labels: "
   ]
  },
  {
   "cell_type": "code",
   "execution_count": 8,
   "metadata": {},
   "outputs": [
    {
     "name": "stdout",
     "output_type": "stream",
     "text": [
      "[0 3 1 1 3 3 0 2 1 3 3 1 3 0 3 1 2 1 2 3]\n"
     ]
    }
   ],
   "source": [
    "# Below, we print the first few `x_lbls`. \n",
    "# We can see that there are 4 classes in the data, and \n",
    "# that they are represented by the numbers `0` through `3`. Each of these labels tells us the \n",
    "# macrovariable to which the corresponding visual bars image was assigned. \n",
    "\n",
    "cause_cluster_results = train_results['CauseClusterer']\n",
    "print(cause_cluster_results['x_lbls'][:20])"
   ]
  },
  {
   "cell_type": "markdown",
   "metadata": {},
   "source": [
    "## 5. Optional: Predicting on a New Dataset\n",
    "\n",
    "To predict on different data using the same, already trained CFL pipeline, we just create a second data set, and call the predict method on that new dataset."
   ]
  },
  {
   "cell_type": "code",
   "execution_count": 9,
   "metadata": {},
   "outputs": [
    {
     "name": "stdout",
     "output_type": "stream",
     "text": [
      "Beginning Experiment prediction.\n",
      "Beginning CDE prediction...\n",
      "CDE prediction complete.\n",
      "Beginning CauseClusterer prediction...\n",
      "CauseClusterer prediction complete.\n",
      "Beginning EffectClusterer prediction...\n",
      "EffectClusterer prediction complete.\n",
      "Prediction complete.\n"
     ]
    }
   ],
   "source": [
    "n_samples = 100\n",
    "im_shape = (10, 10)\n",
    "noise_lvl= 0.03\n",
    "random_state = 180 \n",
    "\n",
    "# make second dataset for prediction\n",
    "vb_data = vbd.VisualBarsData(n_samples=n_samples, im_shape = im_shape, noise_lvl=noise_lvl, set_random_seed=random_state)\n",
    "\n",
    "# retrieve the images and the target \n",
    "X_new = vb_data.getImages()\n",
    "Y_new = vb_data.getTarget()\n",
    "\n",
    "#reformat x, y into the right shape for the neural net \n",
    "X_new_CNN = np.expand_dims(X_new, -1) \n",
    "Y_new_CNN = np.expand_dims(Y_new, -1)\n",
    "\n",
    "# put X, Y into a new Dataset object\n",
    "# and register the new dataset with the Experiment\n",
    "my_exp.add_dataset(X=X_new_CNN, Y=Y_new_CNN, dataset_name='predict_data')  \n",
    "\n",
    "# predict! \n",
    "results_new = my_exp.predict('predict_data')"
   ]
  },
  {
   "cell_type": "code",
   "execution_count": 10,
   "metadata": {},
   "outputs": [
    {
     "data": {
      "text/plain": [
       "array([1, 0, 0, 1, 1, 2, 0, 3, 1, 3, 1, 2, 1, 1, 0, 1, 3, 0, 3, 0],\n",
       "      dtype=int32)"
      ]
     },
     "execution_count": 10,
     "metadata": {},
     "output_type": "execute_result"
    }
   ],
   "source": [
    "# take a look at some of the results for the new data set \n",
    "cluster_results_new = results_new['CauseClusterer']\n",
    "cluster_results_new['x_lbls'][:20]"
   ]
  },
  {
   "cell_type": "markdown",
   "metadata": {},
   "source": [
    "## 6. Visualize Results \n",
    "\n",
    "We can view some images with their predicted label using the `viewImagesandLabels()` function. "
   ]
  },
  {
   "cell_type": "code",
   "execution_count": 11,
   "metadata": {},
   "outputs": [
    {
     "data": {
      "image/png": "[encoded data removed]",
      "text/plain": [
       "<Figure size 576x1440 with 40 Axes>"
      ]
     },
     "metadata": {
      "needs_background": "light"
     },
     "output_type": "display_data"
    }
   ],
   "source": [
    "import visual_bars.visual_bars_vis as vis\n",
    "\n",
    "vis.viewImagesAndLabels(X_new, im_shape=im_shape, n_examples=10, x_lbls=cluster_results_new['x_lbls'])"
   ]
  },
  {
   "cell_type": "markdown",
   "metadata": {},
   "source": [
    "## Conclusion "
   ]
  },
  {
   "cell_type": "markdown",
   "metadata": {},
   "source": [
    "As we can see, CFL has done a pretty good job of recovering the observational partitions (with some errors). For the most part, the images with a horizontal bar, a vertical bar, both, or neither, have been separated into distinct classes. Try this experiment again with a different CDE or a different sample size, and see how your results differ! "
   ]
  }
 ],
 "metadata": {
  "interpreter": {
   "hash": "b9f90a7866deec4ec91106178f5b99f4479e17c39f9cdadf9218e367e68d50a4"
  },
  "kernelspec": {
   "display_name": "Python 3.7.9 64-bit ('cfl_env': conda)",
   "name": "python3"
  },
  "language_info": {
   "codemirror_mode": {
    "name": "ipython",
    "version": 3
   },
   "file_extension": ".py",
   "mimetype": "text/x-python",
   "name": "python",
   "nbconvert_exporter": "python",
   "pygments_lexer": "ipython3",
   "version": "3.7.9"
  },
  "orig_nbformat": 2
 },
 "nbformat": 4,
 "nbformat_minor": 2
}
