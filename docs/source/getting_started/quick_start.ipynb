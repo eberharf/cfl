{
 "metadata": {
  "language_info": {
   "codemirror_mode": {
    "name": "ipython",
    "version": 3
   },
   "file_extension": ".py",
   "mimetype": "text/x-python",
   "name": "python",
   "nbconvert_exporter": "python",
   "pygments_lexer": "ipython3",
   "version": "3.7.9"
  },
  "orig_nbformat": 2,
  "kernelspec": {
   "name": "python3",
   "display_name": "Python 3.7.9 64-bit ('cfl_env': conda)"
  },
  "interpreter": {
   "hash": "b9f90a7866deec4ec91106178f5b99f4479e17c39f9cdadf9218e367e68d50a4"
  }
 },
 "nbformat": 4,
 "nbformat_minor": 2,
 "cells": [
  {
   "cell_type": "markdown",
   "source": [
    "# Code Quick Start \n",
    "\n",
    "A handy set of commands that can be copy and pasted to run CFL quickly. \n",
    "\n",
    "We recommend running `cfl` from within either a python script (i.e. a `.py` file) or a Jupyter Notebook. A python script can be easier to run quickly, but a Jupyter Notebook is more interactive."
   ],
   "metadata": {}
  },
  {
   "cell_type": "markdown",
   "source": [
    "### 1. Import CFL"
   ],
   "metadata": {}
  },
  {
   "cell_type": "code",
   "execution_count": 1,
   "source": [
    "from cfl.experiment import Experiment"
   ],
   "outputs": [],
   "metadata": {}
  },
  {
   "cell_type": "markdown",
   "source": [
    "### 2. Load your data as a numpy array "
   ],
   "metadata": {}
  },
  {
   "cell_type": "code",
   "execution_count": 2,
   "source": [
    "# generate random data (replace this with your actual data)\n",
    "n_samples = 500 \n",
    "\n",
    "import numpy as np\n",
    "X = np.random.random((n_samples, 40)) # X data has 40 features\n",
    "Y = np.random.random((n_samples, 3))  # Y data has only 3 features \n",
    "\n",
    "# print the data shape \n",
    "# both data sets should be in the shape (n_samples, n_features) (unless using a CNN) \n",
    "print(X.shape)\n",
    "print(Y.shape)"
   ],
   "outputs": [
    {
     "output_type": "stream",
     "name": "stdout",
     "text": [
      "(500, 40)\n",
      "(500, 3)\n"
     ]
    }
   ],
   "metadata": {}
  },
  {
   "cell_type": "markdown",
   "source": [
    "### 3. Create parameter dictionaries "
   ],
   "metadata": {}
  },
  {
   "cell_type": "code",
   "execution_count": 3,
   "source": [
    "# Create 3 dictionaries: one for data info, one with CDE parameters, and one with cluster parameters\n",
    "\n",
    "# the parameters should be passed in dictionary form \n",
    "data_info = {'X_dims' : X.shape, \n",
    "             'Y_dims' : Y.shape, \n",
    "             'Y_type' : 'continuous' #options: 'categorical' or 'continuous'\n",
    "            }\n",
    "\n",
    "# pass in empty parameter dictionaries to use the default parameter values (not \n",
    "# allowed for data_info)\n",
    "CDE_params = {  'dense_units' : [50, data_info['Y_dims'][1]], # model creation parameters\n",
    "                'activations' : ['relu', 'linear'],\n",
    "                'dropouts'    : [0, 0],\n",
    "\n",
    "                'batch_size'  : 32, # parameters for training \n",
    "                'n_epochs'    : 20,\n",
    "                'optimizer'   : 'adam',\n",
    "                'opt_config'  : {},\n",
    "                'loss'        : 'mean_squared_error',\n",
    "                'best'        : True, \n",
    "\n",
    "                'verbose'     : 1, # amount of output to print \n",
    "                'show_plot'   : True,\n",
    "            }\n",
    "\n",
    "# cluster_params consists of specifying two sklearn clustering objects\n",
    "cause_cluster_params =  {'model' : 'KMeans', 'n_clusters' : 4, 'verbose' : 0}\n",
    "effect_cluster_params = {'model' : 'KMeans', 'n_clusters' : 2, 'verbose' : 0}"
   ],
   "outputs": [],
   "metadata": {}
  },
  {
   "cell_type": "markdown",
   "source": [
    "### 4. Set up the CFL pipeline "
   ],
   "metadata": {}
  },
  {
   "cell_type": "code",
   "execution_count": 4,
   "source": [
    "# block_names indicates which CDE and clustering models to use \n",
    "block_names = ['CondExpMod', 'CauseClusterer', 'EffectClusterer']\n",
    "\n",
    "# block_params is aligned to block_names\n",
    "block_params = [CDE_params, cause_cluster_params, effect_cluster_params] \n",
    "\n",
    "save_path = 'sample_run' # directory to save results to \n",
    "\n",
    "# Create a new CFL experiment with specified parameters\n",
    "my_exp = Experiment(X_train=X, Y_train=Y, data_info=data_info, block_names=block_names, block_params=block_params, results_path=save_path)"
   ],
   "outputs": [
    {
     "output_type": "stream",
     "name": "stdout",
     "text": [
      "All results from this run will be saved to sample_run/experiment0001\n",
      "weights_path not specified in input, defaulting to None\n",
      "standardize not specified in input, defaulting to False\n",
      "tb_path not specified in input, defaulting to None\n"
     ]
    }
   ],
   "metadata": {}
  },
  {
   "cell_type": "markdown",
   "source": [
    "### 5. Train the CFL model on the data "
   ],
   "metadata": {}
  },
  {
   "cell_type": "code",
   "execution_count": 5,
   "source": [
    "results = my_exp.train()"
   ],
   "outputs": [
    {
     "output_type": "stream",
     "name": "stdout",
     "text": [
      "Training CFL pipeline.\n",
      "No GPU device detected.\n",
      "Train on 375 samples, validate on 125 samples\n",
      "Epoch 1/20\n",
      "375/375 [==============================] - 2s 7ms/sample - loss: 0.2912 - val_loss: 0.1526\n",
      "Epoch 2/20\n",
      "375/375 [==============================] - 0s 512us/sample - loss: 0.1420 - val_loss: 0.1191\n",
      "Epoch 3/20\n",
      "375/375 [==============================] - 0s 517us/sample - loss: 0.1255 - val_loss: 0.1124\n",
      "Epoch 4/20\n",
      "375/375 [==============================] - 0s 762us/sample - loss: 0.1145 - val_loss: 0.1083\n",
      "Epoch 5/20\n",
      "375/375 [==============================] - 0s 695us/sample - loss: 0.1104 - val_loss: 0.1055\n",
      "Epoch 6/20\n",
      "375/375 [==============================] - 0s 533us/sample - loss: 0.1061 - val_loss: 0.1026\n",
      "Epoch 7/20\n",
      "375/375 [==============================] - 0s 614us/sample - loss: 0.1016 - val_loss: 0.1013\n",
      "Epoch 8/20\n",
      "375/375 [==============================] - 0s 566us/sample - loss: 0.0986 - val_loss: 0.1010\n",
      "Epoch 9/20\n",
      "375/375 [==============================] - 0s 634us/sample - loss: 0.0957 - val_loss: 0.0991\n",
      "Epoch 10/20\n",
      "375/375 [==============================] - 0s 739us/sample - loss: 0.0933 - val_loss: 0.0987\n",
      "Epoch 11/20\n",
      "375/375 [==============================] - 0s 622us/sample - loss: 0.0908 - val_loss: 0.0973\n",
      "Epoch 12/20\n",
      "375/375 [==============================] - 0s 459us/sample - loss: 0.0887 - val_loss: 0.0967\n",
      "Epoch 13/20\n",
      "375/375 [==============================] - 0s 364us/sample - loss: 0.0871 - val_loss: 0.0968\n",
      "Epoch 14/20\n",
      "375/375 [==============================] - 0s 464us/sample - loss: 0.0854 - val_loss: 0.0952\n",
      "Epoch 15/20\n",
      "375/375 [==============================] - 0s 615us/sample - loss: 0.0845 - val_loss: 0.0950\n",
      "Epoch 16/20\n",
      "375/375 [==============================] - 0s 437us/sample - loss: 0.0828 - val_loss: 0.0941\n",
      "Epoch 17/20\n",
      "375/375 [==============================] - 0s 942us/sample - loss: 0.0808 - val_loss: 0.0936\n",
      "Epoch 18/20\n",
      "375/375 [==============================] - 0s 772us/sample - loss: 0.0796 - val_loss: 0.0931\n",
      "Epoch 19/20\n",
      "375/375 [==============================] - 0s 1ms/sample - loss: 0.0785 - val_loss: 0.0924\n",
      "Epoch 20/20\n",
      "375/375 [==============================] - 0s 620us/sample - loss: 0.0779 - val_loss: 0.0925\n"
     ]
    },
    {
     "output_type": "display_data",
     "data": {
      "image/png": "[encoded data removed]",
      "text/plain": [
       "<Figure size 432x288 with 1 Axes>"
      ]
     },
     "metadata": {
      "needs_background": "light"
     }
    },
    {
     "output_type": "stream",
     "name": "stdout",
     "text": [
      "Loading parameters from  tmp_checkpoints27092021154345/best_weights\n",
      "Saving parameters to  sample_run/experiment0001/trained_blocks/CDE\n"
     ]
    },
    {
     "output_type": "stream",
     "name": "stderr",
     "text": [
      "100%|██████████| 500/500 [00:00<00:00, 8575.87it/s]\n"
     ]
    }
   ],
   "metadata": {}
  },
  {
   "cell_type": "markdown",
   "source": [
    "### 6. Visualizing Results \n",
    "\n",
    "COMING SOON! \n",
    "\n",
    "In order to interpret the output of CFL, it's necessary to visualize those results. Check back soon for more default visualizations, or look through the `cfl.visualization_methods` submodule to see what we have already.  \n"
   ],
   "metadata": {}
  },
  {
   "cell_type": "markdown",
   "source": [
    "### 7. Tuning CFL\n",
    "\n",
    "Once you've set up a CFL pipeline, it needs to be tuned like any other machine learning model. \n",
    "\n",
    "To tune the CDE step, play with the parameters used in model creation/training (in `CDE_params`), or swap in another CDE entirely (available models can be found in `cfl.density_estimation_methods`). \n",
    "\n",
    "To tune the clustering step, change the parameters of the clustering models you use or substitute in different clustering method(s). \n",
    "\n",
    "Use the customary techniques for tuning machine learning hyperparameters to assist you. "
   ],
   "metadata": {}
  }
 ]
}