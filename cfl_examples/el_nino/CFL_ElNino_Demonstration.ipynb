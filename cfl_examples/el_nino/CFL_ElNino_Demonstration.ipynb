{
 "cells": [
  {
   "cell_type": "markdown",
   "metadata": {},
   "source": [
    "Instructions\n",
    "-------------\n",
    "This notebook goes from micro-variable climate data (same data as used in our UAI 2016 paper \"Unsupervised Discovery of El Nino Using Causal Feature Learning on Micro-Level Climate Data\") to macro-level states. \n",
    "\n",
    "I simplified our code a little bit, but you should at least get a \"Westerly Winds\" and \"El Nino\" clusters at the end of this notebook, and see that they correlate strongly.\n",
    "\n",
    "To use your own data, you only need to modify the \"The Dataset\" cell -- substitute your own data for our X and Y arrays. \n",
    "\n",
    "If you like, you can also experiment with neural net training in the \"Learning P(Y | X)\" cell. Make sure the validation error converges. Feel free to experiment with other neural net architectures if you're comfortable with Lasagne! If your PC has a GPU, this code will automatically use it. If you have no GPU and the training is slow, you can stop training at any time by pressing ctrl+c (on Linux) and the script will load the best network learned during training on the next step (during training, the current-best net is saved to a file).\n",
    "\n",
    "You need to write your own code to visualize your results, the last cell here is tailored to display climate maps.\n",
    "\n",
    "Good Luck!\n",
    "\n",
    "Krzysztof Chalupka, Caltech, July 2016."
   ]
  },
  {
   "cell_type": "code",
   "execution_count": 1,
   "metadata": {},
   "outputs": [
    {
     "name": "stderr",
     "output_type": "stream",
     "text": [
      "Using gpu device 0: GeForce GTX TITAN X (CNMeM is disabled)\n"
     ]
    }
   ],
   "source": [
    "\"\"\" This cell sets up the Python environment. Make sure you have the following packages installed:\n",
    "numpy\n",
    "matplotlib\n",
    "theano\n",
    "lasagne\n",
    "sklearn\n",
    "All of them are available through $ pip install [package_name]. \n",
    "This is only tested on Ubuntu Linux, I've heard Theano is a pain to get working on Windows.\n",
    "\"\"\"\n",
    "import sys\n",
    "\n",
    "import numpy as np\n",
    "np.random.seed(1423)\n",
    "import matplotlib\n",
    "%matplotlib inline\n",
    "from matplotlib import pyplot as plt\n",
    "\n",
    "from sklearn.cluster import KMeans\n",
    "from sklearn.preprocessing import StandardScaler\n",
    "import theano\n",
    "import lasagne\n",
    "\n",
    "sys.setrecursionlimit(1000000) # Otherwise, joblib won't save deep nets.\n",
    "imshape = (55, 9) # This is the grid shape of our images, stored here for plotting reference."
   ]
  },
  {
   "cell_type": "markdown",
   "metadata": {},
   "source": [
    "The Dataset\n",
    "-----------\n",
    "\n",
    "The following code loads our data into the correct format:\n",
    "* X -- numpy array of size (n_datapoints, n_input_dim). Each row corresponds to one input value.\n",
    "* Y -- numpy array of size (n_datapoints, n_output_dim). Each row is one output value.\n",
    "\n",
    "In our case, each row of X is a (flattened) map of Pacific zonal wind strength, and each row of Y a (flattened) map of Pacific water temperature over the same region. In our case, n_input_dim == n_output_dim, but this need not be the case at all."
   ]
  },
  {
   "cell_type": "code",
   "execution_count": 2,
   "metadata": {
    "collapsed": true
   },
   "outputs": [],
   "source": [
    "import joblib \n",
    "\n",
    "# Load the data. \n",
    "## PLUG YOUR OWN DATA HERE. 'coords' is only needed to display climate maps. Your data\n",
    "## can only contain X and Y arrays.\n",
    "X, Y, coords = joblib.load('elnino_data.pkl')\n",
    "\n",
    "# Create a randomized, normalized training and validation set.\n",
    "shuffled_ids = np.random.permutation(X.shape[0])\n",
    "X_tr = X[shuffled_ids[:int(X.shape[0]*.9)]]\n",
    "Y_tr = Y[shuffled_ids[:int(Y.shape[0]*.9)]]\n",
    "X_ts = X[shuffled_ids[int(X.shape[0]*.9):]]\n",
    "Y_ts = Y[shuffled_ids[int(Y.shape[0]*.9):]]\n",
    "x_scaler = StandardScaler().fit(X_tr)\n",
    "y_scaler = StandardScaler().fit(Y_tr)\n",
    "X_tr = x_scaler.transform(X_tr)\n",
    "X_ts = x_scaler.transform(X_ts)\n",
    "Y_tr = y_scaler.transform(Y_tr)\n",
    "Y_ts = y_scaler.transform(Y_ts)"
   ]
  },
  {
   "cell_type": "markdown",
   "metadata": {},
   "source": [
    "Learning P(Y | X)\n",
    "--------------------\n",
    "The first step of Causal Feature Learning (CFL) is to cluster x's according to P(Y | x) conditional densities. In this demonstration, for simplicity, we will approximate P(Y | x) with its expected value E[P(Y | x)]. This means we assume that if two distributions have equal means, they themselves are equal. It is possible to efficiently relax this assumption by using Mixture Density Networks (Bishop 1995) to approximate all moments of a distribution.\n",
    "\n",
    "Learning E[P(Y | x)] amounts to regressing y on x. We do this using a neural network and the Lasagne package."
   ]
  },
  {
   "cell_type": "code",
   "execution_count": 3,
   "metadata": {},
   "outputs": [
    {
     "name": "stdout",
     "output_type": "stream",
     "text": [
      "Validation mse before training: 1.3.\n",
      "Epoch 999. Valid loss 0.3707 [best 0.3674]. Train loss 0.3234."
     ]
    }
   ],
   "source": [
    "# Define the network architecture.\n",
    "dropout = lasagne.layers.dropout\n",
    "batch_norm = lasagne.layers.batch_norm\n",
    "\n",
    "net = lasagne.layers.InputLayer(shape=(None, X[0].size))\n",
    "net = dropout(net, p=.2)\n",
    "net = lasagne.layers.DenseLayer(net, num_units=1024, W=lasagne.init.HeNormal(gain=1))\n",
    "net = dropout(net, p=.5)\n",
    "net = lasagne.layers.DenseLayer(net, num_units=1024, W=lasagne.init.HeNormal(gain=1))\n",
    "net = dropout(net, p=.5)\n",
    "net = lasagne.layers.DenseLayer(net, num_units=Y[0].size,\n",
    "    nonlinearity=lasagne.nonlinearities.identity)\n",
    "\n",
    "# Define the cost function in Theano.\n",
    "input_var = lasagne.layers.get_all_layers(net)[0].input_var\n",
    "target_var = theano.tensor.matrix('target')\n",
    "train_cost = lasagne.objectives.squared_error(lasagne.layers.get_output(net), target_var).mean() +\\\n",
    "    0.0001 * lasagne.regularization.regularize_network_params(net, lasagne.regularization.l2)\n",
    "valid_cost = lasagne.objectives.squared_error(\n",
    "    lasagne.layers.get_output(net, deterministic=True), target_var).mean()\n",
    "\n",
    "# Compile the training algorithm in Lasagne.\n",
    "parameters = lasagne.layers.get_all_params(net, trainable=True)\n",
    "updates = lasagne.updates.adam(train_cost, parameters, learning_rate=1e-4)\n",
    "train = theano.function([input_var, target_var], \n",
    "    train_cost, updates=updates, allow_input_downcast=True)\n",
    "valid = theano.function([input_var, target_var], valid_cost, allow_input_downcast=True)\n",
    "\n",
    "# Train. \n",
    "BATCHSIZE = 128\n",
    "val_loss = valid(X_ts, Y_ts)\n",
    "print('Validation mse before training: {:.2g}.'.format(float(val_loss)))\n",
    "best_loss = np.inf\n",
    "for epoch_id in range(1000):\n",
    "    tr_loss = 0\n",
    "    for batch_id in range(int(np.floor(X_tr.shape[1]/BATCHSIZE))):\n",
    "        tr_loss += train(X_tr[batch_id*BATCHSIZE:(batch_id+1)*BATCHSIZE],\n",
    "                         Y_tr[batch_id*BATCHSIZE:(batch_id+1)*BATCHSIZE])\n",
    "    val_loss = valid(X_ts, Y_ts)\n",
    "\n",
    "    if np.isfinite(val_loss) and val_loss < best_loss:\n",
    "        joblib.dump(net, 'nn_params/nn.pkl')\n",
    "        best_loss = val_loss\n",
    "\n",
    "    sys.stdout.write('\\rEpoch {}. Valid loss {:.4g} [best {:.4g}]. Train loss {:.4g}.'.format(\n",
    "            epoch_id, float(val_loss), float(best_loss), tr_loss/float(np.floor(X_tr.shape[1]/BATCHSIZE))))\n",
    "    sys.stdout.flush()\n",
    "print('Done')"
   ]
  },
  {
   "cell_type": "markdown",
   "metadata": {},
   "source": [
    "Finding the Observational Partition of X\n",
    "-----------------------------------------\n",
    "Finding the observational partition of X amounts to clustering the X data according to P(Y | X). That is, we put two x's in the same bucket if the neural net we trained maps them to the same values."
   ]
  },
  {
   "cell_type": "code",
   "execution_count": 4,
   "metadata": {
    "collapsed": true
   },
   "outputs": [],
   "source": [
    "# Load the best network found and compile it.\n",
    "net = joblib.load('nn_params/nn.pkl')\n",
    "input_var = lasagne.layers.get_all_layers(net)[0].input_var\n",
    "p_y_x = theano.function([input_var], lasagne.layers.get_output(net))\n",
    "\n",
    "# Cluster Xs.\n",
    "N_CLASSES = 4\n",
    "x_lbls = KMeans(n_clusters=N_CLASSES, n_init=10, n_jobs=-1).fit_predict(p_y_x(np.vstack([X_tr, X_ts])))"
   ]
  },
  {
   "cell_type": "markdown",
   "metadata": {},
   "source": [
    "Finding the Observational Partition of Y\n",
    "---------------------------------------------\n",
    "To find the partition of Y, we want to put together all y1 and y2 if P(y1 | x) == P(y2 | x) for each x. This procedure is a little bit more interesting than clustering the x's, and is described in our UAI 2016 paper. We describe it briefly here.\n",
    "\n",
    "We've already clustered x's in a way that that guarantees that if x1 and x2 belong to the same x_lbls class, then P(y | x1) == P(y | x2). Thus, the requirement P(y1 | x) == P(y2 | x) can be subsituted by P(y1 | x_lbls==O) == P(y2 | x_lbls==O) for any observational X-class O. Since x_lbls is discrete, we should have plenty of data per each x_lbls class. We will approximate P(y | x_lbls==O) using the distance of y to the closest (except for itself) Y-point whose corresponding x belongs to x_lbls==O."
   ]
  },
  {
   "cell_type": "code",
   "execution_count": null,
   "metadata": {},
   "outputs": [
    {
     "name": "stdout",
     "output_type": "stream",
     "text": [
      "Computing P(y | x_lbls) features, iter 100/13140..."
     ]
    }
   ],
   "source": [
    "y_ftrs = np.zeros((Y.shape[0], np.unique(x_lbls).size))\n",
    "# Loop, not vectorized, to save memory. Can take a while.\n",
    "for y_id, y in enumerate(np.vstack([Y_tr, Y_ts])):\n",
    "    if y_id % 100==0:\n",
    "        sys.stdout.write('\\rComputing P(y | x_lbls) features, iter {}/{}...'.format(y_id, Y.shape[0]))\n",
    "        sys.stdout.flush() \n",
    "    for x_lbl_id, x_lbl in enumerate(np.unique(x_lbls)):\n",
    "        # Find ids of xs in this x_lbls class.\n",
    "        x_lbl_ids = np.where(x_lbls==x_lbl)[0]\n",
    "        # Compute distances of y to all y's in this x_lbls class and sort them.\n",
    "        sorted_dists = np.sort(np.sum((y-np.vstack([Y_tr, Y_ts])[x_lbl_ids])**2, axis=1))\n",
    "        # Find the mean distance to the 4 closest points (exclude the actually closest point though).\n",
    "        y_ftrs[y_id][x_lbl_id] = sorted_dists[1:5].mean()\n",
    "print('Done. Clustering P(y | x_lbls).')\n",
    "y_lbls = KMeans(n_clusters=N_CLASSES, n_init=10, n_jobs=-1).fit_predict(y_ftrs)\n"
   ]
  },
  {
   "cell_type": "markdown",
   "metadata": {},
   "source": [
    "Understanding the Results\n",
    "--------------------------\n",
    "Visualizing the observational partition is data-specific. In our case, since both X and Y are images, we can visualize the means of each observational cluster to gain some insight into what it contains. \n",
    "\n",
    "But, one of the virtues of the method is that it is interpretation-agnostic. The observational partition can be used as a causal hypothesis to drive experimentation. This can be done whether the inputs and outputs are easily interpretable or not at all."
   ]
  },
  {
   "cell_type": "code",
   "execution_count": 13,
   "metadata": {},
   "outputs": [
    {
     "name": "stdout",
     "output_type": "stream",
     "text": [
      "P(TempCluster | WindCluster):\n",
      "[[ 0.00940291  0.51810061  0.47249647  0.        ]\n",
      " [ 0.80674988  0.00554785  0.          0.18770227]\n",
      " [ 0.60386863  0.382027    0.00987306  0.00423131]\n",
      " [ 0.06420455  0.29431818  0.64147727  0.        ]]\n"
     ]
    },
    {
     "data": {
      "image/png": "[encoded data removed]",
      "text/plain": [
       "<matplotlib.figure.Figure at 0x7f705a4fd750>"
      ]
     },
     "metadata": {},
     "output_type": "display_data"
    }
   ],
   "source": [
    "fig = plt.figure(figsize=(15,10), facecolor='white')\n",
    "X_raw = x_scaler.inverse_transform(np.vstack([X_tr, X_ts]))\n",
    "Y_raw = y_scaler.inverse_transform(np.vstack([Y_tr, Y_ts]))\n",
    "\n",
    "levels = np.linspace(-4,4,30)\n",
    "for x_cluster_id in range(4):\n",
    "    ax = plt.subplot2grid((4,2), (x_cluster_id, 0))  \n",
    "    # Plot the cluster's mean difference from all frames' mean.\n",
    "    cluster_mean = (X_raw[x_lbls==x_cluster_id].mean(axis=0)-X_raw.mean(axis=0)).reshape(imshape).T\n",
    "    im=ax.contourf(coords['x'].ravel(), coords['y'].ravel(), cluster_mean, levels=levels, cmap='BrBG_r')\n",
    "    ax.set_xticks([]); ax.set_yticks([])\n",
    "\n",
    "levels=np.linspace(-3,5.5,30)\n",
    "for y_cluster_id in range(4):\n",
    "    ax = plt.subplot2grid((4,2), (y_cluster_id, 1))  \n",
    "    # Plot the cluster's mean difference from all frames' mean.\n",
    "    cluster_mean = (Y_raw[y_lbls==y_cluster_id].mean(axis=0)-Y_raw.mean(axis=0)).reshape(imshape).T\n",
    "\n",
    "    im=ax.contourf(coords['x'].ravel(), coords['y'].ravel(), cluster_mean, levels=levels, cmap='coolwarm')\n",
    "    ax.set_xticks([]); ax.set_yticks([])\n",
    "\n",
    "# Compute and print P(y_lbl | x_lbl)\n",
    "P_CE = np.array([np.bincount(y_lbls.astype(int)[x_lbls==x_lbl], \n",
    "    minlength=y_lbls.max()+1).astype(float) for x_lbl in np.sort(np.unique(x_lbls))])\n",
    "P_CE = P_CE/P_CE.sum()\n",
    "P_E_given_C = P_CE/P_CE.sum(axis=1, keepdims=True)\n",
    "\n",
    "print('P(TempCluster | WindCluster):')\n",
    "print(P_E_given_C)"
   ]
  }
 ],
 "metadata": {
  "kernelspec": {
   "display_name": "Python 2",
   "language": "python",
   "name": "python2"
  },
  "language_info": {
   "codemirror_mode": {
    "name": "ipython",
    "version": 2
   },
   "file_extension": ".py",
   "mimetype": "text/x-python",
   "name": "python",
   "nbconvert_exporter": "python",
   "pygments_lexer": "ipython2",
   "version": "2.7.17"
  }
 },
 "nbformat": 4,
 "nbformat_minor": 1
}
