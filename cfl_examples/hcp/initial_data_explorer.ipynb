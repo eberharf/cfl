{
 "metadata": {
  "language_info": {
   "codemirror_mode": {
    "name": "ipython",
    "version": 3
   },
   "file_extension": ".py",
   "mimetype": "text/x-python",
   "name": "python",
   "nbconvert_exporter": "python",
   "pygments_lexer": "ipython3",
   "version": "3.8.5"
  },
  "orig_nbformat": 2,
  "kernelspec": {
   "name": "python385jvsc74a57bd07f74fb8d6499ee4bda8fc6644f91bbeb50318e949a35bfb3f74522bd79400fb6",
   "display_name": "Python 3.8.5 64-bit ('cfl-env': conda)"
  }
 },
 "nbformat": 4,
 "nbformat_minor": 2,
 "cells": [
  {
   "source": [
    "This is a notebook to do some initial exploration of the HCP data stored in the Box folder Glasser_Aseg_Suit/HCP_MyConnectome0 and work on visualizing them in Workbench ( I did not succeed in the Workbench)\n",
    "\n",
    "## Dimensions"
   ],
   "cell_type": "markdown",
   "metadata": {}
  },
  {
   "source": [
    "import numpy as np \n",
    "import os\n",
    "import sys \n",
    "sys.path.append('C:/Users/jkahn/Documents/Schmidt/cfl')\n",
    "from cfl.util.brain_util import load_brain"
   ],
   "cell_type": "code",
   "metadata": {},
   "execution_count": 4,
   "outputs": []
  },
  {
   "cell_type": "code",
   "execution_count": 5,
   "metadata": {},
   "outputs": [],
   "source": [
    "# load a single run for a single subject \n",
    "mris = np.load('100206_rfMRI_REST1_LR.npy')"
   ]
  },
  {
   "cell_type": "code",
   "execution_count": 6,
   "metadata": {},
   "outputs": [
    {
     "output_type": "execute_result",
     "data": {
      "text/plain": [
       "(91282, 1200)"
      ]
     },
     "metadata": {},
     "execution_count": 6
    }
   ],
   "source": [
    "# this mri has shape (90K voxels, 1200 timepoints)\n",
    "mris.shape"
   ]
  },
  {
   "cell_type": "code",
   "execution_count": 7,
   "metadata": {},
   "outputs": [],
   "source": [
    "# load the parcellations array  \n",
    "parcels = np.load('parcels.npy')"
   ]
  },
  {
   "cell_type": "code",
   "execution_count": 8,
   "metadata": {},
   "outputs": [
    {
     "output_type": "execute_result",
     "data": {
      "text/plain": [
       "(91282,)"
      ]
     },
     "metadata": {},
     "execution_count": 8
    }
   ],
   "source": [
    "# same dimensions as a single timeframe of MRI \n",
    "# each parcels[i] voxel corresponds with a voxel in the MRI run and says what parcel that voxel belongs to \n",
    "parcels.shape"
   ]
  },
  {
   "cell_type": "code",
   "execution_count": 12,
   "metadata": {},
   "outputs": [
    {
     "output_type": "execute_result",
     "data": {
      "text/plain": [
       "406"
      ]
     },
     "metadata": {},
     "execution_count": 12
    }
   ],
   "source": [
    "# there are 405 parcels (plus 0 - outside the brain)\n",
    "len(np.unique(parcels))"
   ]
  },
  {
   "source": [
    "## Get the data into a good shape for visualizing \n",
    "\n",
    "General process: \n",
    "\n",
    "\n",
    "1. load .npy MRI file and save to a .tsv file (voxels x time)\n",
    "\n",
    "2. use the command line connectome workbench (wb_command) to write the data to a .dtseries.nii file. This command requires a template file (`rfMRI_REST1_LR_Atlas.dtseries.nii`), which comes from Julien\n",
    "\n",
    "3. then you should be able to visualize the data in the connectome workbench viewer (wb_view). You'll want to load up a structural MRI too, I think there is all you need in the Box folder.\n",
    "\n",
    "With wb_command you will be able to parcellate the data using the Parcels.dlabel.nii file, and produce a .ptseries.nii (parcellated time series) from the .dtseries.nii (dense time series).\n",
    "You can also just load up the parcellation in connectome workbench, the instructions are in the Box folder.\n",
    "\""
   ],
   "cell_type": "markdown",
   "metadata": {}
  },
  {
   "cell_type": "code",
   "execution_count": 13,
   "metadata": {},
   "outputs": [
    {
     "output_type": "stream",
     "name": "stdout",
     "text": [
      "100206_rfMRI_REST1_LR\n"
     ]
    }
   ],
   "source": [
    "# path to MRI \n",
    "file_path = '100206_rfMRI_REST1_LR.npy'\n",
    "file_name = file_path.split(sep='.')[0] #remove the .npy file extension\n",
    "print(file_name)\n",
    "\n",
    "# load a single run for a single subject \n",
    "mri = np.load(file_path)\n",
    "\n",
    "# save the run as a .tsv file \n",
    "np.savetxt(file_name + '.tsv', mri, delimiter='\\t')"
   ]
  },
  {
   "source": [
    "Now open terminal, `cd` into the folder where the MRI is \n",
    "and run the command: \n",
    "\n",
    "```\n",
    "wb_command -cifti-convert -from-text 100206_rfMRI_REST1_LR.tsv rfMRI_REST1_LR_Atlas.dtseries.nii output.dtseries.nii\n",
    "```\n",
    "-----------------------------------------------------------------\n",
    "\n",
    "The generalized form of this command is \n",
    "\n",
    "```\n",
    "wb_command -cifti-convert -from-text <text-in> <cifti-template> <text-out>\n",
    "```\n",
    "\n",
    "Help for wb_command -cifti-convert: \n",
    "```\n",
    "[-from-text] - convert from plain text to cifti\n",
    "\n",
    "         <text-in> - the input text file\n",
    "\n",
    "         <cifti-template> - a cifti file with the dimension(s) and mapping(s)\n",
    "            that should be used\n",
    "\n",
    "         <cifti-out> - output - the output cifti file\n",
    "```"
   ],
   "cell_type": "markdown",
   "metadata": {}
  },
  {
   "source": [
    "This produces a .dtseries.nii (timeseries MRI) file from the .npy file "
   ],
   "cell_type": "markdown",
   "metadata": {}
  }
 ]
}