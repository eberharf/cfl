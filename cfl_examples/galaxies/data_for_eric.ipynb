{
 "metadata": {
  "language_info": {
   "codemirror_mode": {
    "name": "ipython",
    "version": 3
   },
   "file_extension": ".py",
   "mimetype": "text/x-python",
   "name": "python",
   "nbconvert_exporter": "python",
   "pygments_lexer": "ipython3",
   "version": "3.7.9-final"
  },
  "orig_nbformat": 2,
  "kernelspec": {
   "name": "python3",
   "display_name": "Python 3"
  }
 },
 "nbformat": 4,
 "nbformat_minor": 2,
 "cells": [
  {
   "source": [
    "### Things to save (raw and transformed versions of each):\n",
    "- X\n",
    "- Y\n",
    "- xlbls\n",
    "- mean ARP by Xclass\n",
    "- from PCA:\n",
    "    - Xred\n",
    "    - PCs\n",
    "    - ARP(PCs)\n"
   ],
   "cell_type": "markdown",
   "metadata": {}
  },
  {
   "cell_type": "code",
   "execution_count": 1,
   "metadata": {},
   "outputs": [],
   "source": [
    "import numpy as np\n",
    "import matplotlib.pyplot as plt\n",
    "import os"
   ]
  },
  {
   "cell_type": "code",
   "execution_count": 2,
   "metadata": {},
   "outputs": [
    {
     "output_type": "stream",
     "name": "stdout",
     "text": [
      "X shape:  (8643, 5202)\nY shape:  (8643, 6)\n"
     ]
    }
   ],
   "source": [
    "# load data\n",
    "cfl_path = '/Users/imanwahle/Desktop/cfl'\n",
    "X = np.load(os.path.join(cfl_path, 'data/galaxies/X.npy'))\n",
    "Y = np.load(os.path.join(cfl_path, 'data/galaxies/Y.npy'))\n",
    "print('X shape: ', X.shape)\n",
    "print('Y shape: ', Y.shape)"
   ]
  },
  {
   "cell_type": "code",
   "execution_count": 3,
   "metadata": {},
   "outputs": [],
   "source": [
    "# transform raw data here if desired"
   ]
  },
  {
   "cell_type": "code",
   "execution_count": 4,
   "metadata": {},
   "outputs": [],
   "source": [
    "# make save dir\n",
    "os.mkdir('data_for_eric/raw')"
   ]
  },
  {
   "cell_type": "code",
   "execution_count": null,
   "metadata": {},
   "outputs": [],
   "source": [
    "np.save(X, 'X')\n",
    "np.save(Y, 'Y')"
   ]
  },
  {
   "cell_type": "code",
   "execution_count": null,
   "metadata": {},
   "outputs": [],
   "source": []
  }
 ]
}