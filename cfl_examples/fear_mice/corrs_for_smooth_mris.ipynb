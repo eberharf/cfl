{
 "metadata": {
  "language_info": {
   "codemirror_mode": {
    "name": "ipython",
    "version": 3
   },
   "file_extension": ".py",
   "mimetype": "text/x-python",
   "name": "python",
   "nbconvert_exporter": "python",
   "pygments_lexer": "ipython3",
   "version": "3.8.5-final"
  },
  "orig_nbformat": 2,
  "kernelspec": {
   "name": "cfl-env",
   "display_name": "cfl-env",
   "language": "python"
  }
 },
 "nbformat": 4,
 "nbformat_minor": 2,
 "cells": [
  {
   "cell_type": "code",
   "execution_count": 4,
   "metadata": {},
   "outputs": [
    {
     "output_type": "stream",
     "name": "stdout",
     "text": [
      "(124, 200, 82)\n"
     ]
    }
   ],
   "source": [
    "# Import needed packages for analysis\n",
    "import os\n",
    "\n",
    "import numpy as np\n",
    "import pandas as pd\n",
    "import matplotlib.pyplot as plt\n",
    "import nibabel as nib\n",
    "from scipy.ndimage import gaussian_filter\n",
    "from scipy.stats import pearsonr\n",
    "from scipy.stats import kendalltau\n",
    "\n",
    "import cfl.util.brain_util as BU\n",
    "import cfl.util.brain_vis as BV\n",
    "import cfl.util.fear_mice_functions as fm \n",
    "\n",
    "\n",
    "behav_csv = 'PTSD_Data_Share\\Behavior_data\\PTSD_PerLight.csv'\n",
    "mri_dir = 'PTSD_Data_Share\\MEMRI_data'\n",
    "\n",
    "# load one image to check out its dimensions\n",
    "img = BU.load_brain(os.path.join(mri_dir, \"PTSD_KO_03_BL.nii\"))\n",
    "mri_dims = img.shape\n",
    "print(mri_dims)\n",
    "\n",
    "# load one image to get affine\n",
    "nib_img = nib.load(os.path.join(mri_dir, \"PTSD_KO_03_BL.nii\"))\n",
    "affine = nib_img.affine\n",
    "\n",
    "# load the non-linear mask template\n",
    "nl_mask_path = os.path.join('PTSD_Data_Share/templates\\MuseTemplate_nonlinear_mask.nii')\n",
    "nl_mask = BU.load_brain(nl_mask_path, ori='RPS')\n",
    "nolin_mask_vec = BU.flatten(nl_mask)\n",
    "\n",
    "\n",
    "# specify labels for plot (note the labels below are specifically for RAS orientation)\n",
    "dir_labels = { 'saggital' :   ['P', 'A', 'D', 'V'],\n",
    "               'coronal' :    ['L', 'R', 'D', 'V'],\n",
    "               'horizontal' : ['L', 'R', 'A', 'P']} \n"
   ]
  },
  {
   "cell_type": "code",
   "execution_count": 5,
   "metadata": {},
   "outputs": [],
   "source": [
    "# load response data \n",
    "Y = pd.read_pickle('Y.pkl')"
   ]
  },
  {
   "cell_type": "code",
   "execution_count": 6,
   "metadata": {},
   "outputs": [],
   "source": [
    "# load MRI data \n",
    "X, Y_unused = BU.load_data(mri_dir, behav_csv, mri_dims, ori='RPS')"
   ]
  },
  {
   "cell_type": "code",
   "execution_count": 7,
   "metadata": {},
   "outputs": [],
   "source": [
    "# gaussian smooth image in X using a kernel size of (3, 3, 3) voxels \n",
    "# some further info about smoothing MRIs: http://jpeelle.net/mri/image_processing/smoothing.html \n",
    "\n",
    "X_smooth = np.zeros(X.shape)\n",
    "for i, image in enumerate(X): \n",
    "    unflatten = BU.unflatten(image, mri_dims)\n",
    "    smooth = gaussian_filter(unflatten, sigma=(3, 3, 3), mode='nearest')\n",
    "    X_smooth[i] = BU.flatten(smooth)"
   ]
  },
  {
   "cell_type": "code",
   "execution_count": 8,
   "metadata": {},
   "outputs": [
    {
     "output_type": "display_data",
     "data": {
      "text/plain": "<Figure size 1224x216 with 5 Axes>",
      "image/svg+xml": "<?xml version=\"1.0\" encoding=\"utf-8\" standalone=\"no\"?>\r\n<!DOCTYPE svg PUBLIC \"-//W3C//DTD SVG 1.1//EN\"\r\n  \"http://www.w3.org/Graphics/SVG/1.1/DTD/svg11.dtd\">\r\n<!-- Created with matplotlib (https://matplotlib.org/) -->\r\n<svg height=\"177.48pt\" version=\"1.1\" viewBox=\"0 0 1001.8125 177.48\" width=\"1001.8125pt\" xmlns=\"http://www.w3.org/2000/svg\" xmlns:xlink=\"http://www.w3.org/1999/xlink\">\r\n <metadata>\r\n  <rdf:RDF xmlns:cc=\"http://creativecommons.org/ns#\" xmlns:dc=\"http://purl.org/dc/elements/1.1/\" xmlns:rdf=\"http://www.w3.org/1999/02/22-rdf-syntax-ns#\">\r\n   <cc:Work>\r\n    <dc:type rdf:resource=\"http://purl.org/dc/dcmitype/StillImage\"/>\r\n    <dc:date>2021-02-17T15:06:34.102071</dc:date>\r\n    <dc:format>image/svg+xml</dc:format>\r\n    <dc:creator>\r\n     <cc:Agent>\r\n      <dc:title>Matplotlib v3.3.1, https://matplotlib.org/</dc:title>\r\n     </cc:Agent>\r\n    </dc:creator>\r\n   </cc:Work>\r\n  </rdf:RDF>\r\n </metadata>\r\n <defs>\r\n  <style type=\"text/css\">*{stroke-linecap:butt;stroke-linejoin:round;}</style>\r\n </defs>\r\n <g id=\"figure_1\">\r\n  <g id=\"patch_1\">\r\n   <path d=\"M 0 177.48 \r\nL 1001.8125 177.48 \r\nL 1001.8125 0 \r\nL 0 0 \r\nz\r\n\" style=\"fill:none;\"/>\r\n  </g>\r\n  <g id=\"axes_1\">\r\n   <g id=\"text_1\">\r\n    <!-- L -->\r\n    <g transform=\"translate(38.38267 91.499375)scale(0.1 -0.1)\">\r\n     <defs>\r\n      <path d=\"M 9.1875 72.90625 \r\nL 27.984375 72.90625 \r\nL 27.984375 14.203125 \r\nL 60.984375 14.203125 \r\nL 60.984375 0 \r\nL 9.1875 0 \r\nz\r\n\" id=\"DejaVuSans-Bold-76\"/>\r\n     </defs>\r\n     <use xlink:href=\"#DejaVuSans-Bold-76\"/>\r\n    </g>\r\n   </g>\r\n   <g id=\"text_2\">\r\n    <!-- R -->\r\n    <g transform=\"translate(345.190909 91.499375)scale(0.1 -0.1)\">\r\n     <defs>\r\n      <path d=\"M 35.890625 40.578125 \r\nQ 41.796875 40.578125 44.359375 42.765625 \r\nQ 46.921875 44.96875 46.921875 50 \r\nQ 46.921875 54.984375 44.359375 57.125 \r\nQ 41.796875 59.28125 35.890625 59.28125 \r\nL 27.984375 59.28125 \r\nL 27.984375 40.578125 \r\nz\r\nM 27.984375 27.59375 \r\nL 27.984375 0 \r\nL 9.1875 0 \r\nL 9.1875 72.90625 \r\nL 37.890625 72.90625 \r\nQ 52.296875 72.90625 59 68.0625 \r\nQ 65.71875 63.234375 65.71875 52.78125 \r\nQ 65.71875 45.5625 62.21875 40.921875 \r\nQ 58.734375 36.28125 51.703125 34.078125 \r\nQ 55.5625 33.203125 58.609375 30.09375 \r\nQ 61.671875 27 64.796875 20.703125 \r\nL 75 0 \r\nL 54.984375 0 \r\nL 46.09375 18.109375 \r\nQ 43.40625 23.578125 40.640625 25.578125 \r\nQ 37.890625 27.59375 33.296875 27.59375 \r\nz\r\n\" id=\"DejaVuSans-Bold-82\"/>\r\n     </defs>\r\n     <use xlink:href=\"#DejaVuSans-Bold-82\"/>\r\n    </g>\r\n   </g>\r\n   <g id=\"text_3\">\r\n    <!-- A -->\r\n    <g transform=\"translate(191.103196 21.428313)scale(0.1 -0.1)\">\r\n     <defs>\r\n      <path d=\"M 53.421875 13.28125 \r\nL 24.03125 13.28125 \r\nL 19.390625 0 \r\nL 0.484375 0 \r\nL 27.484375 72.90625 \r\nL 49.90625 72.90625 \r\nL 76.90625 0 \r\nL 58.015625 0 \r\nz\r\nM 28.71875 26.8125 \r\nL 48.6875 26.8125 \r\nL 38.71875 55.8125 \r\nz\r\n\" id=\"DejaVuSans-Bold-65\"/>\r\n     </defs>\r\n     <use xlink:href=\"#DejaVuSans-Bold-65\"/>\r\n    </g>\r\n   </g>\r\n   <g id=\"text_4\">\r\n    <!-- P -->\r\n    <g transform=\"translate(191.307884 161.570438)scale(0.1 -0.1)\">\r\n     <defs>\r\n      <path d=\"M 9.1875 72.90625 \r\nL 40.375 72.90625 \r\nQ 54.296875 72.90625 61.734375 66.71875 \r\nQ 69.1875 60.546875 69.1875 49.125 \r\nQ 69.1875 37.640625 61.734375 31.46875 \r\nQ 54.296875 25.296875 40.375 25.296875 \r\nL 27.984375 25.296875 \r\nL 27.984375 0 \r\nL 9.1875 0 \r\nz\r\nM 27.984375 59.28125 \r\nL 27.984375 38.921875 \r\nL 38.375 38.921875 \r\nQ 43.84375 38.921875 46.828125 41.578125 \r\nQ 49.8125 44.234375 49.8125 49.125 \r\nQ 49.8125 54 46.828125 56.640625 \r\nQ 43.84375 59.28125 38.375 59.28125 \r\nz\r\n\" id=\"DejaVuSans-Bold-80\"/>\r\n     </defs>\r\n     <use xlink:href=\"#DejaVuSans-Bold-80\"/>\r\n    </g>\r\n   </g>\r\n  </g>\r\n  <g id=\"axes_2\">\r\n   <g id=\"text_5\">\r\n    <!-- L -->\r\n    <g transform=\"translate(489.037216 91.499375)scale(0.1 -0.1)\">\r\n     <use xlink:href=\"#DejaVuSans-Bold-76\"/>\r\n    </g>\r\n   </g>\r\n   <g id=\"text_6\">\r\n    <!-- R -->\r\n    <g transform=\"translate(795.845455 91.499375)scale(0.1 -0.1)\">\r\n     <use xlink:href=\"#DejaVuSans-Bold-82\"/>\r\n    </g>\r\n   </g>\r\n   <g id=\"text_7\">\r\n    <!-- A -->\r\n    <g transform=\"translate(641.757741 21.428313)scale(0.1 -0.1)\">\r\n     <use xlink:href=\"#DejaVuSans-Bold-65\"/>\r\n    </g>\r\n   </g>\r\n   <g id=\"text_8\">\r\n    <!-- P -->\r\n    <g transform=\"translate(641.962429 161.570438)scale(0.1 -0.1)\">\r\n     <use xlink:href=\"#DejaVuSans-Bold-80\"/>\r\n    </g>\r\n   </g>\r\n  </g>\r\n  <g id=\"axes_3\">\r\n   <g clip-path=\"url(#p66ebf82226)\">\r\n    <image height=\"115\" id=\"image7af8ef0efd\" transform=\"scale(1 -1)translate(0 -115)\" width=\"71\" x=\"159.584367\" xlink:href=\"data:image/png;base64,\r\niVBORw0KGgoAAAANSUhEUgAAAEcAAABzCAYAAADKWx+kAAAANklEQVR4nO3BMQEAAADCoPVP7WMMoAAAAAAAAAAAAAAAAAAAAAAAAAAAAAAAAAAAAAAAAACAG4AHAAHxHtpsAAAAAElFTkSuQmCC\" y=\"-30.818\"/>\r\n   </g>\r\n  </g>\r\n  <g id=\"axes_4\">\r\n   <g clip-path=\"url(#p9bd51a2270)\">\r\n    <image height=\"115\" id=\"imagedb6fa0cba4\" transform=\"scale(1 -1)translate(0 -115)\" width=\"71\" x=\"610.238913\" xlink:href=\"data:image/png;base64,\r\niVBORw0KGgoAAAANSUhEUgAAAEcAAABzCAYAAADKWx+kAAAANklEQVR4nO3BMQEAAADCoPVP7WMMoAAAAAAAAAAAAAAAAAAAAAAAAAAAAAAAAAAAAAAAAACAG4AHAAHxHtpsAAAAAElFTkSuQmCC\" y=\"-30.818\"/>\r\n   </g>\r\n  </g>\r\n  <g id=\"axes_5\">\r\n   <g id=\"patch_2\">\r\n    <path clip-path=\"url(#p26b5be337e)\" d=\"M 894.6 164.88 \r\nL 894.6 164.289375 \r\nL 894.6 14.270625 \r\nL 894.6 13.68 \r\nL 955.8 13.68 \r\nL 955.8 14.270625 \r\nL 955.8 164.289375 \r\nL 955.8 164.88 \r\nz\r\n\" style=\"fill:#ffffff;stroke:#ffffff;stroke-linejoin:miter;stroke-width:0.01;\"/>\r\n   </g>\r\n   <image height=\"151\" id=\"imagedcc85e9597\" transform=\"scale(1 -1)translate(0 -151)\" width=\"61\" x=\"895\" xlink:href=\"data:image/png;base64,\r\niVBORw0KGgoAAAANSUhEUgAAAD0AAACXCAYAAACm5VNhAAABnUlEQVR4nO3a0Y0DIQyEYTBu63q4nq+ok7ILpAt4+DwVeDT/2EuU/vP7txumjDFuz3Bc2SNuz3BcOcSkI0HTPfrtGY4LxVs0XXgjykjwTkcXTYtJjwGarpOFyMSbNE3iHWLShTeiHIM0DeIdYtJBdlr83bvwRmQmPcikvT1WeDPK7nlmHxyiaXF7o52+PcJ51clSpOJ9e4TzQvEWk47g/gTcErxY6I8IQ8SbXGS9VdKE0JMl4k0mPTpo2nxw9HV7huMyO21+nIiLLMROk0l30TSJN2kaPVlg0tFA0yTe5CIrvBFl9Hl7huPK2CDescGkeyVtyOx04Y3INN22+EUmJt2XaFrc3mTS1WlE2arThkzTJt5TTFrEu4sPjrbe2zMcF9ppE28x6Ql2ulWnDaFJk50uvA3lFk2T72kzadH0XoU3IRTvVzQtfpGZSZOdrpNlCO30Arf3KrwN5RJNm50mkyYXWeFtyDRN4j0fMOn1ik9LEW9ykc0HxJtMes3qNKGcH7DT5MmaHxFv8WRtcXvPfzBp0vR6SbzB7b0fL+kvH1TcNyj4YakAAAAASUVORK5CYII=\" y=\"-13\"/>\r\n   <g id=\"matplotlib.axis_1\"/>\r\n   <g id=\"matplotlib.axis_2\">\r\n    <g id=\"ytick_1\">\r\n     <g id=\"line2d_1\">\r\n      <defs>\r\n       <path d=\"M 0 0 \r\nL 3.5 0 \r\n\" id=\"m3a88d3ae10\" style=\"stroke:#000000;stroke-width:0.8;\"/>\r\n      </defs>\r\n      <g>\r\n       <use style=\"stroke:#000000;stroke-width:0.8;\" x=\"955.8\" xlink:href=\"#m3a88d3ae10\" y=\"136.820232\"/>\r\n      </g>\r\n     </g>\r\n     <g id=\"text_9\">\r\n      <!-- 2000 -->\r\n      <g transform=\"translate(962.8 140.619451)scale(0.1 -0.1)\">\r\n       <defs>\r\n        <path d=\"M 19.1875 8.296875 \r\nL 53.609375 8.296875 \r\nL 53.609375 0 \r\nL 7.328125 0 \r\nL 7.328125 8.296875 \r\nQ 12.9375 14.109375 22.625 23.890625 \r\nQ 32.328125 33.6875 34.8125 36.53125 \r\nQ 39.546875 41.84375 41.421875 45.53125 \r\nQ 43.3125 49.21875 43.3125 52.78125 \r\nQ 43.3125 58.59375 39.234375 62.25 \r\nQ 35.15625 65.921875 28.609375 65.921875 \r\nQ 23.96875 65.921875 18.8125 64.3125 \r\nQ 13.671875 62.703125 7.8125 59.421875 \r\nL 7.8125 69.390625 \r\nQ 13.765625 71.78125 18.9375 73 \r\nQ 24.125 74.21875 28.421875 74.21875 \r\nQ 39.75 74.21875 46.484375 68.546875 \r\nQ 53.21875 62.890625 53.21875 53.421875 \r\nQ 53.21875 48.921875 51.53125 44.890625 \r\nQ 49.859375 40.875 45.40625 35.40625 \r\nQ 44.1875 33.984375 37.640625 27.21875 \r\nQ 31.109375 20.453125 19.1875 8.296875 \r\nz\r\n\" id=\"DejaVuSans-50\"/>\r\n        <path d=\"M 31.78125 66.40625 \r\nQ 24.171875 66.40625 20.328125 58.90625 \r\nQ 16.5 51.421875 16.5 36.375 \r\nQ 16.5 21.390625 20.328125 13.890625 \r\nQ 24.171875 6.390625 31.78125 6.390625 \r\nQ 39.453125 6.390625 43.28125 13.890625 \r\nQ 47.125 21.390625 47.125 36.375 \r\nQ 47.125 51.421875 43.28125 58.90625 \r\nQ 39.453125 66.40625 31.78125 66.40625 \r\nz\r\nM 31.78125 74.21875 \r\nQ 44.046875 74.21875 50.515625 64.515625 \r\nQ 56.984375 54.828125 56.984375 36.375 \r\nQ 56.984375 17.96875 50.515625 8.265625 \r\nQ 44.046875 -1.421875 31.78125 -1.421875 \r\nQ 19.53125 -1.421875 13.0625 8.265625 \r\nQ 6.59375 17.96875 6.59375 36.375 \r\nQ 6.59375 54.828125 13.0625 64.515625 \r\nQ 19.53125 74.21875 31.78125 74.21875 \r\nz\r\n\" id=\"DejaVuSans-48\"/>\r\n       </defs>\r\n       <use xlink:href=\"#DejaVuSans-50\"/>\r\n       <use x=\"63.623047\" xlink:href=\"#DejaVuSans-48\"/>\r\n       <use x=\"127.246094\" xlink:href=\"#DejaVuSans-48\"/>\r\n       <use x=\"190.869141\" xlink:href=\"#DejaVuSans-48\"/>\r\n      </g>\r\n     </g>\r\n    </g>\r\n    <g id=\"ytick_2\">\r\n     <g id=\"line2d_2\">\r\n      <g>\r\n       <use style=\"stroke:#000000;stroke-width:0.8;\" x=\"955.8\" xlink:href=\"#m3a88d3ae10\" y=\"108.530944\"/>\r\n      </g>\r\n     </g>\r\n     <g id=\"text_10\">\r\n      <!-- 4000 -->\r\n      <g transform=\"translate(962.8 112.330163)scale(0.1 -0.1)\">\r\n       <defs>\r\n        <path d=\"M 37.796875 64.3125 \r\nL 12.890625 25.390625 \r\nL 37.796875 25.390625 \r\nz\r\nM 35.203125 72.90625 \r\nL 47.609375 72.90625 \r\nL 47.609375 25.390625 \r\nL 58.015625 25.390625 \r\nL 58.015625 17.1875 \r\nL 47.609375 17.1875 \r\nL 47.609375 0 \r\nL 37.796875 0 \r\nL 37.796875 17.1875 \r\nL 4.890625 17.1875 \r\nL 4.890625 26.703125 \r\nz\r\n\" id=\"DejaVuSans-52\"/>\r\n       </defs>\r\n       <use xlink:href=\"#DejaVuSans-52\"/>\r\n       <use x=\"63.623047\" xlink:href=\"#DejaVuSans-48\"/>\r\n       <use x=\"127.246094\" xlink:href=\"#DejaVuSans-48\"/>\r\n       <use x=\"190.869141\" xlink:href=\"#DejaVuSans-48\"/>\r\n      </g>\r\n     </g>\r\n    </g>\r\n    <g id=\"ytick_3\">\r\n     <g id=\"line2d_3\">\r\n      <g>\r\n       <use style=\"stroke:#000000;stroke-width:0.8;\" x=\"955.8\" xlink:href=\"#m3a88d3ae10\" y=\"80.241656\"/>\r\n      </g>\r\n     </g>\r\n     <g id=\"text_11\">\r\n      <!-- 6000 -->\r\n      <g transform=\"translate(962.8 84.040875)scale(0.1 -0.1)\">\r\n       <defs>\r\n        <path d=\"M 33.015625 40.375 \r\nQ 26.375 40.375 22.484375 35.828125 \r\nQ 18.609375 31.296875 18.609375 23.390625 \r\nQ 18.609375 15.53125 22.484375 10.953125 \r\nQ 26.375 6.390625 33.015625 6.390625 \r\nQ 39.65625 6.390625 43.53125 10.953125 \r\nQ 47.40625 15.53125 47.40625 23.390625 \r\nQ 47.40625 31.296875 43.53125 35.828125 \r\nQ 39.65625 40.375 33.015625 40.375 \r\nz\r\nM 52.59375 71.296875 \r\nL 52.59375 62.3125 \r\nQ 48.875 64.0625 45.09375 64.984375 \r\nQ 41.3125 65.921875 37.59375 65.921875 \r\nQ 27.828125 65.921875 22.671875 59.328125 \r\nQ 17.53125 52.734375 16.796875 39.40625 \r\nQ 19.671875 43.65625 24.015625 45.921875 \r\nQ 28.375 48.1875 33.59375 48.1875 \r\nQ 44.578125 48.1875 50.953125 41.515625 \r\nQ 57.328125 34.859375 57.328125 23.390625 \r\nQ 57.328125 12.15625 50.6875 5.359375 \r\nQ 44.046875 -1.421875 33.015625 -1.421875 \r\nQ 20.359375 -1.421875 13.671875 8.265625 \r\nQ 6.984375 17.96875 6.984375 36.375 \r\nQ 6.984375 53.65625 15.1875 63.9375 \r\nQ 23.390625 74.21875 37.203125 74.21875 \r\nQ 40.921875 74.21875 44.703125 73.484375 \r\nQ 48.484375 72.75 52.59375 71.296875 \r\nz\r\n\" id=\"DejaVuSans-54\"/>\r\n       </defs>\r\n       <use xlink:href=\"#DejaVuSans-54\"/>\r\n       <use x=\"63.623047\" xlink:href=\"#DejaVuSans-48\"/>\r\n       <use x=\"127.246094\" xlink:href=\"#DejaVuSans-48\"/>\r\n       <use x=\"190.869141\" xlink:href=\"#DejaVuSans-48\"/>\r\n      </g>\r\n     </g>\r\n    </g>\r\n    <g id=\"ytick_4\">\r\n     <g id=\"line2d_4\">\r\n      <g>\r\n       <use style=\"stroke:#000000;stroke-width:0.8;\" x=\"955.8\" xlink:href=\"#m3a88d3ae10\" y=\"51.952368\"/>\r\n      </g>\r\n     </g>\r\n     <g id=\"text_12\">\r\n      <!-- 8000 -->\r\n      <g transform=\"translate(962.8 55.751587)scale(0.1 -0.1)\">\r\n       <defs>\r\n        <path d=\"M 31.78125 34.625 \r\nQ 24.75 34.625 20.71875 30.859375 \r\nQ 16.703125 27.09375 16.703125 20.515625 \r\nQ 16.703125 13.921875 20.71875 10.15625 \r\nQ 24.75 6.390625 31.78125 6.390625 \r\nQ 38.8125 6.390625 42.859375 10.171875 \r\nQ 46.921875 13.96875 46.921875 20.515625 \r\nQ 46.921875 27.09375 42.890625 30.859375 \r\nQ 38.875 34.625 31.78125 34.625 \r\nz\r\nM 21.921875 38.8125 \r\nQ 15.578125 40.375 12.03125 44.71875 \r\nQ 8.5 49.078125 8.5 55.328125 \r\nQ 8.5 64.0625 14.71875 69.140625 \r\nQ 20.953125 74.21875 31.78125 74.21875 \r\nQ 42.671875 74.21875 48.875 69.140625 \r\nQ 55.078125 64.0625 55.078125 55.328125 \r\nQ 55.078125 49.078125 51.53125 44.71875 \r\nQ 48 40.375 41.703125 38.8125 \r\nQ 48.828125 37.15625 52.796875 32.3125 \r\nQ 56.78125 27.484375 56.78125 20.515625 \r\nQ 56.78125 9.90625 50.3125 4.234375 \r\nQ 43.84375 -1.421875 31.78125 -1.421875 \r\nQ 19.734375 -1.421875 13.25 4.234375 \r\nQ 6.78125 9.90625 6.78125 20.515625 \r\nQ 6.78125 27.484375 10.78125 32.3125 \r\nQ 14.796875 37.15625 21.921875 38.8125 \r\nz\r\nM 18.3125 54.390625 \r\nQ 18.3125 48.734375 21.84375 45.5625 \r\nQ 25.390625 42.390625 31.78125 42.390625 \r\nQ 38.140625 42.390625 41.71875 45.5625 \r\nQ 45.3125 48.734375 45.3125 54.390625 \r\nQ 45.3125 60.0625 41.71875 63.234375 \r\nQ 38.140625 66.40625 31.78125 66.40625 \r\nQ 25.390625 66.40625 21.84375 63.234375 \r\nQ 18.3125 60.0625 18.3125 54.390625 \r\nz\r\n\" id=\"DejaVuSans-56\"/>\r\n       </defs>\r\n       <use xlink:href=\"#DejaVuSans-56\"/>\r\n       <use x=\"63.623047\" xlink:href=\"#DejaVuSans-48\"/>\r\n       <use x=\"127.246094\" xlink:href=\"#DejaVuSans-48\"/>\r\n       <use x=\"190.869141\" xlink:href=\"#DejaVuSans-48\"/>\r\n      </g>\r\n     </g>\r\n    </g>\r\n    <g id=\"ytick_5\">\r\n     <g id=\"line2d_5\">\r\n      <g>\r\n       <use style=\"stroke:#000000;stroke-width:0.8;\" x=\"955.8\" xlink:href=\"#m3a88d3ae10\" y=\"23.66308\"/>\r\n      </g>\r\n     </g>\r\n     <g id=\"text_13\">\r\n      <!-- 10000 -->\r\n      <g transform=\"translate(962.8 27.462299)scale(0.1 -0.1)\">\r\n       <defs>\r\n        <path d=\"M 12.40625 8.296875 \r\nL 28.515625 8.296875 \r\nL 28.515625 63.921875 \r\nL 10.984375 60.40625 \r\nL 10.984375 69.390625 \r\nL 28.421875 72.90625 \r\nL 38.28125 72.90625 \r\nL 38.28125 8.296875 \r\nL 54.390625 8.296875 \r\nL 54.390625 0 \r\nL 12.40625 0 \r\nz\r\n\" id=\"DejaVuSans-49\"/>\r\n       </defs>\r\n       <use xlink:href=\"#DejaVuSans-49\"/>\r\n       <use x=\"63.623047\" xlink:href=\"#DejaVuSans-48\"/>\r\n       <use x=\"127.246094\" xlink:href=\"#DejaVuSans-48\"/>\r\n       <use x=\"190.869141\" xlink:href=\"#DejaVuSans-48\"/>\r\n       <use x=\"254.492188\" xlink:href=\"#DejaVuSans-48\"/>\r\n      </g>\r\n     </g>\r\n    </g>\r\n   </g>\r\n   <g id=\"patch_3\">\r\n    <path d=\"M 894.6 164.88 \r\nL 894.6 164.289375 \r\nL 894.6 14.270625 \r\nL 894.6 13.68 \r\nL 955.8 13.68 \r\nL 955.8 14.270625 \r\nL 955.8 164.289375 \r\nL 955.8 164.88 \r\nz\r\n\" style=\"fill:none;stroke:#000000;stroke-linejoin:miter;stroke-width:0.8;\"/>\r\n   </g>\r\n  </g>\r\n </g>\r\n <defs>\r\n  <clipPath id=\"p66ebf82226\">\r\n   <rect height=\"114.156\" width=\"70.77672\" x=\"159.584367\" y=\"31.662\"/>\r\n  </clipPath>\r\n  <clipPath id=\"p9bd51a2270\">\r\n   <rect height=\"114.156\" width=\"70.77672\" x=\"610.238913\" y=\"31.662\"/>\r\n  </clipPath>\r\n  <clipPath id=\"p26b5be337e\">\r\n   <rect height=\"151.2\" width=\"61.2\" x=\"894.6\" y=\"13.68\"/>\r\n  </clipPath>\r\n </defs>\r\n</svg>\r\n",
      "image/png": "[encoded data removed]"
     },
     "metadata": {
      "needs_background": "light"
     }
    }
   ],
   "source": [
    "BV.plot_interactive_panels(X_smooth[:2], mri_dims, nolin_mask_vec, figsize=(17, 3), dir_labels=dir_labels)"
   ]
  },
  {
   "cell_type": "code",
   "execution_count": 17,
   "metadata": {},
   "outputs": [],
   "source": [
    "#save smoothed array \n",
    "np.save('X_smooth3.npy', X_smooth)"
   ]
  },
  {
   "cell_type": "code",
   "execution_count": 18,
   "metadata": {},
   "outputs": [
    {
     "output_type": "execute_result",
     "data": {
      "text/plain": [
       "False"
      ]
     },
     "metadata": {},
     "execution_count": 18
    }
   ],
   "source": [
    "np.any(np.isnan(X_smooth))"
   ]
  },
  {
   "source": [
    "## Compute correlations again on smoothed data \n",
    "\n",
    "Both Pearson and Kendall, for KO and WT mice separate"
   ],
   "cell_type": "markdown",
   "metadata": {}
  },
  {
   "cell_type": "code",
   "execution_count": 19,
   "metadata": {},
   "outputs": [],
   "source": [
    "X_smooth = np.load(os.path.join('X_smooth3.npy'))"
   ]
  },
  {
   "cell_type": "code",
   "execution_count": 21,
   "metadata": {},
   "outputs": [],
   "source": [
    "# KO correlations\n",
    "# Fear - pre-fear behavior\n",
    " \n",
    "indices_dir = fm.geno_time_indices_dir(Y)\n",
    "\n",
    "Y_KO_diffs = Y.PerLight[indices_dir['Fear_KO']].to_numpy() - Y.PerLight[indices_dir['PreF_KO']].to_numpy()\n",
    "\n",
    "X_KO_diffs = X_smooth[indices_dir['Fear_KO']] - X_smooth[indices_dir['PreF_KO']]\n",
    "\n",
    "corrs_KO = np.zeros(X.shape[1])\n",
    "\n",
    "for voxel in range(X.shape[1]): \n",
    "    value = pearsonr(Y_KO_diffs, X_KO_diffs[:, voxel])[0]\n",
    "    if np.isnan(value): #if x is all 0s, pearson returns a nan\n",
    "        value = 0 \n",
    "    corrs_KO[voxel] = value\n",
    "\n",
    "np.save(os.path.join(\"corrs_smooth_KO.npy\"), corrs_KO)\n",
    "\n",
    "# WT correlations\n",
    "#Fear - pre-fear behavior\n",
    "Y_WT_diffs = Y.PerLight[indices_dir['Fear_WT']].to_numpy() - Y.PerLight[indices_dir['PreF_WT']].to_numpy()\n",
    "\n",
    "X_WT_diffs = X_smooth[indices_dir['Fear_WT']] - X_smooth[indices_dir['PreF_WT']]\n",
    "\n",
    "corrs_WT = np.zeros(X.shape[1])\n",
    "\n",
    "for voxel in range(X.shape[1]): \n",
    "    value = pearsonr(Y_WT_diffs, X_WT_diffs[:, voxel])[0]\n",
    "    if np.isnan(value): \n",
    "        value = 0 \n",
    "    corrs_WT[voxel] = value\n",
    "\n",
    "np.save(os.path.join(\"corrs_smooth_WT.npy\"), corrs_WT)\n",
    "#note: when everything is a 0, pearsonr returns a nan correlation value"
   ]
  },
  {
   "cell_type": "code",
   "execution_count": 28,
   "metadata": {},
   "outputs": [],
   "source": [
    "corrs_KO = np.load('corrs_smooth_KO.npy')\n",
    "corrs_WT = np.load('corrs_smooth_WT.npy')"
   ]
  },
  {
   "cell_type": "code",
   "execution_count": 36,
   "metadata": {},
   "outputs": [
    {
     "output_type": "display_data",
     "data": {
      "text/plain": "<Figure size 1224x216 with 5 Axes>",
      "image/svg+xml": "<?xml version=\"1.0\" encoding=\"utf-8\" standalone=\"no\"?>\r\n<!DOCTYPE svg PUBLIC \"-//W3C//DTD SVG 1.1//EN\"\r\n  \"http://www.w3.org/Graphics/SVG/1.1/DTD/svg11.dtd\">\r\n<!-- Created with matplotlib (https://matplotlib.org/) -->\r\n<svg height=\"177.48pt\" version=\"1.1\" viewBox=\"0 0 994.282813 177.48\" width=\"994.282813pt\" xmlns=\"http://www.w3.org/2000/svg\" xmlns:xlink=\"http://www.w3.org/1999/xlink\">\r\n <metadata>\r\n  <rdf:RDF xmlns:cc=\"http://creativecommons.org/ns#\" xmlns:dc=\"http://purl.org/dc/elements/1.1/\" xmlns:rdf=\"http://www.w3.org/1999/02/22-rdf-syntax-ns#\">\r\n   <cc:Work>\r\n    <dc:type rdf:resource=\"http://purl.org/dc/dcmitype/StillImage\"/>\r\n    <dc:date>2021-02-17T15:03:04.120659</dc:date>\r\n    <dc:format>image/svg+xml</dc:format>\r\n    <dc:creator>\r\n     <cc:Agent>\r\n      <dc:title>Matplotlib v3.3.1, https://matplotlib.org/</dc:title>\r\n     </cc:Agent>\r\n    </dc:creator>\r\n   </cc:Work>\r\n  </rdf:RDF>\r\n </metadata>\r\n <defs>\r\n  <style type=\"text/css\">*{stroke-linecap:butt;stroke-linejoin:round;}</style>\r\n </defs>\r\n <g id=\"figure_1\">\r\n  <g id=\"patch_1\">\r\n   <path d=\"M 0 177.48 \r\nL 994.282813 177.48 \r\nL 994.282813 0 \r\nL 0 0 \r\nz\r\n\" style=\"fill:none;\"/>\r\n  </g>\r\n  <g id=\"axes_1\">\r\n   <g id=\"text_1\">\r\n    <!-- L -->\r\n    <g transform=\"translate(38.38267 91.499375)scale(0.1 -0.1)\">\r\n     <defs>\r\n      <path d=\"M 9.1875 72.90625 \r\nL 27.984375 72.90625 \r\nL 27.984375 14.203125 \r\nL 60.984375 14.203125 \r\nL 60.984375 0 \r\nL 9.1875 0 \r\nz\r\n\" id=\"DejaVuSans-Bold-76\"/>\r\n     </defs>\r\n     <use xlink:href=\"#DejaVuSans-Bold-76\"/>\r\n    </g>\r\n   </g>\r\n   <g id=\"text_2\">\r\n    <!-- R -->\r\n    <g transform=\"translate(345.190909 91.499375)scale(0.1 -0.1)\">\r\n     <defs>\r\n      <path d=\"M 35.890625 40.578125 \r\nQ 41.796875 40.578125 44.359375 42.765625 \r\nQ 46.921875 44.96875 46.921875 50 \r\nQ 46.921875 54.984375 44.359375 57.125 \r\nQ 41.796875 59.28125 35.890625 59.28125 \r\nL 27.984375 59.28125 \r\nL 27.984375 40.578125 \r\nz\r\nM 27.984375 27.59375 \r\nL 27.984375 0 \r\nL 9.1875 0 \r\nL 9.1875 72.90625 \r\nL 37.890625 72.90625 \r\nQ 52.296875 72.90625 59 68.0625 \r\nQ 65.71875 63.234375 65.71875 52.78125 \r\nQ 65.71875 45.5625 62.21875 40.921875 \r\nQ 58.734375 36.28125 51.703125 34.078125 \r\nQ 55.5625 33.203125 58.609375 30.09375 \r\nQ 61.671875 27 64.796875 20.703125 \r\nL 75 0 \r\nL 54.984375 0 \r\nL 46.09375 18.109375 \r\nQ 43.40625 23.578125 40.640625 25.578125 \r\nQ 37.890625 27.59375 33.296875 27.59375 \r\nz\r\n\" id=\"DejaVuSans-Bold-82\"/>\r\n     </defs>\r\n     <use xlink:href=\"#DejaVuSans-Bold-82\"/>\r\n    </g>\r\n   </g>\r\n   <g id=\"text_3\">\r\n    <!-- A -->\r\n    <g transform=\"translate(191.103196 21.428313)scale(0.1 -0.1)\">\r\n     <defs>\r\n      <path d=\"M 53.421875 13.28125 \r\nL 24.03125 13.28125 \r\nL 19.390625 0 \r\nL 0.484375 0 \r\nL 27.484375 72.90625 \r\nL 49.90625 72.90625 \r\nL 76.90625 0 \r\nL 58.015625 0 \r\nz\r\nM 28.71875 26.8125 \r\nL 48.6875 26.8125 \r\nL 38.71875 55.8125 \r\nz\r\n\" id=\"DejaVuSans-Bold-65\"/>\r\n     </defs>\r\n     <use xlink:href=\"#DejaVuSans-Bold-65\"/>\r\n    </g>\r\n   </g>\r\n   <g id=\"text_4\">\r\n    <!-- P -->\r\n    <g transform=\"translate(191.307884 161.570438)scale(0.1 -0.1)\">\r\n     <defs>\r\n      <path d=\"M 9.1875 72.90625 \r\nL 40.375 72.90625 \r\nQ 54.296875 72.90625 61.734375 66.71875 \r\nQ 69.1875 60.546875 69.1875 49.125 \r\nQ 69.1875 37.640625 61.734375 31.46875 \r\nQ 54.296875 25.296875 40.375 25.296875 \r\nL 27.984375 25.296875 \r\nL 27.984375 0 \r\nL 9.1875 0 \r\nz\r\nM 27.984375 59.28125 \r\nL 27.984375 38.921875 \r\nL 38.375 38.921875 \r\nQ 43.84375 38.921875 46.828125 41.578125 \r\nQ 49.8125 44.234375 49.8125 49.125 \r\nQ 49.8125 54 46.828125 56.640625 \r\nQ 43.84375 59.28125 38.375 59.28125 \r\nz\r\n\" id=\"DejaVuSans-Bold-80\"/>\r\n     </defs>\r\n     <use xlink:href=\"#DejaVuSans-Bold-80\"/>\r\n    </g>\r\n   </g>\r\n  </g>\r\n  <g id=\"axes_2\">\r\n   <g id=\"text_5\">\r\n    <!-- L -->\r\n    <g transform=\"translate(489.037216 91.499375)scale(0.1 -0.1)\">\r\n     <use xlink:href=\"#DejaVuSans-Bold-76\"/>\r\n    </g>\r\n   </g>\r\n   <g id=\"text_6\">\r\n    <!-- R -->\r\n    <g transform=\"translate(795.845455 91.499375)scale(0.1 -0.1)\">\r\n     <use xlink:href=\"#DejaVuSans-Bold-82\"/>\r\n    </g>\r\n   </g>\r\n   <g id=\"text_7\">\r\n    <!-- A -->\r\n    <g transform=\"translate(641.757741 21.428313)scale(0.1 -0.1)\">\r\n     <use xlink:href=\"#DejaVuSans-Bold-65\"/>\r\n    </g>\r\n   </g>\r\n   <g id=\"text_8\">\r\n    <!-- P -->\r\n    <g transform=\"translate(641.962429 161.570438)scale(0.1 -0.1)\">\r\n     <use xlink:href=\"#DejaVuSans-Bold-80\"/>\r\n    </g>\r\n   </g>\r\n  </g>\r\n  <g id=\"axes_3\">\r\n   <g clip-path=\"url(#p9f6ec4fd4d)\">\r\n    <image height=\"115\" id=\"image1693442733\" transform=\"scale(1 -1)translate(0 -115)\" width=\"71\" x=\"159.584367\" xlink:href=\"data:image/png;base64,\r\niVBORw0KGgoAAAANSUhEUgAAAEcAAABzCAYAAADKWx+kAAAANklEQVR4nO3BMQEAAADCoPVP7WMMoAAAAAAAAAAAAAAAAAAAAAAAAAAAAAAAAAAAAAAAAACAG4AHAAHxHtpsAAAAAElFTkSuQmCC\" y=\"-30.818\"/>\r\n   </g>\r\n  </g>\r\n  <g id=\"axes_4\">\r\n   <g clip-path=\"url(#pdeafd601c0)\">\r\n    <image height=\"115\" id=\"imageb7288eb543\" transform=\"scale(1 -1)translate(0 -115)\" width=\"71\" x=\"610.238913\" xlink:href=\"data:image/png;base64,\r\niVBORw0KGgoAAAANSUhEUgAAAEcAAABzCAYAAADKWx+kAAAANklEQVR4nO3BMQEAAADCoPVP7WMMoAAAAAAAAAAAAAAAAAAAAAAAAAAAAAAAAAAAAAAAAACAG4AHAAHxHtpsAAAAAElFTkSuQmCC\" y=\"-30.818\"/>\r\n   </g>\r\n  </g>\r\n  <g id=\"axes_5\">\r\n   <g id=\"patch_2\">\r\n    <path clip-path=\"url(#pf4678132f6)\" d=\"M 894.6 164.88 \r\nL 894.6 164.289375 \r\nL 894.6 14.270625 \r\nL 894.6 13.68 \r\nL 955.8 13.68 \r\nL 955.8 14.270625 \r\nL 955.8 164.289375 \r\nL 955.8 164.88 \r\nz\r\n\" style=\"fill:#ffffff;stroke:#ffffff;stroke-linejoin:miter;stroke-width:0.01;\"/>\r\n   </g>\r\n   <image height=\"151\" id=\"image3335c47b76\" transform=\"scale(1 -1)translate(0 -151)\" width=\"61\" x=\"895\" xlink:href=\"data:image/png;base64,\r\niVBORw0KGgoAAAANSUhEUgAAAD0AAACXCAYAAACm5VNhAAABnUlEQVR4nO3a0Y0DIQyEYTBu63q4nq+ok7ILpAt4+DwVeDT/2EuU/vP7txumjDFuz3Bc2SNuz3BcOcSkI0HTPfrtGY4LxVs0XXgjykjwTkcXTYtJjwGarpOFyMSbNE3iHWLShTeiHIM0DeIdYtJBdlr83bvwRmQmPcikvT1WeDPK7nlmHxyiaXF7o52+PcJ51clSpOJ9e4TzQvEWk47g/gTcErxY6I8IQ8SbXGS9VdKE0JMl4k0mPTpo2nxw9HV7huMyO21+nIiLLMROk0l30TSJN2kaPVlg0tFA0yTe5CIrvBFl9Hl7huPK2CDescGkeyVtyOx04Y3INN22+EUmJt2XaFrc3mTS1WlE2arThkzTJt5TTFrEu4sPjrbe2zMcF9ppE28x6Ql2ulWnDaFJk50uvA3lFk2T72kzadH0XoU3IRTvVzQtfpGZSZOdrpNlCO30Arf3KrwN5RJNm50mkyYXWeFtyDRN4j0fMOn1ik9LEW9ykc0HxJtMes3qNKGcH7DT5MmaHxFv8WRtcXvPfzBp0vR6SbzB7b0fL+kvH1TcNyj4YakAAAAASUVORK5CYII=\" y=\"-13\"/>\r\n   <g id=\"matplotlib.axis_1\"/>\r\n   <g id=\"matplotlib.axis_2\">\r\n    <g id=\"ytick_1\">\r\n     <g id=\"line2d_1\">\r\n      <defs>\r\n       <path d=\"M 0 0 \r\nL 3.5 0 \r\n\" id=\"mdc7c9e3d53\" style=\"stroke:#000000;stroke-width:0.8;\"/>\r\n      </defs>\r\n      <g>\r\n       <use style=\"stroke:#000000;stroke-width:0.8;\" x=\"955.8\" xlink:href=\"#mdc7c9e3d53\" y=\"131.774935\"/>\r\n      </g>\r\n     </g>\r\n     <g id=\"text_9\">\r\n      <!-- −0.5 -->\r\n      <g transform=\"translate(962.8 135.574154)scale(0.1 -0.1)\">\r\n       <defs>\r\n        <path d=\"M 10.59375 35.5 \r\nL 73.1875 35.5 \r\nL 73.1875 27.203125 \r\nL 10.59375 27.203125 \r\nz\r\n\" id=\"DejaVuSans-8722\"/>\r\n        <path d=\"M 31.78125 66.40625 \r\nQ 24.171875 66.40625 20.328125 58.90625 \r\nQ 16.5 51.421875 16.5 36.375 \r\nQ 16.5 21.390625 20.328125 13.890625 \r\nQ 24.171875 6.390625 31.78125 6.390625 \r\nQ 39.453125 6.390625 43.28125 13.890625 \r\nQ 47.125 21.390625 47.125 36.375 \r\nQ 47.125 51.421875 43.28125 58.90625 \r\nQ 39.453125 66.40625 31.78125 66.40625 \r\nz\r\nM 31.78125 74.21875 \r\nQ 44.046875 74.21875 50.515625 64.515625 \r\nQ 56.984375 54.828125 56.984375 36.375 \r\nQ 56.984375 17.96875 50.515625 8.265625 \r\nQ 44.046875 -1.421875 31.78125 -1.421875 \r\nQ 19.53125 -1.421875 13.0625 8.265625 \r\nQ 6.59375 17.96875 6.59375 36.375 \r\nQ 6.59375 54.828125 13.0625 64.515625 \r\nQ 19.53125 74.21875 31.78125 74.21875 \r\nz\r\n\" id=\"DejaVuSans-48\"/>\r\n        <path d=\"M 10.6875 12.40625 \r\nL 21 12.40625 \r\nL 21 0 \r\nL 10.6875 0 \r\nz\r\n\" id=\"DejaVuSans-46\"/>\r\n        <path d=\"M 10.796875 72.90625 \r\nL 49.515625 72.90625 \r\nL 49.515625 64.59375 \r\nL 19.828125 64.59375 \r\nL 19.828125 46.734375 \r\nQ 21.96875 47.46875 24.109375 47.828125 \r\nQ 26.265625 48.1875 28.421875 48.1875 \r\nQ 40.625 48.1875 47.75 41.5 \r\nQ 54.890625 34.8125 54.890625 23.390625 \r\nQ 54.890625 11.625 47.5625 5.09375 \r\nQ 40.234375 -1.421875 26.90625 -1.421875 \r\nQ 22.3125 -1.421875 17.546875 -0.640625 \r\nQ 12.796875 0.140625 7.71875 1.703125 \r\nL 7.71875 11.625 \r\nQ 12.109375 9.234375 16.796875 8.0625 \r\nQ 21.484375 6.890625 26.703125 6.890625 \r\nQ 35.15625 6.890625 40.078125 11.328125 \r\nQ 45.015625 15.765625 45.015625 23.390625 \r\nQ 45.015625 31 40.078125 35.4375 \r\nQ 35.15625 39.890625 26.703125 39.890625 \r\nQ 22.75 39.890625 18.8125 39.015625 \r\nQ 14.890625 38.140625 10.796875 36.28125 \r\nz\r\n\" id=\"DejaVuSans-53\"/>\r\n       </defs>\r\n       <use xlink:href=\"#DejaVuSans-8722\"/>\r\n       <use x=\"83.789062\" xlink:href=\"#DejaVuSans-48\"/>\r\n       <use x=\"147.412109\" xlink:href=\"#DejaVuSans-46\"/>\r\n       <use x=\"179.199219\" xlink:href=\"#DejaVuSans-53\"/>\r\n      </g>\r\n     </g>\r\n    </g>\r\n    <g id=\"ytick_2\">\r\n     <g id=\"line2d_2\">\r\n      <g>\r\n       <use style=\"stroke:#000000;stroke-width:0.8;\" x=\"955.8\" xlink:href=\"#mdc7c9e3d53\" y=\"90.824839\"/>\r\n      </g>\r\n     </g>\r\n     <g id=\"text_10\">\r\n      <!-- 0.0 -->\r\n      <g transform=\"translate(962.8 94.624058)scale(0.1 -0.1)\">\r\n       <use xlink:href=\"#DejaVuSans-48\"/>\r\n       <use x=\"63.623047\" xlink:href=\"#DejaVuSans-46\"/>\r\n       <use x=\"95.410156\" xlink:href=\"#DejaVuSans-48\"/>\r\n      </g>\r\n     </g>\r\n    </g>\r\n    <g id=\"ytick_3\">\r\n     <g id=\"line2d_3\">\r\n      <g>\r\n       <use style=\"stroke:#000000;stroke-width:0.8;\" x=\"955.8\" xlink:href=\"#mdc7c9e3d53\" y=\"49.874742\"/>\r\n      </g>\r\n     </g>\r\n     <g id=\"text_11\">\r\n      <!-- 0.5 -->\r\n      <g transform=\"translate(962.8 53.673961)scale(0.1 -0.1)\">\r\n       <use xlink:href=\"#DejaVuSans-48\"/>\r\n       <use x=\"63.623047\" xlink:href=\"#DejaVuSans-46\"/>\r\n       <use x=\"95.410156\" xlink:href=\"#DejaVuSans-53\"/>\r\n      </g>\r\n     </g>\r\n    </g>\r\n   </g>\r\n   <g id=\"patch_3\">\r\n    <path d=\"M 894.6 164.88 \r\nL 894.6 164.289375 \r\nL 894.6 14.270625 \r\nL 894.6 13.68 \r\nL 955.8 13.68 \r\nL 955.8 14.270625 \r\nL 955.8 164.289375 \r\nL 955.8 164.88 \r\nz\r\n\" style=\"fill:none;stroke:#000000;stroke-linejoin:miter;stroke-width:0.8;\"/>\r\n   </g>\r\n  </g>\r\n </g>\r\n <defs>\r\n  <clipPath id=\"p9f6ec4fd4d\">\r\n   <rect height=\"114.156\" width=\"70.77672\" x=\"159.584367\" y=\"31.662\"/>\r\n  </clipPath>\r\n  <clipPath id=\"pdeafd601c0\">\r\n   <rect height=\"114.156\" width=\"70.77672\" x=\"610.238913\" y=\"31.662\"/>\r\n  </clipPath>\r\n  <clipPath id=\"pf4678132f6\">\r\n   <rect height=\"151.2\" width=\"61.2\" x=\"894.6\" y=\"13.68\"/>\r\n  </clipPath>\r\n </defs>\r\n</svg>\r\n",
      "image/png": "[encoded data removed]"
     },
     "metadata": {
      "needs_background": "light"
     }
    }
   ],
   "source": [
    "BV.plot_interactive_panels(np.vstack((corrs_KO, corrs_WT)), mri_dims, nolin_mask_vec, figsize=(17, 3), dir_labels=dir_labels, column_titles=[\"Pearson Corrs for KO Mice\", \"Pearson Corrs for WT Mice\"])"
   ]
  },
  {
   "source": [
    "## Kendall Correlations"
   ],
   "cell_type": "markdown",
   "metadata": {}
  },
  {
   "cell_type": "code",
   "execution_count": 34,
   "metadata": {},
   "outputs": [],
   "source": [
    "# KO correlations\n",
    "# Fear - pre-fear behavior\n",
    " \n",
    "indices_dir = fm.geno_time_indices_dir(Y)\n",
    "\n",
    "Y_KO_diffs = Y.PerLight[indices_dir['Fear_KO']].to_numpy() - Y.PerLight[indices_dir['PreF_KO']].to_numpy()\n",
    "\n",
    "X_KO_diffs = X_smooth[indices_dir['Fear_KO']] - X_smooth[indices_dir['PreF_KO']]\n",
    "\n",
    "kcorrs_KO = np.zeros(X.shape[1])\n",
    "\n",
    "for voxel in range(X.shape[1]): \n",
    "    value = kendalltau(Y_KO_diffs, X_KO_diffs[:, voxel])[0]\n",
    "    if np.isnan(value): #if x is all 0s, pearson returns a nan\n",
    "        value = 0 \n",
    "    kcorrs_KO[voxel] = value\n",
    "\n",
    "np.save(os.path.join(\"kcorrs_smooth_KO.npy\"), kcorrs_KO)\n",
    "\n",
    "# WT correlations\n",
    "#Fear - pre-fear behavior\n",
    "Y_WT_diffs = Y.PerLight[indices_dir['Fear_WT']].to_numpy() - Y.PerLight[indices_dir['PreF_WT']].to_numpy()\n",
    "\n",
    "X_WT_diffs = X_smooth[indices_dir['Fear_WT']] - X_smooth[indices_dir['PreF_WT']]\n",
    "\n",
    "kcorrs_WT = np.zeros(X.shape[1])\n",
    "\n",
    "for voxel in range(X.shape[1]): \n",
    "    value = kendalltau(Y_WT_diffs, X_WT_diffs[:, voxel])[0]\n",
    "    if np.isnan(value): \n",
    "        value = 0 \n",
    "    kcorrs_WT[voxel] = value\n",
    "\n",
    "np.save(os.path.join(\"kcorrs_smooth_WT.npy\"), kcorrs_WT)\n",
    "#note: when everything is a 0, pearsonr returns a nan correlation value"
   ]
  },
  {
   "cell_type": "code",
   "execution_count": null,
   "metadata": {},
   "outputs": [],
   "source": [
    "kcorrs_KO = np.load(os.path.join('kcorrs_smooth_KO.npy'))\n",
    "kcorrs_WT = np.load(os.path.join('kcorrs_smooth_WT.npy'))"
   ]
  },
  {
   "cell_type": "code",
   "execution_count": 32,
   "metadata": {},
   "outputs": [
    {
     "output_type": "execute_result",
     "data": {
      "text/plain": [
       "(2033600,)"
      ]
     },
     "metadata": {},
     "execution_count": 32
    }
   ],
   "source": [
    "corrs_KO.shape"
   ]
  },
  {
   "cell_type": "code",
   "execution_count": 33,
   "metadata": {},
   "outputs": [],
   "source": [
    "fm.save_as_nifti(corrs_KO, 'corrs_smooth_KO.nii', mri_dims, affine)\n",
    "fm.save_as_nifti(corrs_WT, 'corrs_smooth_WT.nii', mri_dims, affine)\n",
    "# fm.save_as_nifti(kcorrs_KO, 'kcorrs_smooth_KO.nii', mri_dims, affine)\n",
    "# fm.save_as_nifti(kcorrs_WT, 'kcorrs_smooth_WT.nii', mri_dims, affine)"
   ]
  }
 ]
}