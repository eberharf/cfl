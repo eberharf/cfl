{
 "metadata": {
  "language_info": {
   "codemirror_mode": {
    "name": "ipython",
    "version": 3
   },
   "file_extension": ".py",
   "mimetype": "text/x-python",
   "name": "python",
   "nbconvert_exporter": "python",
   "pygments_lexer": "ipython3",
   "version": "3.8.5-final"
  },
  "orig_nbformat": 2,
  "kernelspec": {
   "name": "cfl-env",
   "display_name": "cfl-env",
   "language": "python"
  }
 },
 "nbformat": 4,
 "nbformat_minor": 2,
 "cells": [
  {
   "cell_type": "code",
   "execution_count": 4,
   "metadata": {},
   "outputs": [],
   "source": [
    "# Import needed packages for analysis\n",
    "import os\n",
    "\n",
    "import numpy as np\n",
    "import pandas as pd\n",
    "import matplotlib.pyplot as plt\n",
    "import nibabel as nib\n",
    "from scipy.ndimage import gaussian_filter\n",
    "\n",
    "import cfl.util.brain_util as BU\n",
    "import cfl.util.brain_vis as BV\n",
    "import cfl.util.fear_mice_functions as fm \n",
    "\n",
    "# load response data \n",
    "Y = pd.read_pickle('Y.pkl')\n",
    "\n",
    "behav_csv = 'PTSD_Data_Share\\Behavior_data\\PTSD_PerLight.csv'\n",
    "\n",
    "mri_dir, mri_dims, affine, dir_labels = fm.get_global_values()\n",
    "\n",
    "# load the non-linear mask template\n",
    "nl_mask_path = os.path.join('PTSD_Data_Share/templates\\MuseTemplate_nonlinear_mask.nii')\n",
    "nl_mask = BU.load_brain(nl_mask_path, ori='RPS')\n",
    "nolin_mask_vec = BU.flatten(nl_mask)\n",
    "\n",
    "# load all the images in RPS orientation \n",
    "X, Y_unused = BU.load_data(mri_dir, behav_csv, mri_dims, ori='RPS')"
   ]
  },
  {
   "source": [
    "## Examine potential values of sigma (degree of smoothing)"
   ],
   "cell_type": "markdown",
   "metadata": {}
  },
  {
   "cell_type": "code",
   "execution_count": 32,
   "metadata": {},
   "outputs": [],
   "source": [
    "sigmas = [0.5, 1, 2, 3, 4]\n",
    "\n",
    "one_image = X[20]\n",
    "\n",
    "dim = (len(sigmas), np.prod(mri_dims))\n",
    "smoothed_images = np.zeros(dim) \n",
    "plot_names = []\n",
    "for i, sigma in enumerate(sigmas):\n",
    "    image = BU.unflatten(image, mri_dims)\n",
    "    smooth_image = gaussian_filter(image, sigma)\n",
    "    smoothed_images[i] = BU.flatten(smooth_image)\n",
    "    plot_names.append('Sigma = {}'.format(sigma))"
   ]
  },
  {
   "cell_type": "code",
   "execution_count": 34,
   "metadata": {},
   "outputs": [
    {
     "output_type": "display_data",
     "data": {
      "text/plain": "interactive(children=(IntSlider(value=0, continuous_update=False, description='brain_slice', max=123), Output(…",
      "application/vnd.jupyter.widget-view+json": {
       "version_major": 2,
       "version_minor": 0,
       "model_id": "513494a8c0f0435987fe6ac7572954e7"
      }
     },
     "metadata": {}
    },
    {
     "output_type": "display_data",
     "data": {
      "text/plain": "interactive(children=(IntSlider(value=0, continuous_update=False, description='brain_slice', max=199), Output(…",
      "application/vnd.jupyter.widget-view+json": {
       "version_major": 2,
       "version_minor": 0,
       "model_id": "3be6531ee26c41f183e7427c7661ed51"
      }
     },
     "metadata": {}
    },
    {
     "output_type": "display_data",
     "data": {
      "text/plain": "interactive(children=(IntSlider(value=0, continuous_update=False, description='brain_slice', max=81), Output()…",
      "application/vnd.jupyter.widget-view+json": {
       "version_major": 2,
       "version_minor": 0,
       "model_id": "e9599b8c4e4b4480b24d116411c95736"
      }
     },
     "metadata": {}
    }
   ],
   "source": [
    "# BV.plot_interactive_panels(smoothed_images[:3], mri_dims, nolin_mask_vec, figsize=(20, 5), dir_labels=dir_labels, std_scale='corr', column_titles=plot_names[:3])"
   ]
  },
  {
   "cell_type": "code",
   "execution_count": 35,
   "metadata": {},
   "outputs": [
    {
     "output_type": "display_data",
     "data": {
      "text/plain": "interactive(children=(IntSlider(value=0, continuous_update=False, description='brain_slice', max=123), Output(…",
      "application/vnd.jupyter.widget-view+json": {
       "version_major": 2,
       "version_minor": 0,
       "model_id": "542de18e7dbe4164856581a0a00d1a89"
      }
     },
     "metadata": {}
    },
    {
     "output_type": "display_data",
     "data": {
      "text/plain": "interactive(children=(IntSlider(value=0, continuous_update=False, description='brain_slice', max=199), Output(…",
      "application/vnd.jupyter.widget-view+json": {
       "version_major": 2,
       "version_minor": 0,
       "model_id": "4bf0a241de684a2098406bc2cb749163"
      }
     },
     "metadata": {}
    },
    {
     "output_type": "display_data",
     "data": {
      "text/plain": "interactive(children=(IntSlider(value=0, continuous_update=False, description='brain_slice', max=81), Output()…",
      "application/vnd.jupyter.widget-view+json": {
       "version_major": 2,
       "version_minor": 0,
       "model_id": "c89b95de996f46fdb9dbbe10adf4a386"
      }
     },
     "metadata": {}
    }
   ],
   "source": [
    "# BV.plot_interactive_panels(smoothed_images[3:], mri_dims, nolin_mask_vec, figsize=(20, 5), dir_labels=dir_labels, std_scale='corr', column_titles=plot_names[3:])"
   ]
  },
  {
   "cell_type": "code",
   "execution_count": null,
   "metadata": {},
   "outputs": [],
   "source": [
    "# What is the best sigma to choose? I will go with 1 for now "
   ]
  },
  {
   "source": [
    "# Smooth all the data "
   ],
   "cell_type": "markdown",
   "metadata": {}
  },
  {
   "cell_type": "code",
   "execution_count": 36,
   "metadata": {},
   "outputs": [],
   "source": [
    "# sigma is the std deviation of the Gaussian kernel in each dimension \n",
    "# it's 3D because the MRIs are 3D\n",
    "sigma = (1, 1, 1)\n",
    "\n",
    "X_smooth = np.zeros(X.shape)\n",
    "for i, image in enumerate(X): \n",
    "    image = BU.unflatten(image, mri_dims)\n",
    "    smooth_image = gaussian_filter(image, sigma)\n",
    "    X_smooth[i] = BU.flatten(smooth_image)\n"
   ]
  },
  {
   "cell_type": "code",
   "execution_count": 37,
   "metadata": {},
   "outputs": [],
   "source": [
    "np.save('smooth_X_sigma1.npy', X_smooth)"
   ]
  },
  {
   "cell_type": "code",
   "execution_count": null,
   "metadata": {},
   "outputs": [],
   "source": [
    "# To save as Niftis, \n",
    "# create a new directory \n",
    "# and then save each image in this new folder (with the same names as they had in the original )"
   ]
  },
  {
   "source": [
    "## Smooth the Data using the same kernel as in the paper "
   ],
   "cell_type": "markdown",
   "metadata": {}
  },
  {
   "cell_type": "code",
   "execution_count": 1,
   "metadata": {},
   "outputs": [],
   "source": [
    "# From paper: \"aligned images were first smoothed with a full-width half-maximum (FWHM) Gaussian kernel, three times greater than the voxel size (0.3 mm)\"\n",
    "\n",
    "# https://brainder.org/2011/08/20/gaussian-kernels-convert-fwhm-to-sigma/\n",
    "# ^ this website says that the conversion between FWHM and sigma is \n",
    "# FWHM ~=  2.35482004503 * sigma "
   ]
  },
  {
   "cell_type": "code",
   "execution_count": 18,
   "metadata": {},
   "outputs": [
    {
     "output_type": "stream",
     "name": "stdout",
     "text": [
      "1.2739827004325424\n"
     ]
    }
   ],
   "source": [
    "# so the sigma to use is \n",
    "# sigma = FWHM / conversion_factor \n",
    "conversion_factor = 2.35482004503\n",
    "FWHM = 3 #3 because the FWHM is the size of 3 voxels\n",
    "paper_sigma = FWHM / conversion_factor\n",
    "print(paper_sigma)"
   ]
  },
  {
   "cell_type": "code",
   "execution_count": 25,
   "metadata": {},
   "outputs": [],
   "source": [
    "# sigma is the std deviation of the Gaussian kernel in each dimension \n",
    "# it's 3D because the MRIs are 3D\n",
    "sigma = paper_sigma\n",
    "\n",
    "X_smooth = np.zeros(X.shape)\n",
    "for i, image in enumerate(X): \n",
    "    image = BU.unflatten(image, mri_dims)\n",
    "    smooth_image = gaussian_filter(image, sigma)\n",
    "    X_smooth[i] = BU.flatten(smooth_image)\n"
   ]
  },
  {
   "cell_type": "code",
   "execution_count": 22,
   "metadata": {},
   "outputs": [],
   "source": [
    "correct = np.load('smooth_X_paper_sigma.npy')"
   ]
  }
 ]
}