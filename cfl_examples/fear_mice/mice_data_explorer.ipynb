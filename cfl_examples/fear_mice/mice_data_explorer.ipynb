{
 "metadata": {
  "language_info": {
   "codemirror_mode": {
    "name": "ipython",
    "version": 3
   },
   "file_extension": ".py",
   "mimetype": "text/x-python",
   "name": "python",
   "nbconvert_exporter": "python",
   "pygments_lexer": "ipython3",
   "version": "3.8.5-final"
  },
  "orig_nbformat": 2,
  "kernelspec": {
   "name": "cfl-env",
   "display_name": "cfl-env",
   "language": "python"
  }
 },
 "nbformat": 4,
 "nbformat_minor": 2,
 "cells": [
  {
   "source": [
    "# PTSD Mouse Data \n",
    "\n",
    "The total data consist of two data sets, measuring responses from 20 different mice at 4 timepoints each: Baseline, Pre-fear exposure, immediately after the Fear exposure, and 9 days later (D9). 10 of these mice are seratonin transporter knockouts (KO) and 10 are wildtype (WT). \n",
    "\n",
    "The data are: \n",
    "- 79 MRIs. The pre-fear, fear, and D9 images are MN(II) enhanced MRIs (MEMRI). The MEMRI images are used to measure neuronal functioning - (when neurons are active, their uptake of MN(II) is increased?). The baseline images, which are regular fMRI, are \n",
    "- 79 measurements of percent time spent in the light by the mice. \n",
    "\n",
    "In both data sets, the KO_04_D9 datapoint is missing (hence 79 instead of 80). "
   ],
   "cell_type": "markdown",
   "metadata": {}
  },
  {
   "cell_type": "code",
   "execution_count": 14,
   "metadata": {},
   "outputs": [],
   "source": [
    "# Import needed packages for analysis\n",
    "import os\n",
    "\n",
    "import numpy as np\n",
    "import pandas as pd\n",
    "from tqdm import tqdm\n",
    "import matplotlib.pyplot as plt\n",
    "import nibabel as nib\n",
    "from scipy.stats import pearsonr\n",
    "from scipy.stats import kendalltau\n",
    "\n",
    "\n",
    "import cfl.util.brain_util as BU\n",
    "import cfl.util.brain_vis as BV\n",
    "import cfl.util.fear_mice_functions as fm \n",
    "\n",
    "# load response data \n",
    "Y = pd.read_pickle('Y.pkl')"
   ]
  },
  {
   "source": [
    "# MRI Data \n",
    "Some facts about the data: \n",
    "- the dimensions of the brain box in each image are (124, 200, 82) (2,033,600 voxels total)\n",
    "- the images are originally in RPS orientation. We flip them to RAS orientation because then they have the same alignment as some other MRIs we've been looking at "
   ],
   "cell_type": "markdown",
   "metadata": {}
  },
  {
   "cell_type": "code",
   "execution_count": 2,
   "metadata": {},
   "outputs": [],
   "source": [
    "behav_csv = 'PTSD_Data_Share\\Behavior_data\\PTSD_PerLight.csv'\n",
    "mri_dir = 'PTSD_Data_Share\\MEMRI_data'"
   ]
  },
  {
   "cell_type": "code",
   "execution_count": 3,
   "metadata": {},
   "outputs": [
    {
     "output_type": "stream",
     "name": "stdout",
     "text": [
      "('R', 'P', 'S')\n(124, 200, 82)\n"
     ]
    }
   ],
   "source": [
    "# The images start out in RPS orientation\n",
    "nib_loaded_img = nib.load(os.path.join(mri_dir, \"PTSD_KO_03_BL.nii\"))\n",
    "print(nib.orientations.aff2axcodes(nib_loaded_img.affine))\n",
    "\n",
    "# load one image to check out its dimensions\n",
    "img = BU.load_brain(os.path.join(mri_dir, \"PTSD_KO_03_BL.nii\"), ori='RPS')\n",
    "mri_dims = img.shape\n",
    "print(mri_dims)"
   ]
  },
  {
   "cell_type": "code",
   "execution_count": 4,
   "metadata": {},
   "outputs": [],
   "source": [
    "# load all the images in RAS orientation \n",
    "X, Y_unused = BU.load_data(mri_dir, behav_csv, mri_dims, ori='RPS')"
   ]
  },
  {
   "cell_type": "code",
   "execution_count": 5,
   "metadata": {},
   "outputs": [],
   "source": [
    "#check all images are the same shape \n",
    "for fp in os.listdir(mri_dir):\n",
    "    full_path = os.path.join(mri_dir, fp)\n",
    "    brain = BU.load_brain(full_path)\n",
    "    assert brain.shape ==  mri_dims\n",
    "    #print(brain.shape)"
   ]
  },
  {
   "source": [
    "# Load Masks\n",
    "We were given two masks to fit the the MRIs, a linearly aligned- and non-linearly aligned mask. These masks tell which voxels in the image are part of the brain vs which are empty space. \n",
    "\n",
    "The difference between the non-linear and linear mask (from an email from Taylor): \"The non-linearly aligned mask is better aligned to the data, however the non-linear \"warping\" creates artifacts near the surface of the brain that may result in grabbing more undesired non-brain voxels when masking. The linearly aligned mask may not align to the surface of the brain as well and may miss or cut out brain tissue, but may not grab as many non-brain voxels. \n",
    "\n",
    "The non-linear mask leaves 531,632 voxels and the linear mask 482,793 voxels unmasked. "
   ],
   "cell_type": "markdown",
   "metadata": {}
  },
  {
   "cell_type": "code",
   "execution_count": 6,
   "metadata": {},
   "outputs": [],
   "source": [
    "# load the non-linear mask template\n",
    "nl_mask_path = os.path.join('PTSD_Data_Share/templates\\MuseTemplate_nonlinear_mask.nii')\n",
    "nl_mask = BU.load_brain(nl_mask_path, ori='RPS')\n",
    "nolin_mask_vec = BU.flatten(nl_mask)\n",
    "\n",
    "# load the linear mask template\n",
    "l_mask_path = os.path.join('PTSD_Data_Share/templates\\MuseTemplate_linear_mask.nii')\n",
    "l_mask = BU.load_brain(l_mask_path, ori='RPS')\n",
    "lin_mask_vec = BU.flatten(l_mask)"
   ]
  },
  {
   "cell_type": "code",
   "execution_count": 7,
   "metadata": {},
   "outputs": [
    {
     "output_type": "stream",
     "name": "stdout",
     "text": [
      "[0. 1.]\n[0. 1.]\n"
     ]
    }
   ],
   "source": [
    "# both masks are binary arrays, containing 1s where there is brain and 0s where there is not \n",
    "print(np.unique(nl_mask))\n",
    "print(np.unique(l_mask))"
   ]
  },
  {
   "cell_type": "code",
   "execution_count": 8,
   "metadata": {},
   "outputs": [
    {
     "output_type": "stream",
     "name": "stdout",
     "text": [
      "True\nTrue\n"
     ]
    }
   ],
   "source": [
    "print(nl_mask.shape == mri_dims) #non-linear mask has same dims as other MRI images\n",
    "print(l_mask.shape == mri_dims) #linear mask has same dims as other MRI images"
   ]
  },
  {
   "cell_type": "code",
   "execution_count": 9,
   "metadata": {},
   "outputs": [
    {
     "output_type": "stream",
     "name": "stdout",
     "text": [
      "Non-linear mask:  531632\nLinear mask:  482793\n"
     ]
    }
   ],
   "source": [
    "# how many voxels are unmasked? \n",
    "print(\"Non-linear mask: \", np.sum(nolin_mask_vec==1))\n",
    "print(\"Linear mask: \", np.sum(lin_mask_vec==1))"
   ]
  },
  {
   "source": [
    "\n",
    "When we visualize the two masks side-by-side on an MRI below, we indeed see that the non-linear mask has a bumpier edge, with more little islands of disconnected MRI image, while the linear mask has a smoother edge but cuts off some brain tissue. For now, we are using only the non-linearly aligned mask."
   ],
   "cell_type": "markdown",
   "metadata": {}
  },
  {
   "cell_type": "code",
   "execution_count": 10,
   "metadata": {},
   "outputs": [],
   "source": [
    "# specify labels for plot (note the labels below are specifically for RAS orientation)\n",
    "dir_labels = { 'saggital' :   ['P', 'A', 'D', 'V'],\n",
    "               'coronal' :    ['L', 'R', 'D', 'V'],\n",
    "               'horizontal' : ['L', 'R', 'A', 'P']} \n",
    "\n",
    "# # create a copy of one image with each mask already applied\n",
    "# nl_masked_brain = X[0].copy()\n",
    "# nl_masked_brain[BU.flatten(nl_mask)==0] = np.nan\n",
    "\n",
    "# l_masked_brain = X[0].copy()\n",
    "# l_masked_brain[BU.flatten(l_mask)==0] = np.nan\n",
    "\n",
    "# # generate interactive plots\n",
    "# BV.plot_interactive_panels(np.vstack((nl_masked_brain, l_masked_brain)), mri_dims, nolin_mask_vec, figsize=(12, 3), std_scale='std', dir_labels=dir_labels, column_titles=[\"Non-linear Mask\", \"Linear Mask\"])\n"
   ]
  },
  {
   "source": [
    "# Click through a bunch of the mice \n",
    "\n",
    "The below images compare, side-by-side, MRIs from multiple mice from the same timepoint. Since the first 5 brains in the list were selected, these are all MRIs from KO mice. "
   ],
   "cell_type": "markdown",
   "metadata": {}
  },
  {
   "cell_type": "code",
   "execution_count": 11,
   "metadata": {},
   "outputs": [
    {
     "output_type": "display_data",
     "data": {
      "text/plain": "interactive(children=(IntSlider(value=0, continuous_update=False, description='brain_slice', max=123), Output(…",
      "application/vnd.jupyter.widget-view+json": {
       "version_major": 2,
       "version_minor": 0,
       "model_id": "56aaa8ff75e7447b8adb1e625f7a9ba8"
      }
     },
     "metadata": {}
    },
    {
     "output_type": "display_data",
     "data": {
      "text/plain": "interactive(children=(IntSlider(value=0, continuous_update=False, description='brain_slice', max=199), Output(…",
      "application/vnd.jupyter.widget-view+json": {
       "version_major": 2,
       "version_minor": 0,
       "model_id": "4e897fda8a1e4092a9a05ad9bfdf5e7f"
      }
     },
     "metadata": {}
    },
    {
     "output_type": "display_data",
     "data": {
      "text/plain": "interactive(children=(IntSlider(value=0, continuous_update=False, description='brain_slice', max=81), Output()…",
      "application/vnd.jupyter.widget-view+json": {
       "version_major": 2,
       "version_minor": 0,
       "model_id": "c2a4aaf45f674894a250f427887b136b"
      }
     },
     "metadata": {}
    }
   ],
   "source": [
    "timepoints_dir = fm.timepoint_indices_dir(Y)\n",
    "\n",
    "# # specify labels for plot (note the labels below are specifically for RAS orientation)\n",
    "# dir_labels = { 'saggital' :   ['P', 'A', 'D', 'V'],\n",
    "#                'coronal' :    ['L', 'R', 'D', 'V'],\n",
    "#                'horizontal' : ['L', 'R', 'A', 'P']} \n",
    "\n",
    "# # Show first 5 baseline images \n",
    "# BV.plot_interactive_panels(X[timepoints_dir[\"BL\"][:5]], mri_dims, nolin_mask_vec, figsize=(15, 5), colormap=\"seismic\", dir_labels=dir_labels, column_titles=[\"Mouse 1\", \"Mouse 2\", \"Mouse 3\", \"Mouse 4\", \"Mouse 5\"])"
   ]
  },
  {
   "source": [
    "Some observations: \n",
    "Top (Saggital) Image \n",
    "- around slices 32-39, pieces of brain appear and disappear irregularly\n",
    "- slice 39-40: lot more white in second image than others (and again around 85-89)\n",
    "- 62 - dot of high activation, high for all except fourth\n",
    "\n",
    "Middle (Coronal) Image \n",
    "- 20-40: noticeable difference in brightness of images (esp bt 1st and 3rd)\n",
    "- higher brightness in 2 noticeable at 52-54\n",
    "\n",
    "Botton (Horizontal) Image \n",
    "- the lower brightness of 4th brain is again visible (note high activation regions at slices ~16-36) \n",
    "- higher brightness of 2nd brain visible around slice ~46 \n",
    "\n",
    "\n",
    "Do the white dots of high activity (ie those in observations above, also coronal slice 64) have a known meaning? "
   ],
   "cell_type": "markdown",
   "metadata": {}
  },
  {
   "cell_type": "code",
   "execution_count": 12,
   "metadata": {},
   "outputs": [
    {
     "output_type": "display_data",
     "data": {
      "text/plain": "interactive(children=(IntSlider(value=0, continuous_update=False, description='brain_slice', max=123), Output(…",
      "application/vnd.jupyter.widget-view+json": {
       "version_major": 2,
       "version_minor": 0,
       "model_id": "b240f2376b6140b6b21fb157420060a3"
      }
     },
     "metadata": {}
    },
    {
     "output_type": "display_data",
     "data": {
      "text/plain": "interactive(children=(IntSlider(value=0, continuous_update=False, description='brain_slice', max=199), Output(…",
      "application/vnd.jupyter.widget-view+json": {
       "version_major": 2,
       "version_minor": 0,
       "model_id": "70b70a9b48054078ae422fdf00d6ff6f"
      }
     },
     "metadata": {}
    },
    {
     "output_type": "display_data",
     "data": {
      "text/plain": "interactive(children=(IntSlider(value=0, continuous_update=False, description='brain_slice', max=81), Output()…",
      "application/vnd.jupyter.widget-view+json": {
       "version_major": 2,
       "version_minor": 0,
       "model_id": "4cc8936ea94b4216bce46688c512c85a"
      }
     },
     "metadata": {}
    }
   ],
   "source": [
    "# # Show first 5 prefear images \n",
    "# BV.plot_interactive_panels(X[timepoints_dir[\"PreF\"][:5]], mri_dims, nolin_mask_vec, figsize=(15, 5), colormap=\"seismic\", dir_labels=dir_labels, step=1)"
   ]
  },
  {
   "source": [
    "3rd brain brightest, then 4th brain, least bright is 1st\n",
    "\n",
    "Top (Saggital) Image \n",
    "- 39-40: bright spots (same as in baseline images)\n",
    "\n",
    "\n",
    "Coronal \n",
    "- around slice 30-44: the circles in the brain kind of appear differently in different images - the brains may not be perfectly aligned ? \n",
    "- 54: bright spot \n",
    "- 68: bright spots \n",
    "- 80: really bright spots \n",
    "- 124: really bright spots\n",
    "\n",
    "\n",
    "Horizontal\n",
    "- lots of artifacts visible at beginning\n",
    "- 17: really bright spots (brainstem connection to brain?)\n",
    "- some interesting structures toward the end \n",
    "\n",
    "\n",
    "- which images are generally brightest/darkest vary between images"
   ],
   "cell_type": "markdown",
   "metadata": {}
  },
  {
   "cell_type": "code",
   "execution_count": 13,
   "metadata": {},
   "outputs": [
    {
     "output_type": "display_data",
     "data": {
      "text/plain": "interactive(children=(IntSlider(value=0, continuous_update=False, description='brain_slice', max=123), Output(…",
      "application/vnd.jupyter.widget-view+json": {
       "version_major": 2,
       "version_minor": 0,
       "model_id": "efd07b911ae84c67aa124c1b168553b4"
      }
     },
     "metadata": {}
    },
    {
     "output_type": "display_data",
     "data": {
      "text/plain": "interactive(children=(IntSlider(value=0, continuous_update=False, description='brain_slice', max=199), Output(…",
      "application/vnd.jupyter.widget-view+json": {
       "version_major": 2,
       "version_minor": 0,
       "model_id": "a438d15d060742f28edb553844aa0a8d"
      }
     },
     "metadata": {}
    },
    {
     "output_type": "display_data",
     "data": {
      "text/plain": "interactive(children=(IntSlider(value=0, continuous_update=False, description='brain_slice', max=81), Output()…",
      "application/vnd.jupyter.widget-view+json": {
       "version_major": 2,
       "version_minor": 0,
       "model_id": "cc7534af5fd04e618293267fb33bb55d"
      }
     },
     "metadata": {}
    }
   ],
   "source": [
    "# # Show first 5 fear images \n",
    "# BV.plot_interactive_panels(X[timepoints_dir[\"Fear\"][:5]], mri_dims, nolin_mask_vec, figsize=(15, 5), colormap=\"seismic\", dir_labels=dir_labels, step=1)"
   ]
  },
  {
   "source": [
    "Saggital image \n",
    "- 39: bright spot\n",
    "- 54: tiny bright spot at the bottom of the brain \n",
    "- 62, 63, 64: abrupt shifts in where the bright/dark patterns are (this is present in the earlier images too but it's clearer in these)\n",
    "\n",
    "Coronal \n",
    "- 30+ : the circles that seemed somewhat misaligned in the pre-fear images are not so in this set \n",
    "- 71: really bright spots \n",
    "- 77: really bright spots \n",
    "\n",
    "\n",
    "Horistonal \n",
    "- 16 bright spots \n",
    "- 56: on 2nd and 5th brains, the bright teardrop-shaped spots look a little asymetrical (left larger than right)\n",
    "\n",
    "\n",
    "\n",
    "- All of these brains look generally consistent in brightness\n",
    "\n",
    "\n",
    "These images generally look brighter, but I think that's just because the brightest brightest activation for this set of images (>25000) is lower than for BL or Pre-F (>30000)"
   ],
   "cell_type": "markdown",
   "metadata": {}
  },
  {
   "cell_type": "code",
   "execution_count": 14,
   "metadata": {},
   "outputs": [
    {
     "output_type": "display_data",
     "data": {
      "text/plain": "interactive(children=(IntSlider(value=0, continuous_update=False, description='brain_slice', max=123), Output(…",
      "application/vnd.jupyter.widget-view+json": {
       "version_major": 2,
       "version_minor": 0,
       "model_id": "6dce767e44654546b5795cef37e7232c"
      }
     },
     "metadata": {}
    },
    {
     "output_type": "display_data",
     "data": {
      "text/plain": "interactive(children=(IntSlider(value=0, continuous_update=False, description='brain_slice', max=199), Output(…",
      "application/vnd.jupyter.widget-view+json": {
       "version_major": 2,
       "version_minor": 0,
       "model_id": "f5cf18f1f48f4375b4580d4c20e58e8e"
      }
     },
     "metadata": {}
    },
    {
     "output_type": "display_data",
     "data": {
      "text/plain": "interactive(children=(IntSlider(value=0, continuous_update=False, description='brain_slice', max=81), Output()…",
      "application/vnd.jupyter.widget-view+json": {
       "version_major": 2,
       "version_minor": 0,
       "model_id": "134f9c3ac93e449a96f93019a27509f2"
      }
     },
     "metadata": {}
    }
   ],
   "source": [
    "# # Show first 5 D9 images \n",
    "# BV.plot_interactive_panels(X[timepoints_dir[\"D9\"][:5]], mri_dims, nolin_mask_vec, figsize=(15, 5), colormap=\"seismic\", dir_labels=dir_labels, step=1)"
   ]
  },
  {
   "source": [
    "# Heatmap \n",
    "\n",
    "These heatmaps show the average value of each voxel for the group "
   ],
   "cell_type": "markdown",
   "metadata": {}
  },
  {
   "source": [
    "## Heatmap with each timepoint broken out (both genotypes)"
   ],
   "cell_type": "markdown",
   "metadata": {}
  },
  {
   "cell_type": "code",
   "execution_count": 16,
   "metadata": {},
   "outputs": [
    {
     "output_type": "stream",
     "name": "stderr",
     "text": [
      "100%|██████████| 20/20 [00:00<00:00, 280.65it/s]\n",
      "100%|██████████| 20/20 [00:00<00:00, 256.67it/s]\n",
      "100%|██████████| 20/20 [00:00<00:00, 296.04it/s]\n",
      "100%|██████████| 19/19 [00:00<00:00, 277.01it/s]\n"
     ]
    }
   ],
   "source": [
    "# timepoints_dir = fm.timepoint_indices_dir(Y)\n",
    "\n",
    "# HM_list = [] \n",
    "# for timepoint in timepoints_dir: \n",
    "#     currentHM = np.zeros(np.prod(mri_dims))\n",
    "#     indices = timepoints_dir[timepoint]\n",
    "#     n = len(timepoints_dir[timepoint])\n",
    "#     for brain in tqdm(X[indices]):\n",
    "#         currentHM += brain\n",
    "#     np.divide(currentHM, n)\n",
    "#     HM_list.append(currentHM)\n",
    "\n",
    "#     save_name = 'heatmap_' + timepoint + '.npy'\n",
    "#     np.save(os.path.join(save_name), currentHM) "
   ]
  },
  {
   "cell_type": "code",
   "execution_count": 17,
   "metadata": {},
   "outputs": [],
   "source": [
    "# # load heatmaps \n",
    "# heatmap_names = ['heatmap_' + str(timepoint) for timepoint in timepoints_dir.keys()]\n",
    "# HM_list = []\n",
    "# for heatmap in heatmap_names: \n",
    "#     HM_list.append(np.load(heatmap + '.npy'))\n",
    "\n",
    "# # display heatmaps \n",
    "# BV.plot_interactive_panels(np.vstack(HM_list), mri_dims, nolin_mask_vec, figsize=(17, 3), dir_labels=dir_labels, column_titles=list(timepoints_dir))"
   ]
  },
  {
   "source": [
    "The Baseline images are in general slightly darker than the other images. \n",
    "\n",
    "My interpretation of this is that, since the baseline images are not Mn(II) enhanced, the high activity peaks are lower relative to the background level of activity, and since all the images have been normalized along the same scale, the 'low activity' or 'normal' activity levels for the Baseline images have a higher numeric value after normalization compared to  the other images. \n",
    "\n",
    "\"Overall, the greater in magnitude the voxel intensity value of a contrast enhanced image comparing to each animal's baseline non-contrast enhanced image, corresponds to greater Mn(II) accumulation i.e. neural activity in a particular cluster of voxels.\"\n",
    "\n",
    "From this statement, I think they may be saving that we should analyze the intensity in a pre-fear/fear/D9 image minus the intensity in the baseline image, in order to find spikes in activity? "
   ],
   "cell_type": "markdown",
   "metadata": {}
  },
  {
   "source": [
    "Since the \"artifacts\" on the edge of the brain are generally 0 (regardless of whether they're from the baseline or not), it seems like the artifacts end up appearing as \"neutral\" - the activity is about the same between baseline and fear image \n",
    "\n",
    "- is this true or are the artifacts negative? \n",
    "\n",
    "- how does this show up with individual images (non heatmaps)?"
   ],
   "cell_type": "markdown",
   "metadata": {}
  },
  {
   "source": [
    "# Baseline Adjustment\n",
    "\n",
    "In this section, images with the baseline MRI subtracted off are shown. "
   ],
   "cell_type": "markdown",
   "metadata": {}
  },
  {
   "source": [
    "## Baseline-adjusted Images for an individual mouse \n",
    "\n"
   ],
   "cell_type": "markdown",
   "metadata": {}
  },
  {
   "cell_type": "code",
   "execution_count": 17,
   "metadata": {},
   "outputs": [
    {
     "output_type": "error",
     "ename": "NameError",
     "evalue": "name 'Y' is not defined",
     "traceback": [
      "\u001b[1;31m---------------------------------------------------------------------------\u001b[0m",
      "\u001b[1;31mNameError\u001b[0m                                 Traceback (most recent call last)",
      "\u001b[1;32m<ipython-input-17-37881e0a6781>\u001b[0m in \u001b[0;36m<module>\u001b[1;34m\u001b[0m\n\u001b[0;32m     14\u001b[0m \u001b[0mall_ims\u001b[0m \u001b[1;33m=\u001b[0m \u001b[0mnp\u001b[0m\u001b[1;33m.\u001b[0m\u001b[0mzeros\u001b[0m\u001b[1;33m(\u001b[0m\u001b[1;33m(\u001b[0m\u001b[1;36m3\u001b[0m\u001b[1;33m,\u001b[0m \u001b[0mnp\u001b[0m\u001b[1;33m.\u001b[0m\u001b[0mprod\u001b[0m\u001b[1;33m(\u001b[0m\u001b[0mmri_dims\u001b[0m\u001b[1;33m)\u001b[0m\u001b[1;33m)\u001b[0m\u001b[1;33m)\u001b[0m\u001b[1;33m\u001b[0m\u001b[1;33m\u001b[0m\u001b[0m\n\u001b[0;32m     15\u001b[0m \u001b[1;32mfor\u001b[0m \u001b[0mi\u001b[0m\u001b[1;33m,\u001b[0m \u001b[0mtimepoint\u001b[0m \u001b[1;32min\u001b[0m \u001b[0menumerate\u001b[0m\u001b[1;33m(\u001b[0m\u001b[1;33m[\u001b[0m\u001b[1;34m\"PreF\"\u001b[0m\u001b[1;33m,\u001b[0m \u001b[1;34m\"Fear\"\u001b[0m\u001b[1;33m,\u001b[0m \u001b[1;34m\"D9\"\u001b[0m\u001b[1;33m]\u001b[0m\u001b[1;33m)\u001b[0m\u001b[1;33m:\u001b[0m\u001b[1;33m\u001b[0m\u001b[1;33m\u001b[0m\u001b[0m\n\u001b[1;32m---> 16\u001b[1;33m     \u001b[0madj_im\u001b[0m \u001b[1;33m=\u001b[0m \u001b[0mfm\u001b[0m\u001b[1;33m.\u001b[0m\u001b[0mremove_baseline\u001b[0m\u001b[1;33m(\u001b[0m\u001b[0mX\u001b[0m\u001b[1;33m,\u001b[0m \u001b[0mmouse_id\u001b[0m\u001b[1;33m,\u001b[0m \u001b[0mtimepoint\u001b[0m\u001b[1;33m)\u001b[0m\u001b[1;33m\u001b[0m\u001b[1;33m\u001b[0m\u001b[0m\n\u001b[0m\u001b[0;32m     17\u001b[0m     \u001b[0madj_im\u001b[0m \u001b[1;33m=\u001b[0m \u001b[0mBU\u001b[0m\u001b[1;33m.\u001b[0m\u001b[0mflatten\u001b[0m\u001b[1;33m(\u001b[0m\u001b[0madj_im\u001b[0m\u001b[1;33m)\u001b[0m\u001b[1;33m\u001b[0m\u001b[1;33m\u001b[0m\u001b[0m\n\u001b[0;32m     18\u001b[0m     \u001b[0mall_ims\u001b[0m\u001b[1;33m[\u001b[0m\u001b[0mi\u001b[0m\u001b[1;33m]\u001b[0m \u001b[1;33m+=\u001b[0m \u001b[0madj_im\u001b[0m\u001b[1;33m\u001b[0m\u001b[1;33m\u001b[0m\u001b[0m\n",
      "\u001b[1;32m~\\Documents\\Schmidt\\cfl\\cfl\\util\\fear_mice_functions.py\u001b[0m in \u001b[0;36mremove_baseline\u001b[1;34m(X, id, timepoint)\u001b[0m\n\u001b[0;32m     16\u001b[0m     '''\n\u001b[0;32m     17\u001b[0m     \u001b[1;31m# get image for that mouse at that timepoint\u001b[0m\u001b[1;33m\u001b[0m\u001b[1;33m\u001b[0m\u001b[1;33m\u001b[0m\u001b[0m\n\u001b[1;32m---> 18\u001b[1;33m     \u001b[0mimage_index\u001b[0m \u001b[1;33m=\u001b[0m \u001b[0mY\u001b[0m\u001b[1;33m.\u001b[0m\u001b[0mloc\u001b[0m\u001b[1;33m[\u001b[0m\u001b[1;33m(\u001b[0m\u001b[0mY\u001b[0m\u001b[1;33m.\u001b[0m\u001b[0mID\u001b[0m\u001b[1;33m==\u001b[0m\u001b[0mid\u001b[0m\u001b[1;33m)\u001b[0m \u001b[1;33m&\u001b[0m \u001b[1;33m(\u001b[0m\u001b[0mY\u001b[0m\u001b[1;33m.\u001b[0m\u001b[0mTimepoint\u001b[0m\u001b[1;33m==\u001b[0m\u001b[0mtimepoint\u001b[0m\u001b[1;33m)\u001b[0m\u001b[1;33m]\u001b[0m\u001b[1;33m.\u001b[0m\u001b[0mindex\u001b[0m\u001b[1;33m[\u001b[0m\u001b[1;36m0\u001b[0m\u001b[1;33m]\u001b[0m\u001b[1;33m\u001b[0m\u001b[1;33m\u001b[0m\u001b[0m\n\u001b[0m\u001b[0;32m     19\u001b[0m     \u001b[0mimage\u001b[0m \u001b[1;33m=\u001b[0m \u001b[0mX\u001b[0m\u001b[1;33m[\u001b[0m\u001b[0mimage_index\u001b[0m\u001b[1;33m]\u001b[0m\u001b[1;33m\u001b[0m\u001b[1;33m\u001b[0m\u001b[0m\n\u001b[0;32m     20\u001b[0m \u001b[1;33m\u001b[0m\u001b[0m\n",
      "\u001b[1;31mNameError\u001b[0m: name 'Y' is not defined"
     ]
    }
   ],
   "source": [
    "# plot to show the baseline-adjusted images for an individual mouse \n",
    "mouse_id = 7\n",
    "\n",
    "# get image for that mouse at baseline \n",
    "baseline_index = Y.loc[(Y.ID==mouse_id) & (Y.Timepoint==\"BL\")].index[0]\n",
    "baseline_image = X[baseline_index]\n",
    "\n",
    "# get other origianl images for mouse\n",
    "prefear_index = Y.loc[(Y.ID==mouse_id) & (Y.Timepoint==\"PreF\")].index[0]\n",
    "postfear_index = Y.loc[(Y.ID==mouse_id) & (Y.Timepoint==\"Fear\")].index[0]\n",
    "d9_index = Y.loc[(Y.ID==mouse_id) & (Y.Timepoint==\"D9\")].index[0]\n",
    "\n",
    "#examine a single baseline adjusted image (individual images)\n",
    "all_ims = np.zeros((3, np.prod(mri_dims)))\n",
    "for i, timepoint in enumerate([\"PreF\", \"Fear\", \"D9\"]): \n",
    "    adj_im = fm.remove_baseline(X, Y, mouse_id, timepoint)\n",
    "    adj_im = BU.flatten(adj_im)\n",
    "    all_ims[i] += adj_im\n",
    "\n",
    "# BV.plot_interactive_panels(np.vstack((baseline_image,  X[prefear_index], all_ims[0],  X[postfear_index], all_ims[1])), mri_dims, nolin_mask_vec, figsize=(17, 5), dir_labels=dir_labels, column_titles=[\"Baseline\", \"Pre-fear\", \"Adj Pre-fear\", \"Fear\", \"Adj Fear\"])\n"
   ]
  },
  {
   "cell_type": "code",
   "execution_count": 22,
   "metadata": {},
   "outputs": [
    {
     "output_type": "display_data",
     "data": {
      "text/plain": "interactive(children=(IntSlider(value=0, continuous_update=False, description='brain_slice', max=123), Output(…",
      "application/vnd.jupyter.widget-view+json": {
       "version_major": 2,
       "version_minor": 0,
       "model_id": "664edba60c6648f19b1995e22fdbc2da"
      }
     },
     "metadata": {}
    },
    {
     "output_type": "display_data",
     "data": {
      "text/plain": "interactive(children=(IntSlider(value=0, continuous_update=False, description='brain_slice', max=199), Output(…",
      "application/vnd.jupyter.widget-view+json": {
       "version_major": 2,
       "version_minor": 0,
       "model_id": "853601c2196e44539e6a286785dd19b3"
      }
     },
     "metadata": {}
    },
    {
     "output_type": "display_data",
     "data": {
      "text/plain": "interactive(children=(IntSlider(value=0, continuous_update=False, description='brain_slice', max=81), Output()…",
      "application/vnd.jupyter.widget-view+json": {
       "version_major": 2,
       "version_minor": 0,
       "model_id": "418566ffd03b4211acaf1b13b1ad7715"
      }
     },
     "metadata": {}
    }
   ],
   "source": [
    "# BV.plot_interactive_panels(np.vstack((baseline_image, X[d9_index], all_ims[2])), mri_dims, nolin_mask_vec, figsize=(12, 5), dir_labels=dir_labels, column_titles=[\"Baseline\", \"D9\", \"Adj D9\"])\n"
   ]
  },
  {
   "source": [
    "## Heatmap of each timepoint, adjusted by baseline intensity \n",
    "\n",
    "Heatmap = mean value for each timepoint across all MRIs "
   ],
   "cell_type": "markdown",
   "metadata": {}
  },
  {
   "cell_type": "code",
   "execution_count": 23,
   "metadata": {},
   "outputs": [],
   "source": [
    "HM_dir = {'PreF': np.zeros(np.prod(mri_dims)), \"Fear\": np.zeros(np.prod(mri_dims)), 'D9': np.zeros(np.prod(mri_dims))}\n",
    "all_mouse_indices = pd.unique(Y[\"ID\"])\n",
    "\n",
    "\n",
    "for timepoint in HM_dir:\n",
    "    # for each mouse....\n",
    "    for mouse_id in all_mouse_indices:\n",
    "        # get the image associated with that timepoint, subtract off the baseline\n",
    "        if mouse_id != 1 or timepoint != 'D9': #don't do this for the missing value\n",
    "            adjusted_mri = fm.remove_baseline(X, Y, mouse_id, timepoint)\n",
    "            # add the result to the correct heatmap entry \n",
    "            HM_dir[timepoint] += BU.flatten(adjusted_mri)\n",
    "    # divide to get the average \n",
    "    n = len(timepoints_dir[timepoint])\n",
    "    np.divide(HM_dir[timepoint], n) "
   ]
  },
  {
   "cell_type": "code",
   "execution_count": 24,
   "metadata": {},
   "outputs": [
    {
     "output_type": "display_data",
     "data": {
      "text/plain": "interactive(children=(IntSlider(value=0, continuous_update=False, description='brain_slice', max=123), Output(…",
      "application/vnd.jupyter.widget-view+json": {
       "version_major": 2,
       "version_minor": 0,
       "model_id": "b22c99d27bd34f69969303f5fff3ce91"
      }
     },
     "metadata": {}
    },
    {
     "output_type": "display_data",
     "data": {
      "text/plain": "interactive(children=(IntSlider(value=0, continuous_update=False, description='brain_slice', max=199), Output(…",
      "application/vnd.jupyter.widget-view+json": {
       "version_major": 2,
       "version_minor": 0,
       "model_id": "c82a77c15eaa48a49cb2927551dbc3ca"
      }
     },
     "metadata": {}
    },
    {
     "output_type": "display_data",
     "data": {
      "text/plain": "interactive(children=(IntSlider(value=0, continuous_update=False, description='brain_slice', max=81), Output()…",
      "application/vnd.jupyter.widget-view+json": {
       "version_major": 2,
       "version_minor": 0,
       "model_id": "e8395f8502ae4278a3685be11b264488"
      }
     },
     "metadata": {}
    }
   ],
   "source": [
    "BV.plot_interactive_panels(np.vstack(list(HM_dir.values())), mri_dims, nolin_mask_vec, figsize=(12, 3), dir_labels=dir_labels, column_titles=list(HM_dir.keys()))\n"
   ]
  },
  {
   "source": [
    "# Variance\n",
    "This plot shows the level of variance between individual voxels in all the MRIs for each timepoint."
   ],
   "cell_type": "markdown",
   "metadata": {}
  },
  {
   "cell_type": "code",
   "execution_count": 22,
   "metadata": {},
   "outputs": [
    {
     "output_type": "display_data",
     "data": {
      "text/plain": "interactive(children=(IntSlider(value=0, continuous_update=False, description='brain_slice', max=123), Output(…",
      "application/vnd.jupyter.widget-view+json": {
       "version_major": 2,
       "version_minor": 0,
       "model_id": "f8408ede6cd64d1f8bbadc1f2aadefd4"
      }
     },
     "metadata": {}
    },
    {
     "output_type": "display_data",
     "data": {
      "text/plain": "interactive(children=(IntSlider(value=0, continuous_update=False, description='brain_slice', max=199), Output(…",
      "application/vnd.jupyter.widget-view+json": {
       "version_major": 2,
       "version_minor": 0,
       "model_id": "25d816065fbb45b7bdff4aff35c7fba2"
      }
     },
     "metadata": {}
    },
    {
     "output_type": "display_data",
     "data": {
      "text/plain": "interactive(children=(IntSlider(value=0, continuous_update=False, description='brain_slice', max=81), Output()…",
      "application/vnd.jupyter.widget-view+json": {
       "version_major": 2,
       "version_minor": 0,
       "model_id": "e91097969903489796de41ded8df0811"
      }
     },
     "metadata": {}
    }
   ],
   "source": [
    "# create array showing overall variance \n",
    "var_all = np.zeros(BU.flatten(X[0]).shape)\n",
    "var_all[...] = np.var(X, axis=0)\n",
    "\n",
    "# specify labels for plot (note the labels below are specifically for RAS orientation)\n",
    "dir_labels = { 'saggital' :   ['P', 'A', 'D', 'V'],\n",
    "               'coronal' :    ['L', 'R', 'D', 'V'],\n",
    "               'horizontal' : ['L', 'R', 'A', 'P']} \n",
    "\n",
    "BV.plot_interactive_panels(var_all, mri_dims, nolin_mask_vec, figsize=(8, 3), dir_labels=dir_labels, colormap=\"Reds\", step= 1, column_titles=[\"Variance across all MRIs\"]) "
   ]
  },
  {
   "cell_type": "code",
   "execution_count": 34,
   "metadata": {},
   "outputs": [],
   "source": [
    "fm.save_as_nifti(var_all, \"var_all.nii\")"
   ]
  },
  {
   "cell_type": "code",
   "execution_count": 23,
   "metadata": {},
   "outputs": [
    {
     "output_type": "display_data",
     "data": {
      "text/plain": "interactive(children=(IntSlider(value=0, continuous_update=False, description='brain_slice', max=123), Output(…",
      "application/vnd.jupyter.widget-view+json": {
       "version_major": 2,
       "version_minor": 0,
       "model_id": "231a9772aabf417dbc2fa1387f32477b"
      }
     },
     "metadata": {}
    },
    {
     "output_type": "display_data",
     "data": {
      "text/plain": "interactive(children=(IntSlider(value=0, continuous_update=False, description='brain_slice', max=199), Output(…",
      "application/vnd.jupyter.widget-view+json": {
       "version_major": 2,
       "version_minor": 0,
       "model_id": "071ae890d87d42fa926a98418642f996"
      }
     },
     "metadata": {}
    },
    {
     "output_type": "display_data",
     "data": {
      "text/plain": "interactive(children=(IntSlider(value=0, continuous_update=False, description='brain_slice', max=81), Output()…",
      "application/vnd.jupyter.widget-view+json": {
       "version_major": 2,
       "version_minor": 0,
       "model_id": "c8d6ada653e84c96b6c37f83f599ce62"
      }
     },
     "metadata": {}
    }
   ],
   "source": [
    "var_dir = timepoints_dir.copy()\n",
    "for timepoint in timepoints_dir: \n",
    "\n",
    "    current_var = np.var(X[timepoints_dir[timepoint]], axis=0)\n",
    "    var_dir[timepoint] = current_var\n",
    "\n",
    "# specify labels for plot (note the labels below are specifically for RAS orientation)\n",
    "dir_labels = { 'saggital' :   ['P', 'A', 'D', 'V'],\n",
    "               'coronal' :    ['L', 'R', 'D', 'V'],\n",
    "               'horizontal' : ['L', 'R', 'A', 'P']} \n",
    "\n",
    "BV.plot_interactive_panels(np.vstack(var_dir.values()), mri_dims, nolin_mask_vec, figsize=(15, 5), dir_labels=dir_labels, colormap=\"Reds\", step= 1, column_titles=[\"Baseline Variance\", \"Pre-fear Variance\", \"Fear Variance\", \"D9 Variance\"]) "
   ]
  },
  {
   "source": [
    " The variance tends to be highest on the edges of the brain or in small regions inside of the brain. I believe these regions correspond with the regions of high activity seen above in the individual MRIs. The variance seems to be fairly constant across mice. "
   ],
   "cell_type": "markdown",
   "metadata": {}
  },
  {
   "source": [
    "# Coarsening (not used anymore in favor of Gaussian smoothing)\n",
    "\n",
    "My thoughts on the coarsened brains: \n",
    "- It's certainly easier to click through all the slices in the coarsened version \n",
    "- I think that coarsening by a factor of 5 reduces the resolution so much that the images become less useful to look at \n",
    "- Coarsening by a factor of 3 reduces the dimensionality of the data (though it is still very high dimensional data), but the images look much better \n",
    "- At our current analysis stage, the coarsening process itself is by far the most time consuming process we do, so in that respect the coarsening is not too useful (yet)"
   ],
   "cell_type": "markdown",
   "metadata": {}
  },
  {
   "source": [
    "# Correlation between each voxel of brains and Y (percent time spent in the light)\n",
    "\n",
    "\n",
    "For each voxel: \n",
    "- have 20 pairs of values: MRI (fear - pre-fear)  and Y (fear- pre-fear)\n",
    "- want to find correlation for ^ for each voxel \n",
    "- graph back onto the brain "
   ],
   "cell_type": "markdown",
   "metadata": {}
  },
  {
   "cell_type": "code",
   "execution_count": 35,
   "metadata": {},
   "outputs": [],
   "source": [
    "from scipy.stats import pearsonr\n",
    "\n",
    "# For all mouse images, not distinguished by genotype\n",
    "timepoints_dir = fm.timepoint_indices_dir()\n",
    "\n",
    "\n",
    "Y_diffs = Y.PerLight[timepoints_dir[\"Fear\"]].to_numpy() - Y.PerLight[timepoints_dir[\"PreF\"]].to_numpy()\n",
    "\n",
    "X_diffs = X[timepoints_dir[\"Fear\"]] - X[timepoints_dir[\"PreF\"]]\n",
    "\n",
    "corrs_og = np.zeros(X.shape[1])\n",
    "\n",
    "\n",
    "for voxel in range(X.shape[1]): \n",
    "    value = pearsonr(Y_diffs, X_diffs[:, voxel])[0]\n",
    "    if np.isnan(value): \n",
    "        value = 0 \n",
    "    corrs_og[voxel] = value\n",
    "\n",
    "np.save(os.path.join(\"corrs_og.npy\"), corrs_og)\n",
    "#note: when everything is a 0, pearsonr returns a nan correlation value"
   ]
  },
  {
   "cell_type": "code",
   "execution_count": 20,
   "metadata": {},
   "outputs": [],
   "source": [
    "corrs_og = np.load(\"corrs_og.npy\")"
   ]
  },
  {
   "cell_type": "code",
   "execution_count": 19,
   "metadata": {},
   "outputs": [
    {
     "output_type": "display_data",
     "data": {
      "text/plain": "interactive(children=(IntSlider(value=0, continuous_update=False, description='brain_slice', max=123), Output(…",
      "application/vnd.jupyter.widget-view+json": {
       "version_major": 2,
       "version_minor": 0,
       "model_id": "7ddf23c356724bb5995752c87c0bf5fa"
      }
     },
     "metadata": {}
    },
    {
     "output_type": "display_data",
     "data": {
      "text/plain": "interactive(children=(IntSlider(value=0, continuous_update=False, description='brain_slice', max=199), Output(…",
      "application/vnd.jupyter.widget-view+json": {
       "version_major": 2,
       "version_minor": 0,
       "model_id": "95f035cfb8ae40ea99c97251750f7ac2"
      }
     },
     "metadata": {}
    },
    {
     "output_type": "display_data",
     "data": {
      "text/plain": "interactive(children=(IntSlider(value=0, continuous_update=False, description='brain_slice', max=81), Output()…",
      "application/vnd.jupyter.widget-view+json": {
       "version_major": 2,
       "version_minor": 0,
       "model_id": "9d6b4e1e5ca440dca6bc442ab508fb69"
      }
     },
     "metadata": {}
    }
   ],
   "source": [
    "# # specify labels for plot (note the labels below are specifically for RAS orientation)\n",
    "# dir_labels = { 'saggital' :   ['P', 'A', 'D', 'V'],\n",
    "#                'coronal' :    ['L', 'R', 'D', 'V'],\n",
    "#                'horizontal' : ['L', 'R', 'A', 'P']} \n",
    "\n",
    "# BV.plot_interactive_panels(corrs_og, mri_dims,nolin_mask_vec, figsize=(12, 5), dir_labels=dir_labels, std_scale='corr', column_titles=[\"Correlations for Coarsened Brain\"], step=1)"
   ]
  },
  {
   "cell_type": "code",
   "execution_count": 36,
   "metadata": {},
   "outputs": [],
   "source": [
    "indices_dir = fm.geno_time_indices_dir(X, Y)"
   ]
  },
  {
   "cell_type": "code",
   "execution_count": 37,
   "metadata": {},
   "outputs": [],
   "source": [
    "\n",
    "# KO correlations\n",
    "# Fear - pre-fear behavior\n",
    "\n",
    "Y_KO_diffs = Y.PerLight[(Y.Timepoint==\"Fear\") & (Y.Genotype==\"KO\")].to_numpy() - Y.PerLight[(Y.Timepoint==\"PreF\") & (Y.Genotype==\"KO\")].to_numpy()\n",
    "\n",
    "X_KO_diffs = X[indices_dir['Fear_KO']] - X[indices_dir['PreF_KO']]\n",
    "\n",
    "corrs_KO = np.zeros(X.shape[1])\n",
    "\n",
    "for voxel in range(X.shape[1]): \n",
    "    value = pearsonr(Y_KO_diffs, X_KO_diffs[:, voxel])[0]\n",
    "    if np.isnan(value): \n",
    "        value = 0 \n",
    "    corrs_KO[voxel] = value\n",
    "\n",
    "np.save(os.path.join(\"corrs_KO.npy\"), corrs_KO)\n",
    "\n",
    "# WT correlations\n",
    "#Fear - pre-fear behavior\n",
    "Y_WT_diffs = Y.PerLight[(Y.Timepoint==\"Fear\") & (Y.Genotype==\"WT\")].to_numpy() - Y.PerLight[(Y.Timepoint==\"PreF\") & (Y.Genotype==\"WT\")].to_numpy()\n",
    "\n",
    "X_WT_diffs = X[indices_dir['Fear_WT']] - X[indices_dir['PreF_WT']]\n",
    "\n",
    "corrs_WT = np.zeros(X.shape[1])\n",
    "\n",
    "for voxel in range(X.shape[1]): \n",
    "    value = pearsonr(Y_WT_diffs, X_WT_diffs[:, voxel])[0]\n",
    "    if np.isnan(value): \n",
    "        value = 0 \n",
    "    corrs_WT[voxel] = value\n",
    "\n",
    "np.save(os.path.join(\"corrs_WT.npy\"), corrs_WT)\n",
    "#note: when everything is a 0, pearsonr returns a nan correlation value"
   ]
  },
  {
   "cell_type": "code",
   "execution_count": 40,
   "metadata": {},
   "outputs": [
    {
     "output_type": "display_data",
     "data": {
      "text/plain": "interactive(children=(IntSlider(value=0, continuous_update=False, description='brain_slice', max=123), Output(…",
      "application/vnd.jupyter.widget-view+json": {
       "version_major": 2,
       "version_minor": 0,
       "model_id": "e967e0e51cae42a89df1e4c3b01d8edc"
      }
     },
     "metadata": {}
    },
    {
     "output_type": "display_data",
     "data": {
      "text/plain": "interactive(children=(IntSlider(value=0, continuous_update=False, description='brain_slice', max=199), Output(…",
      "application/vnd.jupyter.widget-view+json": {
       "version_major": 2,
       "version_minor": 0,
       "model_id": "c4e72758015045ee93dd7a034ac95d0c"
      }
     },
     "metadata": {}
    },
    {
     "output_type": "display_data",
     "data": {
      "text/plain": "interactive(children=(IntSlider(value=0, continuous_update=False, description='brain_slice', max=81), Output()…",
      "application/vnd.jupyter.widget-view+json": {
       "version_major": 2,
       "version_minor": 0,
       "model_id": "09d0913f670b4b3ab33c1c25794c0216"
      }
     },
     "metadata": {}
    }
   ],
   "source": [
    "# specify labels for plot (note the labels below are specifically for RAS orientation)\n",
    "dir_labels = { 'saggital' :   ['P', 'A', 'D', 'V'],\n",
    "               'coronal' :    ['L', 'R', 'D', 'V'],\n",
    "               'horizontal' : ['L', 'R', 'A', 'P']} \n",
    "\n",
    "BV.plot_interactive_panels(np.vstack((corrs_WT, corrs_KO)), mri_dims,nolin_mask_vec, figsize=(12, 5), dir_labels=dir_labels, std_scale='corr', column_titles=[\"Correlations for WT Mice\", \"Correlations for KO Mice\"], step=1)"
   ]
  },
  {
   "cell_type": "code",
   "execution_count": 41,
   "metadata": {},
   "outputs": [
    {
     "output_type": "display_data",
     "data": {
      "text/plain": "interactive(children=(IntSlider(value=0, continuous_update=False, description='brain_slice', max=123), Output(…",
      "application/vnd.jupyter.widget-view+json": {
       "version_major": 2,
       "version_minor": 0,
       "model_id": "3bc21c07dc374345a0a237158ba17a45"
      }
     },
     "metadata": {}
    },
    {
     "output_type": "display_data",
     "data": {
      "text/plain": "interactive(children=(IntSlider(value=0, continuous_update=False, description='brain_slice', max=199), Output(…",
      "application/vnd.jupyter.widget-view+json": {
       "version_major": 2,
       "version_minor": 0,
       "model_id": "a7967dd836f043488a2add42f9bfc4f5"
      }
     },
     "metadata": {}
    },
    {
     "output_type": "display_data",
     "data": {
      "text/plain": "interactive(children=(IntSlider(value=0, continuous_update=False, description='brain_slice', max=81), Output()…",
      "application/vnd.jupyter.widget-view+json": {
       "version_major": 2,
       "version_minor": 0,
       "model_id": "cf2fec9fa8c84349b3d291cf93cee3cb"
      }
     },
     "metadata": {}
    }
   ],
   "source": [
    "BV.plot_interactive_panels(np.vstack((corrs_og, corrs_WT, corrs_KO)), mri_dims,nolin_mask_vec, figsize=(12, 5), dir_labels=dir_labels, std_scale='corr', column_titles=[\"Correlations for all mice\", \"Correlations for WT Mice\", \"Correlations for KO Mice\"], step=1)"
   ]
  },
  {
   "source": [
    "# Kendall Correlations "
   ],
   "cell_type": "markdown",
   "metadata": {}
  },
  {
   "cell_type": "code",
   "execution_count": 39,
   "metadata": {},
   "outputs": [],
   "source": [
    "# For all mouse images, not distinguished by genotype\n",
    "baseline_indices = Y[Y[\"Timepoint\"]==\"BL\"].index.tolist()\n",
    "prefear_indices = Y[Y[\"Timepoint\"]==\"PreF\"].index.tolist()\n",
    "postfear_indices = Y[Y[\"Timepoint\"]==\"Fear\"].index.tolist()\n",
    "d9_indices = Y[Y[\"Timepoint\"]==\"D9\"].index.tolist() \n",
    "timepoints_dir = {'BL' : baseline_indices, 'PreF': prefear_indices, \"Fear\": postfear_indices, 'D9': d9_indices}\n",
    "\n",
    "\n",
    "Y_diffs = Y.PerLight[timepoints_dir[\"Fear\"]].to_numpy() - Y.PerLight[timepoints_dir[\"PreF\"]].to_numpy()\n",
    "\n",
    "X_diffs = X[timepoints_dir[\"Fear\"]] - X[timepoints_dir[\"PreF\"]]\n",
    "\n",
    "corrs_og = np.zeros(X.shape[1])\n",
    "\n",
    "\n",
    "for voxel in range(X.shape[1]): \n",
    "    value = kendalltau(Y_diffs, X_diffs[:, voxel])[0]\n",
    "    if np.isnan(value): \n",
    "        value = 0 \n",
    "    corrs_og[voxel] = value\n",
    "\n",
    "np.save(os.path.join(\"kcorrs_og.npy\"), corrs_og)\n",
    "\n",
    "\n",
    "\n",
    "# KO correlations\n",
    "# Fear - pre-fear behavior\n",
    "\n",
    "Y_KO_diffs = Y.PerLight[(Y.Timepoint==\"Fear\") & (Y.Genotype==\"KO\")].to_numpy() - Y.PerLight[(Y.Timepoint==\"PreF\") & (Y.Genotype==\"KO\")].to_numpy()\n",
    "\n",
    "X_KO_diffs = X[indices_dir['Fear_KO']] - X[indices_dir['PreF_KO']]\n",
    "\n",
    "corrs_KO = np.zeros(X.shape[1])\n",
    "\n",
    "for voxel in range(X.shape[1]): \n",
    "    value = kendalltau(Y_KO_diffs, X_KO_diffs[:, voxel])[0]\n",
    "    if np.isnan(value): \n",
    "        value = 0 \n",
    "    corrs_KO[voxel] = value\n",
    "\n",
    "np.save(os.path.join(\"kcorrs_KO.npy\"), corrs_KO)\n",
    "\n",
    "# WT correlations\n",
    "#Fear - pre-fear behavior\n",
    "Y_WT_diffs = Y.PerLight[(Y.Timepoint==\"Fear\") & (Y.Genotype==\"WT\")].to_numpy() - Y.PerLight[(Y.Timepoint==\"PreF\") & (Y.Genotype==\"WT\")].to_numpy()\n",
    "\n",
    "X_WT_diffs = X[indices_dir['Fear_WT']] - X[indices_dir['PreF_WT']]\n",
    "\n",
    "corrs_WT = np.zeros(X.shape[1])\n",
    "\n",
    "for voxel in range(X.shape[1]): \n",
    "    value = kendalltau(Y_WT_diffs, X_WT_diffs[:, voxel])[0]\n",
    "    if np.isnan(value): \n",
    "        value = 0 \n",
    "    corrs_WT[voxel] = value\n",
    "\n",
    "np.save(os.path.join(\"kcorrs_WT.npy\"), corrs_WT)\n",
    "#note: when everything is a 0, pearsonr returns a nan correlation value"
   ]
  },
  {
   "source": [
    "########## Extra stuff \n",
    "\n",
    "\n",
    "\n",
    "## Mean and Variance side-by-side\n",
    "\n",
    "# display heatmaps \n",
    "# BV.plot_interactive_panels(np.vstack((HM_list[0], var_dir['BL'], HM_list[1], var_dir['PreF'])), mri_dims, nolin_mask_vec, figsize=(17, 3), dir_labels=dir_labels, column_titles=[\"BL Mean\", \"BL variance\", \"Pre-fear Mean\", \"Pre-fear Var\"])\n",
    "\n",
    "\n",
    "\n",
    "\n",
    "\n",
    "## Heatmap of the WT vs KO mice\n",
    "\n",
    "\n",
    "# WT_indices = Y[Y[\"Genotype\"]==\"WT\"].index.tolist()\n",
    "# KO_indices = Y.dropna(how='any', axis=0)[Y[\"Genotype\"]==\"KO\"].index.tolist() #remove last value bc it doesn't have an associated MRI \n",
    "\n",
    "# # create wild type heatmap \n",
    "# heatmap_WT = np.zeros(np.prod(mri_dims))\n",
    "# n = X[WT_indices].shape[0]\n",
    "# for brain in tqdm(X[WT_indices]):\n",
    "#     heatmap_WT += brain\n",
    "# np.divide(heatmap_WT, n)\n",
    "# np.save(os.path.join('heatmap_WT.npy'), heatmap)\n",
    "\n",
    "\n",
    "# # create KO heatmap \n",
    "# heatmap_KO = np.zeros(np.prod(mri_dims))\n",
    "# n = X[KO_indices].shape[0]\n",
    "# for brain in tqdm(X[KO_indices]):\n",
    "#     heatmap_KO += brain\n",
    "# np.divide(heatmap_KO, n) \n",
    "# np.save(os.path.join('heatmap_KO.npy'), heatmap)\n",
    "\n",
    "\n",
    "# heatmap_WT = np.load(os.path.join('heatmap_WT.npy'))\n",
    "# heatmap_KO = np.load(os.path.join('heatmap_KO.npy'))\n",
    "\n",
    "# BV.plot_interactive_panels(np.vstack((heatmap_WT, heatmap_KO)), mri_dims, nolin_mask_vec, figsize=(10, 5), dir_labels=dir_labels, column_titles=[\"Wild-type\", \"Knockout\"], step=1)"
   ],
   "cell_type": "code",
   "metadata": {},
   "execution_count": null,
   "outputs": []
  },
  {
   "cell_type": "code",
   "execution_count": 189,
   "metadata": {},
   "outputs": [],
   "source": [
    "# save correlations as nii image \n",
    "corrs = np.load('correlations.npy')\n",
    "\n",
    "corrs = BU.unflatten(corrs, (42, 67, 28))\n",
    "nii_corrs = nib.Nifti1Image(corrs, nib_loaded_img.affine)\n",
    "\n",
    "nib.save(nii_corrs, os.path.join('PTSDMice_coarsenedCorrelations.nii'))"
   ]
  },
  {
   "cell_type": "code",
   "execution_count": 190,
   "metadata": {},
   "outputs": [
    {
     "output_type": "execute_result",
     "data": {
      "text/plain": [
       "<nibabel.nifti1.Nifti1Image at 0x2139b2be1c8>"
      ]
     },
     "metadata": {},
     "execution_count": 190
    }
   ],
   "source": [
    "img = nib.load('PTSDMice_coarsenedCorrelations.nii')\n",
    "img.aff2ax"
   ]
  },
  {
   "cell_type": "code",
   "execution_count": null,
   "metadata": {},
   "outputs": [],
   "source": []
  }
 ]
}