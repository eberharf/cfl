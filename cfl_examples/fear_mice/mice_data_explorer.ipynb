{
 "cells": [
  {
   "cell_type": "markdown",
   "metadata": {},
   "source": [
    "# PTSD Mouse Data \n",
    "\n",
    "The total data consist of two data sets, measuring responses from 20 different mice at 4 timepoints each: Baseline, Pre-fear exposure, immediately after the Fear exposure, and 9 days later (D9). 10 of these mice are seratonin transporter knockouts (KO) and 10 are wildtype (WT). \n",
    "\n",
    "The data are: \n",
    "- 79 MRIs. The pre-fear, fear, and D9 images are MN(II) enhanced MRIs (MEMRI). The MEMRI images are used to measure neuronal functioning - (when neurons are active, their uptake of MN(II) is increased?). The baseline images, which are regular fMRI, are \n",
    "- 79 measurements of percent time spent in the light by the mice. \n",
    "\n",
    "In both data sets, the KO_04_D9 datapoint is missing (hence 79 instead of 80). "
   ]
  },
  {
   "cell_type": "code",
   "execution_count": 2,
   "metadata": {},
   "outputs": [],
   "source": [
    "# Import needed packages for analysis\n",
    "import os\n",
    "\n",
    "import numpy as np\n",
    "import pandas as pd\n",
    "from tqdm import tqdm\n",
    "import matplotlib.pyplot as plt\n",
    "import nibabel as nib\n",
    "from scipy.stats import pearsonr\n",
    "from scipy.stats import kendalltau\n",
    "\n",
    "\n",
    "import cfl.util.brain_util as BU\n",
    "import cfl.util.brain_vis as BV\n",
    "import cfl.util.fear_mice_functions as fm \n",
    "\n",
    "mri_dir, mri_dims, affine, dir_labels = fm.get_global_values()\n",
    "\n",
    "# load response data \n",
    "Y = pd.read_pickle('Y.pkl')"
   ]
  },
  {
   "cell_type": "markdown",
   "metadata": {},
   "source": [
    "# MRI Data \n",
    "Some facts about the data: \n",
    "- the dimensions of the brain box in each image are (124, 200, 82) (2,033,600 voxels total)\n",
    "- the images are originally in RPS orientation. We flip them to RAS orientation because then they have the same alignment as some other MRIs we've been looking at "
   ]
  },
  {
   "cell_type": "code",
   "execution_count": 3,
   "metadata": {},
   "outputs": [],
   "source": [
    "behav_csv = 'PTSD_Data_Share\\Behavior_data\\PTSD_PerLight.csv'\n",
    "mri_dir = 'PTSD_Data_Share\\MEMRI_data'"
   ]
  },
  {
   "cell_type": "code",
   "execution_count": 4,
   "metadata": {},
   "outputs": [
    {
     "output_type": "stream",
     "name": "stdout",
     "text": [
      "('R', 'P', 'S')\n(124, 200, 82)\n"
     ]
    }
   ],
   "source": [
    "# The images start out in RPS orientation\n",
    "nib_loaded_img = nib.load(os.path.join(mri_dir, \"PTSD_KO_03_BL.nii\"))\n",
    "print(nib.orientations.aff2axcodes(nib_loaded_img.affine))\n",
    "\n",
    "# load one image to check out its dimensions\n",
    "img = BU.load_brain(os.path.join(mri_dir, \"PTSD_KO_03_BL.nii\"), ori='RPS')\n",
    "mri_dims = img.shape\n",
    "print(mri_dims)"
   ]
  },
  {
   "cell_type": "code",
   "execution_count": 5,
   "metadata": {},
   "outputs": [],
   "source": [
    "# load all the images in RPS orientation \n",
    "X, Y_unused = BU.load_data(mri_dir, behav_csv, mri_dims, ori='RPS')"
   ]
  },
  {
   "cell_type": "code",
   "execution_count": 6,
   "metadata": {},
   "outputs": [],
   "source": [
    "#check all images are the same shape \n",
    "for fp in os.listdir(mri_dir):\n",
    "    full_path = os.path.join(mri_dir, fp)\n",
    "    brain = BU.load_brain(full_path)\n",
    "    assert brain.shape ==  mri_dims\n",
    "    #print(brain.shape)"
   ]
  },
  {
   "cell_type": "markdown",
   "metadata": {},
   "source": [
    "# Load Masks\n",
    "We were given two masks to fit the the MRIs, a linearly aligned- and non-linearly aligned mask. These masks tell which voxels in the image are part of the brain vs which are empty space. \n",
    "\n",
    "The difference between the non-linear and linear mask (from an email from Taylor): \"The non-linearly aligned mask is better aligned to the data, however the non-linear \"warping\" creates artifacts near the surface of the brain that may result in grabbing more undesired non-brain voxels when masking. The linearly aligned mask may not align to the surface of the brain as well and may miss or cut out brain tissue, but may not grab as many non-brain voxels. \n",
    "\n",
    "The non-linear mask leaves 531,632 voxels and the linear mask 482,793 voxels unmasked. "
   ]
  },
  {
   "cell_type": "code",
   "execution_count": 7,
   "metadata": {},
   "outputs": [],
   "source": [
    "# load the non-linear mask template\n",
    "nl_mask_path = os.path.join('PTSD_Data_Share/templates\\MuseTemplate_nonlinear_mask.nii')\n",
    "nl_mask = BU.load_brain(nl_mask_path, ori='RPS')\n",
    "nolin_mask_vec = BU.flatten(nl_mask)\n",
    "\n",
    "# load the linear mask template\n",
    "l_mask_path = os.path.join('PTSD_Data_Share/templates\\MuseTemplate_linear_mask.nii')\n",
    "l_mask = BU.load_brain(l_mask_path, ori='RPS')\n",
    "lin_mask_vec = BU.flatten(l_mask)"
   ]
  },
  {
   "cell_type": "code",
   "execution_count": 8,
   "metadata": {},
   "outputs": [
    {
     "output_type": "stream",
     "name": "stdout",
     "text": [
      "[0. 1.]\n[0. 1.]\n"
     ]
    }
   ],
   "source": [
    "# both masks are binary arrays, containing 1s where there is brain and 0s where there is not \n",
    "print(np.unique(nl_mask))\n",
    "print(np.unique(l_mask))"
   ]
  },
  {
   "cell_type": "code",
   "execution_count": 9,
   "metadata": {},
   "outputs": [
    {
     "output_type": "stream",
     "name": "stdout",
     "text": [
      "True\nTrue\n"
     ]
    }
   ],
   "source": [
    "print(nl_mask.shape == mri_dims) #non-linear mask has same dims as other MRI images\n",
    "print(l_mask.shape == mri_dims) #linear mask has same dims as other MRI images"
   ]
  },
  {
   "cell_type": "code",
   "execution_count": 10,
   "metadata": {},
   "outputs": [
    {
     "output_type": "stream",
     "name": "stdout",
     "text": [
      "Non-linear mask:  531632\nLinear mask:  482793\n"
     ]
    }
   ],
   "source": [
    "# how many voxels are unmasked? \n",
    "print(\"Non-linear mask: \", np.sum(nolin_mask_vec==1))\n",
    "print(\"Linear mask: \", np.sum(lin_mask_vec==1))"
   ]
  },
  {
   "cell_type": "markdown",
   "metadata": {},
   "source": [
    "\n",
    "When we visualize the two masks side-by-side on an MRI below, we indeed see that the non-linear mask has a bumpier edge, with more little islands of disconnected MRI image, while the linear mask has a smoother edge but cuts off some brain tissue. For now, we are using only the non-linearly aligned mask."
   ]
  },
  {
   "cell_type": "code",
   "execution_count": 21,
   "metadata": {},
   "outputs": [
    {
     "output_type": "display_data",
     "data": {
      "text/plain": "interactive(children=(IntSlider(value=0, continuous_update=False, description='brain_slice', max=123), Output(…",
      "application/vnd.jupyter.widget-view+json": {
       "version_major": 2,
       "version_minor": 0,
       "model_id": "4481876f208141e58deca19f2e7f2511"
      }
     },
     "metadata": {}
    },
    {
     "output_type": "display_data",
     "data": {
      "text/plain": "interactive(children=(IntSlider(value=0, continuous_update=False, description='brain_slice', max=199), Output(…",
      "application/vnd.jupyter.widget-view+json": {
       "version_major": 2,
       "version_minor": 0,
       "model_id": "b05af7833d29488a932ca5da20b7e9a9"
      }
     },
     "metadata": {}
    },
    {
     "output_type": "display_data",
     "data": {
      "text/plain": "interactive(children=(IntSlider(value=0, continuous_update=False, description='brain_slice', max=81), Output()…",
      "application/vnd.jupyter.widget-view+json": {
       "version_major": 2,
       "version_minor": 0,
       "model_id": "93d9b39305714278b94364ab3f00dee8"
      }
     },
     "metadata": {}
    }
   ],
   "source": [
    "# create a copy of one image with each mask already applied\n",
    "nl_masked_brain = X[0].copy()\n",
    "nl_masked_brain[BU.flatten(nl_mask)==0] = np.nan\n",
    "\n",
    "l_masked_brain = X[0].copy()\n",
    "l_masked_brain[BU.flatten(l_mask)==0] = np.nan\n",
    "\n",
    "# generate interactive plots\n",
    "BV.plot_interactive_panels(np.vstack((nl_masked_brain, l_masked_brain)), mri_dims, nolin_mask_vec, figsize=(12, 3), std_scale='std', dir_labels=dir_labels, column_titles=[\"Non-linear Mask\", \"Linear Mask\"])\n"
   ]
  },
  {
   "cell_type": "markdown",
   "metadata": {},
   "source": [
    "# Click through a bunch of the mice \n",
    "\n",
    "The below images compare, side-by-side, MRIs from multiple mice from the same timepoint. Since the first 5 brains in the list were selected, these are all MRIs from KO mice. "
   ]
  },
  {
   "cell_type": "code",
   "execution_count": 12,
   "metadata": {},
   "outputs": [],
   "source": [
    "timepoints_dir = fm.timepoint_indices_dir(Y)\n",
    "\n",
    "# # Show first 5 baseline images \n",
    "# BV.plot_interactive_panels(X[timepoints_dir[\"BL\"][:5]], mri_dims, nolin_mask_vec, figsize=(15, 5), colormap=\"seismic\", dir_labels=dir_labels, column_titles=[\"Mouse 1\", \"Mouse 2\", \"Mouse 3\", \"Mouse 4\", \"Mouse 5\"])"
   ]
  },
  {
   "cell_type": "markdown",
   "metadata": {},
   "source": [
    "Some observations: \n",
    "Top (Saggital) Image \n",
    "- around slices 32-39, pieces of brain appear and disappear irregularly\n",
    "- slice 39-40: lot more white in second image than others (and again around 85-89)\n",
    "- 62 - dot of high activation, high for all except fourth\n",
    "\n",
    "Middle (Coronal) Image \n",
    "- 20-40: noticeable difference in brightness of images (esp bt 1st and 3rd)\n",
    "- higher brightness in 2 noticeable at 52-54\n",
    "\n",
    "Botton (Horizontal) Image \n",
    "- the lower brightness of 4th brain is again visible (note high activation regions at slices ~16-36) \n",
    "- higher brightness of 2nd brain visible around slice ~46 \n",
    "\n",
    "\n",
    "Do the white dots of high activity (ie those in observations above, also coronal slice 64) have a known meaning? "
   ]
  },
  {
   "cell_type": "code",
   "execution_count": 13,
   "metadata": {},
   "outputs": [],
   "source": [
    "# # Show first 5 prefear images \n",
    "# BV.plot_interactive_panels(X[timepoints_dir[\"PreF\"][:5]], mri_dims, nolin_mask_vec, figsize=(15, 5), colormap=\"seismic\", dir_labels=dir_labels, step=1)"
   ]
  },
  {
   "cell_type": "markdown",
   "metadata": {},
   "source": [
    "3rd brain brightest, then 4th brain, least bright is 1st\n",
    "\n",
    "Top (Saggital) Image \n",
    "- 39-40: bright spots (same as in baseline images)\n",
    "\n",
    "\n",
    "Coronal \n",
    "- around slice 30-44: the circles in the brain kind of appear differently in different images - the brains may not be perfectly aligned ? \n",
    "- 54: bright spot \n",
    "- 68: bright spots \n",
    "- 80: really bright spots \n",
    "- 124: really bright spots\n",
    "\n",
    "\n",
    "Horizontal\n",
    "- lots of artifacts visible at beginning\n",
    "- 17: really bright spots (brainstem connection to brain?)\n",
    "- some interesting structures toward the end \n",
    "\n",
    "\n",
    "- which images are generally brightest/darkest vary between images"
   ]
  },
  {
   "cell_type": "code",
   "execution_count": 14,
   "metadata": {},
   "outputs": [],
   "source": [
    "# # Show first 5 fear images \n",
    "# BV.plot_interactive_panels(X[timepoints_dir[\"Fear\"][:5]], mri_dims, nolin_mask_vec, figsize=(15, 5), colormap=\"seismic\", dir_labels=dir_labels, step=1)"
   ]
  },
  {
   "cell_type": "markdown",
   "metadata": {},
   "source": [
    "Saggital image \n",
    "- 39: bright spot\n",
    "- 54: tiny bright spot at the bottom of the brain \n",
    "- 62, 63, 64: abrupt shifts in where the bright/dark patterns are (this is present in the earlier images too but it's clearer in these)\n",
    "\n",
    "Coronal \n",
    "- 30+ : the circles that seemed somewhat misaligned in the pre-fear images are not so in this set \n",
    "- 71: really bright spots \n",
    "- 77: really bright spots \n",
    "\n",
    "\n",
    "Horistonal \n",
    "- 16 bright spots \n",
    "- 56: on 2nd and 5th brains, the bright teardrop-shaped spots look a little asymetrical (left larger than right)\n",
    "\n",
    "\n",
    "\n",
    "- All of these brains look generally consistent in brightness\n",
    "\n",
    "\n",
    "These images generally look brighter, but I think that's just because the brightest brightest activation for this set of images (>25000) is lower than for BL or Pre-F (>30000)"
   ]
  },
  {
   "cell_type": "code",
   "execution_count": 15,
   "metadata": {},
   "outputs": [],
   "source": [
    "# # Show first 5 D9 images \n",
    "# BV.plot_interactive_panels(X[timepoints_dir[\"D9\"][:5]], mri_dims, nolin_mask_vec, figsize=(15, 5), colormap=\"seismic\", dir_labels=dir_labels, step=1)"
   ]
  },
  {
   "cell_type": "markdown",
   "metadata": {},
   "source": [
    "# Baseline Adjustment\n",
    "\n",
    "In this section, images with the baseline MRI subtracted off are shown. "
   ]
  },
  {
   "cell_type": "markdown",
   "metadata": {},
   "source": [
    "## Baseline-adjusted Images for an individual mouse \n",
    "\n"
   ]
  },
  {
   "cell_type": "code",
   "execution_count": 22,
   "metadata": {},
   "outputs": [
    {
     "output_type": "display_data",
     "data": {
      "text/plain": "interactive(children=(IntSlider(value=0, continuous_update=False, description='brain_slice', max=123), Output(…",
      "application/vnd.jupyter.widget-view+json": {
       "version_major": 2,
       "version_minor": 0,
       "model_id": "3315d81bb9fa4b22a565ac5f6a239093"
      }
     },
     "metadata": {}
    },
    {
     "output_type": "display_data",
     "data": {
      "text/plain": "interactive(children=(IntSlider(value=0, continuous_update=False, description='brain_slice', max=199), Output(…",
      "application/vnd.jupyter.widget-view+json": {
       "version_major": 2,
       "version_minor": 0,
       "model_id": "f864f78e8a084d82936e36d4820fac9e"
      }
     },
     "metadata": {}
    },
    {
     "output_type": "display_data",
     "data": {
      "text/plain": "interactive(children=(IntSlider(value=0, continuous_update=False, description='brain_slice', max=81), Output()…",
      "application/vnd.jupyter.widget-view+json": {
       "version_major": 2,
       "version_minor": 0,
       "model_id": "a7d3ba0ad89048d5863547e9f17371ad"
      }
     },
     "metadata": {}
    }
   ],
   "source": [
    "# plot to show the baseline-adjusted images for an individual mouse \n",
    "mouse_id = 7\n",
    "\n",
    "# get image for that mouse at baseline \n",
    "baseline_index = Y.loc[(Y.ID==mouse_id) & (Y.Timepoint==\"BL\")].index[0]\n",
    "baseline_image = X[baseline_index]\n",
    "\n",
    "# get other origianl images for mouse\n",
    "prefear_index = Y.loc[(Y.ID==mouse_id) & (Y.Timepoint==\"PreF\")].index[0]\n",
    "postfear_index = Y.loc[(Y.ID==mouse_id) & (Y.Timepoint==\"Fear\")].index[0]\n",
    "d9_index = Y.loc[(Y.ID==mouse_id) & (Y.Timepoint==\"D9\")].index[0]\n",
    "\n",
    "#examine a single baseline adjusted image (individual images)\n",
    "all_ims = np.zeros((3, np.prod(mri_dims)))\n",
    "for i, timepoint in enumerate([\"PreF\", \"Fear\", \"D9\"]): \n",
    "    adj_im = fm.remove_baseline(X, Y, mouse_id, timepoint)\n",
    "    adj_im = BU.flatten(adj_im)\n",
    "    all_ims[i] += adj_im\n",
    "\n",
    "# BV.plot_interactive_panels(np.vstack((baseline_image,  X[prefear_index], all_ims[0],  X[postfear_index], all_ims[1])), mri_dims, nolin_mask_vec, figsize=(17, 5), dir_labels=dir_labels, column_titles=[\"Baseline\", \"Pre-fear\", \"Adj Pre-fear\", \"Fear\", \"Adj Fear\"])\n"
   ]
  },
  {
   "cell_type": "code",
   "execution_count": 17,
   "metadata": {},
   "outputs": [],
   "source": [
    "# BV.plot_interactive_panels(np.vstack((baseline_image, X[d9_index], all_ims[2])), mri_dims, nolin_mask_vec, figsize=(12, 5), dir_labels=dir_labels, column_titles=[\"Baseline\", \"D9\", \"Adj D9\"])\n"
   ]
  },
  {
   "cell_type": "markdown",
   "metadata": {},
   "source": [
    "## Heatmap of each timepoint, adjusted by baseline intensity \n",
    "\n",
    "Heatmap = mean value for each timepoint across all MRIs "
   ]
  },
  {
   "cell_type": "code",
   "execution_count": 18,
   "metadata": {},
   "outputs": [],
   "source": [
    "HM_dir = {'PreF': np.zeros(np.prod(mri_dims)), \"Fear\": np.zeros(np.prod(mri_dims)), 'D9': np.zeros(np.prod(mri_dims))}\n",
    "all_mouse_indices = pd.unique(Y[\"ID\"])\n",
    "\n",
    "\n",
    "for timepoint in HM_dir:\n",
    "    # for each mouse....\n",
    "    for mouse_id in all_mouse_indices:\n",
    "        # get the image associated with that timepoint, subtract off the baseline\n",
    "        if mouse_id != 1 or timepoint != 'D9': #don't do this for the missing value\n",
    "            adjusted_mri = fm.remove_baseline(X, Y, mouse_id, timepoint)\n",
    "            # add the result to the correct heatmap entry \n",
    "            HM_dir[timepoint] += BU.flatten(adjusted_mri)\n",
    "    # divide to get the average \n",
    "    n = len(timepoints_dir[timepoint])\n",
    "    np.divide(HM_dir[timepoint], n) "
   ]
  },
  {
   "cell_type": "code",
   "execution_count": 19,
   "metadata": {},
   "outputs": [
    {
     "output_type": "display_data",
     "data": {
      "text/plain": "interactive(children=(IntSlider(value=0, continuous_update=False, description='brain_slice', max=123), Output(…",
      "application/vnd.jupyter.widget-view+json": {
       "version_major": 2,
       "version_minor": 0,
       "model_id": "6639437b86584d1086b5b9c4e0f3b764"
      }
     },
     "metadata": {}
    },
    {
     "output_type": "display_data",
     "data": {
      "text/plain": "interactive(children=(IntSlider(value=0, continuous_update=False, description='brain_slice', max=199), Output(…",
      "application/vnd.jupyter.widget-view+json": {
       "version_major": 2,
       "version_minor": 0,
       "model_id": "c2f91d3e74944788b6bd3576dd389aa8"
      }
     },
     "metadata": {}
    },
    {
     "output_type": "display_data",
     "data": {
      "text/plain": "interactive(children=(IntSlider(value=0, continuous_update=False, description='brain_slice', max=81), Output()…",
      "application/vnd.jupyter.widget-view+json": {
       "version_major": 2,
       "version_minor": 0,
       "model_id": "013ec08b46e94209a16ea21dff081524"
      }
     },
     "metadata": {}
    }
   ],
   "source": [
    "BV.plot_interactive_panels(np.vstack(list(HM_dir.values())), mri_dims, nolin_mask_vec, figsize=(12, 3), dir_labels=dir_labels, column_titles=list(HM_dir.keys()))\n"
   ]
  }
 ],
 "metadata": {
  "kernelspec": {
   "display_name": "cfl-env",
   "language": "python",
   "name": "cfl-env"
  },
  "language_info": {
   "codemirror_mode": {
    "name": "ipython",
    "version": 3
   },
   "file_extension": ".py",
   "mimetype": "text/x-python",
   "name": "python",
   "nbconvert_exporter": "python",
   "pygments_lexer": "ipython3",
   "version": "3.8.5-final"
  }
 },
 "nbformat": 4,
 "nbformat_minor": 4
}