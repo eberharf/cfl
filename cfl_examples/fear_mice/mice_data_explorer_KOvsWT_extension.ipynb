{
 "metadata": {
  "language_info": {
   "codemirror_mode": {
    "name": "ipython",
    "version": 3
   },
   "file_extension": ".py",
   "mimetype": "text/x-python",
   "name": "python",
   "nbconvert_exporter": "python",
   "pygments_lexer": "ipython3",
   "version": "3.7.7-final"
  },
  "orig_nbformat": 2,
  "kernelspec": {
   "name": "python3",
   "display_name": "Python 3.7.7 64-bit ('cfl': conda)",
   "metadata": {
    "interpreter": {
     "hash": "ea50db4133b457ed310f46829128a01e24dcdc0c51cf4b9d361731348e8b8671"
    }
   }
  }
 },
 "nbformat": 4,
 "nbformat_minor": 2,
 "cells": [
  {
   "source": [
    "# PTSD Mouse Data \n",
    "\n",
    "The total data consist of two data sets, measuring responses from 20 different mice at 4 timepoints each: Baseline, Pre-fear exposure, immediately after the Fear exposure, and 9 days later (D9). 10 of these mice are seratonin transporter knockouts (KO) and 10 are wildtype (WT). \n",
    "\n",
    "The data are: \n",
    "- 79 MRIs. The pre-fear, fear, and D9 images are MN(II) enhanced MRIs (MEMRI). The MEMRI images are used to measure neuronal functioning - (when neurons are active, their uptake of MN(II) is increased?). The baseline images, which are regular fMRI, are \n",
    "- 79 measurements of percent time spent in the light by the mice. \n",
    "\n",
    "In both data sets, the KO_04_D9 datapoint is missing (hence 79 instead of 80). "
   ],
   "cell_type": "markdown",
   "metadata": {}
  },
  {
   "cell_type": "code",
   "execution_count": 16,
   "metadata": {},
   "outputs": [
    {
     "output_type": "error",
     "ename": "ModuleNotFoundError",
     "evalue": "No module named 'cfl_examples.lesion_mapping'",
     "traceback": [
      "\u001b[1;31m---------------------------------------------------------------------------\u001b[0m",
      "\u001b[1;31mModuleNotFoundError\u001b[0m                       Traceback (most recent call last)",
      "\u001b[1;32m<ipython-input-16-089125960cf5>\u001b[0m in \u001b[0;36m<module>\u001b[1;34m\u001b[0m\n\u001b[0;32m      7\u001b[0m \u001b[1;32mimport\u001b[0m \u001b[0mnibabel\u001b[0m \u001b[1;32mas\u001b[0m \u001b[0mnib\u001b[0m\u001b[1;33m\u001b[0m\u001b[1;33m\u001b[0m\u001b[0m\n\u001b[0;32m      8\u001b[0m \u001b[1;33m\u001b[0m\u001b[0m\n\u001b[1;32m----> 9\u001b[1;33m \u001b[1;32mimport\u001b[0m \u001b[0mcfl_examples\u001b[0m\u001b[1;33m.\u001b[0m\u001b[0mlesion_mapping\u001b[0m\u001b[1;33m.\u001b[0m\u001b[0mbrain_util\u001b[0m \u001b[1;32mas\u001b[0m \u001b[0mBU\u001b[0m\u001b[1;33m\u001b[0m\u001b[1;33m\u001b[0m\u001b[0m\n\u001b[0m\u001b[0;32m     10\u001b[0m \u001b[1;32mimport\u001b[0m \u001b[0mcfl_examples\u001b[0m\u001b[1;33m.\u001b[0m\u001b[0mlesion_mapping\u001b[0m\u001b[1;33m.\u001b[0m\u001b[0mbrain_vis\u001b[0m \u001b[1;32mas\u001b[0m \u001b[0mBV\u001b[0m\u001b[1;33m\u001b[0m\u001b[1;33m\u001b[0m\u001b[0m\n\u001b[0;32m     11\u001b[0m \u001b[1;33m\u001b[0m\u001b[0m\n",
      "\u001b[1;31mModuleNotFoundError\u001b[0m: No module named 'cfl_examples.lesion_mapping'"
     ]
    }
   ],
   "source": [
    "# Import needed packages for analysis\n",
    "import os\n",
    "\n",
    "import numpy as np\n",
    "import pandas as pd\n",
    "import matplotlib.pyplot as plt\n",
    "import nibabel as nib\n",
    "\n",
    "import cfl_examples.lesion_mapping.brain_util as BU\n",
    "import cfl_examples.lesion_mapping.brain_vis as BV\n",
    "\n",
    "# load response data \n",
    "Y = pd.read_pickle('Y.pkl')"
   ]
  },
  {
   "source": [
    "# MRI Data \n",
    "Some facts about the data: \n",
    "- the dimensions of the brain box in each image are (124, 200, 82) (2,033,600 voxels total)\n",
    "- the images are originally in RPS orientation. We flip them to RAS orientation because then they have the same alignment as some other MRIs we've been looking at "
   ],
   "cell_type": "markdown",
   "metadata": {}
  },
  {
   "cell_type": "code",
   "execution_count": 4,
   "metadata": {},
   "outputs": [],
   "source": [
    "behav_csv = 'PTSD_Data_Share\\Behavior_data\\PTSD_PerLight.csv'\n",
    "mri_dir = 'PTSD_Data_Share\\MEMRI_data'\n",
    "\n",
    "# load one image to check out its dimensions\n",
    "img = BU.load_brain(os.path.join(mri_dir, \"PTSD_KO_03_BL.nii\"))\n",
    "mri_dims = img.shape"
   ]
  },
  {
   "cell_type": "code",
   "execution_count": 5,
   "metadata": {},
   "outputs": [],
   "source": [
    "# load all the images in RAS orientation \n",
    "X, Y_unused = BU.load_data(mri_dir, behav_csv, mri_dims, ori='RAS')"
   ]
  },
  {
   "source": [
    "# Load Masks\n",
    "We were given two masks to fit the the MRIs, a linearly aligned- and non-linearly aligned mask. These masks tell which voxels in the image are part of the brain vs which are empty space. \n",
    "\n",
    "The difference between the non-linear and linear mask (from an email from Taylor): \"The non-linearly aligned mask is better aligned to the data, however the non-linear \"warping\" creates artifacts near the surface of the brain that may result in grabbing more undesired non-brain voxels when masking. The linearly aligned mask may not align to the surface of the brain as well and may miss or cut out brain tissue, but may not grab as many non-brain voxels. \n",
    "\n",
    "The non-linear mask leaves 531,632 voxels and the linear mask 482,793 voxels unmasked. "
   ],
   "cell_type": "markdown",
   "metadata": {}
  },
  {
   "cell_type": "code",
   "execution_count": 6,
   "metadata": {},
   "outputs": [],
   "source": [
    "# load the non-linear mask template\n",
    "nl_mask_path = os.path.join('PTSD_Data_Share/templates\\MuseTemplate_nonlinear_mask.nii')\n",
    "nl_mask = BU.load_brain(nl_mask_path)\n",
    "nolin_mask_vec = BU.flatten(nl_mask)\n",
    "\n",
    "# load the linear mask template\n",
    "l_mask_path = os.path.join('PTSD_Data_Share/templates\\MuseTemplate_linear_mask.nii')\n",
    "l_mask = BU.load_brain(l_mask_path)\n",
    "lin_mask_vec = BU.flatten(l_mask)"
   ]
  },
  {
   "source": [
    "# Heatmaps, WT vs KO \n",
    "\n",
    "These heatmaps show the average value of each voxel for the timepoint, by each genotype  "
   ],
   "cell_type": "markdown",
   "metadata": {}
  },
  {
   "cell_type": "code",
   "execution_count": 8,
   "metadata": {},
   "outputs": [],
   "source": [
    "baseline_indices = Y[Y[\"Timepoint\"]==\"BL\"].index.tolist()\n",
    "prefear_indices = Y[Y[\"Timepoint\"]==\"PreF\"].index.tolist()\n",
    "postfear_indices = Y[Y[\"Timepoint\"]==\"Fear\"].index.tolist()\n",
    "d9_indices = Y[Y[\"Timepoint\"]==\"D9\"].index.tolist() \n",
    "timepoints_dir = {'BL' : baseline_indices, 'PreF': prefear_indices, \"Fear\": postfear_indices, 'D9': d9_indices}\n",
    "\n",
    "\n",
    "WT_indices = Y[Y[\"Genotype\"]==\"WT\"].index.tolist()\n",
    "KO_indices = Y[Y[\"Genotype\"]==\"KO\"].index.tolist() \n"
   ]
  },
  {
   "cell_type": "code",
   "execution_count": null,
   "metadata": {},
   "outputs": [],
   "source": [
    "from tqdm import tqdm\n",
    "\n",
    "def empty_timepoint_dir(): \n",
    "    return {'BL' : np.zeros(np.prod(mri_dims)), 'PreF': np.zeros(np.prod(mri_dims)), \"Fear\": np.zeros(np.prod(mri_dims)), 'D9': np.zeros(np.prod(mri_dims))}\n",
    "\n",
    "\n",
    "# create wild type heatmap for each timepoint \n",
    "WT_HM_dir = empty_timepoint_dir()\n",
    "for timepoint in timepoints_dir: \n",
    "    # create empty array for heatmap \n",
    "    currentHM = np.zeros(np.prod(mri_dims))\n",
    "\n",
    "    #get all the relevant MRI images \n",
    "    indices = list(set(WT_indices).intersection(set(timepoints_dir[timepoint])))\n",
    "    n = len(indices)\n",
    "    #add to the heatmap \n",
    "    for brain in tqdm(X[indices]):\n",
    "        currentHM += brain\n",
    "\n",
    "    # divide by number of images to get average \n",
    "    np.divide(currentHM, n)\n",
    "    WT_HM_dir[timepoint] = currentHM\n",
    "\n",
    "    save_name = 'wt_heatmap_' + timepoint + '.npy'\n",
    "    np.save(os.path.join(save_name), currentHM) \n",
    "\n",
    "\n",
    "# create KO heatmap for each timepoint\n",
    "KO_HM_dir = empty_timepoint_dir()\n",
    "for timepoint in timepoints_dir: \n",
    "    # create empty array for heatmap \n",
    "    currentHM = np.zeros(np.prod(mri_dims))\n",
    "\n",
    "    #get all the relevant MRI images \n",
    "    indices = list(set(KO_indices).intersection(set(timepoints_dir[timepoint])))\n",
    "    n = len(indices)\n",
    "    #add to the heatmap \n",
    "    for brain in tqdm(X[indices]):\n",
    "        currentHM += brain\n",
    "\n",
    "    # divide by number of images to get average \n",
    "    np.divide(currentHM, n)\n",
    "    KO_HM_dir[timepoint] = currentHM\n",
    "\n",
    "    save_name = 'ko_heatmap_' + timepoint + '.npy'\n",
    "    np.save(os.path.join(save_name), currentHM) \n"
   ]
  },
  {
   "cell_type": "code",
   "execution_count": 28,
   "metadata": {},
   "outputs": [
    {
     "output_type": "display_data",
     "data": {
      "text/plain": "interactive(children=(IntSlider(value=0, continuous_update=False, description='brain_slice', max=123), Output(…",
      "application/vnd.jupyter.widget-view+json": {
       "version_major": 2,
       "version_minor": 0,
       "model_id": "e2dee22238e948388dff586224820ed5"
      }
     },
     "metadata": {}
    },
    {
     "output_type": "display_data",
     "data": {
      "text/plain": "interactive(children=(IntSlider(value=0, continuous_update=False, description='brain_slice', max=199), Output(…",
      "application/vnd.jupyter.widget-view+json": {
       "version_major": 2,
       "version_minor": 0,
       "model_id": "545f532e1ec6451aaec71f0e71145e8a"
      }
     },
     "metadata": {}
    },
    {
     "output_type": "display_data",
     "data": {
      "text/plain": "interactive(children=(IntSlider(value=0, continuous_update=False, description='brain_slice', max=81), Output()…",
      "application/vnd.jupyter.widget-view+json": {
       "version_major": 2,
       "version_minor": 0,
       "model_id": "694f076264714c00be8c681f14b2c3fe"
      }
     },
     "metadata": {}
    }
   ],
   "source": [
    "# load WT heatmaps \n",
    "heatmap_names = ['wt_heatmap_' + str(timepoint) for timepoint in timepoints_dir.keys()]\n",
    "HM_list = []\n",
    "for heatmap in heatmap_names: \n",
    "    HM_list.append(np.load(heatmap + '.npy'))\n",
    "\n",
    "\n",
    "# specify labels for plot (note the labels below are specifically for RAS orientation)\n",
    "dir_labels = { 'saggital' :   ['P', 'A', 'D', 'V'],\n",
    "               'coronal' :    ['L', 'R', 'D', 'V'],\n",
    "               'horizontal' : ['L', 'R', 'A', 'P']} \n",
    "\n",
    "# display WT heatmaps \n",
    "BV.plot_interactive_panels(np.vstack(HM_list), mri_dims, nolin_mask_vec, figsize=(17, 3), dir_labels=dir_labels, column_titles=[\"WT \" + str(timepoint) for timepoint in timepoints_dir])"
   ]
  },
  {
   "cell_type": "code",
   "execution_count": 27,
   "metadata": {},
   "outputs": [
    {
     "output_type": "display_data",
     "data": {
      "text/plain": "interactive(children=(IntSlider(value=0, continuous_update=False, description='brain_slice', max=123), Output(…",
      "application/vnd.jupyter.widget-view+json": {
       "version_major": 2,
       "version_minor": 0,
       "model_id": "0c4e033bff6343d0824e8995281bd189"
      }
     },
     "metadata": {}
    },
    {
     "output_type": "display_data",
     "data": {
      "text/plain": "interactive(children=(IntSlider(value=0, continuous_update=False, description='brain_slice', max=199), Output(…",
      "application/vnd.jupyter.widget-view+json": {
       "version_major": 2,
       "version_minor": 0,
       "model_id": "ea0c5efd08644807a54d8c5de684712d"
      }
     },
     "metadata": {}
    },
    {
     "output_type": "display_data",
     "data": {
      "text/plain": "interactive(children=(IntSlider(value=0, continuous_update=False, description='brain_slice', max=81), Output()…",
      "application/vnd.jupyter.widget-view+json": {
       "version_major": 2,
       "version_minor": 0,
       "model_id": "9a8824536d9b4454a65e6593957d8b63"
      }
     },
     "metadata": {}
    }
   ],
   "source": [
    "# load KO heatmaps \n",
    "heatmap_names = ['ko_heatmap_' + str(timepoint) for timepoint in timepoints_dir.keys()]\n",
    "HM_list = []\n",
    "for heatmap in heatmap_names: \n",
    "    HM_list.append(np.load('ko_heatmap_' + '.npy'))\n",
    "\n",
    "\n",
    "# specify labels for plot (note the labels below are specifically for RAS orientation)\n",
    "dir_labels = { 'saggital' :   ['P', 'A', 'D', 'V'],\n",
    "               'coronal' :    ['L', 'R', 'D', 'V'],\n",
    "               'horizontal' : ['L', 'R', 'A', 'P']} \n",
    "\n",
    "#display KO heatmaps \n",
    "BV.plot_interactive_panels(np.vstack(HM_list), mri_dims, nolin_mask_vec, figsize=(17, 3), dir_labels=dir_labels, column_titles=[\"KO \" + str(timepoint) for timepoint in timepoints_dir])"
   ]
  },
  {
   "cell_type": "code",
   "execution_count": 32,
   "metadata": {},
   "outputs": [
    {
     "output_type": "display_data",
     "data": {
      "text/plain": "interactive(children=(IntSlider(value=0, continuous_update=False, description='brain_slice', max=123), Output(…",
      "application/vnd.jupyter.widget-view+json": {
       "version_major": 2,
       "version_minor": 0,
       "model_id": "fbb49e1d67d04fad94a4904360a737be"
      }
     },
     "metadata": {}
    },
    {
     "output_type": "display_data",
     "data": {
      "text/plain": "interactive(children=(IntSlider(value=0, continuous_update=False, description='brain_slice', max=199), Output(…",
      "application/vnd.jupyter.widget-view+json": {
       "version_major": 2,
       "version_minor": 0,
       "model_id": "539af1c3ff36465384935cf5d3ce39fb"
      }
     },
     "metadata": {}
    },
    {
     "output_type": "display_data",
     "data": {
      "text/plain": "interactive(children=(IntSlider(value=0, continuous_update=False, description='brain_slice', max=81), Output()…",
      "application/vnd.jupyter.widget-view+json": {
       "version_major": 2,
       "version_minor": 0,
       "model_id": "ee7649e197444962ac58da7bc5e1cd16"
      }
     },
     "metadata": {}
    }
   ],
   "source": [
    "# load all heatmaps to display side-by-side\n",
    "all_HMs = []\n",
    "for timepoint in timepoints_dir: \n",
    "    all_HMs.append(np.load('wt_heatmap_' + timepoint + '.npy'))\n",
    "    all_HMs.append(np.load('ko_heatmap_' + timepoint + '.npy'))\n",
    "\n",
    "\n",
    "# specify labels for plot (note the labels below are specifically for RAS orientation)\n",
    "dir_labels = { 'saggital' :   ['P', 'A', 'D', 'V'],\n",
    "               'coronal' :    ['L', 'R', 'D', 'V'],\n",
    "               'horizontal' : ['L', 'R', 'A', 'P']} \n",
    "\n",
    "#display BL and pre-fear heatmaps \n",
    "BV.plot_interactive_panels(np.vstack(all_HMs[:4]), mri_dims, nolin_mask_vec, figsize=(17, 3), dir_labels=dir_labels, column_titles=[\"WT BL\", \"KO BL\", \"WT Pre-fear\", \"KO Pre-fear\"])"
   ]
  },
  {
   "cell_type": "code",
   "execution_count": 30,
   "metadata": {},
   "outputs": [
    {
     "output_type": "display_data",
     "data": {
      "text/plain": "interactive(children=(IntSlider(value=0, continuous_update=False, description='brain_slice', max=123), Output(…",
      "application/vnd.jupyter.widget-view+json": {
       "version_major": 2,
       "version_minor": 0,
       "model_id": "4dd63e539af74f82a2acd48193d4211f"
      }
     },
     "metadata": {}
    },
    {
     "output_type": "display_data",
     "data": {
      "text/plain": "interactive(children=(IntSlider(value=0, continuous_update=False, description='brain_slice', max=199), Output(…",
      "application/vnd.jupyter.widget-view+json": {
       "version_major": 2,
       "version_minor": 0,
       "model_id": "511690331fa24e699086c89ffffd62b8"
      }
     },
     "metadata": {}
    },
    {
     "output_type": "display_data",
     "data": {
      "text/plain": "interactive(children=(IntSlider(value=0, continuous_update=False, description='brain_slice', max=81), Output()…",
      "application/vnd.jupyter.widget-view+json": {
       "version_major": 2,
       "version_minor": 0,
       "model_id": "8a3a534cad2f49598d887011adee6b7f"
      }
     },
     "metadata": {}
    }
   ],
   "source": [
    "#display post fear and D9 heatmaps \n",
    "BV.plot_interactive_panels(np.vstack(HM_list[4:]), mri_dims, nolin_mask_vec, figsize=(17, 3), dir_labels=dir_labels, column_titles=[\"WT Fear\", \"KO Fear\", \"WT D9\", \"KO D9\"])"
   ]
  },
  {
   "source": [
    "## Differences Between Wild-type and KO heatmaps "
   ],
   "cell_type": "markdown",
   "metadata": {}
  },
  {
   "cell_type": "code",
   "execution_count": 33,
   "metadata": {},
   "outputs": [
    {
     "output_type": "display_data",
     "data": {
      "text/plain": "interactive(children=(IntSlider(value=0, continuous_update=False, description='brain_slice', max=123), Output(…",
      "application/vnd.jupyter.widget-view+json": {
       "version_major": 2,
       "version_minor": 0,
       "model_id": "0de464d899ec45e982fe0742d73bfd13"
      }
     },
     "metadata": {}
    },
    {
     "output_type": "display_data",
     "data": {
      "text/plain": "interactive(children=(IntSlider(value=0, continuous_update=False, description='brain_slice', max=199), Output(…",
      "application/vnd.jupyter.widget-view+json": {
       "version_major": 2,
       "version_minor": 0,
       "model_id": "39fc088e080444ea9b2da192a1c3cd5b"
      }
     },
     "metadata": {}
    },
    {
     "output_type": "display_data",
     "data": {
      "text/plain": "interactive(children=(IntSlider(value=0, continuous_update=False, description='brain_slice', max=81), Output()…",
      "application/vnd.jupyter.widget-view+json": {
       "version_major": 2,
       "version_minor": 0,
       "model_id": "96821a41956e42378bebad5c39fc0a20"
      }
     },
     "metadata": {}
    }
   ],
   "source": [
    "# WT - KO heatmaps \n",
    "all_HMs = [HM_list[1] - HM_list[0], HM_list[3] - HM_list[2], HM_list[5] - HM_list[4], HM_list[7] - HM_list[6]]\n",
    "\n",
    "#display BL and pre-fear heatmaps \n",
    "BV.plot_interactive_panels(np.vstack(all_HMs), mri_dims, nolin_mask_vec, figsize=(17, 3), dir_labels=dir_labels, column_titles=[\"BL diffs\", \"Pre-fear Diffs\", \"Fear Diffs\", \"D9 Diffs\"])"
   ]
  },
  {
   "source": [
    "# Baseline Adjustment\n",
    "\n",
    "In this section, images with the baseline MRI subtracted off are shown. "
   ],
   "cell_type": "markdown",
   "metadata": {}
  },
  {
   "cell_type": "code",
   "execution_count": 113,
   "metadata": {},
   "outputs": [],
   "source": [
    "# function to subtract off the baseline \n",
    "def adjust_image(X, id, timepoint): \n",
    "    '''input: X (array of MRI images), ID of mouse and timepoint to use (\"PreF\", \"Fear\", \"D9\")\n",
    "\n",
    "    returns baseline-adjusted image\n",
    "    '''\n",
    "    # get image for that mouse at that timepoint \n",
    "    image_index = Y.loc[(Y.ID==id) & (Y.Timepoint==timepoint)].index[0]\n",
    "    image = X[image_index]\n",
    "\n",
    "    # get image for that mouse at baseline \n",
    "    baseline_index = Y.loc[(Y.ID==id) & (Y.Timepoint==\"BL\")].index[0]\n",
    "    baseline_image = X[baseline_index]\n",
    "\n",
    "    # subtract baseline from timepoint image \n",
    "    adjusted_mri = image - baseline_image\n",
    "\n",
    "    return adjusted_mrir4"
   ]
  },
  {
   "source": [
    "## Heatmap for each timepoint, adjusted by baseline intensity"
   ],
   "cell_type": "markdown",
   "metadata": {}
  },
  {
   "cell_type": "code",
   "execution_count": 116,
   "metadata": {},
   "outputs": [],
   "source": [
    "HM_dir = {'PreF': np.zeros(np.prod(mri_dims)), \"Fear\": np.zeros(np.prod(mri_dims)), 'D9': np.zeros(np.prod(mri_dims))}\n",
    "all_mouse_indices = pd.unique(Y[\"ID\"])\n",
    "\n",
    "\n",
    "for timepoint in HM_dir:\n",
    "    # for each mouse....\n",
    "    for mouse_id in all_mouse_indices:\n",
    "        # get the image associated with that timepoint, subtract off the baseline\n",
    "        if mouse_id != 1 or timepoint != 'D9': #don't do this for the missing value\n",
    "            adjusted_mri = adjust_image(X, mouse_id, timepoint)\n",
    "            # add the result to the correct heatmap entry \n",
    "            HM_dir[timepoint] += BU.flatten(adjusted_mri)\n",
    "    # divide to get the average \n",
    "    n = len(timepoints_dir[timepoint])\n",
    "    np.divide(HM_dir[timepoint], n) "
   ]
  },
  {
   "cell_type": "code",
   "execution_count": 117,
   "metadata": {},
   "outputs": [
    {
     "output_type": "display_data",
     "data": {
      "text/plain": "interactive(children=(IntSlider(value=0, continuous_update=False, description='brain_slice', max=123), Output(…",
      "application/vnd.jupyter.widget-view+json": {
       "version_major": 2,
       "version_minor": 0,
       "model_id": "f1a8a4b6c8b14ba681d502f32f2e43fa"
      }
     },
     "metadata": {}
    },
    {
     "output_type": "display_data",
     "data": {
      "text/plain": "interactive(children=(IntSlider(value=0, continuous_update=False, description='brain_slice', max=199), Output(…",
      "application/vnd.jupyter.widget-view+json": {
       "version_major": 2,
       "version_minor": 0,
       "model_id": "3044d52cde3d43f0a1fc1df5e61e43ac"
      }
     },
     "metadata": {}
    },
    {
     "output_type": "display_data",
     "data": {
      "text/plain": "interactive(children=(IntSlider(value=0, continuous_update=False, description='brain_slice', max=81), Output()…",
      "application/vnd.jupyter.widget-view+json": {
       "version_major": 2,
       "version_minor": 0,
       "model_id": "2bf5964b717e4412ae6c84f2cebbe1c4"
      }
     },
     "metadata": {}
    }
   ],
   "source": [
    "BV.plot_interactive_panels(np.vstack(list(HM_dir.values())), mri_dims, nolin_mask_vec, figsize=(12, 3), dir_labels=dir_labels, column_titles=list(HM_dir.keys()))\n"
   ]
  },
  {
   "source": [
    "# Variance\n",
    "This plot shows the level of variance between individual voxels in all the MRIs for each timepoint."
   ],
   "cell_type": "markdown",
   "metadata": {}
  },
  {
   "cell_type": "code",
   "execution_count": 14,
   "metadata": {},
   "outputs": [],
   "source": [
    "def images_by_genotype_timepoint(X, Y): \n",
    "    baseline_indices = Y[Y[\"Timepoint\"]==\"BL\"].index.tolist()\n",
    "    prefear_indices = Y[Y[\"Timepoint\"]==\"PreF\"].index.tolist()\n",
    "    postfear_indices = Y[Y[\"Timepoint\"]==\"Fear\"].index.tolist()\n",
    "    d9_indices = Y[Y[\"Timepoint\"]==\"D9\"].index.tolist() \n",
    "    timepoints_dir = {'BL' : baseline_indices, 'PreF': prefear_indices, \"Fear\": postfear_indices, 'D9': d9_indices}\n",
    "\n",
    "    \n",
    "    WT_indices = Y[Y[\"Genotype\"]==\"WT\"].index.tolist()\n",
    "    KO_indices = Y[Y[\"Genotype\"]==\"KO\"].index.tolist() \n",
    "\n",
    "    agg_dir = {}\n",
    "    for timepoint in timepoints_dir: \n",
    "        KO_key = timepoint + '_KO'\n",
    "        KO_time_indices = list(set(KO_indices).intersection(set(timepoints_dir[timepoint])))\n",
    "        agg_dir[KO_key] = KO_time_indices\n",
    "\n",
    "        WT_key = timepoint + '_WT'\n",
    "        WT_time_indices = list(set(WT_indices).intersection(set(timepoints_dir[timepoint])))\n",
    "        agg_dir[WT_key] = WT_time_indices\n",
    "    return agg_dir\n",
    "\n",
    "def empty_geno_time_dir(mri_dims):\n",
    "    timepoints_dir = {'BL' : baseline_indices, 'PreF': prefear_indices, \"Fear\": postfear_indices, 'D9': d9_indices}\n",
    "    empty_dir = {}\n",
    "\n",
    "    for timepoint in timepoints_dir: \n",
    "        KO_key = timepoint + '_KO'\n",
    "        WT_key = timepoint + '_WT'\n",
    "\n",
    "        empty_dir[KO_key] = np.zeros(np.prod(mri_dims))\n",
    "        empty_dir[WT_key] = np.zeros(np.prod(mri_dims))\n",
    "    return empty_dir\n"
   ]
  },
  {
   "cell_type": "code",
   "execution_count": 15,
   "metadata": {},
   "outputs": [
    {
     "output_type": "error",
     "ename": "NameError",
     "evalue": "name 'X' is not defined",
     "traceback": [
      "\u001b[1;31m---------------------------------------------------------------------------\u001b[0m",
      "\u001b[1;31mNameError\u001b[0m                                 Traceback (most recent call last)",
      "\u001b[1;32m<ipython-input-15-dab53042c7db>\u001b[0m in \u001b[0;36m<module>\u001b[1;34m\u001b[0m\n\u001b[1;32m----> 1\u001b[1;33m \u001b[0mdir\u001b[0m \u001b[1;33m=\u001b[0m \u001b[0mimages_by_genotype_timepoint\u001b[0m\u001b[1;33m(\u001b[0m\u001b[0mX\u001b[0m\u001b[1;33m,\u001b[0m \u001b[0mY\u001b[0m\u001b[1;33m)\u001b[0m\u001b[1;33m\u001b[0m\u001b[1;33m\u001b[0m\u001b[0m\n\u001b[0m",
      "\u001b[1;31mNameError\u001b[0m: name 'X' is not defined"
     ]
    }
   ],
   "source": [
    "images_dir = images_by_genotype_timepoint(X, Y)"
   ]
  },
  {
   "cell_type": "code",
   "execution_count": 5,
   "metadata": {},
   "outputs": [
    {
     "output_type": "error",
     "ename": "NameError",
     "evalue": "name 'mri_dims' is not defined",
     "traceback": [
      "\u001b[1;31m---------------------------------------------------------------------------\u001b[0m",
      "\u001b[1;31mNameError\u001b[0m                                 Traceback (most recent call last)",
      "\u001b[1;32m<ipython-input-5-65a5ebe3bbdd>\u001b[0m in \u001b[0;36m<module>\u001b[1;34m\u001b[0m\n\u001b[0;32m      1\u001b[0m \u001b[0mbreakpoint\u001b[0m\u001b[1;33m(\u001b[0m\u001b[1;33m)\u001b[0m\u001b[1;33m\u001b[0m\u001b[1;33m\u001b[0m\u001b[0m\n\u001b[1;32m----> 2\u001b[1;33m \u001b[0mvar_dir\u001b[0m \u001b[1;33m=\u001b[0m \u001b[0mempty_timepoint_dir\u001b[0m\u001b[1;33m(\u001b[0m\u001b[1;33m)\u001b[0m\u001b[1;33m\u001b[0m\u001b[1;33m\u001b[0m\u001b[0m\n\u001b[0m\u001b[0;32m      3\u001b[0m \u001b[1;33m\u001b[0m\u001b[0m\n\u001b[0;32m      4\u001b[0m \u001b[1;32mfor\u001b[0m \u001b[0mtimepoint\u001b[0m \u001b[1;32min\u001b[0m \u001b[0mtimepoints_dir\u001b[0m\u001b[1;33m:\u001b[0m\u001b[1;33m\u001b[0m\u001b[1;33m\u001b[0m\u001b[0m\n\u001b[0;32m      5\u001b[0m \u001b[1;33m\u001b[0m\u001b[0m\n",
      "\u001b[1;32m<ipython-input-4-8105b9f1bf25>\u001b[0m in \u001b[0;36mempty_timepoint_dir\u001b[1;34m()\u001b[0m\n\u001b[0;32m      1\u001b[0m \u001b[1;32mdef\u001b[0m \u001b[0mempty_timepoint_dir\u001b[0m\u001b[1;33m(\u001b[0m\u001b[1;33m)\u001b[0m\u001b[1;33m:\u001b[0m\u001b[1;33m\u001b[0m\u001b[1;33m\u001b[0m\u001b[0m\n\u001b[1;32m----> 2\u001b[1;33m     \u001b[1;32mreturn\u001b[0m \u001b[1;33m{\u001b[0m\u001b[1;34m'BL'\u001b[0m \u001b[1;33m:\u001b[0m \u001b[0mnp\u001b[0m\u001b[1;33m.\u001b[0m\u001b[0mzeros\u001b[0m\u001b[1;33m(\u001b[0m\u001b[0mnp\u001b[0m\u001b[1;33m.\u001b[0m\u001b[0mprod\u001b[0m\u001b[1;33m(\u001b[0m\u001b[0mmri_dims\u001b[0m\u001b[1;33m)\u001b[0m\u001b[1;33m)\u001b[0m\u001b[1;33m,\u001b[0m \u001b[1;34m'PreF'\u001b[0m\u001b[1;33m:\u001b[0m \u001b[0mnp\u001b[0m\u001b[1;33m.\u001b[0m\u001b[0mzeros\u001b[0m\u001b[1;33m(\u001b[0m\u001b[0mnp\u001b[0m\u001b[1;33m.\u001b[0m\u001b[0mprod\u001b[0m\u001b[1;33m(\u001b[0m\u001b[0mmri_dims\u001b[0m\u001b[1;33m)\u001b[0m\u001b[1;33m)\u001b[0m\u001b[1;33m,\u001b[0m \u001b[1;34m\"Fear\"\u001b[0m\u001b[1;33m:\u001b[0m \u001b[0mnp\u001b[0m\u001b[1;33m.\u001b[0m\u001b[0mzeros\u001b[0m\u001b[1;33m(\u001b[0m\u001b[0mnp\u001b[0m\u001b[1;33m.\u001b[0m\u001b[0mprod\u001b[0m\u001b[1;33m(\u001b[0m\u001b[0mmri_dims\u001b[0m\u001b[1;33m)\u001b[0m\u001b[1;33m)\u001b[0m\u001b[1;33m,\u001b[0m \u001b[1;34m'D9'\u001b[0m\u001b[1;33m:\u001b[0m \u001b[0mnp\u001b[0m\u001b[1;33m.\u001b[0m\u001b[0mzeros\u001b[0m\u001b[1;33m(\u001b[0m\u001b[0mnp\u001b[0m\u001b[1;33m.\u001b[0m\u001b[0mprod\u001b[0m\u001b[1;33m(\u001b[0m\u001b[0mmri_dims\u001b[0m\u001b[1;33m)\u001b[0m\u001b[1;33m)\u001b[0m\u001b[1;33m}\u001b[0m\u001b[1;33m\u001b[0m\u001b[1;33m\u001b[0m\u001b[0m\n\u001b[0m\u001b[0;32m      3\u001b[0m \u001b[1;33m\u001b[0m\u001b[0m\n\u001b[0;32m      4\u001b[0m \u001b[1;33m\u001b[0m\u001b[0m\n\u001b[0;32m      5\u001b[0m \u001b[1;32mdef\u001b[0m \u001b[0maggregate_by_timepoint_genotype\u001b[0m\u001b[1;33m(\u001b[0m\u001b[0mX\u001b[0m\u001b[1;33m,\u001b[0m \u001b[0mfunc\u001b[0m\u001b[1;33m)\u001b[0m\u001b[1;33m:\u001b[0m\u001b[1;33m\u001b[0m\u001b[1;33m\u001b[0m\u001b[0m\n",
      "\u001b[1;31mNameError\u001b[0m: name 'mri_dims' is not defined"
     ]
    }
   ],
   "source": [
    "# make a new dict that has the variance array for each keys value \n",
    "var_dir = empty_geno_time_dir()\n",
    "for group in images_dir(): \n",
    "    current_var = np.var(X[images_dir[group]]), axis=0)\n",
    "    var_dir[group] = current_var\n",
    "\n",
    "\n",
    "\n",
    "BV.plot_interactive_panels(np.vstack(var_dir.values()), mri_dims, nolin_mask_vec, figsize=(15, 5), dir_labels=dir_labels, colormap=\"Reds\", step= 1) "
   ]
  },
  {
   "source": [
    " The variance tends to be highest on the edges of the brain or in small regions inside of the brain. I believe these regions correspond with the regions of high activity seen above in the individual MRIs. The variance seems to be fairly constant across mice. "
   ],
   "cell_type": "markdown",
   "metadata": {}
  },
  {
   "source": [
    "# Coarsening\n",
    "\n",
    "In the following code, we coarsen the mouse MRIs in order to reduce their dimensionality to more manegeable sizes. The coarsening is done by collapsing n x n cubes of voxels into a single voxel, where n is referred to as the 'coarsening factor'. The new single voxel contains the average value of the previous cube of voxels. "
   ],
   "cell_type": "markdown",
   "metadata": {}
  },
  {
   "cell_type": "code",
   "execution_count": 135,
   "metadata": {},
   "outputs": [],
   "source": [
    "####################TODO: Move this into brain_util \n",
    "\n",
    "def new_coarsen(x, coarsening_factor, brain_dims):\n",
    "    ''' coarsens brain by specified amount\n",
    "    arguments:\n",
    "        x: 3D array of brain or 1D array of flattened brain\n",
    "        coarsening_factor: how many original voxels to include in new voxel along a dimension\n",
    "        brain_dims: array containing [dim0, dim1, dim2] of 3D brain (int array)\n",
    "    returns:\n",
    "        new_x: 3D array of coarsened brain\n",
    "    '''\n",
    "    # make 3D if flattened\n",
    "    if x.ndim < 3:\n",
    "        x = BU.unflatten(x, brain_dims)\n",
    "\n",
    "    brain_dims = np.array(brain_dims)\n",
    "    new_dims = np.ceil(brain_dims/coarsening_factor).astype(int)\n",
    "    new_x = np.zeros(new_dims)\n",
    "    for i in range(new_dims[0]):\n",
    "        for j in range(new_dims[1]):\n",
    "            for k in range(new_dims[2]):\n",
    "                # select all voxels to contribute to coarsened voxel (i,j,k)\n",
    "                istart = i*coarsening_factor\n",
    "                jstart = j*coarsening_factor\n",
    "                kstart = k*coarsening_factor\n",
    "                iend = np.min((istart+coarsening_factor, brain_dims[0])) # handle edge case\n",
    "                jend = np.min((jstart+coarsening_factor, brain_dims[1]))\n",
    "                kend = np.min((kstart+coarsening_factor, brain_dims[2]))\n",
    "\n",
    "                sample = x[istart:iend, jstart:jend, kstart:kend]\n",
    "\n",
    "\n",
    "                # average \n",
    "                new_x[i, j, k] = np.average(sample)\n",
    "    return new_x\n"
   ]
  },
  {
   "source": [
    " ## Correlation between each voxel of brains and Y (percent time spent in the light)\n",
    "\n",
    "\n",
    "For each voxel (after coarsening): \n",
    "- have 20 pairs of values: MRI (fear - pre-fear)  and Y (fear- pre-fear)\n",
    "- want to find correlation for ^ for each voxel \n",
    "- graph back onto the brain "
   ],
   "cell_type": "markdown",
   "metadata": {}
  },
  {
   "cell_type": "code",
   "execution_count": 169,
   "metadata": {},
   "outputs": [],
   "source": [
    "# n_images = 79\n",
    "\n",
    "# # new array of coarsened brain images \n",
    "# X_new = np.zeros((n_images, np.prod(coarsened_brain.shape)))\n",
    "# for i in range(n_images): \n",
    "#     X_new[i] = BU.flatten(new_coarsen(X[i], coarsening_factor, np.array(mri_dims)))\n",
    "\n",
    "# np.save(os.path.join('coarsened3_X.npy'), X_new)"
   ]
  },
  {
   "cell_type": "code",
   "execution_count": 35,
   "metadata": {
    "tags": []
   },
   "outputs": [
    {
     "output_type": "execute_result",
     "data": {
      "text/plain": [
       "(20, 78792)"
      ]
     },
     "metadata": {},
     "execution_count": 35
    }
   ],
   "source": [
    "from scipy.stats import pearsonr\n",
    "X_new = np.load(os.path.join('coarsened3_X.npy'))\n",
    "\n",
    "\n",
    "Y_diffs = Y.PerLight[timepoints_dir[\"Fear\"]].to_numpy() - Y.PerLight[timepoints_dir[\"PreF\"]].to_numpy()\n",
    "\n",
    "X_diffs_KO = X_new[images_dir[\"Fear_KO\"]] - X_new[images_dir[\"PreF_KO\"]]\n",
    "X_diffs_WT = X_new[images_dir[\"Fear_WT\"]] - X_new[images_dir[\"PreF_WT\"]]\n",
    "\n",
    "print(X_diffs_KO.shape)\n",
    "print(X_diffs_WT.shape)\n",
    "\n",
    "corrs_dict = {'KO': np.zeros(X_new_KO.shape[1], dtype=np.int16), 'WT': np.zeros(X_new_WT.shape[1], dtype=np.int16)}\n",
    "\n",
    "\n",
    "for voxel in range(X_new_KO.shape[1]): \n",
    "    value = pearsonr(Y_diffs, X_diffs_KO[:, voxel])[0]\n",
    "    if np.isnan(value): \n",
    "        value = 0 \n",
    "    corrs_dict[\"KO\"][voxel] = value\n",
    "\n",
    "for voxel in range(X_new_WT.shape[1]): \n",
    "    value = pearsonr(Y_diffs, X_diffs_WT[:, voxel])[0]\n",
    "    if np.isnan(value): \n",
    "        value = 0 \n",
    "    corrs_dict[\"WT\"][voxel] = value\n",
    "\n",
    "\n",
    "# #note: when everything is a 0, pearsonr returns a nan correlation value"
   ]
  },
  {
   "cell_type": "code",
   "execution_count": 180,
   "metadata": {},
   "outputs": [],
   "source": [
    "np.save(os.path.join(\"KO_corrs.npy\"), corrs_dict[\"KO\"])\n",
    "np.save(os.path.join(\"WT_corrs.npy\"), corrs_dict[\"WT\"])"
   ]
  },
  {
   "cell_type": "code",
   "execution_count": 133,
   "metadata": {},
   "outputs": [
    {
     "output_type": "display_data",
     "data": {
      "text/plain": "interactive(children=(IntSlider(value=0, continuous_update=False, description='brain_slice', max=24), Output()…",
      "application/vnd.jupyter.widget-view+json": {
       "version_major": 2,
       "version_minor": 0,
       "model_id": "9c12d2894b4849aba7fdf8f27053824b"
      }
     },
     "metadata": {}
    },
    {
     "output_type": "display_data",
     "data": {
      "text/plain": "interactive(children=(IntSlider(value=0, continuous_update=False, description='brain_slice', max=39), Output()…",
      "application/vnd.jupyter.widget-view+json": {
       "version_major": 2,
       "version_minor": 0,
       "model_id": "69c020ec7181483cade80c054be78529"
      }
     },
     "metadata": {}
    },
    {
     "output_type": "display_data",
     "data": {
      "text/plain": "interactive(children=(IntSlider(value=0, continuous_update=False, description='brain_slice', max=16), Output()…",
      "application/vnd.jupyter.widget-view+json": {
       "version_major": 2,
       "version_minor": 0,
       "model_id": "8533a48878334eb491c10c70758e2184"
      }
     },
     "metadata": {}
    }
   ],
   "source": [
    "BV.plot_interactive_panels(np.vstack((corrs_dict[\"KO\"], corrs_dict[\"WT\"])), coarsened_brain.shape, coarsened_nl_mask, figsize=(12, 5), dir_labels=dir_labels, std_scale='corr', column_titles=[\"Correlations for Coarsened KO\", \"Correlations for Coarsened WT\"], step=1)"
   ]
  },
  {
   "source": [],
   "cell_type": "markdown",
   "metadata": {}
  },
  {
   "source": [
    "## Cutting things based on high variance "
   ],
   "cell_type": "markdown",
   "metadata": {}
  },
  {
   "cell_type": "code",
   "execution_count": 21,
   "metadata": {},
   "outputs": [
    {
     "output_type": "error",
     "ename": "NameError",
     "evalue": "name 'timepoints' is not defined",
     "traceback": [
      "\u001b[1;31m---------------------------------------------------------------------------\u001b[0m",
      "\u001b[1;31mNameError\u001b[0m                                 Traceback (most recent call last)",
      "\u001b[1;32m<ipython-input-21-e189c90c87c8>\u001b[0m in \u001b[0;36m<module>\u001b[1;34m\u001b[0m\n\u001b[0;32m      4\u001b[0m \u001b[0mfig\u001b[0m\u001b[1;33m.\u001b[0m\u001b[0msuptitle\u001b[0m\u001b[1;33m(\u001b[0m\u001b[1;34m\"doink doiknk\"\u001b[0m\u001b[1;33m,\u001b[0m \u001b[0mfontsize\u001b[0m\u001b[1;33m=\u001b[0m\u001b[1;36m15\u001b[0m\u001b[1;33m)\u001b[0m\u001b[1;33m\u001b[0m\u001b[1;33m\u001b[0m\u001b[0m\n\u001b[0;32m      5\u001b[0m \u001b[1;33m\u001b[0m\u001b[0m\n\u001b[1;32m----> 6\u001b[1;33m \u001b[1;32mfor\u001b[0m \u001b[0mn\u001b[0m\u001b[1;33m,\u001b[0m \u001b[0mtimepoint\u001b[0m \u001b[1;32min\u001b[0m \u001b[0menumerate\u001b[0m\u001b[1;33m(\u001b[0m\u001b[0mtimepoints\u001b[0m\u001b[1;33m)\u001b[0m\u001b[1;33m:\u001b[0m\u001b[1;33m\u001b[0m\u001b[1;33m\u001b[0m\u001b[0m\n\u001b[0m\u001b[0;32m      7\u001b[0m     \u001b[0max\u001b[0m\u001b[1;33m[\u001b[0m\u001b[0mn\u001b[0m\u001b[1;33m,\u001b[0m \u001b[1;36m0\u001b[0m\u001b[1;33m]\u001b[0m\u001b[1;33m.\u001b[0m\u001b[0mhist\u001b[0m\u001b[1;33m(\u001b[0m\u001b[0mvar_dir\u001b[0m\u001b[1;33m[\u001b[0m\u001b[0mtimepoint\u001b[0m\u001b[1;33m+\u001b[0m \u001b[1;34m\"_KO\"\u001b[0m\u001b[1;33m]\u001b[0m\u001b[1;33m)\u001b[0m\u001b[1;33m\u001b[0m\u001b[1;33m\u001b[0m\u001b[0m\n\u001b[0;32m      8\u001b[0m     \u001b[0max\u001b[0m\u001b[1;33m[\u001b[0m\u001b[0mn\u001b[0m\u001b[1;33m,\u001b[0m \u001b[1;36m1\u001b[0m\u001b[1;33m]\u001b[0m\u001b[1;33m.\u001b[0m\u001b[0mhist\u001b[0m\u001b[1;33m(\u001b[0m\u001b[0mvar_dir\u001b[0m\u001b[1;33m[\u001b[0m\u001b[0mtimepoint\u001b[0m\u001b[1;33m+\u001b[0m \u001b[1;34m\"_WT\"\u001b[0m\u001b[1;33m]\u001b[0m\u001b[1;33m)\u001b[0m\u001b[1;33m\u001b[0m\u001b[1;33m\u001b[0m\u001b[0m\n",
      "\u001b[1;31mNameError\u001b[0m: name 'timepoints' is not defined"
     ]
    }
   ],
   "source": [
    "\n",
    "# display histogram for vars \n",
    "# do it in 2x4 genotype x timepoint \n",
    "fig, ax = plt.subplots(nrows=4, ncols=2, squeeze=False, figsize=(10, 10))\n",
    "fig.suptitle(\"doink doiknk\", fontsize=15)\n",
    "\n",
    "for n, timepoint in enumerate(timepoints):\n",
    "    ax[n, 0].hist(var_dir[timepoint+ \"_KO\"])\n",
    "    ax[n, 1].hist(var_dir[timepoint+ \"_WT\"])\n",
    "\n",
    "    ax[n, 0].title.set_text(full_name[timepoint])\n"
   ]
  },
  {
   "cell_type": "code",
   "execution_count": null,
   "metadata": {},
   "outputs": [],
   "source": [
    "# so we're going to set to 0 all values that are in the top 1% of variance \n",
    "\n",
    "# find the top 1% variance across all items\n",
    "all_vars = np.array([var for var in var_dir.values()])\n",
    "upper_threshold = np.percentile(all_vars,1)\n",
    "\n",
    "# find which voxels in the images are high variance \n",
    "\n",
    "# set those to zero \n",
    "X_low_var ="
   ]
  },
  {
   "cell_type": "code",
   "execution_count": null,
   "metadata": {},
   "outputs": [],
   "source": [
    "# now graph stuff again with the new low_var array\n",
    "# for each heatmap: set things at the high-var indices to 0 \n",
    "\n",
    "# display the heatmaps\n"
   ]
  },
  {
   "source": [
    "########## Extra stuff \n",
    "\n",
    "\n",
    "\n",
    "## Mean and Variance side-by-side\n",
    "\n",
    "# display heatmaps \n",
    "# BV.plot_interactive_panels(np.vstack((HM_list[0], var_dir['BL'], HM_list[1], var_dir['PreF'])), mri_dims, nolin_mask_vec, figsize=(17, 3), dir_labels=dir_labels, column_titles=[\"BL Mean\", \"BL variance\", \"Pre-fear Mean\", \"Pre-fear Var\"])\n",
    "\n",
    "\n",
    "\n",
    "\n",
    "\n",
    "## Heatmap of the WT vs KO mice\n",
    "\n",
    "\n",
    "# WT_indices = Y[Y[\"Genotype\"]==\"WT\"].index.tolist()\n",
    "# KO_indices = Y.dropna(how='any', axis=0)[Y[\"Genotype\"]==\"KO\"].index.tolist() #remove last value bc it doesn't have an associated MRI \n",
    "\n",
    "# # create wild type heatmap \n",
    "# heatmap_WT = np.zeros(np.prod(mri_dims))\n",
    "# n = X[WT_indices].shape[0]\n",
    "# for brain in tqdm(X[WT_indices]):\n",
    "#     heatmap_WT += brain\n",
    "# np.divide(heatmap_WT, n)\n",
    "# np.save(os.path.join('heatmap_WT.npy'), heatmap)\n",
    "\n",
    "\n",
    "# # create KO heatmap \n",
    "# heatmap_KO = np.zeros(np.prod(mri_dims))\n",
    "# n = X[KO_indices].shape[0]\n",
    "# for brain in tqdm(X[KO_indices]):\n",
    "#     heatmap_KO += brain\n",
    "# np.divide(heatmap_KO, n) \n",
    "# np.save(os.path.join('heatmap_KO.npy'), heatmap)\n",
    "\n",
    "\n",
    "# heatmap_WT = np.load(os.path.join('heatmap_WT.npy'))\n",
    "# heatmap_KO = np.load(os.path.join('heatmap_KO.npy'))\n",
    "\n",
    "# BV.plot_interactive_panels(np.vstack((heatmap_WT, heatmap_KO)), mri_dims, nolin_mask_vec, figsize=(10, 5), dir_labels=dir_labels, column_titles=[\"Wild-type\", \"Knockout\"], step=1)"
   ],
   "cell_type": "code",
   "metadata": {},
   "execution_count": null,
   "outputs": []
  }
 ]
}