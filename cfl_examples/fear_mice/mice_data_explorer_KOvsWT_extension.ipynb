{
 "metadata": {
  "language_info": {
   "codemirror_mode": {
    "name": "ipython",
    "version": 3
   },
   "file_extension": ".py",
   "mimetype": "text/x-python",
   "name": "python",
   "nbconvert_exporter": "python",
   "pygments_lexer": "ipython3",
   "version": "3.8.5-final"
  },
  "orig_nbformat": 2,
  "kernelspec": {
   "name": "cfl-env",
   "display_name": "cfl-env",
   "language": "python"
  }
 },
 "nbformat": 4,
 "nbformat_minor": 2,
 "cells": [
  {
   "source": [
    "# PTSD Mouse Data \n",
    "\n",
    "The total data consist of two data sets, measuring responses from 20 different mice at 4 timepoints each: Baseline, Pre-fear exposure, immediately after the Fear exposure, and 9 days later (D9). 10 of these mice are seratonin transporter knockouts (KO) and 10 are wildtype (WT). \n",
    "\n",
    "The data are: \n",
    "- 79 MRIs. The pre-fear, fear, and D9 images are MN(II) enhanced MRIs (MEMRI). The MEMRI images are used to measure neuronal functioning - (when neurons are active, their uptake of MN(II) is increased?). The baseline images, which are regular fMRI, are \n",
    "- 79 measurements of percent time spent in the light by the mice. \n",
    "\n",
    "In both data sets, the KO_04_D9 datapoint is missing (hence 79 instead of 80). "
   ],
   "cell_type": "markdown",
   "metadata": {}
  },
  {
   "cell_type": "code",
   "execution_count": 1,
   "metadata": {},
   "outputs": [],
   "source": [
    "# Import needed packages for analysis\n",
    "import os\n",
    "\n",
    "from tqdm import tqdm\n",
    "import numpy as np\n",
    "import pandas as pd\n",
    "import matplotlib.pyplot as plt\n",
    "import nibabel as nib\n",
    "\n",
    "import cfl.util.brain_util as BU\n",
    "import cfl.util.brain_vis as BV\n",
    "import cfl.util.fear_mice_functions as fm\n",
    "\n",
    "# load response data \n",
    "Y = pd.read_pickle('Y.pkl')"
   ]
  },
  {
   "source": [
    "# MRI Data \n",
    "Some facts about the data: \n",
    "- the dimensions of the brain box in each image are (124, 200, 82) (2,033,600 voxels total)\n",
    "- the images are originally in RPS orientation. We flip them to RAS orientation because then they have the same alignment as some other MRIs we've been looking at "
   ],
   "cell_type": "markdown",
   "metadata": {}
  },
  {
   "cell_type": "code",
   "execution_count": 3,
   "metadata": {},
   "outputs": [],
   "source": [
    "behav_csv = 'PTSD_Data_Share\\Behavior_data\\PTSD_PerLight.csv'\n",
    "mri_dir = 'PTSD_Data_Share\\MEMRI_data'\n",
    "\n",
    "# load one image to check out its dimensions\n",
    "img = BU.load_brain(os.path.join(mri_dir, \"PTSD_KO_03_BL.nii\"), ori='RPS')\n",
    "mri_dims = img.shape"
   ]
  },
  {
   "cell_type": "code",
   "execution_count": 4,
   "metadata": {},
   "outputs": [],
   "source": [
    "# load all the images in RPS orientation \n",
    "X, Y_unused = BU.load_data(mri_dir, behav_csv, mri_dims, ori='RPS')"
   ]
  },
  {
   "cell_type": "code",
   "execution_count": 5,
   "metadata": {},
   "outputs": [],
   "source": [
    "nib_loaded_img = nib.load(os.path.join(mri_dir, \"PTSD_KO_03_BL.nii\"))\n",
    "affine = nib_loaded_img.affine"
   ]
  },
  {
   "source": [
    "# Load Masks\n",
    "We were given two masks to fit the the MRIs, a linearly aligned- and non-linearly aligned mask. These masks tell which voxels in the image are part of the brain vs which are empty space. \n",
    "\n",
    "The difference between the non-linear and linear mask (from an email from Taylor): \"The non-linearly aligned mask is better aligned to the data, however the non-linear \"warping\" creates artifacts near the surface of the brain that may result in grabbing more undesired non-brain voxels when masking. The linearly aligned mask may not align to the surface of the brain as well and may miss or cut out brain tissue, but may not grab as many non-brain voxels. \n",
    "\n",
    "The non-linear mask leaves 531,632 voxels and the linear mask 482,793 voxels unmasked. "
   ],
   "cell_type": "markdown",
   "metadata": {}
  },
  {
   "cell_type": "code",
   "execution_count": 7,
   "metadata": {},
   "outputs": [],
   "source": [
    "# load the non-linear mask template\n",
    "nl_mask_path = os.path.join('PTSD_Data_Share/templates\\MuseTemplate_nonlinear_mask.nii')\n",
    "nl_mask = BU.load_brain(nl_mask_path, ori='RPS')\n",
    "nolin_mask_vec = BU.flatten(nl_mask)\n",
    "\n",
    "# load the linear mask template\n",
    "l_mask_path = os.path.join('PTSD_Data_Share/templates\\MuseTemplate_linear_mask.nii')\n",
    "l_mask = BU.load_brain(l_mask_path, ori='RPS')\n",
    "lin_mask_vec = BU.flatten(l_mask)"
   ]
  },
  {
   "source": [
    "# Heatmaps, WT vs KO \n",
    "\n",
    "These heatmaps show the average value of each voxel for the timepoint, by each genotype  "
   ],
   "cell_type": "markdown",
   "metadata": {}
  },
  {
   "cell_type": "code",
   "execution_count": 5,
   "metadata": {},
   "outputs": [],
   "source": [
    "WT_indices = Y[Y[\"Genotype\"]==\"WT\"].index.tolist()\n",
    "KO_indices = Y[Y[\"Genotype\"]==\"KO\"].index.tolist() "
   ]
  },
  {
   "cell_type": "code",
   "execution_count": 8,
   "metadata": {},
   "outputs": [
    {
     "output_type": "stream",
     "name": "stderr",
     "text": [
      "100%|██████████| 10/10 [00:00<00:00, 285.73it/s]\n",
      "100%|██████████| 10/10 [00:00<00:00, 277.79it/s]\n",
      "100%|██████████| 10/10 [00:00<00:00, 227.26it/s]\n",
      "100%|██████████| 10/10 [00:00<00:00, 263.17it/s]\n",
      "100%|██████████| 10/10 [00:00<00:00, 277.78it/s]\n",
      "100%|██████████| 10/10 [00:00<00:00, 246.82it/s]\n",
      "100%|██████████| 9/9 [00:00<00:00, 290.29it/s]\n",
      "100%|██████████| 10/10 [00:00<00:00, 259.31it/s]\n"
     ]
    }
   ],
   "source": [
    "# create WT and KO heatmaps for each timepoint \n",
    "\n",
    "indices_dir = fm.geno_time_indices_dir(Y)\n",
    "all_HM_dir = fm.empty_geno_time_dir(Y, mri_dims)\n",
    "\n",
    "for key in indices_dir: \n",
    "    # create empty array for heatmap \n",
    "    currentHM = all_HM_dir[key]\n",
    "\n",
    "    #get all the relevant MRI images \n",
    "    indices = indices_dir[key]\n",
    "    n = len(indices)\n",
    "    #add to the heatmap \n",
    "    for brain in tqdm(X[indices]):\n",
    "        currentHM += brain\n",
    "\n",
    "    # divide by number of images to get average \n",
    "    np.divide(currentHM, n)\n",
    "    all_HM_dir[key] = currentHM\n",
    "\n",
    "    save_name = 'heatmap_' + key + '.npy'\n",
    "    np.save(os.path.join(save_name), currentHM) "
   ]
  },
  {
   "cell_type": "code",
   "execution_count": 7,
   "metadata": {},
   "outputs": [],
   "source": [
    "# load heatmaps for each genotype, timepoint \n",
    "all_HM_dir = fm.empty_geno_time_dir(Y, mri_dims)\n",
    "for key in all_HM_dir: \n",
    "    all_HM_dir[key] = np.load(str(key) + '_heatmap.npy')"
   ]
  },
  {
   "cell_type": "code",
   "execution_count": 9,
   "metadata": {},
   "outputs": [
    {
     "output_type": "display_data",
     "data": {
      "text/plain": "interactive(children=(IntSlider(value=0, continuous_update=False, description='brain_slice', max=123), Output(…",
      "application/vnd.jupyter.widget-view+json": {
       "version_major": 2,
       "version_minor": 0,
       "model_id": "0363c91697b94640b3d6f065e3e2b98d"
      }
     },
     "metadata": {}
    },
    {
     "output_type": "display_data",
     "data": {
      "text/plain": "interactive(children=(IntSlider(value=0, continuous_update=False, description='brain_slice', max=199), Output(…",
      "application/vnd.jupyter.widget-view+json": {
       "version_major": 2,
       "version_minor": 0,
       "model_id": "be592d2c4e024391bb8b2eb0a56ba630"
      }
     },
     "metadata": {}
    },
    {
     "output_type": "display_data",
     "data": {
      "text/plain": "interactive(children=(IntSlider(value=0, continuous_update=False, description='brain_slice', max=81), Output()…",
      "application/vnd.jupyter.widget-view+json": {
       "version_major": 2,
       "version_minor": 0,
       "model_id": "9a2bec76310146a58228a82688e9a531"
      }
     },
     "metadata": {}
    }
   ],
   "source": [
    "# display WT heatmaps \n",
    "wts = []\n",
    "wt_names = []\n",
    "for key in all_HM_dir: \n",
    "    if 'WT' in key: \n",
    "        wts.append(all_HM_dir[key])\n",
    "        wt_names.append(key)\n",
    "\n",
    "# specify labels for plot (note the labels below are specifically for RAS orientation)\n",
    "dir_labels = { 'saggital' :   ['P', 'A', 'D', 'V'],\n",
    "               'coronal' :    ['L', 'R', 'D', 'V'],\n",
    "               'horizontal' : ['L', 'R', 'A', 'P']} \n",
    "\n",
    "# BV.plot_interactive_panels(np.vstack(wts), mri_dims, nolin_mask_vec, figsize=(17, 3), dir_labels=dir_labels, column_titles=wt_names)"
   ]
  },
  {
   "cell_type": "code",
   "execution_count": 9,
   "metadata": {},
   "outputs": [
    {
     "output_type": "display_data",
     "data": {
      "text/plain": "interactive(children=(IntSlider(value=0, continuous_update=False, description='brain_slice', max=123), Output(…",
      "application/vnd.jupyter.widget-view+json": {
       "version_major": 2,
       "version_minor": 0,
       "model_id": "bb3450acf807464f866bad2c01507b06"
      }
     },
     "metadata": {}
    },
    {
     "output_type": "display_data",
     "data": {
      "text/plain": "interactive(children=(IntSlider(value=0, continuous_update=False, description='brain_slice', max=199), Output(…",
      "application/vnd.jupyter.widget-view+json": {
       "version_major": 2,
       "version_minor": 0,
       "model_id": "f7478fc56d0c434aa8dca85fe7d02395"
      }
     },
     "metadata": {}
    },
    {
     "output_type": "display_data",
     "data": {
      "text/plain": "interactive(children=(IntSlider(value=0, continuous_update=False, description='brain_slice', max=81), Output()…",
      "application/vnd.jupyter.widget-view+json": {
       "version_major": 2,
       "version_minor": 0,
       "model_id": "920ec3e05a5b4a4fae0881f8b6ccf6e0"
      }
     },
     "metadata": {}
    }
   ],
   "source": [
    "# display KO heatmaps \n",
    "kos = []\n",
    "ko_names = []\n",
    "for key in all_HM_dir: \n",
    "    if 'KO' in key: \n",
    "        kos.append(all_HM_dir[key])\n",
    "        ko_names.append(key)\n",
    "\n",
    "# specify labels for plot (note the labels below are specifically for RAS orientation)\n",
    "dir_labels = { 'saggital' :   ['P', 'A', 'D', 'V'],\n",
    "               'coronal' :    ['L', 'R', 'D', 'V'],\n",
    "               'horizontal' : ['L', 'R', 'A', 'P']} \n",
    "\n",
    "# BV.plot_interactive_panels(np.vstack(kos), mri_dims, nolin_mask_vec, figsize=(17, 3), dir_labels=dir_labels, column_titles=ko_names)"
   ]
  },
  {
   "cell_type": "code",
   "execution_count": 5,
   "metadata": {},
   "outputs": [],
   "source": [
    "# # load all heatmaps to display side-by-side\n",
    "# all_HM_dir = fm.empty_geno_time_dir(Y, mri_dims)\n",
    "# for key in all_HM_dir: \n",
    "#     all_HM_dir[key] = np.load(str(key) + '_heatmap.npy')\n",
    "\n",
    "# # specify labels for plot (note the labels below are specifically for RAS orientation)\n",
    "dir_labels = { 'saggital' :   ['P', 'A', 'D', 'V'],\n",
    "               'coronal' :    ['L', 'R', 'D', 'V'],\n",
    "               'horizontal' : ['L', 'R', 'A', 'P']} \n",
    "\n",
    "# #display BL and pre-fear heatmaps \n",
    "# ### DOESN'T WORK RN \n",
    "# BV.plot_interactive_panels(np.vstack([all_HM_dir.values()][:4]), mri_dims, nolin_mask_vec, figsize=(17, 3), dir_labels=dir_labels, column_titles=[all_HM_dir.keys()][:4])"
   ]
  },
  {
   "cell_type": "code",
   "execution_count": 11,
   "metadata": {},
   "outputs": [],
   "source": [
    "#display post fear and D9 heatmaps \n",
    "# BV.plot_interactive_panels(np.vstack(all_HMs[4:]), mri_dims, nolin_mask_vec, figsize=(17, 3), dir_labels=dir_labels, column_titles=[\"WT Fear\", \"KO Fear\", \"WT D9\", \"KO D9\"])"
   ]
  },
  {
   "source": [
    "# Variance\n",
    "This plot shows the level of variance between individual voxels in all the MRIs for each timepoint."
   ],
   "cell_type": "markdown",
   "metadata": {}
  },
  {
   "cell_type": "code",
   "execution_count": 13,
   "metadata": {},
   "outputs": [],
   "source": [
    "indices_dir = fm.geno_time_indices_dir(Y)"
   ]
  },
  {
   "cell_type": "code",
   "execution_count": 14,
   "metadata": {},
   "outputs": [
    {
     "output_type": "display_data",
     "data": {
      "text/plain": "interactive(children=(IntSlider(value=0, continuous_update=False, description='brain_slice', max=123), Output(…",
      "application/vnd.jupyter.widget-view+json": {
       "version_major": 2,
       "version_minor": 0,
       "model_id": "ac250925102f4d9aa49b2751918084ed"
      }
     },
     "metadata": {}
    },
    {
     "output_type": "display_data",
     "data": {
      "text/plain": "interactive(children=(IntSlider(value=0, continuous_update=False, description='brain_slice', max=199), Output(…",
      "application/vnd.jupyter.widget-view+json": {
       "version_major": 2,
       "version_minor": 0,
       "model_id": "84a21e68e749493eacb194e3c06d320f"
      }
     },
     "metadata": {}
    },
    {
     "output_type": "display_data",
     "data": {
      "text/plain": "interactive(children=(IntSlider(value=0, continuous_update=False, description='brain_slice', max=81), Output()…",
      "application/vnd.jupyter.widget-view+json": {
       "version_major": 2,
       "version_minor": 0,
       "model_id": "50e124e8516f4e0b800414bfff633195"
      }
     },
     "metadata": {}
    }
   ],
   "source": [
    "# make a new dict that has the variance array for each keys value \n",
    "var_dir = fm.empty_geno_time_dir(Y, mri_dims)\n",
    "for group in indices_dir: \n",
    "    current_var = np.var(X[indices_dir[group]], axis=0)\n",
    "    var_dir[group] = current_var\n",
    "\n",
    "\n",
    "BV.plot_interactive_panels(np.vstack(var_dir.values())[:4], mri_dims, nolin_mask_vec, figsize=(15, 3), dir_labels=dir_labels, colormap=\"Reds\", column_titles=list(var_dir.keys())[:4]) "
   ]
  },
  {
   "cell_type": "code",
   "execution_count": 15,
   "metadata": {},
   "outputs": [],
   "source": [
    "# BV.plot_interactive_panels(np.vstack(var_dir.values())[4:], mri_dims, nolin_mask_vec, figsize=(15, 3), dir_labels=dir_labels, colormap=\"Reds\", column_titles=list(var_dir.keys())[4:]) "
   ]
  },
  {
   "source": [
    "# Remove pieces with high variance "
   ],
   "cell_type": "markdown",
   "metadata": {}
  },
  {
   "cell_type": "code",
   "execution_count": 16,
   "metadata": {},
   "outputs": [
    {
     "output_type": "error",
     "ename": "KeyboardInterrupt",
     "evalue": "",
     "traceback": [
      "\u001b[1;31m---------------------------------------------------------------------------\u001b[0m",
      "\u001b[1;31mKeyboardInterrupt\u001b[0m                         Traceback (most recent call last)",
      "\u001b[1;32m<ipython-input-16-f04c68f3e1c7>\u001b[0m in \u001b[0;36m<module>\u001b[1;34m\u001b[0m\n\u001b[0;32m     19\u001b[0m \u001b[0max\u001b[0m\u001b[1;33m[\u001b[0m\u001b[1;36m3\u001b[0m\u001b[1;33m,\u001b[0m \u001b[1;36m0\u001b[0m\u001b[1;33m]\u001b[0m\u001b[1;33m.\u001b[0m\u001b[0mset_xlabel\u001b[0m\u001b[1;33m(\u001b[0m\u001b[1;34m\"Variance\"\u001b[0m\u001b[1;33m)\u001b[0m\u001b[1;33m\u001b[0m\u001b[1;33m\u001b[0m\u001b[0m\n\u001b[0;32m     20\u001b[0m \u001b[0mplt\u001b[0m\u001b[1;33m.\u001b[0m\u001b[0mtight_layout\u001b[0m\u001b[1;33m(\u001b[0m\u001b[1;33m)\u001b[0m\u001b[1;33m\u001b[0m\u001b[1;33m\u001b[0m\u001b[0m\n\u001b[1;32m---> 21\u001b[1;33m \u001b[0mplt\u001b[0m\u001b[1;33m.\u001b[0m\u001b[0mshow\u001b[0m\u001b[1;33m(\u001b[0m\u001b[1;33m)\u001b[0m\u001b[1;33m\u001b[0m\u001b[1;33m\u001b[0m\u001b[0m\n\u001b[0m\u001b[0;32m     22\u001b[0m \u001b[1;33m\u001b[0m\u001b[0m\n\u001b[0;32m     23\u001b[0m \u001b[1;31m# plot histogram of the variance at each genotype/timepoint (excluding 0 variances)\u001b[0m\u001b[1;33m\u001b[0m\u001b[1;33m\u001b[0m\u001b[1;33m\u001b[0m\u001b[0m\n",
      "\u001b[1;32m~\\anaconda3\\envs\\cfl-env\\lib\\site-packages\\matplotlib\\pyplot.py\u001b[0m in \u001b[0;36mshow\u001b[1;34m(*args, **kwargs)\u001b[0m\n\u001b[0;32m    335\u001b[0m     \"\"\"\n\u001b[0;32m    336\u001b[0m     \u001b[0m_warn_if_gui_out_of_main_thread\u001b[0m\u001b[1;33m(\u001b[0m\u001b[1;33m)\u001b[0m\u001b[1;33m\u001b[0m\u001b[1;33m\u001b[0m\u001b[0m\n\u001b[1;32m--> 337\u001b[1;33m     \u001b[1;32mreturn\u001b[0m \u001b[0m_backend_mod\u001b[0m\u001b[1;33m.\u001b[0m\u001b[0mshow\u001b[0m\u001b[1;33m(\u001b[0m\u001b[1;33m*\u001b[0m\u001b[0margs\u001b[0m\u001b[1;33m,\u001b[0m \u001b[1;33m**\u001b[0m\u001b[0mkwargs\u001b[0m\u001b[1;33m)\u001b[0m\u001b[1;33m\u001b[0m\u001b[1;33m\u001b[0m\u001b[0m\n\u001b[0m\u001b[0;32m    338\u001b[0m \u001b[1;33m\u001b[0m\u001b[0m\n\u001b[0;32m    339\u001b[0m \u001b[1;33m\u001b[0m\u001b[0m\n",
      "\u001b[1;32m~\\anaconda3\\envs\\cfl-env\\lib\\site-packages\\ipykernel\\pylab\\backend_inline.py\u001b[0m in \u001b[0;36mshow\u001b[1;34m(close, block)\u001b[0m\n\u001b[0;32m     39\u001b[0m     \u001b[1;32mtry\u001b[0m\u001b[1;33m:\u001b[0m\u001b[1;33m\u001b[0m\u001b[1;33m\u001b[0m\u001b[0m\n\u001b[0;32m     40\u001b[0m         \u001b[1;32mfor\u001b[0m \u001b[0mfigure_manager\u001b[0m \u001b[1;32min\u001b[0m \u001b[0mGcf\u001b[0m\u001b[1;33m.\u001b[0m\u001b[0mget_all_fig_managers\u001b[0m\u001b[1;33m(\u001b[0m\u001b[1;33m)\u001b[0m\u001b[1;33m:\u001b[0m\u001b[1;33m\u001b[0m\u001b[1;33m\u001b[0m\u001b[0m\n\u001b[1;32m---> 41\u001b[1;33m             display(\n\u001b[0m\u001b[0;32m     42\u001b[0m                 \u001b[0mfigure_manager\u001b[0m\u001b[1;33m.\u001b[0m\u001b[0mcanvas\u001b[0m\u001b[1;33m.\u001b[0m\u001b[0mfigure\u001b[0m\u001b[1;33m,\u001b[0m\u001b[1;33m\u001b[0m\u001b[1;33m\u001b[0m\u001b[0m\n\u001b[0;32m     43\u001b[0m                 \u001b[0mmetadata\u001b[0m\u001b[1;33m=\u001b[0m\u001b[0m_fetch_figure_metadata\u001b[0m\u001b[1;33m(\u001b[0m\u001b[0mfigure_manager\u001b[0m\u001b[1;33m.\u001b[0m\u001b[0mcanvas\u001b[0m\u001b[1;33m.\u001b[0m\u001b[0mfigure\u001b[0m\u001b[1;33m)\u001b[0m\u001b[1;33m\u001b[0m\u001b[1;33m\u001b[0m\u001b[0m\n",
      "\u001b[1;32m~\\anaconda3\\envs\\cfl-env\\lib\\site-packages\\IPython\\core\\display.py\u001b[0m in \u001b[0;36mdisplay\u001b[1;34m(include, exclude, metadata, transient, display_id, *objs, **kwargs)\u001b[0m\n\u001b[0;32m    311\u001b[0m             \u001b[0mpublish_display_data\u001b[0m\u001b[1;33m(\u001b[0m\u001b[0mdata\u001b[0m\u001b[1;33m=\u001b[0m\u001b[0mobj\u001b[0m\u001b[1;33m,\u001b[0m \u001b[0mmetadata\u001b[0m\u001b[1;33m=\u001b[0m\u001b[0mmetadata\u001b[0m\u001b[1;33m,\u001b[0m \u001b[1;33m**\u001b[0m\u001b[0mkwargs\u001b[0m\u001b[1;33m)\u001b[0m\u001b[1;33m\u001b[0m\u001b[1;33m\u001b[0m\u001b[0m\n\u001b[0;32m    312\u001b[0m         \u001b[1;32melse\u001b[0m\u001b[1;33m:\u001b[0m\u001b[1;33m\u001b[0m\u001b[1;33m\u001b[0m\u001b[0m\n\u001b[1;32m--> 313\u001b[1;33m             \u001b[0mformat_dict\u001b[0m\u001b[1;33m,\u001b[0m \u001b[0mmd_dict\u001b[0m \u001b[1;33m=\u001b[0m \u001b[0mformat\u001b[0m\u001b[1;33m(\u001b[0m\u001b[0mobj\u001b[0m\u001b[1;33m,\u001b[0m \u001b[0minclude\u001b[0m\u001b[1;33m=\u001b[0m\u001b[0minclude\u001b[0m\u001b[1;33m,\u001b[0m \u001b[0mexclude\u001b[0m\u001b[1;33m=\u001b[0m\u001b[0mexclude\u001b[0m\u001b[1;33m)\u001b[0m\u001b[1;33m\u001b[0m\u001b[1;33m\u001b[0m\u001b[0m\n\u001b[0m\u001b[0;32m    314\u001b[0m             \u001b[1;32mif\u001b[0m \u001b[1;32mnot\u001b[0m \u001b[0mformat_dict\u001b[0m\u001b[1;33m:\u001b[0m\u001b[1;33m\u001b[0m\u001b[1;33m\u001b[0m\u001b[0m\n\u001b[0;32m    315\u001b[0m                 \u001b[1;31m# nothing to display (e.g. _ipython_display_ took over)\u001b[0m\u001b[1;33m\u001b[0m\u001b[1;33m\u001b[0m\u001b[1;33m\u001b[0m\u001b[0m\n",
      "\u001b[1;32m~\\anaconda3\\envs\\cfl-env\\lib\\site-packages\\IPython\\core\\formatters.py\u001b[0m in \u001b[0;36mformat\u001b[1;34m(self, obj, include, exclude)\u001b[0m\n\u001b[0;32m    178\u001b[0m             \u001b[0mmd\u001b[0m \u001b[1;33m=\u001b[0m \u001b[1;32mNone\u001b[0m\u001b[1;33m\u001b[0m\u001b[1;33m\u001b[0m\u001b[0m\n\u001b[0;32m    179\u001b[0m             \u001b[1;32mtry\u001b[0m\u001b[1;33m:\u001b[0m\u001b[1;33m\u001b[0m\u001b[1;33m\u001b[0m\u001b[0m\n\u001b[1;32m--> 180\u001b[1;33m                 \u001b[0mdata\u001b[0m \u001b[1;33m=\u001b[0m \u001b[0mformatter\u001b[0m\u001b[1;33m(\u001b[0m\u001b[0mobj\u001b[0m\u001b[1;33m)\u001b[0m\u001b[1;33m\u001b[0m\u001b[1;33m\u001b[0m\u001b[0m\n\u001b[0m\u001b[0;32m    181\u001b[0m             \u001b[1;32mexcept\u001b[0m\u001b[1;33m:\u001b[0m\u001b[1;33m\u001b[0m\u001b[1;33m\u001b[0m\u001b[0m\n\u001b[0;32m    182\u001b[0m                 \u001b[1;31m# FIXME: log the exception\u001b[0m\u001b[1;33m\u001b[0m\u001b[1;33m\u001b[0m\u001b[1;33m\u001b[0m\u001b[0m\n",
      "\u001b[1;32m<decorator-gen-2>\u001b[0m in \u001b[0;36m__call__\u001b[1;34m(self, obj)\u001b[0m\n",
      "\u001b[1;32m~\\anaconda3\\envs\\cfl-env\\lib\\site-packages\\IPython\\core\\formatters.py\u001b[0m in \u001b[0;36mcatch_format_error\u001b[1;34m(method, self, *args, **kwargs)\u001b[0m\n\u001b[0;32m    222\u001b[0m     \u001b[1;34m\"\"\"show traceback on failed format call\"\"\"\u001b[0m\u001b[1;33m\u001b[0m\u001b[1;33m\u001b[0m\u001b[0m\n\u001b[0;32m    223\u001b[0m     \u001b[1;32mtry\u001b[0m\u001b[1;33m:\u001b[0m\u001b[1;33m\u001b[0m\u001b[1;33m\u001b[0m\u001b[0m\n\u001b[1;32m--> 224\u001b[1;33m         \u001b[0mr\u001b[0m \u001b[1;33m=\u001b[0m \u001b[0mmethod\u001b[0m\u001b[1;33m(\u001b[0m\u001b[0mself\u001b[0m\u001b[1;33m,\u001b[0m \u001b[1;33m*\u001b[0m\u001b[0margs\u001b[0m\u001b[1;33m,\u001b[0m \u001b[1;33m**\u001b[0m\u001b[0mkwargs\u001b[0m\u001b[1;33m)\u001b[0m\u001b[1;33m\u001b[0m\u001b[1;33m\u001b[0m\u001b[0m\n\u001b[0m\u001b[0;32m    225\u001b[0m     \u001b[1;32mexcept\u001b[0m \u001b[0mNotImplementedError\u001b[0m\u001b[1;33m:\u001b[0m\u001b[1;33m\u001b[0m\u001b[1;33m\u001b[0m\u001b[0m\n\u001b[0;32m    226\u001b[0m         \u001b[1;31m# don't warn on NotImplementedErrors\u001b[0m\u001b[1;33m\u001b[0m\u001b[1;33m\u001b[0m\u001b[1;33m\u001b[0m\u001b[0m\n",
      "\u001b[1;32m~\\anaconda3\\envs\\cfl-env\\lib\\site-packages\\IPython\\core\\formatters.py\u001b[0m in \u001b[0;36m__call__\u001b[1;34m(self, obj)\u001b[0m\n\u001b[0;32m    339\u001b[0m                 \u001b[1;32mpass\u001b[0m\u001b[1;33m\u001b[0m\u001b[1;33m\u001b[0m\u001b[0m\n\u001b[0;32m    340\u001b[0m             \u001b[1;32melse\u001b[0m\u001b[1;33m:\u001b[0m\u001b[1;33m\u001b[0m\u001b[1;33m\u001b[0m\u001b[0m\n\u001b[1;32m--> 341\u001b[1;33m                 \u001b[1;32mreturn\u001b[0m \u001b[0mprinter\u001b[0m\u001b[1;33m(\u001b[0m\u001b[0mobj\u001b[0m\u001b[1;33m)\u001b[0m\u001b[1;33m\u001b[0m\u001b[1;33m\u001b[0m\u001b[0m\n\u001b[0m\u001b[0;32m    342\u001b[0m             \u001b[1;31m# Finally look for special method names\u001b[0m\u001b[1;33m\u001b[0m\u001b[1;33m\u001b[0m\u001b[1;33m\u001b[0m\u001b[0m\n\u001b[0;32m    343\u001b[0m             \u001b[0mmethod\u001b[0m \u001b[1;33m=\u001b[0m \u001b[0mget_real_method\u001b[0m\u001b[1;33m(\u001b[0m\u001b[0mobj\u001b[0m\u001b[1;33m,\u001b[0m \u001b[0mself\u001b[0m\u001b[1;33m.\u001b[0m\u001b[0mprint_method\u001b[0m\u001b[1;33m)\u001b[0m\u001b[1;33m\u001b[0m\u001b[1;33m\u001b[0m\u001b[0m\n",
      "\u001b[1;32m~\\anaconda3\\envs\\cfl-env\\lib\\site-packages\\IPython\\core\\pylabtools.py\u001b[0m in \u001b[0;36m<lambda>\u001b[1;34m(fig)\u001b[0m\n\u001b[0;32m    252\u001b[0m         \u001b[0mjpg_formatter\u001b[0m\u001b[1;33m.\u001b[0m\u001b[0mfor_type\u001b[0m\u001b[1;33m(\u001b[0m\u001b[0mFigure\u001b[0m\u001b[1;33m,\u001b[0m \u001b[1;32mlambda\u001b[0m \u001b[0mfig\u001b[0m\u001b[1;33m:\u001b[0m \u001b[0mprint_figure\u001b[0m\u001b[1;33m(\u001b[0m\u001b[0mfig\u001b[0m\u001b[1;33m,\u001b[0m \u001b[1;34m'jpg'\u001b[0m\u001b[1;33m,\u001b[0m \u001b[1;33m**\u001b[0m\u001b[0mkwargs\u001b[0m\u001b[1;33m)\u001b[0m\u001b[1;33m)\u001b[0m\u001b[1;33m\u001b[0m\u001b[1;33m\u001b[0m\u001b[0m\n\u001b[0;32m    253\u001b[0m     \u001b[1;32mif\u001b[0m \u001b[1;34m'svg'\u001b[0m \u001b[1;32min\u001b[0m \u001b[0mformats\u001b[0m\u001b[1;33m:\u001b[0m\u001b[1;33m\u001b[0m\u001b[1;33m\u001b[0m\u001b[0m\n\u001b[1;32m--> 254\u001b[1;33m         \u001b[0msvg_formatter\u001b[0m\u001b[1;33m.\u001b[0m\u001b[0mfor_type\u001b[0m\u001b[1;33m(\u001b[0m\u001b[0mFigure\u001b[0m\u001b[1;33m,\u001b[0m \u001b[1;32mlambda\u001b[0m \u001b[0mfig\u001b[0m\u001b[1;33m:\u001b[0m \u001b[0mprint_figure\u001b[0m\u001b[1;33m(\u001b[0m\u001b[0mfig\u001b[0m\u001b[1;33m,\u001b[0m \u001b[1;34m'svg'\u001b[0m\u001b[1;33m,\u001b[0m \u001b[1;33m**\u001b[0m\u001b[0mkwargs\u001b[0m\u001b[1;33m)\u001b[0m\u001b[1;33m)\u001b[0m\u001b[1;33m\u001b[0m\u001b[1;33m\u001b[0m\u001b[0m\n\u001b[0m\u001b[0;32m    255\u001b[0m     \u001b[1;32mif\u001b[0m \u001b[1;34m'pdf'\u001b[0m \u001b[1;32min\u001b[0m \u001b[0mformats\u001b[0m\u001b[1;33m:\u001b[0m\u001b[1;33m\u001b[0m\u001b[1;33m\u001b[0m\u001b[0m\n\u001b[0;32m    256\u001b[0m         \u001b[0mpdf_formatter\u001b[0m\u001b[1;33m.\u001b[0m\u001b[0mfor_type\u001b[0m\u001b[1;33m(\u001b[0m\u001b[0mFigure\u001b[0m\u001b[1;33m,\u001b[0m \u001b[1;32mlambda\u001b[0m \u001b[0mfig\u001b[0m\u001b[1;33m:\u001b[0m \u001b[0mprint_figure\u001b[0m\u001b[1;33m(\u001b[0m\u001b[0mfig\u001b[0m\u001b[1;33m,\u001b[0m \u001b[1;34m'pdf'\u001b[0m\u001b[1;33m,\u001b[0m \u001b[1;33m**\u001b[0m\u001b[0mkwargs\u001b[0m\u001b[1;33m)\u001b[0m\u001b[1;33m)\u001b[0m\u001b[1;33m\u001b[0m\u001b[1;33m\u001b[0m\u001b[0m\n",
      "\u001b[1;32m~\\anaconda3\\envs\\cfl-env\\lib\\site-packages\\IPython\\core\\pylabtools.py\u001b[0m in \u001b[0;36mprint_figure\u001b[1;34m(fig, fmt, bbox_inches, **kwargs)\u001b[0m\n\u001b[0;32m    130\u001b[0m         \u001b[0mFigureCanvasBase\u001b[0m\u001b[1;33m(\u001b[0m\u001b[0mfig\u001b[0m\u001b[1;33m)\u001b[0m\u001b[1;33m\u001b[0m\u001b[1;33m\u001b[0m\u001b[0m\n\u001b[0;32m    131\u001b[0m \u001b[1;33m\u001b[0m\u001b[0m\n\u001b[1;32m--> 132\u001b[1;33m     \u001b[0mfig\u001b[0m\u001b[1;33m.\u001b[0m\u001b[0mcanvas\u001b[0m\u001b[1;33m.\u001b[0m\u001b[0mprint_figure\u001b[0m\u001b[1;33m(\u001b[0m\u001b[0mbytes_io\u001b[0m\u001b[1;33m,\u001b[0m \u001b[1;33m**\u001b[0m\u001b[0mkw\u001b[0m\u001b[1;33m)\u001b[0m\u001b[1;33m\u001b[0m\u001b[1;33m\u001b[0m\u001b[0m\n\u001b[0m\u001b[0;32m    133\u001b[0m     \u001b[0mdata\u001b[0m \u001b[1;33m=\u001b[0m \u001b[0mbytes_io\u001b[0m\u001b[1;33m.\u001b[0m\u001b[0mgetvalue\u001b[0m\u001b[1;33m(\u001b[0m\u001b[1;33m)\u001b[0m\u001b[1;33m\u001b[0m\u001b[1;33m\u001b[0m\u001b[0m\n\u001b[0;32m    134\u001b[0m     \u001b[1;32mif\u001b[0m \u001b[0mfmt\u001b[0m \u001b[1;33m==\u001b[0m \u001b[1;34m'svg'\u001b[0m\u001b[1;33m:\u001b[0m\u001b[1;33m\u001b[0m\u001b[1;33m\u001b[0m\u001b[0m\n",
      "\u001b[1;32m~\\anaconda3\\envs\\cfl-env\\lib\\site-packages\\matplotlib\\backend_bases.py\u001b[0m in \u001b[0;36mprint_figure\u001b[1;34m(self, filename, dpi, facecolor, edgecolor, orientation, format, bbox_inches, pad_inches, bbox_extra_artists, backend, **kwargs)\u001b[0m\n\u001b[0;32m   2193\u001b[0m                         \u001b[0mself\u001b[0m\u001b[1;33m.\u001b[0m\u001b[0mfigure\u001b[0m\u001b[1;33m.\u001b[0m\u001b[0mdraw\u001b[0m\u001b[1;33m(\u001b[0m\u001b[0mrenderer\u001b[0m\u001b[1;33m)\u001b[0m\u001b[1;33m\u001b[0m\u001b[1;33m\u001b[0m\u001b[0m\n\u001b[0;32m   2194\u001b[0m \u001b[1;33m\u001b[0m\u001b[0m\n\u001b[1;32m-> 2195\u001b[1;33m                     bbox_inches = self.figure.get_tightbbox(\n\u001b[0m\u001b[0;32m   2196\u001b[0m                         renderer, bbox_extra_artists=bbox_extra_artists)\n\u001b[0;32m   2197\u001b[0m                     \u001b[1;32mif\u001b[0m \u001b[0mpad_inches\u001b[0m \u001b[1;32mis\u001b[0m \u001b[1;32mNone\u001b[0m\u001b[1;33m:\u001b[0m\u001b[1;33m\u001b[0m\u001b[1;33m\u001b[0m\u001b[0m\n",
      "\u001b[1;32m~\\anaconda3\\envs\\cfl-env\\lib\\site-packages\\matplotlib\\figure.py\u001b[0m in \u001b[0;36mget_tightbbox\u001b[1;34m(self, renderer, bbox_extra_artists)\u001b[0m\n\u001b[0;32m   2504\u001b[0m \u001b[1;33m\u001b[0m\u001b[0m\n\u001b[0;32m   2505\u001b[0m         \u001b[1;32mfor\u001b[0m \u001b[0ma\u001b[0m \u001b[1;32min\u001b[0m \u001b[0martists\u001b[0m\u001b[1;33m:\u001b[0m\u001b[1;33m\u001b[0m\u001b[1;33m\u001b[0m\u001b[0m\n\u001b[1;32m-> 2506\u001b[1;33m             \u001b[0mbbox\u001b[0m \u001b[1;33m=\u001b[0m \u001b[0ma\u001b[0m\u001b[1;33m.\u001b[0m\u001b[0mget_tightbbox\u001b[0m\u001b[1;33m(\u001b[0m\u001b[0mrenderer\u001b[0m\u001b[1;33m)\u001b[0m\u001b[1;33m\u001b[0m\u001b[1;33m\u001b[0m\u001b[0m\n\u001b[0m\u001b[0;32m   2507\u001b[0m             \u001b[1;32mif\u001b[0m \u001b[0mbbox\u001b[0m \u001b[1;32mis\u001b[0m \u001b[1;32mnot\u001b[0m \u001b[1;32mNone\u001b[0m \u001b[1;32mand\u001b[0m \u001b[1;33m(\u001b[0m\u001b[0mbbox\u001b[0m\u001b[1;33m.\u001b[0m\u001b[0mwidth\u001b[0m \u001b[1;33m!=\u001b[0m \u001b[1;36m0\u001b[0m \u001b[1;32mor\u001b[0m \u001b[0mbbox\u001b[0m\u001b[1;33m.\u001b[0m\u001b[0mheight\u001b[0m \u001b[1;33m!=\u001b[0m \u001b[1;36m0\u001b[0m\u001b[1;33m)\u001b[0m\u001b[1;33m:\u001b[0m\u001b[1;33m\u001b[0m\u001b[1;33m\u001b[0m\u001b[0m\n\u001b[0;32m   2508\u001b[0m                 \u001b[0mbb\u001b[0m\u001b[1;33m.\u001b[0m\u001b[0mappend\u001b[0m\u001b[1;33m(\u001b[0m\u001b[0mbbox\u001b[0m\u001b[1;33m)\u001b[0m\u001b[1;33m\u001b[0m\u001b[1;33m\u001b[0m\u001b[0m\n",
      "\u001b[1;32m~\\anaconda3\\envs\\cfl-env\\lib\\site-packages\\matplotlib\\axes\\_base.py\u001b[0m in \u001b[0;36mget_tightbbox\u001b[1;34m(self, renderer, call_axes_locator, bbox_extra_artists, for_layout_only)\u001b[0m\n\u001b[0;32m   4197\u001b[0m                 clip_extent = mtransforms.Bbox.intersection(\n\u001b[0;32m   4198\u001b[0m                     clip_extent, axbbox)\n\u001b[1;32m-> 4199\u001b[1;33m                 \u001b[1;32mif\u001b[0m \u001b[0mnp\u001b[0m\u001b[1;33m.\u001b[0m\u001b[0mall\u001b[0m\u001b[1;33m(\u001b[0m\u001b[0mclip_extent\u001b[0m\u001b[1;33m.\u001b[0m\u001b[0mextents\u001b[0m \u001b[1;33m==\u001b[0m \u001b[0maxbbox\u001b[0m\u001b[1;33m.\u001b[0m\u001b[0mextents\u001b[0m\u001b[1;33m)\u001b[0m\u001b[1;33m:\u001b[0m\u001b[1;33m\u001b[0m\u001b[1;33m\u001b[0m\u001b[0m\n\u001b[0m\u001b[0;32m   4200\u001b[0m                     \u001b[1;31m# clip extent is inside the axes bbox so don't check\u001b[0m\u001b[1;33m\u001b[0m\u001b[1;33m\u001b[0m\u001b[1;33m\u001b[0m\u001b[0m\n\u001b[0;32m   4201\u001b[0m                     \u001b[1;31m# this artist\u001b[0m\u001b[1;33m\u001b[0m\u001b[1;33m\u001b[0m\u001b[1;33m\u001b[0m\u001b[0m\n",
      "\u001b[1;32m~\\anaconda3\\envs\\cfl-env\\lib\\site-packages\\matplotlib\\transforms.py\u001b[0m in \u001b[0;36mextents\u001b[1;34m(self)\u001b[0m\n\u001b[0;32m    382\u001b[0m     \u001b[1;32mdef\u001b[0m \u001b[0mextents\u001b[0m\u001b[1;33m(\u001b[0m\u001b[0mself\u001b[0m\u001b[1;33m)\u001b[0m\u001b[1;33m:\u001b[0m\u001b[1;33m\u001b[0m\u001b[1;33m\u001b[0m\u001b[0m\n\u001b[0;32m    383\u001b[0m         \u001b[1;34m\"\"\"Return (:attr:`x0`, :attr:`y0`, :attr:`x1`, :attr:`y1`).\"\"\"\u001b[0m\u001b[1;33m\u001b[0m\u001b[1;33m\u001b[0m\u001b[0m\n\u001b[1;32m--> 384\u001b[1;33m         \u001b[1;32mreturn\u001b[0m \u001b[0mself\u001b[0m\u001b[1;33m.\u001b[0m\u001b[0mget_points\u001b[0m\u001b[1;33m(\u001b[0m\u001b[1;33m)\u001b[0m\u001b[1;33m.\u001b[0m\u001b[0mflatten\u001b[0m\u001b[1;33m(\u001b[0m\u001b[1;33m)\u001b[0m  \u001b[1;31m# flatten returns a copy.\u001b[0m\u001b[1;33m\u001b[0m\u001b[1;33m\u001b[0m\u001b[0m\n\u001b[0m\u001b[0;32m    385\u001b[0m \u001b[1;33m\u001b[0m\u001b[0m\n\u001b[0;32m    386\u001b[0m     \u001b[1;32mdef\u001b[0m \u001b[0mget_points\u001b[0m\u001b[1;33m(\u001b[0m\u001b[0mself\u001b[0m\u001b[1;33m)\u001b[0m\u001b[1;33m:\u001b[0m\u001b[1;33m\u001b[0m\u001b[1;33m\u001b[0m\u001b[0m\n",
      "\u001b[1;31mKeyboardInterrupt\u001b[0m: "
     ]
    }
   ],
   "source": [
    "#variance histograms \n",
    "# full_name = {\"BL\": \"baseline\", \"PreF\": \"Before fear experience\", \"Fear\": \"Fear experience\", \"D9\": \"9 days after fear experience\"}\n",
    "\n",
    "fig, ax = plt.subplots(nrows=4, ncols=2, squeeze=False, figsize=(10, 12), sharex=True, sharey=True)\n",
    "fig.suptitle(\"Variance across each timepoint\", fontsize=15)\n",
    "timepoints = var_dir.keys()\n",
    "for n, timepoint in enumerate(timepoints):\n",
    "    col = n % 2\n",
    "    row = int(n / 2)\n",
    "    # use masked array to exclude variances equal to 0 \n",
    "    a = np.ma.masked_equal(var_dir[timepoint],0)\n",
    "    ax[row, col].hist(a.compressed(), bins=20)\n",
    "    ax[row, col].title.set_text(timepoint)\n",
    "    ax[row, col].set_ylabel(\"Frequency\", fontsize=12)\n",
    "\n",
    "plt.yscale('log')\n",
    "\n",
    "ax[3, 1].set_xlabel(\"Variance\")\n",
    "ax[3, 0].set_xlabel(\"Variance\")\n",
    "plt.tight_layout()\n",
    "plt.show()   \n",
    "\n",
    "# plot histogram of the variance at each genotype/timepoint (excluding 0 variances)\n",
    "# y is graphed on a log scale "
   ]
  },
  {
   "cell_type": "code",
   "execution_count": 68,
   "metadata": {},
   "outputs": [],
   "source": [
    "# use a masked array so that the all the variances aren't just 0 for things outside the brain \n",
    "\n",
    "var_all = np.var(X, axis=0)\n",
    "var_all_no0 = np.ma.masked_equal(var_all,0).compressed()\n",
    "\n",
    "\n",
    "# find top 5% of variance across all images \n",
    "# top_5 = np.percentile(var_all_no0, 95)\n",
    "# print(top_5)"
   ]
  },
  {
   "cell_type": "code",
   "execution_count": 71,
   "metadata": {},
   "outputs": [],
   "source": [
    "# calculate the variance for each percentile \n",
    "# percentiles go from 0 to 100 inclusive\n",
    "all_thresholds = np.percentile(var_all_no0, list(range(0, 101)))\n",
    "\n",
    "# okay so now we want to find what percentile each voxel of var is in \n",
    "var_percentiles = np.searchsorted(all_thresholds, var_all)"
   ]
  },
  {
   "cell_type": "code",
   "execution_count": 23,
   "metadata": {},
   "outputs": [
    {
     "output_type": "display_data",
     "data": {
      "text/plain": "interactive(children=(IntSlider(value=0, continuous_update=False, description='brain_slice', max=123), Output(…",
      "application/vnd.jupyter.widget-view+json": {
       "version_major": 2,
       "version_minor": 0,
       "model_id": "bebdb95b2fb8492a84ef9aa26143c471"
      }
     },
     "metadata": {}
    },
    {
     "output_type": "display_data",
     "data": {
      "text/plain": "interactive(children=(IntSlider(value=0, continuous_update=False, description='brain_slice', max=199), Output(…",
      "application/vnd.jupyter.widget-view+json": {
       "version_major": 2,
       "version_minor": 0,
       "model_id": "51f64c57a56543568fb39c43d55614d5"
      }
     },
     "metadata": {}
    },
    {
     "output_type": "display_data",
     "data": {
      "text/plain": "interactive(children=(IntSlider(value=0, continuous_update=False, description='brain_slice', max=81), Output()…",
      "application/vnd.jupyter.widget-view+json": {
       "version_major": 2,
       "version_minor": 0,
       "model_id": "17f26f4e0d9d48828ea1c42fbe038d42"
      }
     },
     "metadata": {}
    }
   ],
   "source": [
    "BV.plot_interactive_panels(var_percentiles, mri_dims, nolin_mask_vec, figsize=(12, 5), dir_labels=dir_labels, column_titles=[\"Variance percentile for each voxel\"])"
   ]
  },
  {
   "cell_type": "code",
   "execution_count": 35,
   "metadata": {},
   "outputs": [
    {
     "output_type": "display_data",
     "data": {
      "text/plain": "interactive(children=(IntSlider(value=0, continuous_update=False, description='brain_slice', max=123), Output(…",
      "application/vnd.jupyter.widget-view+json": {
       "version_major": 2,
       "version_minor": 0,
       "model_id": "8141ce02837b412cb0253ec3817bb01b"
      }
     },
     "metadata": {}
    },
    {
     "output_type": "display_data",
     "data": {
      "text/plain": "interactive(children=(IntSlider(value=0, continuous_update=False, description='brain_slice', max=199), Output(…",
      "application/vnd.jupyter.widget-view+json": {
       "version_major": 2,
       "version_minor": 0,
       "model_id": "4bf209ed40534c9e9b8bd4b631e92ac7"
      }
     },
     "metadata": {}
    },
    {
     "output_type": "display_data",
     "data": {
      "text/plain": "interactive(children=(IntSlider(value=0, continuous_update=False, description='brain_slice', max=81), Output()…",
      "application/vnd.jupyter.widget-view+json": {
       "version_major": 2,
       "version_minor": 0,
       "model_id": "3d52a74024cc4a89b30e4ac48b04c25c"
      }
     },
     "metadata": {}
    }
   ],
   "source": [
    "# graph the top 5 percentiles for each image \n",
    "var_percentiles_top_5 = var_percentiles.copy()\n",
    "var_percentiles_top_5[var_all < np.percentile(var_all, 95)] = 5\n",
    "\n",
    "BV.plot_interactive_panels(var_percentiles_top_5, mri_dims, nolin_mask_vec, figsize=(8, 3), dir_labels=dir_labels, column_titles=[\"Location of top 5% voxels\"])"
   ]
  },
  {
   "cell_type": "code",
   "execution_count": 38,
   "metadata": {},
   "outputs": [
    {
     "output_type": "display_data",
     "data": {
      "text/plain": "interactive(children=(IntSlider(value=0, continuous_update=False, description='brain_slice', max=123), Output(…",
      "application/vnd.jupyter.widget-view+json": {
       "version_major": 2,
       "version_minor": 0,
       "model_id": "f52af5c284ed435fadbb3a8246fbe6d5"
      }
     },
     "metadata": {}
    },
    {
     "output_type": "display_data",
     "data": {
      "text/plain": "interactive(children=(IntSlider(value=0, continuous_update=False, description='brain_slice', max=199), Output(…",
      "application/vnd.jupyter.widget-view+json": {
       "version_major": 2,
       "version_minor": 0,
       "model_id": "13217ab12879479aa7263630cc6ac646"
      }
     },
     "metadata": {}
    },
    {
     "output_type": "display_data",
     "data": {
      "text/plain": "interactive(children=(IntSlider(value=0, continuous_update=False, description='brain_slice', max=81), Output()…",
      "application/vnd.jupyter.widget-view+json": {
       "version_major": 2,
       "version_minor": 0,
       "model_id": "5435e3e8143b48489d2ebaf3d6e75fd7"
      }
     },
     "metadata": {}
    }
   ],
   "source": [
    "# graph the top 1 percentiles for each image \n",
    "var_percentiles_top_1 = var_percentiles.copy()\n",
    "var_percentiles_top_1[var_all < np.percentile(var_all, 99)] = 5\n",
    "\n",
    "BV.plot_interactive_panels(var_percentiles_top_1, mri_dims, nolin_mask_vec, figsize=(8, 3), dir_labels=dir_labels, column_titles=[\"Location of top 1% variance\"])"
   ]
  },
  {
   "cell_type": "code",
   "execution_count": 39,
   "metadata": {},
   "outputs": [
    {
     "output_type": "display_data",
     "data": {
      "text/plain": "interactive(children=(IntSlider(value=0, continuous_update=False, description='brain_slice', max=123), Output(…",
      "application/vnd.jupyter.widget-view+json": {
       "version_major": 2,
       "version_minor": 0,
       "model_id": "3d171a5ddc2f4ad18eda083f0d9089a3"
      }
     },
     "metadata": {}
    },
    {
     "output_type": "display_data",
     "data": {
      "text/plain": "interactive(children=(IntSlider(value=0, continuous_update=False, description='brain_slice', max=199), Output(…",
      "application/vnd.jupyter.widget-view+json": {
       "version_major": 2,
       "version_minor": 0,
       "model_id": "8204f04215a945148b332ea85522af6f"
      }
     },
     "metadata": {}
    },
    {
     "output_type": "display_data",
     "data": {
      "text/plain": "interactive(children=(IntSlider(value=0, continuous_update=False, description='brain_slice', max=81), Output()…",
      "application/vnd.jupyter.widget-view+json": {
       "version_major": 2,
       "version_minor": 0,
       "model_id": "e1ea13cdd7934a64a2da8ca680c80af0"
      }
     },
     "metadata": {}
    }
   ],
   "source": [
    "# graph the top 3 percentiles for each image \n",
    "var_percentiles_top_3 = var_percentiles.copy()\n",
    "var_percentiles_top_3[var_all < np.percentile(var_all, 97)] = 5\n",
    "\n",
    "BV.plot_interactive_panels(var_percentiles_top_3, mri_dims, nolin_mask_vec, figsize=(8, 3), dir_labels=dir_labels, column_titles=[\"Locations of top 3% variance\"])"
   ]
  },
  {
   "source": [
    "conclusions: \n",
    "-  high variance in many places tends to concentrate around the edges of the brain (54)\n",
    "- seems like knocking out high variance will get rid of some of the really high activity spots ? (60 ish)\n",
    "- most high variances places on the edges, but some notable places not (slice 64)"
   ],
   "cell_type": "markdown",
   "metadata": {}
  },
  {
   "cell_type": "code",
   "execution_count": 27,
   "metadata": {},
   "outputs": [],
   "source": [
    "# remove items with top 3% of variance from X \n",
    "X_var3 = X.copy()\n",
    "X_var3[X > np.percentile(var_all, 97)] = 0\n",
    "\n",
    "np.save(\"X_var3.npy\", X_var3)\n"
   ]
  },
  {
   "cell_type": "code",
   "execution_count": 28,
   "metadata": {},
   "outputs": [
    {
     "output_type": "error",
     "ename": "IndentationError",
     "evalue": "unexpected indent (<ipython-input-28-60390f863f0f>, line 8)",
     "traceback": [
      "\u001b[1;36m  File \u001b[1;32m\"<ipython-input-28-60390f863f0f>\"\u001b[1;36m, line \u001b[1;32m8\u001b[0m\n\u001b[1;33m    for bi in range(brains.shape[0]):\u001b[0m\n\u001b[1;37m    ^\u001b[0m\n\u001b[1;31mIndentationError\u001b[0m\u001b[1;31m:\u001b[0m unexpected indent\n"
     ]
    }
   ],
   "source": [
    "# graph the new Xs with the high variance removed \n",
    "X_var3 = np.load(\"X_var3.npy\")\n",
    "\n",
    "\n",
    "# remove all data from indices with high variance \n",
    "#### TODOOOT TODO :\n",
    "# everywhere where the np.percentile is\n",
    "    for bi in range(brains.shape[0]):\n",
    "        brains[bi,mask_regions] = 0\n"
   ]
  },
  {
   "cell_type": "code",
   "execution_count": 63,
   "metadata": {},
   "outputs": [
    {
     "output_type": "display_data",
     "data": {
      "text/plain": "interactive(children=(IntSlider(value=0, continuous_update=False, description='brain_slice', max=123), Output(…",
      "application/vnd.jupyter.widget-view+json": {
       "version_major": 2,
       "version_minor": 0,
       "model_id": "2e383bd643354955ba50cf94e0199137"
      }
     },
     "metadata": {}
    },
    {
     "output_type": "display_data",
     "data": {
      "text/plain": "interactive(children=(IntSlider(value=0, continuous_update=False, description='brain_slice', max=199), Output(…",
      "application/vnd.jupyter.widget-view+json": {
       "version_major": 2,
       "version_minor": 0,
       "model_id": "787ce89978784074a2a26e06bad7edb0"
      }
     },
     "metadata": {}
    },
    {
     "output_type": "display_data",
     "data": {
      "text/plain": "interactive(children=(IntSlider(value=0, continuous_update=False, description='brain_slice', max=81), Output()…",
      "application/vnd.jupyter.widget-view+json": {
       "version_major": 2,
       "version_minor": 0,
       "model_id": "c00febe844dc419f80cc007f02fec830"
      }
     },
     "metadata": {}
    }
   ],
   "source": [
    "# load all heatmaps to display side-by-side\n",
    "all_HMs = []\n",
    "for timepoint in timepoints_dir: \n",
    "    all_HMs.append(np.load('wt_heatmap_novar_' + timepoint + '.npy'))\n",
    "    all_HMs.append(np.load('ko_heatmap_novar_' + timepoint + '.npy'))\n",
    "\n",
    "\n",
    "#display BL and pre-fear heatmaps \n",
    "BV.plot_interactive_panels(np.vstack(all_HMs[:4]), mri_dims, nolin_mask_vec, figsize=(17, 3), dir_labels=dir_labels, column_titles=[\"WT BL\", \"KO BL\", \"WT Pre-fear\", \"KO Pre-fear\"])"
   ]
  },
  {
   "cell_type": "code",
   "execution_count": 64,
   "metadata": {},
   "outputs": [
    {
     "output_type": "display_data",
     "data": {
      "text/plain": "interactive(children=(IntSlider(value=0, continuous_update=False, description='brain_slice', max=123), Output(…",
      "application/vnd.jupyter.widget-view+json": {
       "version_major": 2,
       "version_minor": 0,
       "model_id": "d21d2d8b2ac24916a24ae3237a8d934f"
      }
     },
     "metadata": {}
    },
    {
     "output_type": "display_data",
     "data": {
      "text/plain": "interactive(children=(IntSlider(value=0, continuous_update=False, description='brain_slice', max=199), Output(…",
      "application/vnd.jupyter.widget-view+json": {
       "version_major": 2,
       "version_minor": 0,
       "model_id": "d8a02af091394109b781bc493078acd1"
      }
     },
     "metadata": {}
    },
    {
     "output_type": "display_data",
     "data": {
      "text/plain": "interactive(children=(IntSlider(value=0, continuous_update=False, description='brain_slice', max=81), Output()…",
      "application/vnd.jupyter.widget-view+json": {
       "version_major": 2,
       "version_minor": 0,
       "model_id": "9dcd43b93df844b9a924fd50eb44e8f3"
      }
     },
     "metadata": {}
    }
   ],
   "source": [
    "#display fear and d9 heatmaps \n",
    "BV.plot_interactive_panels(np.vstack(all_HMs[4:]), mri_dims, nolin_mask_vec, figsize=(17, 3), dir_labels=dir_labels, column_titles=[\"WT Fear\", \"KO Fear\", \"WT D9\", \"KO D9\"])"
   ]
  },
  {
   "cell_type": "code",
   "execution_count": null,
   "metadata": {},
   "outputs": [],
   "source": [
    "######^ TODO: Haven't revamped the variance section yet "
   ]
  },
  {
   "source": [
    "# Graphing Fear Minus Pre-Fear for each Genotype"
   ],
   "cell_type": "markdown",
   "metadata": {}
  },
  {
   "cell_type": "code",
   "execution_count": 10,
   "metadata": {},
   "outputs": [
    {
     "output_type": "error",
     "ename": "FileNotFoundError",
     "evalue": "[Errno 2] No such file or directory: 'Fear_KO_heatmap.npy'",
     "traceback": [
      "\u001b[1;31m---------------------------------------------------------------------------\u001b[0m",
      "\u001b[1;31mFileNotFoundError\u001b[0m                         Traceback (most recent call last)",
      "\u001b[1;32m<ipython-input-10-e2f28ed87a30>\u001b[0m in \u001b[0;36m<module>\u001b[1;34m\u001b[0m\n\u001b[0;32m      1\u001b[0m \u001b[1;31m# load Fear_KO_heatmap, pre-fear ko heatmap\u001b[0m\u001b[1;33m\u001b[0m\u001b[1;33m\u001b[0m\u001b[1;33m\u001b[0m\u001b[0m\n\u001b[1;32m----> 2\u001b[1;33m \u001b[0mfear_ko_hm\u001b[0m \u001b[1;33m=\u001b[0m \u001b[0mnp\u001b[0m\u001b[1;33m.\u001b[0m\u001b[0mload\u001b[0m\u001b[1;33m(\u001b[0m\u001b[1;34m\"Fear_KO_heatmap.npy\"\u001b[0m\u001b[1;33m)\u001b[0m\u001b[1;33m\u001b[0m\u001b[1;33m\u001b[0m\u001b[0m\n\u001b[0m\u001b[0;32m      3\u001b[0m \u001b[0mpref_ko_hm\u001b[0m \u001b[1;33m=\u001b[0m \u001b[0mnp\u001b[0m\u001b[1;33m.\u001b[0m\u001b[0mload\u001b[0m\u001b[1;33m(\u001b[0m\u001b[1;34m\"PreF_KO_heatmap.npy\"\u001b[0m\u001b[1;33m)\u001b[0m\u001b[1;33m\u001b[0m\u001b[1;33m\u001b[0m\u001b[0m\n\u001b[0;32m      4\u001b[0m \u001b[1;33m\u001b[0m\u001b[0m\n\u001b[0;32m      5\u001b[0m \u001b[0mfear_wt_hm\u001b[0m \u001b[1;33m=\u001b[0m \u001b[0mnp\u001b[0m\u001b[1;33m.\u001b[0m\u001b[0mload\u001b[0m\u001b[1;33m(\u001b[0m\u001b[1;34m\"Fear_WT_heatmap.npy\"\u001b[0m\u001b[1;33m)\u001b[0m\u001b[1;33m\u001b[0m\u001b[1;33m\u001b[0m\u001b[0m\n",
      "\u001b[1;32m~\\anaconda3\\envs\\cfl-env\\lib\\site-packages\\numpy\\lib\\npyio.py\u001b[0m in \u001b[0;36mload\u001b[1;34m(file, mmap_mode, allow_pickle, fix_imports, encoding)\u001b[0m\n\u001b[0;32m    414\u001b[0m             \u001b[0mown_fid\u001b[0m \u001b[1;33m=\u001b[0m \u001b[1;32mFalse\u001b[0m\u001b[1;33m\u001b[0m\u001b[1;33m\u001b[0m\u001b[0m\n\u001b[0;32m    415\u001b[0m         \u001b[1;32melse\u001b[0m\u001b[1;33m:\u001b[0m\u001b[1;33m\u001b[0m\u001b[1;33m\u001b[0m\u001b[0m\n\u001b[1;32m--> 416\u001b[1;33m             \u001b[0mfid\u001b[0m \u001b[1;33m=\u001b[0m \u001b[0mstack\u001b[0m\u001b[1;33m.\u001b[0m\u001b[0menter_context\u001b[0m\u001b[1;33m(\u001b[0m\u001b[0mopen\u001b[0m\u001b[1;33m(\u001b[0m\u001b[0mos_fspath\u001b[0m\u001b[1;33m(\u001b[0m\u001b[0mfile\u001b[0m\u001b[1;33m)\u001b[0m\u001b[1;33m,\u001b[0m \u001b[1;34m\"rb\"\u001b[0m\u001b[1;33m)\u001b[0m\u001b[1;33m)\u001b[0m\u001b[1;33m\u001b[0m\u001b[1;33m\u001b[0m\u001b[0m\n\u001b[0m\u001b[0;32m    417\u001b[0m             \u001b[0mown_fid\u001b[0m \u001b[1;33m=\u001b[0m \u001b[1;32mTrue\u001b[0m\u001b[1;33m\u001b[0m\u001b[1;33m\u001b[0m\u001b[0m\n\u001b[0;32m    418\u001b[0m \u001b[1;33m\u001b[0m\u001b[0m\n",
      "\u001b[1;31mFileNotFoundError\u001b[0m: [Errno 2] No such file or directory: 'Fear_KO_heatmap.npy'"
     ]
    }
   ],
   "source": [
    "# load Fear_KO_heatmap, pre-fear ko heatmap \n",
    "fear_ko_hm = np.load(\"Fear_KO_heatmap.npy\")\n",
    "pref_ko_hm = np.load(\"PreF_KO_heatmap.npy\")\n",
    "\n",
    "fear_wt_hm = np.load(\"Fear_WT_heatmap.npy\")\n",
    "pref_wt_hm = np.load(\"PreF_WT_heatmap.npy\")\n",
    "\n",
    "diffs = np.zeros((3, fear_ko_hm.shape[0]))\n",
    "\n",
    "diffs[0] = fear_ko_hm - pref_ko_hm\n",
    "diffs[1] = fear_wt_hm - pref_wt_hm\n",
    "diffs[2] = diffs[0] + diffs[1]"
   ]
  },
  {
   "cell_type": "code",
   "execution_count": 7,
   "metadata": {},
   "outputs": [
    {
     "output_type": "display_data",
     "data": {
      "text/plain": "interactive(children=(IntSlider(value=0, continuous_update=False, description='brain_slice', max=123), Output(…",
      "application/vnd.jupyter.widget-view+json": {
       "version_major": 2,
       "version_minor": 0,
       "model_id": "0fed67a15c74424382c1873372e7c6bd"
      }
     },
     "metadata": {}
    },
    {
     "output_type": "display_data",
     "data": {
      "text/plain": "interactive(children=(IntSlider(value=0, continuous_update=False, description='brain_slice', max=199), Output(…",
      "application/vnd.jupyter.widget-view+json": {
       "version_major": 2,
       "version_minor": 0,
       "model_id": "598a3d8b56864aeab8dcb9b5eb05b0f7"
      }
     },
     "metadata": {}
    },
    {
     "output_type": "display_data",
     "data": {
      "text/plain": "interactive(children=(IntSlider(value=0, continuous_update=False, description='brain_slice', max=81), Output()…",
      "application/vnd.jupyter.widget-view+json": {
       "version_major": 2,
       "version_minor": 0,
       "model_id": "d378da083fc941d6a676c12a348ad59f"
      }
     },
     "metadata": {}
    }
   ],
   "source": [
    "BV.plot_interactive_panels(diffs[:2], mri_dims, nolin_mask_vec, figsize=(17, 3), dir_labels=dir_labels, column_titles=[\"KO Fear - Pre-F\", \"WT Fear - Pre-F\"])"
   ]
  },
  {
   "cell_type": "code",
   "execution_count": 19,
   "metadata": {},
   "outputs": [
    {
     "output_type": "display_data",
     "data": {
      "text/plain": "interactive(children=(IntSlider(value=0, continuous_update=False, description='brain_slice', max=123), Output(…",
      "application/vnd.jupyter.widget-view+json": {
       "version_major": 2,
       "version_minor": 0,
       "model_id": "9a318f29aeda4ce58137e9636d45f017"
      }
     },
     "metadata": {}
    },
    {
     "output_type": "display_data",
     "data": {
      "text/plain": "interactive(children=(IntSlider(value=0, continuous_update=False, description='brain_slice', max=199), Output(…",
      "application/vnd.jupyter.widget-view+json": {
       "version_major": 2,
       "version_minor": 0,
       "model_id": "b816cbc2e9494c0b8843e35881abc9b6"
      }
     },
     "metadata": {}
    },
    {
     "output_type": "display_data",
     "data": {
      "text/plain": "interactive(children=(IntSlider(value=0, continuous_update=False, description='brain_slice', max=81), Output()…",
      "application/vnd.jupyter.widget-view+json": {
       "version_major": 2,
       "version_minor": 0,
       "model_id": "2278760de3d74da3810ed8ce84b45e63"
      }
     },
     "metadata": {}
    }
   ],
   "source": [
    "BV.plot_interactive_panels(diffs[2], mri_dims, nolin_mask_vec, figsize=(8, 3), dir_labels=dir_labels, column_titles=[\"Overall Fear - Pre-F\"])"
   ]
  },
  {
   "cell_type": "code",
   "execution_count": 9,
   "metadata": {},
   "outputs": [],
   "source": [
    "# same them as niftis\n",
    "fm.save_as_nifti(diffs[0], 'fear_minus_pref_KO.nii', mri_dims, affine)\n",
    "fm.save_as_nifti(diffs[1], 'fear_minus_pref_WT', mri_dims, affine)\n",
    "# fm.save_as_nifti(var_percentiles, 'variance_percentiles.nii', mri_dims, affine)"
   ]
  }
 ]
}