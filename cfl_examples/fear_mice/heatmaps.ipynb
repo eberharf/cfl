{
 "cells": [
  {
   "cell_type": "code",
   "execution_count": 2,
   "metadata": {},
   "outputs": [],
   "source": [
    "# Import needed packages for analysis\n",
    "import os\n",
    "\n",
    "import numpy as np\n",
    "import pandas as pd\n",
    "import matplotlib.pyplot as plt\n",
    "import nibabel as nib\n",
    "\n",
    "import cfl.util.brain_util as BU\n",
    "import cfl.util.brain_vis as BV\n",
    "import cfl.util.fear_mice_functions as fm\n",
    "from cfl.util.fear_mice_functions import select_from_dict\n",
    "\n",
    "mri_dir, mri_dims, affine, dir_labels = fm.get_global_values()\n",
    "behav_csv = 'PTSD_Data_Share\\Behavior_data\\PTSD_PerLight.csv'\n",
    "\n",
    "# load the non-linear mask template\n",
    "nl_mask_path = os.path.join('PTSD_Data_Share/templates\\MuseTemplate_nonlinear_mask.nii')\n",
    "nl_mask = BU.load_brain(nl_mask_path, ori='RPS')\n",
    "nolin_mask_vec = BU.flatten(nl_mask)\n",
    "\n",
    "# load response data \n",
    "Y = pd.read_pickle('Y.pkl')"
   ]
  },
  {
   "cell_type": "code",
   "execution_count": 3,
   "metadata": {},
   "outputs": [],
   "source": [
    "# load all the images in RPS orientation \n",
    "X, Y_unused = BU.load_data(mri_dir, behav_csv, mri_dims, ori='RPS')"
   ]
  },
  {
   "cell_type": "code",
   "execution_count": 4,
   "metadata": {},
   "outputs": [],
   "source": [
    "data_id = 'X_'"
   ]
  },
  {
   "cell_type": "markdown",
   "metadata": {},
   "source": [
    "# Heatmap \n",
    "\n",
    "These heatmaps show the average value of each voxel for the group "
   ]
  },
  {
   "cell_type": "markdown",
   "metadata": {},
   "source": [
    "## Heatmap with each timepoint broken out (aggregated across both genotypes)"
   ]
  },
  {
   "cell_type": "code",
   "execution_count": 10,
   "metadata": {},
   "outputs": [],
   "source": [
    "timepoints_dir = fm.timepoint_indices_dir(Y)\n",
    "\n",
    "HM_list = [] \n",
    "for timepoint in timepoints_dir: \n",
    "    currentHM = np.zeros(np.prod(mri_dims))\n",
    "    indices = timepoints_dir[timepoint]\n",
    "    n = len(timepoints_dir[timepoint])\n",
    "    for brain in X[indices]:\n",
    "        currentHM += brain\n",
    "    np.divide(currentHM, n)\n",
    "    HM_list.append(currentHM)\n",
    "\n",
    "    save_name = data_id + 'heatmap_' + timepoint + '.npy'\n",
    "    np.save(os.path.join('npy_files', save_name), currentHM) "
   ]
  },
  {
   "cell_type": "code",
   "execution_count": 6,
   "metadata": {},
   "outputs": [
    {
     "output_type": "error",
     "ename": "FileNotFoundError",
     "evalue": "[Errno 2] No such file or directory: 'X_heatmap_BL.npy'",
     "traceback": [
      "\u001b[1;31m---------------------------------------------------------------------------\u001b[0m",
      "\u001b[1;31mFileNotFoundError\u001b[0m                         Traceback (most recent call last)",
      "\u001b[1;32m<ipython-input-6-d2c01eac6058>\u001b[0m in \u001b[0;36m<module>\u001b[1;34m\u001b[0m\n\u001b[0;32m      5\u001b[0m \u001b[0mHM_list\u001b[0m \u001b[1;33m=\u001b[0m \u001b[1;33m[\u001b[0m\u001b[1;33m]\u001b[0m\u001b[1;33m\u001b[0m\u001b[1;33m\u001b[0m\u001b[0m\n\u001b[0;32m      6\u001b[0m \u001b[1;32mfor\u001b[0m \u001b[0mheatmap\u001b[0m \u001b[1;32min\u001b[0m \u001b[0mheatmap_names\u001b[0m\u001b[1;33m:\u001b[0m\u001b[1;33m\u001b[0m\u001b[1;33m\u001b[0m\u001b[0m\n\u001b[1;32m----> 7\u001b[1;33m     \u001b[0mHM_list\u001b[0m\u001b[1;33m.\u001b[0m\u001b[0mappend\u001b[0m\u001b[1;33m(\u001b[0m\u001b[0mnp\u001b[0m\u001b[1;33m.\u001b[0m\u001b[0mload\u001b[0m\u001b[1;33m(\u001b[0m\u001b[0mheatmap\u001b[0m \u001b[1;33m+\u001b[0m \u001b[1;34m'.npy'\u001b[0m\u001b[1;33m)\u001b[0m\u001b[1;33m)\u001b[0m\u001b[1;33m\u001b[0m\u001b[1;33m\u001b[0m\u001b[0m\n\u001b[0m\u001b[0;32m      8\u001b[0m \u001b[1;33m\u001b[0m\u001b[0m\n\u001b[0;32m      9\u001b[0m \u001b[1;31m# # display heatmaps\u001b[0m\u001b[1;33m\u001b[0m\u001b[1;33m\u001b[0m\u001b[1;33m\u001b[0m\u001b[0m\n",
      "\u001b[1;32m~\\anaconda3\\envs\\cfl-env\\lib\\site-packages\\numpy\\lib\\npyio.py\u001b[0m in \u001b[0;36mload\u001b[1;34m(file, mmap_mode, allow_pickle, fix_imports, encoding)\u001b[0m\n\u001b[0;32m    414\u001b[0m             \u001b[0mown_fid\u001b[0m \u001b[1;33m=\u001b[0m \u001b[1;32mFalse\u001b[0m\u001b[1;33m\u001b[0m\u001b[1;33m\u001b[0m\u001b[0m\n\u001b[0;32m    415\u001b[0m         \u001b[1;32melse\u001b[0m\u001b[1;33m:\u001b[0m\u001b[1;33m\u001b[0m\u001b[1;33m\u001b[0m\u001b[0m\n\u001b[1;32m--> 416\u001b[1;33m             \u001b[0mfid\u001b[0m \u001b[1;33m=\u001b[0m \u001b[0mstack\u001b[0m\u001b[1;33m.\u001b[0m\u001b[0menter_context\u001b[0m\u001b[1;33m(\u001b[0m\u001b[0mopen\u001b[0m\u001b[1;33m(\u001b[0m\u001b[0mos_fspath\u001b[0m\u001b[1;33m(\u001b[0m\u001b[0mfile\u001b[0m\u001b[1;33m)\u001b[0m\u001b[1;33m,\u001b[0m \u001b[1;34m\"rb\"\u001b[0m\u001b[1;33m)\u001b[0m\u001b[1;33m)\u001b[0m\u001b[1;33m\u001b[0m\u001b[1;33m\u001b[0m\u001b[0m\n\u001b[0m\u001b[0;32m    417\u001b[0m             \u001b[0mown_fid\u001b[0m \u001b[1;33m=\u001b[0m \u001b[1;32mTrue\u001b[0m\u001b[1;33m\u001b[0m\u001b[1;33m\u001b[0m\u001b[0m\n\u001b[0;32m    418\u001b[0m \u001b[1;33m\u001b[0m\u001b[0m\n",
      "\u001b[1;31mFileNotFoundError\u001b[0m: [Errno 2] No such file or directory: 'X_heatmap_BL.npy'"
     ]
    }
   ],
   "source": [
    "# load heatmaps \n",
    "heatmap_names = [data_id +'heatmap_' + str(timepoint) for timepoint in timepoints_dir.keys()]\n",
    "HM_list = []\n",
    "for heatmap in heatmap_names: \n",
    "    HM_list.append(np.load(heatmap + '.npy'))\n",
    "\n",
    "# # display heatmaps \n",
    "# BV.plot_interactive_panels(np.vstack(HM_list), mri_dims, nolin_mask_vec, figsize=(17, 3), dir_labels=dir_labels, column_titles=list(timepoints_dir))"
   ]
  },
  {
   "cell_type": "markdown",
   "metadata": {},
   "source": [
    "The Baseline images are in general slightly darker than the other images. \n",
    "\n",
    "My interpretation of this is that, since the baseline images are not Mn(II) enhanced, the high activity peaks are lower relative to the background level of activity, and since all the images have been normalized along the same scale, the 'low activity' or 'normal' activity levels for the Baseline images have a higher numeric value after normalization compared to  the other images. \n",
    "\n",
    "\"Overall, the greater in magnitude the voxel intensity value of a contrast enhanced image comparing to each animal's baseline non-contrast enhanced image, corresponds to greater Mn(II) accumulation i.e. neural activity in a particular cluster of voxels.\"\n",
    "\n",
    "From this statement, I think they may be saving that we should analyze the intensity in a pre-fear/fear/D9 image minus the intensity in the baseline image, in order to find spikes in activity? "
   ]
  },
  {
   "cell_type": "markdown",
   "metadata": {},
   "source": [
    "Since the \"artifacts\" on the edge of the brain are generally 0 (regardless of whether they're from the baseline or not), it seems like the artifacts end up appearing as \"neutral\" - the activity is about the same between baseline and fear image \n",
    "\n",
    "- is this true or are the artifacts negative? \n",
    "\n",
    "- how does this show up with individual images (non heatmaps)?"
   ]
  },
  {
   "cell_type": "markdown",
   "metadata": {},
   "source": [
    "# Heatmaps, WT vs KO \n",
    "\n",
    "These heatmaps show the average value of each voxel for the timepoint, by each genotype  "
   ]
  },
  {
   "cell_type": "code",
   "execution_count": 12,
   "metadata": {},
   "outputs": [],
   "source": [
    "# HM_dir = fm.geno_time_indices_dir(Y)\n",
    "\n",
    "# for curr in HM_dir: \n",
    "#     currentHM = np.zeros(np.prod(mri_dims))\n",
    "#     indices = HM_dir[curr]\n",
    "#     n = len(indices)\n",
    "#     for brain in X[indices]:\n",
    "#         currentHM += brain\n",
    "#     np.divide(currentHM, n)\n",
    "#     HM_dir[curr] = currentHM\n",
    "\n",
    "#     save_name = data_id + 'heatmap_' + curr + '.npy'\n",
    "#     np.save(os.path.join('npy_files', save_name), currentHM) "
   ]
  },
  {
   "cell_type": "code",
   "execution_count": 8,
   "metadata": {},
   "outputs": [],
   "source": [
    "# load heatmaps for each genotype, timepoint \n",
    "all_HM_dir = fm.empty_geno_time_dir(Y, mri_dims)\n",
    "for key in all_HM_dir: \n",
    "    all_HM_dir[key] = np.load(os.path.join('npy_files', data_id + 'heatmap_' + key + '.npy'))"
   ]
  },
  {
   "cell_type": "code",
   "execution_count": 6,
   "metadata": {},
   "outputs": [
    {
     "output_type": "display_data",
     "data": {
      "text/plain": "interactive(children=(IntSlider(value=0, continuous_update=False, description='brain_slice', max=123), Output(…",
      "application/vnd.jupyter.widget-view+json": {
       "version_major": 2,
       "version_minor": 0,
       "model_id": "4ea94ff7dfa84fcb9dd77bb3026cc297"
      }
     },
     "metadata": {}
    },
    {
     "output_type": "display_data",
     "data": {
      "text/plain": "interactive(children=(IntSlider(value=0, continuous_update=False, description='brain_slice', max=199), Output(…",
      "application/vnd.jupyter.widget-view+json": {
       "version_major": 2,
       "version_minor": 0,
       "model_id": "e2c790940e2a4a2d9a4fb806d1c779b7"
      }
     },
     "metadata": {}
    },
    {
     "output_type": "display_data",
     "data": {
      "text/plain": "interactive(children=(IntSlider(value=0, continuous_update=False, description='brain_slice', max=81), Output()…",
      "application/vnd.jupyter.widget-view+json": {
       "version_major": 2,
       "version_minor": 0,
       "model_id": "c5f8d5cb56fd4544b68ccb5cdce38694"
      }
     },
     "metadata": {}
    }
   ],
   "source": [
    "# display WT heatmaps \n",
    "wts, wt_names = select_from_dict(all_HM_dir, ['WT'])\n",
    "\n",
    "BV.plot_interactive_panels(wts, mri_dims, nolin_mask_vec, figsize=(17, 3), dir_labels=dir_labels, column_titles=wt_names)"
   ]
  },
  {
   "cell_type": "code",
   "execution_count": 30,
   "metadata": {},
   "outputs": [
    {
     "output_type": "display_data",
     "data": {
      "text/plain": "interactive(children=(IntSlider(value=0, continuous_update=False, description='brain_slice', max=123), Output(…",
      "application/vnd.jupyter.widget-view+json": {
       "version_major": 2,
       "version_minor": 0,
       "model_id": "465528d823a341e691bf4a651bc381cc"
      }
     },
     "metadata": {}
    },
    {
     "output_type": "display_data",
     "data": {
      "text/plain": "interactive(children=(IntSlider(value=0, continuous_update=False, description='brain_slice', max=199), Output(…",
      "application/vnd.jupyter.widget-view+json": {
       "version_major": 2,
       "version_minor": 0,
       "model_id": "3b1c2395fe164a9dbc1d2a7c9ebd8277"
      }
     },
     "metadata": {}
    },
    {
     "output_type": "display_data",
     "data": {
      "text/plain": "interactive(children=(IntSlider(value=0, continuous_update=False, description='brain_slice', max=81), Output()…",
      "application/vnd.jupyter.widget-view+json": {
       "version_major": 2,
       "version_minor": 0,
       "model_id": "20ed8417704d4426a7f029f15dd38b73"
      }
     },
     "metadata": {}
    }
   ],
   "source": [
    "# display KO heatmaps \n",
    "kos, ko_names = select_from_dict(all_HM_dir, ['KO'])\n",
    "\n",
    "# BV.plot_interactive_panels(kos, mri_dims, nolin_mask_vec, figsize=(17, 3), dir_labels=dir_labels, column_titles=ko_names)"
   ]
  },
  {
   "cell_type": "code",
   "execution_count": 41,
   "metadata": {},
   "outputs": [
    {
     "output_type": "display_data",
     "data": {
      "text/plain": "interactive(children=(IntSlider(value=0, continuous_update=False, description='brain_slice', max=123), Output(…",
      "application/vnd.jupyter.widget-view+json": {
       "version_major": 2,
       "version_minor": 0,
       "model_id": "c252224712c6467f9e6a3b453a8874ef"
      }
     },
     "metadata": {}
    },
    {
     "output_type": "display_data",
     "data": {
      "text/plain": "interactive(children=(IntSlider(value=0, continuous_update=False, description='brain_slice', max=199), Output(…",
      "application/vnd.jupyter.widget-view+json": {
       "version_major": 2,
       "version_minor": 0,
       "model_id": "5ecd06e600cb4c7ead33761c04c7c461"
      }
     },
     "metadata": {}
    },
    {
     "output_type": "display_data",
     "data": {
      "text/plain": "interactive(children=(IntSlider(value=0, continuous_update=False, description='brain_slice', max=81), Output()…",
      "application/vnd.jupyter.widget-view+json": {
       "version_major": 2,
       "version_minor": 0,
       "model_id": "d8fc6718c1364a18b0a35e162a3d7a96"
      }
     },
     "metadata": {}
    }
   ],
   "source": [
    "#display BL and pre-fear heatmaps \n",
    "bl_and_pref, bl_and_pref_names = select_from_dict(all_HM_dir, ['BL', 'PreF'])\n",
    "\n",
    "# BV.plot_interactive_panels(bl_and_pref, mri_dims, nolin_mask_vec, figsize=(17, 3), dir_labels=dir_labels, column_titles=bl_and_pref_names)"
   ]
  },
  {
   "cell_type": "code",
   "execution_count": 42,
   "metadata": {},
   "outputs": [
    {
     "output_type": "display_data",
     "data": {
      "text/plain": "interactive(children=(IntSlider(value=0, continuous_update=False, description='brain_slice', max=123), Output(…",
      "application/vnd.jupyter.widget-view+json": {
       "version_major": 2,
       "version_minor": 0,
       "model_id": "38c1bfeff36840e9b7c164ba379bca4c"
      }
     },
     "metadata": {}
    },
    {
     "output_type": "display_data",
     "data": {
      "text/plain": "interactive(children=(IntSlider(value=0, continuous_update=False, description='brain_slice', max=199), Output(…",
      "application/vnd.jupyter.widget-view+json": {
       "version_major": 2,
       "version_minor": 0,
       "model_id": "74ddd126903a405791b92ce77e3db148"
      }
     },
     "metadata": {}
    },
    {
     "output_type": "display_data",
     "data": {
      "text/plain": "interactive(children=(IntSlider(value=0, continuous_update=False, description='brain_slice', max=81), Output()…",
      "application/vnd.jupyter.widget-view+json": {
       "version_major": 2,
       "version_minor": 0,
       "model_id": "9397463d2c83442c9fe1ac82853a8fd6"
      }
     },
     "metadata": {}
    }
   ],
   "source": [
    "#display post fear and D9 heatmaps \n",
    "fear_and_d9, fear_and_d9_names = select_from_dict(all_HM_dir, ['Fear', 'D9'])\n",
    "\n",
    "# BV.plot_interactive_panels(fear_and_d9, mri_dims, nolin_mask_vec, figsize=(17, 3), dir_labels=dir_labels, column_titles=fear_and_d9_names)"
   ]
  },
  {
   "cell_type": "code",
   "execution_count": 9,
   "metadata": {},
   "outputs": [],
   "source": [
    "# save the heatmaps as nifti files \n",
    "for key in all_HM_dir: \n",
    "    name = data_id + 'heatmap_' + key \n",
    "    fm.save_as_nifti(all_HM_dir[key], os.path.join('correctly_oriented_niis', name), mri_dims, affine)"
   ]
  }
 ],
 "metadata": {
  "kernelspec": {
   "display_name": "cfl-env",
   "language": "python",
   "name": "cfl-env"
  },
  "language_info": {
   "name": "",
   "version": "3.8.5-final"
  }
 },
 "nbformat": 4,
 "nbformat_minor": 4
}