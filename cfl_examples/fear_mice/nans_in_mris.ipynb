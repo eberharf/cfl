{
 "metadata": {
  "language_info": {
   "codemirror_mode": {
    "name": "ipython",
    "version": 3
   },
   "file_extension": ".py",
   "mimetype": "text/x-python",
   "name": "python",
   "nbconvert_exporter": "python",
   "pygments_lexer": "ipython3",
   "version": "3.7.7-final"
  },
  "orig_nbformat": 2,
  "kernelspec": {
   "name": "python3",
   "display_name": "Python 3",
   "language": "python"
  }
 },
 "nbformat": 4,
 "nbformat_minor": 2,
 "cells": [
  {
   "source": [
    "# NaNs in the first few MRIs"
   ],
   "cell_type": "markdown",
   "metadata": {}
  },
  {
   "cell_type": "code",
   "execution_count": null,
   "metadata": {},
   "outputs": [],
   "source": [
    "import numpy as np "
   ]
  },
  {
   "cell_type": "code",
   "execution_count": null,
   "metadata": {},
   "outputs": [],
   "source": [
    "# load data and mask \n",
    "\n"
   ]
  },
  {
   "cell_type": "code",
   "execution_count": null,
   "metadata": {},
   "outputs": [],
   "source": [
    "# the first 4 brains have all nans outside of the brain box \n",
    "# all the rest of the brains have no nans\n",
    "for brain in X: \n",
    "    print(np.count_nonzero(np.isnan(brain)))\n",
    "    print(np.count_nonzero(brain))"
   ]
  },
  {
   "cell_type": "code",
   "execution_count": null,
   "metadata": {},
   "outputs": [],
   "source": [
    "2033600-1501968"
   ]
  },
  {
   "cell_type": "code",
   "execution_count": null,
   "metadata": {},
   "outputs": [],
   "source": [
    "print(np.count_nonzero(nolin_mask_vec))\n",
    "print(np.count_nonzero(np.isnan(nolin_mask_vec))) # no nans in mask \n",
    "\n",
    "#since the number of non nans and the number of active voxels in the mask are the same, I deduce that all of the edges in the first four images (one mouse's worth of MRIs) have been replaced with NaNs \n",
    "np.all(np.equal(np.where(np.isnan(X[0])), np.where(np.equal(nolin_mask_vec, 0))))  # conclusion confirmed \n",
    "\n",
    "\n",
    "# so as a result, I turn the nans into Xs in the first four images \n",
    "for i in range(4): \n",
    "    where_nans = np.isnan(X[i])\n",
    "    X[i][where_nans] = 0 "
   ]
  },
  {
   "cell_type": "code",
   "execution_count": null,
   "metadata": {},
   "outputs": [],
   "source": [
    "np.any(np.isnan(X)) #fixed "
   ]
  }
 ]
}