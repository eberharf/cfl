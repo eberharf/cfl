{
 "metadata": {
  "language_info": {
   "codemirror_mode": {
    "name": "ipython",
    "version": 3
   },
   "file_extension": ".py",
   "mimetype": "text/x-python",
   "name": "python",
   "nbconvert_exporter": "python",
   "pygments_lexer": "ipython3",
   "version": "3.8.5-final"
  },
  "orig_nbformat": 2,
  "kernelspec": {
   "name": "cfl-env",
   "display_name": "cfl-env",
   "language": "python"
  }
 },
 "nbformat": 4,
 "nbformat_minor": 2,
 "cells": [
  {
   "cell_type": "code",
   "execution_count": 18,
   "metadata": {},
   "outputs": [],
   "source": [
    "# Import needed packages for analysis\n",
    "import os\n",
    "\n",
    "import numpy as np\n",
    "import pandas as pd\n",
    "import matplotlib.pyplot as plt\n",
    "import nibabel as nib\n",
    "from scipy.stats import pearsonr\n",
    "from scipy.stats import kendalltau\n",
    "\n",
    "import cfl.util.brain_util as BU\n",
    "import cfl.util.brain_vis as BV\n",
    "import cfl.util.fear_mice_functions as fm \n",
    "\n",
    "# load response data \n",
    "Y = pd.read_pickle('Y.pkl')\n",
    "\n",
    "behav_csv = 'PTSD_Data_Share\\Behavior_data\\PTSD_PerLight.csv'\n",
    "\n",
    "mri_dir, mri_dims, affine, dir_labels = fm.get_global_values()\n",
    "\n",
    "# load all the images in RPS orientation \n",
    "X, Y_unused = BU.load_data(mri_dir, behav_csv, mri_dims, ori='RPS')"
   ]
  },
  {
   "cell_type": "code",
   "execution_count": 5,
   "metadata": {},
   "outputs": [],
   "source": [
    "data_id = 'X_'"
   ]
  },
  {
   "source": [
    "# Correlation between each voxel of brains and Y (percent time spent in the light)\n",
    "\n",
    "For each voxel: \n",
    "- Have 20 pairs of values: MRI (fear - pre-fear)  and Y (fear- pre-fear)\n",
    "- find correlation between these pairs for ^ for each voxel \n",
    "- map that back onto the brain "
   ],
   "cell_type": "markdown",
   "metadata": {}
  },
  {
   "source": [
    "## Calculate the X diffs "
   ],
   "cell_type": "markdown",
   "metadata": {}
  },
  {
   "cell_type": "code",
   "execution_count": 38,
   "metadata": {},
   "outputs": [],
   "source": [
    "indices_dir = fm.geno_time_indices_dir(Y)\n",
    "\n",
    "X_diffs_KO = X[indices_dir['Fear_KO']] - X[indices_dir['PreF_KO']]\n",
    "X_diffs_WT = X[indices_dir['Fear_WT']] - X[indices_dir['PreF_WT']]\n",
    "X_diffs_all = np.vstack((X_diffs_KO, X_diffs_WT)) # for both genotypes"
   ]
  },
  {
   "source": [
    "## Calculate the Y diffs"
   ],
   "cell_type": "markdown",
   "metadata": {}
  },
  {
   "cell_type": "code",
   "execution_count": 30,
   "metadata": {},
   "outputs": [],
   "source": [
    "indices_dir = fm.geno_time_indices_dir(Y)\n",
    "\n",
    "Y_diffs_KO = Y.PerLight[indices_dir['Fear_KO']].to_numpy() - Y.PerLight[indices_dir['PreF_KO']].to_numpy()\n",
    "Y_diffs_WT = Y.PerLight[indices_dir['Fear_WT']].to_numpy() - Y.PerLight[indices_dir['PreF_WT']].to_numpy()\n",
    "Y_diffs_all = np.hstack((Y_diffs_KO, Y_diffs_WT)) # for both genotypes"
   ]
  },
  {
   "source": [
    "## Compute the Pearson correlations"
   ],
   "cell_type": "markdown",
   "metadata": {}
  },
  {
   "cell_type": "code",
   "execution_count": 41,
   "metadata": {},
   "outputs": [],
   "source": [
    "def calculate_correlations_and_save(X_diffs, Y_diffs, save_name, corr_method, mri_dims, data_id, affine): \n",
    "    # correlations\n",
    "    corrs = np.zeros(np.prod(mri_dims))\n",
    "    for voxel in range(np.prod(mri_dims)): \n",
    "        value = corr_method(Y_diffs, X_diffs[:, voxel])[0]\n",
    "        if np.isnan(value): #if x is all 0s, pearson returns a nan\n",
    "            value = 0 \n",
    "        corrs[voxel] = value\n",
    "\n",
    "    # save \n",
    "    np.save(os.path.join(\"npy_files\", data_id + save_name), corrs)\n",
    "    fm.save_as_nifti(corrs, os.path.join('correctly_oriented_niis', data_id + save_name), mri_dims, affine)\n",
    "    return corrs"
   ]
  },
  {
   "cell_type": "code",
   "execution_count": 46,
   "metadata": {},
   "outputs": [
    {
     "output_type": "execute_result",
     "data": {
      "text/plain": [
       "array([0., 0., 0., ..., 0., 0., 0.])"
      ]
     },
     "metadata": {},
     "execution_count": 46
    }
   ],
   "source": [
    "calculate_correlations_and_save(X_diffs_all, Y_diffs_all, 'corr_pearson', pearsonr, mri_dims, data_id, affine)\n",
    "calculate_correlations_and_save(X_diffs_KO, Y_diffs_KO, 'corr_pearson_KO', pearsonr, mri_dims, data_id, affine)\n",
    "calculate_correlations_and_save(X_diffs_WT, Y_diffs_WT, 'corr_pearson_WT', pearsonr, mri_dims, data_id, affine)"
   ]
  },
  {
   "source": [
    "## Compute the Kendall Correlations "
   ],
   "cell_type": "markdown",
   "metadata": {}
  },
  {
   "cell_type": "code",
   "execution_count": 45,
   "metadata": {},
   "outputs": [
    {
     "output_type": "execute_result",
     "data": {
      "text/plain": [
       "array([0., 0., 0., ..., 0., 0., 0.])"
      ]
     },
     "metadata": {},
     "execution_count": 45
    }
   ],
   "source": [
    "calculate_correlations_and_save(X_diffs_all, Y_diffs_all, 'corr_kendall', kendalltau, mri_dims, data_id, affine)\n",
    "calculate_correlations_and_save(X_diffs_KO, Y_diffs_KO, 'corr_kendall_KO', kendalltau, mri_dims, data_id, affine)\n",
    "calculate_correlations_and_save(X_diffs_WT, Y_diffs_WT, 'corr_kendall_WT', kendalltau, mri_dims, data_id, affine)"
   ]
  },
  {
   "cell_type": "code",
   "execution_count": null,
   "metadata": {},
   "outputs": [],
   "source": [
    "import matplotlib.lines as mlines\n",
    "plt.scatter(all_data['X_diffs'], all_data['Y_diffs'])\n",
    "\n",
    "m, b = np.polyfit(all_data['X_diffs'], all_data['Y_diffs'],  1)\n",
    "\n",
    "#add linear regression line to scatterplot \n",
    "plt.plot(all_data['X_diffs'], m*all_data['X_diffs']+b)\n",
    "\n",
    "plt.ylabel('Change in time spent in light')\n",
    "plt.xlabel('Change in MRI activity')\n",
    "plt.suptitle('X and Y Diffs for voxel at (26, 137, 37')\n",
    "plt.show()"
   ]
  }
 ]
}