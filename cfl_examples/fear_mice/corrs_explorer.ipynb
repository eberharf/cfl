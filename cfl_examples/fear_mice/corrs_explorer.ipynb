{
 "metadata": {
  "language_info": {
   "codemirror_mode": {
    "name": "ipython",
    "version": 3
   },
   "file_extension": ".py",
   "mimetype": "text/x-python",
   "name": "python",
   "nbconvert_exporter": "python",
   "pygments_lexer": "ipython3",
   "version": "3.8.5-final"
  },
  "orig_nbformat": 2,
  "kernelspec": {
   "name": "cfl-env",
   "display_name": "cfl-env",
   "language": "python"
  }
 },
 "nbformat": 4,
 "nbformat_minor": 2,
 "cells": [
  {
   "cell_type": "code",
   "execution_count": 2,
   "metadata": {},
   "outputs": [
    {
     "output_type": "stream",
     "name": "stdout",
     "text": [
      "(124, 200, 82)\n"
     ]
    }
   ],
   "source": [
    "# Import needed packages for analysis\n",
    "import os\n",
    "\n",
    "import numpy as np\n",
    "import pandas as pd\n",
    "import matplotlib.pyplot as plt\n",
    "import nibabel as nib\n",
    "\n",
    "import cfl.util.brain_util as BU\n",
    "import cfl.util.brain_vis as BV\n",
    "\n",
    "# load response data \n",
    "Y = pd.read_pickle('Y.pkl')\n",
    "\n",
    "behav_csv = 'PTSD_Data_Share\\Behavior_data\\PTSD_PerLight.csv'\n",
    "mri_dir = 'PTSD_Data_Share\\MEMRI_data'\n",
    "\n",
    "# load one image to check out its dimensions\n",
    "img = BU.load_brain(os.path.join(mri_dir, \"PTSD_KO_03_BL.nii\"), ori='RPS')\n",
    "mri_dims = img.shape\n",
    "print(mri_dims)\n",
    "\n",
    "# load all the images in RAS orientation \n",
    "X, Y_unused = BU.load_data(mri_dir, behav_csv, mri_dims, ori='RPS')"
   ]
  },
  {
   "source": [
    "# knockout corrs\n",
    "\n",
    "voxel and corr value \n",
    "56, 151, 60  = 0.8667"
   ],
   "cell_type": "markdown",
   "metadata": {}
  },
  {
   "cell_type": "code",
   "execution_count": 20,
   "metadata": {},
   "outputs": [],
   "source": [
    "# timepoints dir\n",
    "baseline_indices = Y[Y[\"Timepoint\"]==\"BL\"].index.tolist()\n",
    "prefear_indices = Y[Y[\"Timepoint\"]==\"PreF\"].index.tolist()\n",
    "postfear_indices = Y[Y[\"Timepoint\"]==\"Fear\"].index.tolist()\n",
    "d9_indices = Y[Y[\"Timepoint\"]==\"D9\"].index.tolist() \n",
    "timepoints_dir = {'BL' : baseline_indices, 'PreF': prefear_indices, \"Fear\": postfear_indices, 'D9': d9_indices}\n",
    "\n",
    "# function to get the indices for each timepoint/genotype\n",
    "def indices_by_genotype_timepoint(X, Y): \n",
    "    baseline_indices = Y[Y[\"Timepoint\"]==\"BL\"].index.tolist()\n",
    "    prefear_indices = Y[Y[\"Timepoint\"]==\"PreF\"].index.tolist()\n",
    "    postfear_indices = Y[Y[\"Timepoint\"]==\"Fear\"].index.tolist()\n",
    "    d9_indices = Y[Y[\"Timepoint\"]==\"D9\"].index.tolist() \n",
    "    timepoints_dir = {'BL' : baseline_indices, 'PreF': prefear_indices, \"Fear\": postfear_indices, 'D9': d9_indices}\n",
    "\n",
    "    \n",
    "    WT_indices = Y[Y[\"Genotype\"]==\"WT\"].index.tolist()\n",
    "    KO_indices = Y[Y[\"Genotype\"]==\"KO\"].index.tolist() \n",
    "\n",
    "    agg_dir = {}\n",
    "    for timepoint in timepoints_dir: \n",
    "        KO_key = timepoint + '_KO'\n",
    "        KO_time_indices = list(set(KO_indices).intersection(set(timepoints_dir[timepoint])))\n",
    "        agg_dir[KO_key] = KO_time_indices\n",
    "\n",
    "        WT_key = timepoint + '_WT'\n",
    "        WT_time_indices = list(set(WT_indices).intersection(set(timepoints_dir[timepoint])))\n",
    "        agg_dir[WT_key] = WT_time_indices\n",
    "    return agg_dir\n",
    "\n",
    "\n",
    "indices_dir = indices_by_genotype_timepoint(X, Y)"
   ]
  },
  {
   "cell_type": "code",
   "execution_count": 27,
   "metadata": {},
   "outputs": [],
   "source": [
    "Y_KO_diffs = Y.PerLight[(Y.Timepoint==\"Fear\") & (Y.Genotype==\"KO\")].to_numpy() - Y.PerLight[(Y.Timepoint==\"PreF\") & (Y.Genotype==\"KO\")].to_numpy()\n",
    "X_KO_diffs = X[indices_dir['Fear_KO']] - X[indices_dir['PreF_KO']]"
   ]
  },
  {
   "cell_type": "code",
   "execution_count": 5,
   "metadata": {},
   "outputs": [],
   "source": [
    "from scipy.stats import pearsonr"
   ]
  },
  {
   "cell_type": "code",
   "execution_count": 23,
   "metadata": {},
   "outputs": [
    {
     "output_type": "execute_result",
     "data": {
      "text/plain": [
       "(10, 2033600)"
      ]
     },
     "metadata": {},
     "execution_count": 23
    }
   ],
   "source": [
    "X_KO_diffs.shape"
   ]
  },
  {
   "cell_type": "code",
   "execution_count": 24,
   "metadata": {},
   "outputs": [],
   "source": [
    "X_KO_diffs_unflat = np.reshape(X_KO_diffs, (10, 124, 200, 82))"
   ]
  },
  {
   "cell_type": "code",
   "execution_count": 26,
   "metadata": {},
   "outputs": [
    {
     "output_type": "execute_result",
     "data": {
      "text/plain": [
       "array([  562.,   -54., -3253.,   637.,   609.,   257., -1868.,  1380.,\n",
       "         330.,   184.], dtype=float32)"
      ]
     },
     "metadata": {},
     "execution_count": 26
    }
   ],
   "source": [
    "X_KO_diffs_unflat[:, 56, 151, 60]"
   ]
  },
  {
   "cell_type": "code",
   "execution_count": 28,
   "metadata": {},
   "outputs": [
    {
     "output_type": "execute_result",
     "data": {
      "text/plain": [
       "(0.8214991390920858, 0.0035591596209353085)"
      ]
     },
     "metadata": {},
     "execution_count": 28
    }
   ],
   "source": [
    "pearsonr(X_KO_diffs_unflat[:, 56, 151, 60], Y_KO_diffs)"
   ]
  },
  {
   "cell_type": "code",
   "execution_count": 29,
   "metadata": {},
   "outputs": [],
   "source": [
    "corrs_KO = np.load('corrs_KO.npy')"
   ]
  },
  {
   "cell_type": "code",
   "execution_count": 31,
   "metadata": {},
   "outputs": [
    {
     "output_type": "execute_result",
     "data": {
      "text/plain": [
       "0.8214991390920858"
      ]
     },
     "metadata": {},
     "execution_count": 31
    }
   ],
   "source": [
    "BU.unflatten(corrs_KO, mri_dims)[56, 151, 60]"
   ]
  },
  {
   "source": [
    "Another voxel at corrs KO \n",
    "\n",
    "38, 80, 28 = 0.82028"
   ],
   "cell_type": "markdown",
   "metadata": {}
  },
  {
   "cell_type": "code",
   "execution_count": 32,
   "metadata": {},
   "outputs": [
    {
     "output_type": "execute_result",
     "data": {
      "text/plain": [
       "(-0.16921015623666774, 0.6402700409277601)"
      ]
     },
     "metadata": {},
     "execution_count": 32
    }
   ],
   "source": [
    "pearsonr(X_KO_diffs_unflat[:, 38, 80, 28], Y_KO_diffs)"
   ]
  },
  {
   "source": [
    "# Conclusion: the voxel locations that I'm seeing in FSL for the KO coordinates are not lining "
   ],
   "cell_type": "markdown",
   "metadata": {}
  },
  {
   "source": [
    "## Try again with the all-genotypes correlations (which is correctly oriented in FSL )\n",
    "\n",
    "\n",
    "some values from FSL: \n",
    "\n",
    "(26, 137, 37) = 0.28109  \n",
    "(31, 132, 40) = 0.49961"
   ],
   "cell_type": "markdown",
   "metadata": {}
  },
  {
   "cell_type": "code",
   "execution_count": 33,
   "metadata": {},
   "outputs": [],
   "source": [
    "corrs_og = np.load('corrs_og.npy')"
   ]
  },
  {
   "cell_type": "code",
   "execution_count": 35,
   "metadata": {},
   "outputs": [],
   "source": [
    "Y_diffs = Y.PerLight[timepoints_dir[\"Fear\"]].to_numpy() - Y.PerLight[timepoints_dir[\"PreF\"]].to_numpy()\n",
    "X_diffs = X[timepoints_dir[\"Fear\"]] - X[timepoints_dir[\"PreF\"]]\n",
    "\n",
    "X_diffs_unflat = np.reshape(X_diffs, (20, 124, 200, 82))"
   ]
  },
  {
   "cell_type": "code",
   "execution_count": 37,
   "metadata": {},
   "outputs": [
    {
     "output_type": "execute_result",
     "data": {
      "text/plain": [
       "(0.2810943831027688, 0.22992869740505514)"
      ]
     },
     "metadata": {},
     "execution_count": 37
    }
   ],
   "source": [
    "pearsonr(X_diffs_unflat[:, 26, 137, 37], Y_diffs)"
   ]
  },
  {
   "cell_type": "code",
   "execution_count": 83,
   "metadata": {},
   "outputs": [],
   "source": [
    "corr_current = pearsonr(X_diffs_unflat[:, 31, 132, 40], Y_diffs)"
   ]
  },
  {
   "source": [
    "### Yes! These values correspond with what we see in the image when we view in FSL. Now let's look at them closer"
   ],
   "cell_type": "markdown",
   "metadata": {}
  },
  {
   "cell_type": "code",
   "execution_count": null,
   "metadata": {},
   "outputs": [],
   "source": []
  },
  {
   "cell_type": "code",
   "execution_count": 66,
   "metadata": {},
   "outputs": [],
   "source": [
    "X_unflat = np.reshape(X, (79, 124, 200, 82))"
   ]
  },
  {
   "cell_type": "code",
   "execution_count": 102,
   "metadata": {},
   "outputs": [
    {
     "output_type": "execute_result",
     "data": {
      "text/plain": [
       "    X_fear  X_prefear  X_diffs    Y_fear  Y_prefear   Y_diffs\n",
       "0   7764.0     7739.0     25.0  0.719592   0.840247  0.120656\n",
       "1   8058.0     7254.0    804.0  0.958724   0.868174 -0.090550\n",
       "2   6902.0     7879.0   -977.0  0.979551   0.496130 -0.483421\n",
       "3   7266.0     7834.0   -568.0  0.898240   0.799589 -0.098651\n",
       "4   8519.0     8034.0    485.0  0.854896   0.773725 -0.081171\n",
       "5   7623.0     7970.0   -347.0  0.884018   0.694953 -0.189066\n",
       "6   7749.0     7539.0    210.0  0.917001   0.439050 -0.477951\n",
       "7   6694.0     8010.0  -1316.0  0.824071   0.845317  0.021246\n",
       "8   9587.0     7785.0   1802.0  0.969095   0.793422 -0.175673\n",
       "9   4967.0     7174.0  -2207.0  0.913290   0.555376 -0.357914\n",
       "10  8827.0     7121.0   1706.0  0.867121   0.550776 -0.316345\n",
       "11  7736.0     7550.0    186.0  0.728247   0.545832 -0.182415\n",
       "12  6998.0     8187.0  -1189.0  0.797949   0.416442 -0.381507\n",
       "13  8175.0     7634.0    541.0  0.769994   0.603200 -0.166794\n",
       "14  8912.0     7174.0   1738.0  0.556367   0.615147  0.058780\n",
       "15  8151.0     7173.0    978.0  0.673378   0.544243 -0.129135\n",
       "16  7134.0     8030.0   -896.0  0.818791   0.353219 -0.465572\n",
       "17  7632.0     8429.0   -797.0  0.934340   0.724196 -0.210145\n",
       "18  8069.0     7000.0   1069.0  0.899454   0.639404 -0.260050\n",
       "19  7685.0     8239.0   -554.0  0.756116   0.726004 -0.030112"
      ],
      "text/html": "<div>\n<style scoped>\n    .dataframe tbody tr th:only-of-type {\n        vertical-align: middle;\n    }\n\n    .dataframe tbody tr th {\n        vertical-align: top;\n    }\n\n    .dataframe thead th {\n        text-align: right;\n    }\n</style>\n<table border=\"1\" class=\"dataframe\">\n  <thead>\n    <tr style=\"text-align: right;\">\n      <th></th>\n      <th>X_fear</th>\n      <th>X_prefear</th>\n      <th>X_diffs</th>\n      <th>Y_fear</th>\n      <th>Y_prefear</th>\n      <th>Y_diffs</th>\n    </tr>\n  </thead>\n  <tbody>\n    <tr>\n      <th>0</th>\n      <td>7764.0</td>\n      <td>7739.0</td>\n      <td>25.0</td>\n      <td>0.719592</td>\n      <td>0.840247</td>\n      <td>0.120656</td>\n    </tr>\n    <tr>\n      <th>1</th>\n      <td>8058.0</td>\n      <td>7254.0</td>\n      <td>804.0</td>\n      <td>0.958724</td>\n      <td>0.868174</td>\n      <td>-0.090550</td>\n    </tr>\n    <tr>\n      <th>2</th>\n      <td>6902.0</td>\n      <td>7879.0</td>\n      <td>-977.0</td>\n      <td>0.979551</td>\n      <td>0.496130</td>\n      <td>-0.483421</td>\n    </tr>\n    <tr>\n      <th>3</th>\n      <td>7266.0</td>\n      <td>7834.0</td>\n      <td>-568.0</td>\n      <td>0.898240</td>\n      <td>0.799589</td>\n      <td>-0.098651</td>\n    </tr>\n    <tr>\n      <th>4</th>\n      <td>8519.0</td>\n      <td>8034.0</td>\n      <td>485.0</td>\n      <td>0.854896</td>\n      <td>0.773725</td>\n      <td>-0.081171</td>\n    </tr>\n    <tr>\n      <th>5</th>\n      <td>7623.0</td>\n      <td>7970.0</td>\n      <td>-347.0</td>\n      <td>0.884018</td>\n      <td>0.694953</td>\n      <td>-0.189066</td>\n    </tr>\n    <tr>\n      <th>6</th>\n      <td>7749.0</td>\n      <td>7539.0</td>\n      <td>210.0</td>\n      <td>0.917001</td>\n      <td>0.439050</td>\n      <td>-0.477951</td>\n    </tr>\n    <tr>\n      <th>7</th>\n      <td>6694.0</td>\n      <td>8010.0</td>\n      <td>-1316.0</td>\n      <td>0.824071</td>\n      <td>0.845317</td>\n      <td>0.021246</td>\n    </tr>\n    <tr>\n      <th>8</th>\n      <td>9587.0</td>\n      <td>7785.0</td>\n      <td>1802.0</td>\n      <td>0.969095</td>\n      <td>0.793422</td>\n      <td>-0.175673</td>\n    </tr>\n    <tr>\n      <th>9</th>\n      <td>4967.0</td>\n      <td>7174.0</td>\n      <td>-2207.0</td>\n      <td>0.913290</td>\n      <td>0.555376</td>\n      <td>-0.357914</td>\n    </tr>\n    <tr>\n      <th>10</th>\n      <td>8827.0</td>\n      <td>7121.0</td>\n      <td>1706.0</td>\n      <td>0.867121</td>\n      <td>0.550776</td>\n      <td>-0.316345</td>\n    </tr>\n    <tr>\n      <th>11</th>\n      <td>7736.0</td>\n      <td>7550.0</td>\n      <td>186.0</td>\n      <td>0.728247</td>\n      <td>0.545832</td>\n      <td>-0.182415</td>\n    </tr>\n    <tr>\n      <th>12</th>\n      <td>6998.0</td>\n      <td>8187.0</td>\n      <td>-1189.0</td>\n      <td>0.797949</td>\n      <td>0.416442</td>\n      <td>-0.381507</td>\n    </tr>\n    <tr>\n      <th>13</th>\n      <td>8175.0</td>\n      <td>7634.0</td>\n      <td>541.0</td>\n      <td>0.769994</td>\n      <td>0.603200</td>\n      <td>-0.166794</td>\n    </tr>\n    <tr>\n      <th>14</th>\n      <td>8912.0</td>\n      <td>7174.0</td>\n      <td>1738.0</td>\n      <td>0.556367</td>\n      <td>0.615147</td>\n      <td>0.058780</td>\n    </tr>\n    <tr>\n      <th>15</th>\n      <td>8151.0</td>\n      <td>7173.0</td>\n      <td>978.0</td>\n      <td>0.673378</td>\n      <td>0.544243</td>\n      <td>-0.129135</td>\n    </tr>\n    <tr>\n      <th>16</th>\n      <td>7134.0</td>\n      <td>8030.0</td>\n      <td>-896.0</td>\n      <td>0.818791</td>\n      <td>0.353219</td>\n      <td>-0.465572</td>\n    </tr>\n    <tr>\n      <th>17</th>\n      <td>7632.0</td>\n      <td>8429.0</td>\n      <td>-797.0</td>\n      <td>0.934340</td>\n      <td>0.724196</td>\n      <td>-0.210145</td>\n    </tr>\n    <tr>\n      <th>18</th>\n      <td>8069.0</td>\n      <td>7000.0</td>\n      <td>1069.0</td>\n      <td>0.899454</td>\n      <td>0.639404</td>\n      <td>-0.260050</td>\n    </tr>\n    <tr>\n      <th>19</th>\n      <td>7685.0</td>\n      <td>8239.0</td>\n      <td>-554.0</td>\n      <td>0.756116</td>\n      <td>0.726004</td>\n      <td>-0.030112</td>\n    </tr>\n  </tbody>\n</table>\n</div>"
     },
     "metadata": {},
     "execution_count": 102
    }
   ],
   "source": [
    "all_data = {'X_fear':  X_unflat[timepoints_dir[\"Fear\"]][:, 26, 137, 37], \n",
    "        'X_prefear':  X_unflat[timepoints_dir[\"PreF\"]][:, 26, 137, 37], \n",
    "        'X_diffs': X_diffs_unflat[:, 26, 137, 37], \n",
    "        'Y_fear': Y.PerLight[timepoints_dir[\"Fear\"]].to_numpy(), \n",
    "        'Y_prefear': Y.PerLight[timepoints_dir[\"PreF\"]].to_numpy(), \n",
    "        'Y_diffs': Y_diffs, \n",
    "        }\n",
    "\n",
    "df = pd.DataFrame(all_data)\n",
    "df"
   ]
  },
  {
   "cell_type": "code",
   "execution_count": 103,
   "metadata": {},
   "outputs": [
    {
     "output_type": "execute_result",
     "data": {
      "text/plain": [
       "(-0.2810943831027688, 0.22992869740505514)"
      ]
     },
     "metadata": {},
     "execution_count": 103
    }
   ],
   "source": [
    "pearsonr(all_data['X_diffs'],-1* all_data['Y_diffs'])"
   ]
  },
  {
   "cell_type": "code",
   "execution_count": 76,
   "metadata": {},
   "outputs": [
    {
     "output_type": "execute_result",
     "data": {
      "text/plain": [
       "    X_diffs   Y_diffs\n",
       "9   -2207.0 -0.357914\n",
       "7   -1316.0  0.021246\n",
       "12  -1189.0 -0.381507\n",
       "2    -977.0 -0.483421\n",
       "16   -896.0 -0.465572\n",
       "17   -797.0 -0.210145\n",
       "3    -568.0 -0.098651\n",
       "19   -554.0 -0.030112\n",
       "5    -347.0 -0.189066\n",
       "0      25.0  0.120656\n",
       "11    186.0 -0.182415\n",
       "6     210.0 -0.477951\n",
       "4     485.0 -0.081171\n",
       "13    541.0 -0.166794\n",
       "1     804.0 -0.090550\n",
       "15    978.0 -0.129135\n",
       "18   1069.0 -0.260050\n",
       "10   1706.0 -0.316345\n",
       "14   1738.0  0.058780\n",
       "8    1802.0 -0.175673"
      ],
      "text/html": "<div>\n<style scoped>\n    .dataframe tbody tr th:only-of-type {\n        vertical-align: middle;\n    }\n\n    .dataframe tbody tr th {\n        vertical-align: top;\n    }\n\n    .dataframe thead th {\n        text-align: right;\n    }\n</style>\n<table border=\"1\" class=\"dataframe\">\n  <thead>\n    <tr style=\"text-align: right;\">\n      <th></th>\n      <th>X_diffs</th>\n      <th>Y_diffs</th>\n    </tr>\n  </thead>\n  <tbody>\n    <tr>\n      <th>9</th>\n      <td>-2207.0</td>\n      <td>-0.357914</td>\n    </tr>\n    <tr>\n      <th>7</th>\n      <td>-1316.0</td>\n      <td>0.021246</td>\n    </tr>\n    <tr>\n      <th>12</th>\n      <td>-1189.0</td>\n      <td>-0.381507</td>\n    </tr>\n    <tr>\n      <th>2</th>\n      <td>-977.0</td>\n      <td>-0.483421</td>\n    </tr>\n    <tr>\n      <th>16</th>\n      <td>-896.0</td>\n      <td>-0.465572</td>\n    </tr>\n    <tr>\n      <th>17</th>\n      <td>-797.0</td>\n      <td>-0.210145</td>\n    </tr>\n    <tr>\n      <th>3</th>\n      <td>-568.0</td>\n      <td>-0.098651</td>\n    </tr>\n    <tr>\n      <th>19</th>\n      <td>-554.0</td>\n      <td>-0.030112</td>\n    </tr>\n    <tr>\n      <th>5</th>\n      <td>-347.0</td>\n      <td>-0.189066</td>\n    </tr>\n    <tr>\n      <th>0</th>\n      <td>25.0</td>\n      <td>0.120656</td>\n    </tr>\n    <tr>\n      <th>11</th>\n      <td>186.0</td>\n      <td>-0.182415</td>\n    </tr>\n    <tr>\n      <th>6</th>\n      <td>210.0</td>\n      <td>-0.477951</td>\n    </tr>\n    <tr>\n      <th>4</th>\n      <td>485.0</td>\n      <td>-0.081171</td>\n    </tr>\n    <tr>\n      <th>13</th>\n      <td>541.0</td>\n      <td>-0.166794</td>\n    </tr>\n    <tr>\n      <th>1</th>\n      <td>804.0</td>\n      <td>-0.090550</td>\n    </tr>\n    <tr>\n      <th>15</th>\n      <td>978.0</td>\n      <td>-0.129135</td>\n    </tr>\n    <tr>\n      <th>18</th>\n      <td>1069.0</td>\n      <td>-0.260050</td>\n    </tr>\n    <tr>\n      <th>10</th>\n      <td>1706.0</td>\n      <td>-0.316345</td>\n    </tr>\n    <tr>\n      <th>14</th>\n      <td>1738.0</td>\n      <td>0.058780</td>\n    </tr>\n    <tr>\n      <th>8</th>\n      <td>1802.0</td>\n      <td>-0.175673</td>\n    </tr>\n  </tbody>\n</table>\n</div>"
     },
     "metadata": {},
     "execution_count": 76
    }
   ],
   "source": [
    "df_small = pd.DataFrame(all_data, columns=['X_diffs', 'Y_diffs'])\n",
    "df_small.sort_values(by=['X_diffs'], inplace=True)\n",
    "df_small "
   ]
  },
  {
   "cell_type": "code",
   "execution_count": 101,
   "metadata": {},
   "outputs": [
    {
     "output_type": "display_data",
     "data": {
      "text/plain": "<Figure size 432x288 with 1 Axes>",
      "image/svg+xml": "<?xml version=\"1.0\" encoding=\"utf-8\" standalone=\"no\"?>\r\n<!DOCTYPE svg PUBLIC \"-//W3C//DTD SVG 1.1//EN\"\r\n  \"http://www.w3.org/Graphics/SVG/1.1/DTD/svg11.dtd\">\r\n<!-- Created with matplotlib (https://matplotlib.org/) -->\r\n<svg height=\"290.99625pt\" version=\"1.1\" viewBox=\"0 0 406.699933 290.99625\" width=\"406.699933pt\" xmlns=\"http://www.w3.org/2000/svg\" xmlns:xlink=\"http://www.w3.org/1999/xlink\">\r\n <metadata>\r\n  <rdf:RDF xmlns:cc=\"http://creativecommons.org/ns#\" xmlns:dc=\"http://purl.org/dc/elements/1.1/\" xmlns:rdf=\"http://www.w3.org/1999/02/22-rdf-syntax-ns#\">\r\n   <cc:Work>\r\n    <dc:type rdf:resource=\"http://purl.org/dc/dcmitype/StillImage\"/>\r\n    <dc:date>2021-02-03T14:27:58.434633</dc:date>\r\n    <dc:format>image/svg+xml</dc:format>\r\n    <dc:creator>\r\n     <cc:Agent>\r\n      <dc:title>Matplotlib v3.3.1, https://matplotlib.org/</dc:title>\r\n     </cc:Agent>\r\n    </dc:creator>\r\n   </cc:Work>\r\n  </rdf:RDF>\r\n </metadata>\r\n <defs>\r\n  <style type=\"text/css\">*{stroke-linecap:butt;stroke-linejoin:round;}</style>\r\n </defs>\r\n <g id=\"figure_1\">\r\n  <g id=\"patch_1\">\r\n   <path d=\"M -0 290.99625 \r\nL 406.699933 290.99625 \r\nL 406.699933 0 \r\nL -0 0 \r\nz\r\n\" style=\"fill:none;\"/>\r\n  </g>\r\n  <g id=\"axes_1\">\r\n   <g id=\"patch_2\">\r\n    <path d=\"M 52.160938 253.44 \r\nL 386.960938 253.44 \r\nL 386.960938 36 \r\nL 52.160938 36 \r\nz\r\n\" style=\"fill:#ffffff;\"/>\r\n   </g>\r\n   <g id=\"PathCollection_1\">\r\n    <defs>\r\n     <path d=\"M 0 3 \r\nC 0.795609 3 1.55874 2.683901 2.12132 2.12132 \r\nC 2.683901 1.55874 3 0.795609 3 0 \r\nC 3 -0.795609 2.683901 -1.55874 2.12132 -2.12132 \r\nC 1.55874 -2.683901 0.795609 -3 0 -3 \r\nC -0.795609 -3 -1.55874 -2.683901 -2.12132 -2.12132 \r\nC -2.683901 -1.55874 -3 -0.795609 -3 0 \r\nC -3 0.795609 -2.683901 1.55874 -2.12132 2.12132 \r\nC -1.55874 2.683901 -0.795609 3 0 3 \r\nz\r\n\" id=\"m29f58dd491\" style=\"stroke:#1f77b4;\"/>\r\n    </defs>\r\n    <g clip-path=\"url(#p71265e72ac)\">\r\n     <use style=\"fill:#1f77b4;stroke:#1f77b4;\" x=\"236.832758\" xlink:href=\"#m29f58dd491\" y=\"45.883636\"/>\r\n     <use style=\"fill:#1f77b4;stroke:#1f77b4;\" x=\"295.974507\" xlink:href=\"#m29f58dd491\" y=\"114.996776\"/>\r\n     <use style=\"fill:#1f77b4;stroke:#1f77b4;\" x=\"160.760829\" xlink:href=\"#m29f58dd491\" y=\"243.556364\"/>\r\n     <use style=\"fill:#1f77b4;stroke:#1f77b4;\" x=\"191.812145\" xlink:href=\"#m29f58dd491\" y=\"117.64782\"/>\r\n     <use style=\"fill:#1f77b4;stroke:#1f77b4;\" x=\"271.755999\" xlink:href=\"#m29f58dd491\" y=\"111.927813\"/>\r\n     <use style=\"fill:#1f77b4;stroke:#1f77b4;\" x=\"208.590485\" xlink:href=\"#m29f58dd491\" y=\"147.234118\"/>\r\n     <use style=\"fill:#1f77b4;stroke:#1f77b4;\" x=\"250.877974\" xlink:href=\"#m29f58dd491\" y=\"241.766496\"/>\r\n     <use style=\"fill:#1f77b4;stroke:#1f77b4;\" x=\"135.023919\" xlink:href=\"#m29f58dd491\" y=\"78.413603\"/>\r\n     <use style=\"fill:#1f77b4;stroke:#1f77b4;\" x=\"371.742756\" xlink:href=\"#m29f58dd491\" y=\"142.851625\"/>\r\n     <use style=\"fill:#1f77b4;stroke:#1f77b4;\" x=\"67.379119\" xlink:href=\"#m29f58dd491\" y=\"202.486491\"/>\r\n     <use style=\"fill:#1f77b4;stroke:#1f77b4;\" x=\"364.454427\" xlink:href=\"#m29f58dd491\" y=\"188.883878\"/>\r\n     <use style=\"fill:#1f77b4;stroke:#1f77b4;\" x=\"249.055892\" xlink:href=\"#m29f58dd491\" y=\"145.057762\"/>\r\n     <use style=\"fill:#1f77b4;stroke:#1f77b4;\" x=\"144.66577\" xlink:href=\"#m29f58dd491\" y=\"210.206888\"/>\r\n     <use style=\"fill:#1f77b4;stroke:#1f77b4;\" x=\"276.007524\" xlink:href=\"#m29f58dd491\" y=\"139.94625\"/>\r\n     <use style=\"fill:#1f77b4;stroke:#1f77b4;\" x=\"366.88387\" xlink:href=\"#m29f58dd491\" y=\"66.131335\"/>\r\n     <use style=\"fill:#1f77b4;stroke:#1f77b4;\" x=\"309.184602\" xlink:href=\"#m29f58dd491\" y=\"127.623073\"/>\r\n     <use style=\"fill:#1f77b4;stroke:#1f77b4;\" x=\"166.910356\" xlink:href=\"#m29f58dd491\" y=\"237.715769\"/>\r\n     <use style=\"fill:#1f77b4;stroke:#1f77b4;\" x=\"174.426445\" xlink:href=\"#m29f58dd491\" y=\"154.131902\"/>\r\n     <use style=\"fill:#1f77b4;stroke:#1f77b4;\" x=\"316.093331\" xlink:href=\"#m29f58dd491\" y=\"170.462386\"/>\r\n     <use style=\"fill:#1f77b4;stroke:#1f77b4;\" x=\"192.875026\" xlink:href=\"#m29f58dd491\" y=\"95.219529\"/>\r\n    </g>\r\n   </g>\r\n   <g id=\"matplotlib.axis_1\">\r\n    <g id=\"xtick_1\">\r\n     <g id=\"line2d_1\">\r\n      <defs>\r\n       <path d=\"M 0 0 \r\nL 0 3.5 \r\n\" id=\"m568f2b5385\" style=\"stroke:#000000;stroke-width:0.8;\"/>\r\n      </defs>\r\n      <g>\r\n       <use style=\"stroke:#000000;stroke-width:0.8;\" x=\"83.094578\" xlink:href=\"#m568f2b5385\" y=\"253.44\"/>\r\n      </g>\r\n     </g>\r\n     <g id=\"text_1\">\r\n      <!-- −2000 -->\r\n      <g transform=\"translate(66.179734 268.038437)scale(0.1 -0.1)\">\r\n       <defs>\r\n        <path d=\"M 10.59375 35.5 \r\nL 73.1875 35.5 \r\nL 73.1875 27.203125 \r\nL 10.59375 27.203125 \r\nz\r\n\" id=\"DejaVuSans-8722\"/>\r\n        <path d=\"M 19.1875 8.296875 \r\nL 53.609375 8.296875 \r\nL 53.609375 0 \r\nL 7.328125 0 \r\nL 7.328125 8.296875 \r\nQ 12.9375 14.109375 22.625 23.890625 \r\nQ 32.328125 33.6875 34.8125 36.53125 \r\nQ 39.546875 41.84375 41.421875 45.53125 \r\nQ 43.3125 49.21875 43.3125 52.78125 \r\nQ 43.3125 58.59375 39.234375 62.25 \r\nQ 35.15625 65.921875 28.609375 65.921875 \r\nQ 23.96875 65.921875 18.8125 64.3125 \r\nQ 13.671875 62.703125 7.8125 59.421875 \r\nL 7.8125 69.390625 \r\nQ 13.765625 71.78125 18.9375 73 \r\nQ 24.125 74.21875 28.421875 74.21875 \r\nQ 39.75 74.21875 46.484375 68.546875 \r\nQ 53.21875 62.890625 53.21875 53.421875 \r\nQ 53.21875 48.921875 51.53125 44.890625 \r\nQ 49.859375 40.875 45.40625 35.40625 \r\nQ 44.1875 33.984375 37.640625 27.21875 \r\nQ 31.109375 20.453125 19.1875 8.296875 \r\nz\r\n\" id=\"DejaVuSans-50\"/>\r\n        <path d=\"M 31.78125 66.40625 \r\nQ 24.171875 66.40625 20.328125 58.90625 \r\nQ 16.5 51.421875 16.5 36.375 \r\nQ 16.5 21.390625 20.328125 13.890625 \r\nQ 24.171875 6.390625 31.78125 6.390625 \r\nQ 39.453125 6.390625 43.28125 13.890625 \r\nQ 47.125 21.390625 47.125 36.375 \r\nQ 47.125 51.421875 43.28125 58.90625 \r\nQ 39.453125 66.40625 31.78125 66.40625 \r\nz\r\nM 31.78125 74.21875 \r\nQ 44.046875 74.21875 50.515625 64.515625 \r\nQ 56.984375 54.828125 56.984375 36.375 \r\nQ 56.984375 17.96875 50.515625 8.265625 \r\nQ 44.046875 -1.421875 31.78125 -1.421875 \r\nQ 19.53125 -1.421875 13.0625 8.265625 \r\nQ 6.59375 17.96875 6.59375 36.375 \r\nQ 6.59375 54.828125 13.0625 64.515625 \r\nQ 19.53125 74.21875 31.78125 74.21875 \r\nz\r\n\" id=\"DejaVuSans-48\"/>\r\n       </defs>\r\n       <use xlink:href=\"#DejaVuSans-8722\"/>\r\n       <use x=\"83.789062\" xlink:href=\"#DejaVuSans-50\"/>\r\n       <use x=\"147.412109\" xlink:href=\"#DejaVuSans-48\"/>\r\n       <use x=\"211.035156\" xlink:href=\"#DejaVuSans-48\"/>\r\n       <use x=\"274.658203\" xlink:href=\"#DejaVuSans-48\"/>\r\n      </g>\r\n     </g>\r\n    </g>\r\n    <g id=\"xtick_2\">\r\n     <g id=\"line2d_2\">\r\n      <g>\r\n       <use style=\"stroke:#000000;stroke-width:0.8;\" x=\"121.054622\" xlink:href=\"#m568f2b5385\" y=\"253.44\"/>\r\n      </g>\r\n     </g>\r\n     <g id=\"text_2\">\r\n      <!-- −1500 -->\r\n      <g transform=\"translate(104.139778 268.038437)scale(0.1 -0.1)\">\r\n       <defs>\r\n        <path d=\"M 12.40625 8.296875 \r\nL 28.515625 8.296875 \r\nL 28.515625 63.921875 \r\nL 10.984375 60.40625 \r\nL 10.984375 69.390625 \r\nL 28.421875 72.90625 \r\nL 38.28125 72.90625 \r\nL 38.28125 8.296875 \r\nL 54.390625 8.296875 \r\nL 54.390625 0 \r\nL 12.40625 0 \r\nz\r\n\" id=\"DejaVuSans-49\"/>\r\n        <path d=\"M 10.796875 72.90625 \r\nL 49.515625 72.90625 \r\nL 49.515625 64.59375 \r\nL 19.828125 64.59375 \r\nL 19.828125 46.734375 \r\nQ 21.96875 47.46875 24.109375 47.828125 \r\nQ 26.265625 48.1875 28.421875 48.1875 \r\nQ 40.625 48.1875 47.75 41.5 \r\nQ 54.890625 34.8125 54.890625 23.390625 \r\nQ 54.890625 11.625 47.5625 5.09375 \r\nQ 40.234375 -1.421875 26.90625 -1.421875 \r\nQ 22.3125 -1.421875 17.546875 -0.640625 \r\nQ 12.796875 0.140625 7.71875 1.703125 \r\nL 7.71875 11.625 \r\nQ 12.109375 9.234375 16.796875 8.0625 \r\nQ 21.484375 6.890625 26.703125 6.890625 \r\nQ 35.15625 6.890625 40.078125 11.328125 \r\nQ 45.015625 15.765625 45.015625 23.390625 \r\nQ 45.015625 31 40.078125 35.4375 \r\nQ 35.15625 39.890625 26.703125 39.890625 \r\nQ 22.75 39.890625 18.8125 39.015625 \r\nQ 14.890625 38.140625 10.796875 36.28125 \r\nz\r\n\" id=\"DejaVuSans-53\"/>\r\n       </defs>\r\n       <use xlink:href=\"#DejaVuSans-8722\"/>\r\n       <use x=\"83.789062\" xlink:href=\"#DejaVuSans-49\"/>\r\n       <use x=\"147.412109\" xlink:href=\"#DejaVuSans-53\"/>\r\n       <use x=\"211.035156\" xlink:href=\"#DejaVuSans-48\"/>\r\n       <use x=\"274.658203\" xlink:href=\"#DejaVuSans-48\"/>\r\n      </g>\r\n     </g>\r\n    </g>\r\n    <g id=\"xtick_3\">\r\n     <g id=\"line2d_3\">\r\n      <g>\r\n       <use style=\"stroke:#000000;stroke-width:0.8;\" x=\"159.014667\" xlink:href=\"#m568f2b5385\" y=\"253.44\"/>\r\n      </g>\r\n     </g>\r\n     <g id=\"text_3\">\r\n      <!-- −1000 -->\r\n      <g transform=\"translate(142.099823 268.038437)scale(0.1 -0.1)\">\r\n       <use xlink:href=\"#DejaVuSans-8722\"/>\r\n       <use x=\"83.789062\" xlink:href=\"#DejaVuSans-49\"/>\r\n       <use x=\"147.412109\" xlink:href=\"#DejaVuSans-48\"/>\r\n       <use x=\"211.035156\" xlink:href=\"#DejaVuSans-48\"/>\r\n       <use x=\"274.658203\" xlink:href=\"#DejaVuSans-48\"/>\r\n      </g>\r\n     </g>\r\n    </g>\r\n    <g id=\"xtick_4\">\r\n     <g id=\"line2d_4\">\r\n      <g>\r\n       <use style=\"stroke:#000000;stroke-width:0.8;\" x=\"196.974711\" xlink:href=\"#m568f2b5385\" y=\"253.44\"/>\r\n      </g>\r\n     </g>\r\n     <g id=\"text_4\">\r\n      <!-- −500 -->\r\n      <g transform=\"translate(183.241117 268.038437)scale(0.1 -0.1)\">\r\n       <use xlink:href=\"#DejaVuSans-8722\"/>\r\n       <use x=\"83.789062\" xlink:href=\"#DejaVuSans-53\"/>\r\n       <use x=\"147.412109\" xlink:href=\"#DejaVuSans-48\"/>\r\n       <use x=\"211.035156\" xlink:href=\"#DejaVuSans-48\"/>\r\n      </g>\r\n     </g>\r\n    </g>\r\n    <g id=\"xtick_5\">\r\n     <g id=\"line2d_5\">\r\n      <g>\r\n       <use style=\"stroke:#000000;stroke-width:0.8;\" x=\"234.934756\" xlink:href=\"#m568f2b5385\" y=\"253.44\"/>\r\n      </g>\r\n     </g>\r\n     <g id=\"text_5\">\r\n      <!-- 0 -->\r\n      <g transform=\"translate(231.753506 268.038437)scale(0.1 -0.1)\">\r\n       <use xlink:href=\"#DejaVuSans-48\"/>\r\n      </g>\r\n     </g>\r\n    </g>\r\n    <g id=\"xtick_6\">\r\n     <g id=\"line2d_6\">\r\n      <g>\r\n       <use style=\"stroke:#000000;stroke-width:0.8;\" x=\"272.8948\" xlink:href=\"#m568f2b5385\" y=\"253.44\"/>\r\n      </g>\r\n     </g>\r\n     <g id=\"text_6\">\r\n      <!-- 500 -->\r\n      <g transform=\"translate(263.35105 268.038437)scale(0.1 -0.1)\">\r\n       <use xlink:href=\"#DejaVuSans-53\"/>\r\n       <use x=\"63.623047\" xlink:href=\"#DejaVuSans-48\"/>\r\n       <use x=\"127.246094\" xlink:href=\"#DejaVuSans-48\"/>\r\n      </g>\r\n     </g>\r\n    </g>\r\n    <g id=\"xtick_7\">\r\n     <g id=\"line2d_7\">\r\n      <g>\r\n       <use style=\"stroke:#000000;stroke-width:0.8;\" x=\"310.854844\" xlink:href=\"#m568f2b5385\" y=\"253.44\"/>\r\n      </g>\r\n     </g>\r\n     <g id=\"text_7\">\r\n      <!-- 1000 -->\r\n      <g transform=\"translate(298.129844 268.038437)scale(0.1 -0.1)\">\r\n       <use xlink:href=\"#DejaVuSans-49\"/>\r\n       <use x=\"63.623047\" xlink:href=\"#DejaVuSans-48\"/>\r\n       <use x=\"127.246094\" xlink:href=\"#DejaVuSans-48\"/>\r\n       <use x=\"190.869141\" xlink:href=\"#DejaVuSans-48\"/>\r\n      </g>\r\n     </g>\r\n    </g>\r\n    <g id=\"xtick_8\">\r\n     <g id=\"line2d_8\">\r\n      <g>\r\n       <use style=\"stroke:#000000;stroke-width:0.8;\" x=\"348.814889\" xlink:href=\"#m568f2b5385\" y=\"253.44\"/>\r\n      </g>\r\n     </g>\r\n     <g id=\"text_8\">\r\n      <!-- 1500 -->\r\n      <g transform=\"translate(336.089889 268.038437)scale(0.1 -0.1)\">\r\n       <use xlink:href=\"#DejaVuSans-49\"/>\r\n       <use x=\"63.623047\" xlink:href=\"#DejaVuSans-53\"/>\r\n       <use x=\"127.246094\" xlink:href=\"#DejaVuSans-48\"/>\r\n       <use x=\"190.869141\" xlink:href=\"#DejaVuSans-48\"/>\r\n      </g>\r\n     </g>\r\n    </g>\r\n    <g id=\"xtick_9\">\r\n     <g id=\"line2d_9\">\r\n      <g>\r\n       <use style=\"stroke:#000000;stroke-width:0.8;\" x=\"386.774933\" xlink:href=\"#m568f2b5385\" y=\"253.44\"/>\r\n      </g>\r\n     </g>\r\n     <g id=\"text_9\">\r\n      <!-- 2000 -->\r\n      <g transform=\"translate(374.049933 268.038437)scale(0.1 -0.1)\">\r\n       <use xlink:href=\"#DejaVuSans-50\"/>\r\n       <use x=\"63.623047\" xlink:href=\"#DejaVuSans-48\"/>\r\n       <use x=\"127.246094\" xlink:href=\"#DejaVuSans-48\"/>\r\n       <use x=\"190.869141\" xlink:href=\"#DejaVuSans-48\"/>\r\n      </g>\r\n     </g>\r\n    </g>\r\n    <g id=\"text_10\">\r\n     <!-- Change in MRI activity -->\r\n     <g transform=\"translate(163.398438 281.716562)scale(0.1 -0.1)\">\r\n      <defs>\r\n       <path d=\"M 64.40625 67.28125 \r\nL 64.40625 56.890625 \r\nQ 59.421875 61.53125 53.78125 63.8125 \r\nQ 48.140625 66.109375 41.796875 66.109375 \r\nQ 29.296875 66.109375 22.65625 58.46875 \r\nQ 16.015625 50.828125 16.015625 36.375 \r\nQ 16.015625 21.96875 22.65625 14.328125 \r\nQ 29.296875 6.6875 41.796875 6.6875 \r\nQ 48.140625 6.6875 53.78125 8.984375 \r\nQ 59.421875 11.28125 64.40625 15.921875 \r\nL 64.40625 5.609375 \r\nQ 59.234375 2.09375 53.4375 0.328125 \r\nQ 47.65625 -1.421875 41.21875 -1.421875 \r\nQ 24.65625 -1.421875 15.125 8.703125 \r\nQ 5.609375 18.84375 5.609375 36.375 \r\nQ 5.609375 53.953125 15.125 64.078125 \r\nQ 24.65625 74.21875 41.21875 74.21875 \r\nQ 47.75 74.21875 53.53125 72.484375 \r\nQ 59.328125 70.75 64.40625 67.28125 \r\nz\r\n\" id=\"DejaVuSans-67\"/>\r\n       <path d=\"M 54.890625 33.015625 \r\nL 54.890625 0 \r\nL 45.90625 0 \r\nL 45.90625 32.71875 \r\nQ 45.90625 40.484375 42.875 44.328125 \r\nQ 39.84375 48.1875 33.796875 48.1875 \r\nQ 26.515625 48.1875 22.3125 43.546875 \r\nQ 18.109375 38.921875 18.109375 30.90625 \r\nL 18.109375 0 \r\nL 9.078125 0 \r\nL 9.078125 75.984375 \r\nL 18.109375 75.984375 \r\nL 18.109375 46.1875 \r\nQ 21.34375 51.125 25.703125 53.5625 \r\nQ 30.078125 56 35.796875 56 \r\nQ 45.21875 56 50.046875 50.171875 \r\nQ 54.890625 44.34375 54.890625 33.015625 \r\nz\r\n\" id=\"DejaVuSans-104\"/>\r\n       <path d=\"M 34.28125 27.484375 \r\nQ 23.390625 27.484375 19.1875 25 \r\nQ 14.984375 22.515625 14.984375 16.5 \r\nQ 14.984375 11.71875 18.140625 8.90625 \r\nQ 21.296875 6.109375 26.703125 6.109375 \r\nQ 34.1875 6.109375 38.703125 11.40625 \r\nQ 43.21875 16.703125 43.21875 25.484375 \r\nL 43.21875 27.484375 \r\nz\r\nM 52.203125 31.203125 \r\nL 52.203125 0 \r\nL 43.21875 0 \r\nL 43.21875 8.296875 \r\nQ 40.140625 3.328125 35.546875 0.953125 \r\nQ 30.953125 -1.421875 24.3125 -1.421875 \r\nQ 15.921875 -1.421875 10.953125 3.296875 \r\nQ 6 8.015625 6 15.921875 \r\nQ 6 25.140625 12.171875 29.828125 \r\nQ 18.359375 34.515625 30.609375 34.515625 \r\nL 43.21875 34.515625 \r\nL 43.21875 35.40625 \r\nQ 43.21875 41.609375 39.140625 45 \r\nQ 35.0625 48.390625 27.6875 48.390625 \r\nQ 23 48.390625 18.546875 47.265625 \r\nQ 14.109375 46.140625 10.015625 43.890625 \r\nL 10.015625 52.203125 \r\nQ 14.9375 54.109375 19.578125 55.046875 \r\nQ 24.21875 56 28.609375 56 \r\nQ 40.484375 56 46.34375 49.84375 \r\nQ 52.203125 43.703125 52.203125 31.203125 \r\nz\r\n\" id=\"DejaVuSans-97\"/>\r\n       <path d=\"M 54.890625 33.015625 \r\nL 54.890625 0 \r\nL 45.90625 0 \r\nL 45.90625 32.71875 \r\nQ 45.90625 40.484375 42.875 44.328125 \r\nQ 39.84375 48.1875 33.796875 48.1875 \r\nQ 26.515625 48.1875 22.3125 43.546875 \r\nQ 18.109375 38.921875 18.109375 30.90625 \r\nL 18.109375 0 \r\nL 9.078125 0 \r\nL 9.078125 54.6875 \r\nL 18.109375 54.6875 \r\nL 18.109375 46.1875 \r\nQ 21.34375 51.125 25.703125 53.5625 \r\nQ 30.078125 56 35.796875 56 \r\nQ 45.21875 56 50.046875 50.171875 \r\nQ 54.890625 44.34375 54.890625 33.015625 \r\nz\r\n\" id=\"DejaVuSans-110\"/>\r\n       <path d=\"M 45.40625 27.984375 \r\nQ 45.40625 37.75 41.375 43.109375 \r\nQ 37.359375 48.484375 30.078125 48.484375 \r\nQ 22.859375 48.484375 18.828125 43.109375 \r\nQ 14.796875 37.75 14.796875 27.984375 \r\nQ 14.796875 18.265625 18.828125 12.890625 \r\nQ 22.859375 7.515625 30.078125 7.515625 \r\nQ 37.359375 7.515625 41.375 12.890625 \r\nQ 45.40625 18.265625 45.40625 27.984375 \r\nz\r\nM 54.390625 6.78125 \r\nQ 54.390625 -7.171875 48.1875 -13.984375 \r\nQ 42 -20.796875 29.203125 -20.796875 \r\nQ 24.46875 -20.796875 20.265625 -20.09375 \r\nQ 16.0625 -19.390625 12.109375 -17.921875 \r\nL 12.109375 -9.1875 \r\nQ 16.0625 -11.328125 19.921875 -12.34375 \r\nQ 23.78125 -13.375 27.78125 -13.375 \r\nQ 36.625 -13.375 41.015625 -8.765625 \r\nQ 45.40625 -4.15625 45.40625 5.171875 \r\nL 45.40625 9.625 \r\nQ 42.625 4.78125 38.28125 2.390625 \r\nQ 33.9375 0 27.875 0 \r\nQ 17.828125 0 11.671875 7.65625 \r\nQ 5.515625 15.328125 5.515625 27.984375 \r\nQ 5.515625 40.671875 11.671875 48.328125 \r\nQ 17.828125 56 27.875 56 \r\nQ 33.9375 56 38.28125 53.609375 \r\nQ 42.625 51.21875 45.40625 46.390625 \r\nL 45.40625 54.6875 \r\nL 54.390625 54.6875 \r\nz\r\n\" id=\"DejaVuSans-103\"/>\r\n       <path d=\"M 56.203125 29.59375 \r\nL 56.203125 25.203125 \r\nL 14.890625 25.203125 \r\nQ 15.484375 15.921875 20.484375 11.0625 \r\nQ 25.484375 6.203125 34.421875 6.203125 \r\nQ 39.59375 6.203125 44.453125 7.46875 \r\nQ 49.3125 8.734375 54.109375 11.28125 \r\nL 54.109375 2.78125 \r\nQ 49.265625 0.734375 44.1875 -0.34375 \r\nQ 39.109375 -1.421875 33.890625 -1.421875 \r\nQ 20.796875 -1.421875 13.15625 6.1875 \r\nQ 5.515625 13.8125 5.515625 26.8125 \r\nQ 5.515625 40.234375 12.765625 48.109375 \r\nQ 20.015625 56 32.328125 56 \r\nQ 43.359375 56 49.78125 48.890625 \r\nQ 56.203125 41.796875 56.203125 29.59375 \r\nz\r\nM 47.21875 32.234375 \r\nQ 47.125 39.59375 43.09375 43.984375 \r\nQ 39.0625 48.390625 32.421875 48.390625 \r\nQ 24.90625 48.390625 20.390625 44.140625 \r\nQ 15.875 39.890625 15.1875 32.171875 \r\nz\r\n\" id=\"DejaVuSans-101\"/>\r\n       <path id=\"DejaVuSans-32\"/>\r\n       <path d=\"M 9.421875 54.6875 \r\nL 18.40625 54.6875 \r\nL 18.40625 0 \r\nL 9.421875 0 \r\nz\r\nM 9.421875 75.984375 \r\nL 18.40625 75.984375 \r\nL 18.40625 64.59375 \r\nL 9.421875 64.59375 \r\nz\r\n\" id=\"DejaVuSans-105\"/>\r\n       <path d=\"M 9.8125 72.90625 \r\nL 24.515625 72.90625 \r\nL 43.109375 23.296875 \r\nL 61.8125 72.90625 \r\nL 76.515625 72.90625 \r\nL 76.515625 0 \r\nL 66.890625 0 \r\nL 66.890625 64.015625 \r\nL 48.09375 14.015625 \r\nL 38.1875 14.015625 \r\nL 19.390625 64.015625 \r\nL 19.390625 0 \r\nL 9.8125 0 \r\nz\r\n\" id=\"DejaVuSans-77\"/>\r\n       <path d=\"M 44.390625 34.1875 \r\nQ 47.5625 33.109375 50.5625 29.59375 \r\nQ 53.5625 26.078125 56.59375 19.921875 \r\nL 66.609375 0 \r\nL 56 0 \r\nL 46.6875 18.703125 \r\nQ 43.0625 26.03125 39.671875 28.421875 \r\nQ 36.28125 30.8125 30.421875 30.8125 \r\nL 19.671875 30.8125 \r\nL 19.671875 0 \r\nL 9.8125 0 \r\nL 9.8125 72.90625 \r\nL 32.078125 72.90625 \r\nQ 44.578125 72.90625 50.734375 67.671875 \r\nQ 56.890625 62.453125 56.890625 51.90625 \r\nQ 56.890625 45.015625 53.6875 40.46875 \r\nQ 50.484375 35.9375 44.390625 34.1875 \r\nz\r\nM 19.671875 64.796875 \r\nL 19.671875 38.921875 \r\nL 32.078125 38.921875 \r\nQ 39.203125 38.921875 42.84375 42.21875 \r\nQ 46.484375 45.515625 46.484375 51.90625 \r\nQ 46.484375 58.296875 42.84375 61.546875 \r\nQ 39.203125 64.796875 32.078125 64.796875 \r\nz\r\n\" id=\"DejaVuSans-82\"/>\r\n       <path d=\"M 9.8125 72.90625 \r\nL 19.671875 72.90625 \r\nL 19.671875 0 \r\nL 9.8125 0 \r\nz\r\n\" id=\"DejaVuSans-73\"/>\r\n       <path d=\"M 48.78125 52.59375 \r\nL 48.78125 44.1875 \r\nQ 44.96875 46.296875 41.140625 47.34375 \r\nQ 37.3125 48.390625 33.40625 48.390625 \r\nQ 24.65625 48.390625 19.8125 42.84375 \r\nQ 14.984375 37.3125 14.984375 27.296875 \r\nQ 14.984375 17.28125 19.8125 11.734375 \r\nQ 24.65625 6.203125 33.40625 6.203125 \r\nQ 37.3125 6.203125 41.140625 7.25 \r\nQ 44.96875 8.296875 48.78125 10.40625 \r\nL 48.78125 2.09375 \r\nQ 45.015625 0.34375 40.984375 -0.53125 \r\nQ 36.96875 -1.421875 32.421875 -1.421875 \r\nQ 20.0625 -1.421875 12.78125 6.34375 \r\nQ 5.515625 14.109375 5.515625 27.296875 \r\nQ 5.515625 40.671875 12.859375 48.328125 \r\nQ 20.21875 56 33.015625 56 \r\nQ 37.15625 56 41.109375 55.140625 \r\nQ 45.0625 54.296875 48.78125 52.59375 \r\nz\r\n\" id=\"DejaVuSans-99\"/>\r\n       <path d=\"M 18.3125 70.21875 \r\nL 18.3125 54.6875 \r\nL 36.8125 54.6875 \r\nL 36.8125 47.703125 \r\nL 18.3125 47.703125 \r\nL 18.3125 18.015625 \r\nQ 18.3125 11.328125 20.140625 9.421875 \r\nQ 21.96875 7.515625 27.59375 7.515625 \r\nL 36.8125 7.515625 \r\nL 36.8125 0 \r\nL 27.59375 0 \r\nQ 17.1875 0 13.234375 3.875 \r\nQ 9.28125 7.765625 9.28125 18.015625 \r\nL 9.28125 47.703125 \r\nL 2.6875 47.703125 \r\nL 2.6875 54.6875 \r\nL 9.28125 54.6875 \r\nL 9.28125 70.21875 \r\nz\r\n\" id=\"DejaVuSans-116\"/>\r\n       <path d=\"M 2.984375 54.6875 \r\nL 12.5 54.6875 \r\nL 29.59375 8.796875 \r\nL 46.6875 54.6875 \r\nL 56.203125 54.6875 \r\nL 35.6875 0 \r\nL 23.484375 0 \r\nz\r\n\" id=\"DejaVuSans-118\"/>\r\n       <path d=\"M 32.171875 -5.078125 \r\nQ 28.375 -14.84375 24.75 -17.8125 \r\nQ 21.140625 -20.796875 15.09375 -20.796875 \r\nL 7.90625 -20.796875 \r\nL 7.90625 -13.28125 \r\nL 13.1875 -13.28125 \r\nQ 16.890625 -13.28125 18.9375 -11.515625 \r\nQ 21 -9.765625 23.484375 -3.21875 \r\nL 25.09375 0.875 \r\nL 2.984375 54.6875 \r\nL 12.5 54.6875 \r\nL 29.59375 11.921875 \r\nL 46.6875 54.6875 \r\nL 56.203125 54.6875 \r\nz\r\n\" id=\"DejaVuSans-121\"/>\r\n      </defs>\r\n      <use xlink:href=\"#DejaVuSans-67\"/>\r\n      <use x=\"69.824219\" xlink:href=\"#DejaVuSans-104\"/>\r\n      <use x=\"133.203125\" xlink:href=\"#DejaVuSans-97\"/>\r\n      <use x=\"194.482422\" xlink:href=\"#DejaVuSans-110\"/>\r\n      <use x=\"257.861328\" xlink:href=\"#DejaVuSans-103\"/>\r\n      <use x=\"321.337891\" xlink:href=\"#DejaVuSans-101\"/>\r\n      <use x=\"382.861328\" xlink:href=\"#DejaVuSans-32\"/>\r\n      <use x=\"414.648438\" xlink:href=\"#DejaVuSans-105\"/>\r\n      <use x=\"442.431641\" xlink:href=\"#DejaVuSans-110\"/>\r\n      <use x=\"505.810547\" xlink:href=\"#DejaVuSans-32\"/>\r\n      <use x=\"537.597656\" xlink:href=\"#DejaVuSans-77\"/>\r\n      <use x=\"623.876953\" xlink:href=\"#DejaVuSans-82\"/>\r\n      <use x=\"693.359375\" xlink:href=\"#DejaVuSans-73\"/>\r\n      <use x=\"722.851562\" xlink:href=\"#DejaVuSans-32\"/>\r\n      <use x=\"754.638672\" xlink:href=\"#DejaVuSans-97\"/>\r\n      <use x=\"815.917969\" xlink:href=\"#DejaVuSans-99\"/>\r\n      <use x=\"870.898438\" xlink:href=\"#DejaVuSans-116\"/>\r\n      <use x=\"910.107422\" xlink:href=\"#DejaVuSans-105\"/>\r\n      <use x=\"937.890625\" xlink:href=\"#DejaVuSans-118\"/>\r\n      <use x=\"997.070312\" xlink:href=\"#DejaVuSans-105\"/>\r\n      <use x=\"1024.853516\" xlink:href=\"#DejaVuSans-116\"/>\r\n      <use x=\"1064.0625\" xlink:href=\"#DejaVuSans-121\"/>\r\n     </g>\r\n    </g>\r\n   </g>\r\n   <g id=\"matplotlib.axis_2\">\r\n    <g id=\"ytick_1\">\r\n     <g id=\"line2d_10\">\r\n      <defs>\r\n       <path d=\"M 0 0 \r\nL -3.5 0 \r\n\" id=\"m4d25771baa\" style=\"stroke:#000000;stroke-width:0.8;\"/>\r\n      </defs>\r\n      <g>\r\n       <use style=\"stroke:#000000;stroke-width:0.8;\" x=\"52.160938\" xlink:href=\"#m4d25771baa\" y=\"248.981633\"/>\r\n      </g>\r\n     </g>\r\n     <g id=\"text_11\">\r\n      <!-- −0.5 -->\r\n      <g transform=\"translate(20.878125 252.780852)scale(0.1 -0.1)\">\r\n       <defs>\r\n        <path d=\"M 10.6875 12.40625 \r\nL 21 12.40625 \r\nL 21 0 \r\nL 10.6875 0 \r\nz\r\n\" id=\"DejaVuSans-46\"/>\r\n       </defs>\r\n       <use xlink:href=\"#DejaVuSans-8722\"/>\r\n       <use x=\"83.789062\" xlink:href=\"#DejaVuSans-48\"/>\r\n       <use x=\"147.412109\" xlink:href=\"#DejaVuSans-46\"/>\r\n       <use x=\"179.199219\" xlink:href=\"#DejaVuSans-53\"/>\r\n      </g>\r\n     </g>\r\n    </g>\r\n    <g id=\"ytick_2\">\r\n     <g id=\"line2d_11\">\r\n      <g>\r\n       <use style=\"stroke:#000000;stroke-width:0.8;\" x=\"52.160938\" xlink:href=\"#m4d25771baa\" y=\"216.258498\"/>\r\n      </g>\r\n     </g>\r\n     <g id=\"text_12\">\r\n      <!-- −0.4 -->\r\n      <g transform=\"translate(20.878125 220.057717)scale(0.1 -0.1)\">\r\n       <defs>\r\n        <path d=\"M 37.796875 64.3125 \r\nL 12.890625 25.390625 \r\nL 37.796875 25.390625 \r\nz\r\nM 35.203125 72.90625 \r\nL 47.609375 72.90625 \r\nL 47.609375 25.390625 \r\nL 58.015625 25.390625 \r\nL 58.015625 17.1875 \r\nL 47.609375 17.1875 \r\nL 47.609375 0 \r\nL 37.796875 0 \r\nL 37.796875 17.1875 \r\nL 4.890625 17.1875 \r\nL 4.890625 26.703125 \r\nz\r\n\" id=\"DejaVuSans-52\"/>\r\n       </defs>\r\n       <use xlink:href=\"#DejaVuSans-8722\"/>\r\n       <use x=\"83.789062\" xlink:href=\"#DejaVuSans-48\"/>\r\n       <use x=\"147.412109\" xlink:href=\"#DejaVuSans-46\"/>\r\n       <use x=\"179.199219\" xlink:href=\"#DejaVuSans-52\"/>\r\n      </g>\r\n     </g>\r\n    </g>\r\n    <g id=\"ytick_3\">\r\n     <g id=\"line2d_12\">\r\n      <g>\r\n       <use style=\"stroke:#000000;stroke-width:0.8;\" x=\"52.160938\" xlink:href=\"#m4d25771baa\" y=\"183.535364\"/>\r\n      </g>\r\n     </g>\r\n     <g id=\"text_13\">\r\n      <!-- −0.3 -->\r\n      <g transform=\"translate(20.878125 187.334583)scale(0.1 -0.1)\">\r\n       <defs>\r\n        <path d=\"M 40.578125 39.3125 \r\nQ 47.65625 37.796875 51.625 33 \r\nQ 55.609375 28.21875 55.609375 21.1875 \r\nQ 55.609375 10.40625 48.1875 4.484375 \r\nQ 40.765625 -1.421875 27.09375 -1.421875 \r\nQ 22.515625 -1.421875 17.65625 -0.515625 \r\nQ 12.796875 0.390625 7.625 2.203125 \r\nL 7.625 11.71875 \r\nQ 11.71875 9.328125 16.59375 8.109375 \r\nQ 21.484375 6.890625 26.8125 6.890625 \r\nQ 36.078125 6.890625 40.9375 10.546875 \r\nQ 45.796875 14.203125 45.796875 21.1875 \r\nQ 45.796875 27.640625 41.28125 31.265625 \r\nQ 36.765625 34.90625 28.71875 34.90625 \r\nL 20.21875 34.90625 \r\nL 20.21875 43.015625 \r\nL 29.109375 43.015625 \r\nQ 36.375 43.015625 40.234375 45.921875 \r\nQ 44.09375 48.828125 44.09375 54.296875 \r\nQ 44.09375 59.90625 40.109375 62.90625 \r\nQ 36.140625 65.921875 28.71875 65.921875 \r\nQ 24.65625 65.921875 20.015625 65.03125 \r\nQ 15.375 64.15625 9.8125 62.3125 \r\nL 9.8125 71.09375 \r\nQ 15.4375 72.65625 20.34375 73.4375 \r\nQ 25.25 74.21875 29.59375 74.21875 \r\nQ 40.828125 74.21875 47.359375 69.109375 \r\nQ 53.90625 64.015625 53.90625 55.328125 \r\nQ 53.90625 49.265625 50.4375 45.09375 \r\nQ 46.96875 40.921875 40.578125 39.3125 \r\nz\r\n\" id=\"DejaVuSans-51\"/>\r\n       </defs>\r\n       <use xlink:href=\"#DejaVuSans-8722\"/>\r\n       <use x=\"83.789062\" xlink:href=\"#DejaVuSans-48\"/>\r\n       <use x=\"147.412109\" xlink:href=\"#DejaVuSans-46\"/>\r\n       <use x=\"179.199219\" xlink:href=\"#DejaVuSans-51\"/>\r\n      </g>\r\n     </g>\r\n    </g>\r\n    <g id=\"ytick_4\">\r\n     <g id=\"line2d_13\">\r\n      <g>\r\n       <use style=\"stroke:#000000;stroke-width:0.8;\" x=\"52.160938\" xlink:href=\"#m4d25771baa\" y=\"150.812229\"/>\r\n      </g>\r\n     </g>\r\n     <g id=\"text_14\">\r\n      <!-- −0.2 -->\r\n      <g transform=\"translate(20.878125 154.611448)scale(0.1 -0.1)\">\r\n       <use xlink:href=\"#DejaVuSans-8722\"/>\r\n       <use x=\"83.789062\" xlink:href=\"#DejaVuSans-48\"/>\r\n       <use x=\"147.412109\" xlink:href=\"#DejaVuSans-46\"/>\r\n       <use x=\"179.199219\" xlink:href=\"#DejaVuSans-50\"/>\r\n      </g>\r\n     </g>\r\n    </g>\r\n    <g id=\"ytick_5\">\r\n     <g id=\"line2d_14\">\r\n      <g>\r\n       <use style=\"stroke:#000000;stroke-width:0.8;\" x=\"52.160938\" xlink:href=\"#m4d25771baa\" y=\"118.089095\"/>\r\n      </g>\r\n     </g>\r\n     <g id=\"text_15\">\r\n      <!-- −0.1 -->\r\n      <g transform=\"translate(20.878125 121.888314)scale(0.1 -0.1)\">\r\n       <use xlink:href=\"#DejaVuSans-8722\"/>\r\n       <use x=\"83.789062\" xlink:href=\"#DejaVuSans-48\"/>\r\n       <use x=\"147.412109\" xlink:href=\"#DejaVuSans-46\"/>\r\n       <use x=\"179.199219\" xlink:href=\"#DejaVuSans-49\"/>\r\n      </g>\r\n     </g>\r\n    </g>\r\n    <g id=\"ytick_6\">\r\n     <g id=\"line2d_15\">\r\n      <g>\r\n       <use style=\"stroke:#000000;stroke-width:0.8;\" x=\"52.160938\" xlink:href=\"#m4d25771baa\" y=\"85.36596\"/>\r\n      </g>\r\n     </g>\r\n     <g id=\"text_16\">\r\n      <!-- 0.0 -->\r\n      <g transform=\"translate(29.257813 89.165179)scale(0.1 -0.1)\">\r\n       <use xlink:href=\"#DejaVuSans-48\"/>\r\n       <use x=\"63.623047\" xlink:href=\"#DejaVuSans-46\"/>\r\n       <use x=\"95.410156\" xlink:href=\"#DejaVuSans-48\"/>\r\n      </g>\r\n     </g>\r\n    </g>\r\n    <g id=\"ytick_7\">\r\n     <g id=\"line2d_16\">\r\n      <g>\r\n       <use style=\"stroke:#000000;stroke-width:0.8;\" x=\"52.160938\" xlink:href=\"#m4d25771baa\" y=\"52.642826\"/>\r\n      </g>\r\n     </g>\r\n     <g id=\"text_17\">\r\n      <!-- 0.1 -->\r\n      <g transform=\"translate(29.257813 56.442045)scale(0.1 -0.1)\">\r\n       <use xlink:href=\"#DejaVuSans-48\"/>\r\n       <use x=\"63.623047\" xlink:href=\"#DejaVuSans-46\"/>\r\n       <use x=\"95.410156\" xlink:href=\"#DejaVuSans-49\"/>\r\n      </g>\r\n     </g>\r\n    </g>\r\n    <g id=\"text_18\">\r\n     <!-- Change in time spent in light -->\r\n     <g transform=\"translate(14.798438 217.286406)rotate(-90)scale(0.1 -0.1)\">\r\n      <defs>\r\n       <path d=\"M 52 44.1875 \r\nQ 55.375 50.25 60.0625 53.125 \r\nQ 64.75 56 71.09375 56 \r\nQ 79.640625 56 84.28125 50.015625 \r\nQ 88.921875 44.046875 88.921875 33.015625 \r\nL 88.921875 0 \r\nL 79.890625 0 \r\nL 79.890625 32.71875 \r\nQ 79.890625 40.578125 77.09375 44.375 \r\nQ 74.3125 48.1875 68.609375 48.1875 \r\nQ 61.625 48.1875 57.5625 43.546875 \r\nQ 53.515625 38.921875 53.515625 30.90625 \r\nL 53.515625 0 \r\nL 44.484375 0 \r\nL 44.484375 32.71875 \r\nQ 44.484375 40.625 41.703125 44.40625 \r\nQ 38.921875 48.1875 33.109375 48.1875 \r\nQ 26.21875 48.1875 22.15625 43.53125 \r\nQ 18.109375 38.875 18.109375 30.90625 \r\nL 18.109375 0 \r\nL 9.078125 0 \r\nL 9.078125 54.6875 \r\nL 18.109375 54.6875 \r\nL 18.109375 46.1875 \r\nQ 21.1875 51.21875 25.484375 53.609375 \r\nQ 29.78125 56 35.6875 56 \r\nQ 41.65625 56 45.828125 52.96875 \r\nQ 50 49.953125 52 44.1875 \r\nz\r\n\" id=\"DejaVuSans-109\"/>\r\n       <path d=\"M 44.28125 53.078125 \r\nL 44.28125 44.578125 \r\nQ 40.484375 46.53125 36.375 47.5 \r\nQ 32.28125 48.484375 27.875 48.484375 \r\nQ 21.1875 48.484375 17.84375 46.4375 \r\nQ 14.5 44.390625 14.5 40.28125 \r\nQ 14.5 37.15625 16.890625 35.375 \r\nQ 19.28125 33.59375 26.515625 31.984375 \r\nL 29.59375 31.296875 \r\nQ 39.15625 29.25 43.1875 25.515625 \r\nQ 47.21875 21.78125 47.21875 15.09375 \r\nQ 47.21875 7.46875 41.1875 3.015625 \r\nQ 35.15625 -1.421875 24.609375 -1.421875 \r\nQ 20.21875 -1.421875 15.453125 -0.5625 \r\nQ 10.6875 0.296875 5.421875 2 \r\nL 5.421875 11.28125 \r\nQ 10.40625 8.6875 15.234375 7.390625 \r\nQ 20.0625 6.109375 24.8125 6.109375 \r\nQ 31.15625 6.109375 34.5625 8.28125 \r\nQ 37.984375 10.453125 37.984375 14.40625 \r\nQ 37.984375 18.0625 35.515625 20.015625 \r\nQ 33.0625 21.96875 24.703125 23.78125 \r\nL 21.578125 24.515625 \r\nQ 13.234375 26.265625 9.515625 29.90625 \r\nQ 5.8125 33.546875 5.8125 39.890625 \r\nQ 5.8125 47.609375 11.28125 51.796875 \r\nQ 16.75 56 26.8125 56 \r\nQ 31.78125 56 36.171875 55.265625 \r\nQ 40.578125 54.546875 44.28125 53.078125 \r\nz\r\n\" id=\"DejaVuSans-115\"/>\r\n       <path d=\"M 18.109375 8.203125 \r\nL 18.109375 -20.796875 \r\nL 9.078125 -20.796875 \r\nL 9.078125 54.6875 \r\nL 18.109375 54.6875 \r\nL 18.109375 46.390625 \r\nQ 20.953125 51.265625 25.265625 53.625 \r\nQ 29.59375 56 35.59375 56 \r\nQ 45.5625 56 51.78125 48.09375 \r\nQ 58.015625 40.1875 58.015625 27.296875 \r\nQ 58.015625 14.40625 51.78125 6.484375 \r\nQ 45.5625 -1.421875 35.59375 -1.421875 \r\nQ 29.59375 -1.421875 25.265625 0.953125 \r\nQ 20.953125 3.328125 18.109375 8.203125 \r\nz\r\nM 48.6875 27.296875 \r\nQ 48.6875 37.203125 44.609375 42.84375 \r\nQ 40.53125 48.484375 33.40625 48.484375 \r\nQ 26.265625 48.484375 22.1875 42.84375 \r\nQ 18.109375 37.203125 18.109375 27.296875 \r\nQ 18.109375 17.390625 22.1875 11.75 \r\nQ 26.265625 6.109375 33.40625 6.109375 \r\nQ 40.53125 6.109375 44.609375 11.75 \r\nQ 48.6875 17.390625 48.6875 27.296875 \r\nz\r\n\" id=\"DejaVuSans-112\"/>\r\n       <path d=\"M 9.421875 75.984375 \r\nL 18.40625 75.984375 \r\nL 18.40625 0 \r\nL 9.421875 0 \r\nz\r\n\" id=\"DejaVuSans-108\"/>\r\n      </defs>\r\n      <use xlink:href=\"#DejaVuSans-67\"/>\r\n      <use x=\"69.824219\" xlink:href=\"#DejaVuSans-104\"/>\r\n      <use x=\"133.203125\" xlink:href=\"#DejaVuSans-97\"/>\r\n      <use x=\"194.482422\" xlink:href=\"#DejaVuSans-110\"/>\r\n      <use x=\"257.861328\" xlink:href=\"#DejaVuSans-103\"/>\r\n      <use x=\"321.337891\" xlink:href=\"#DejaVuSans-101\"/>\r\n      <use x=\"382.861328\" xlink:href=\"#DejaVuSans-32\"/>\r\n      <use x=\"414.648438\" xlink:href=\"#DejaVuSans-105\"/>\r\n      <use x=\"442.431641\" xlink:href=\"#DejaVuSans-110\"/>\r\n      <use x=\"505.810547\" xlink:href=\"#DejaVuSans-32\"/>\r\n      <use x=\"537.597656\" xlink:href=\"#DejaVuSans-116\"/>\r\n      <use x=\"576.806641\" xlink:href=\"#DejaVuSans-105\"/>\r\n      <use x=\"604.589844\" xlink:href=\"#DejaVuSans-109\"/>\r\n      <use x=\"702.001953\" xlink:href=\"#DejaVuSans-101\"/>\r\n      <use x=\"763.525391\" xlink:href=\"#DejaVuSans-32\"/>\r\n      <use x=\"795.3125\" xlink:href=\"#DejaVuSans-115\"/>\r\n      <use x=\"847.412109\" xlink:href=\"#DejaVuSans-112\"/>\r\n      <use x=\"910.888672\" xlink:href=\"#DejaVuSans-101\"/>\r\n      <use x=\"972.412109\" xlink:href=\"#DejaVuSans-110\"/>\r\n      <use x=\"1035.791016\" xlink:href=\"#DejaVuSans-116\"/>\r\n      <use x=\"1075\" xlink:href=\"#DejaVuSans-32\"/>\r\n      <use x=\"1106.787109\" xlink:href=\"#DejaVuSans-105\"/>\r\n      <use x=\"1134.570312\" xlink:href=\"#DejaVuSans-110\"/>\r\n      <use x=\"1197.949219\" xlink:href=\"#DejaVuSans-32\"/>\r\n      <use x=\"1229.736328\" xlink:href=\"#DejaVuSans-108\"/>\r\n      <use x=\"1257.519531\" xlink:href=\"#DejaVuSans-105\"/>\r\n      <use x=\"1285.302734\" xlink:href=\"#DejaVuSans-103\"/>\r\n      <use x=\"1348.779297\" xlink:href=\"#DejaVuSans-104\"/>\r\n      <use x=\"1412.158203\" xlink:href=\"#DejaVuSans-116\"/>\r\n     </g>\r\n    </g>\r\n   </g>\r\n   <g id=\"line2d_17\">\r\n    <path clip-path=\"url(#p71265e72ac)\" d=\"M 236.832758 149.247779 \r\nL 295.974507 137.89753 \r\nL 160.760829 163.847196 \r\nL 191.812145 157.887954 \r\nL 271.755999 142.545449 \r\nL 208.590485 154.667921 \r\nL 250.877974 146.552275 \r\nL 135.023919 168.786527 \r\nL 371.742756 123.356393 \r\nL 67.379119 181.76864 \r\nL 364.454427 124.755139 \r\nL 249.055892 146.901962 \r\nL 144.66577 166.936095 \r\nL 276.007524 141.729512 \r\nL 366.88387 124.288889 \r\nL 309.184602 135.362305 \r\nL 166.910356 162.667007 \r\nL 174.426445 161.224546 \r\nL 316.093331 134.036408 \r\nL 192.875026 157.683971 \r\n\" style=\"fill:none;stroke:#1f77b4;stroke-linecap:square;stroke-width:1.5;\"/>\r\n   </g>\r\n   <g id=\"patch_3\">\r\n    <path d=\"M 52.160938 253.44 \r\nL 52.160938 36 \r\n\" style=\"fill:none;stroke:#000000;stroke-linecap:square;stroke-linejoin:miter;stroke-width:0.8;\"/>\r\n   </g>\r\n   <g id=\"patch_4\">\r\n    <path d=\"M 386.960938 253.44 \r\nL 386.960938 36 \r\n\" style=\"fill:none;stroke:#000000;stroke-linecap:square;stroke-linejoin:miter;stroke-width:0.8;\"/>\r\n   </g>\r\n   <g id=\"patch_5\">\r\n    <path d=\"M 52.160938 253.44 \r\nL 386.960938 253.44 \r\n\" style=\"fill:none;stroke:#000000;stroke-linecap:square;stroke-linejoin:miter;stroke-width:0.8;\"/>\r\n   </g>\r\n   <g id=\"patch_6\">\r\n    <path d=\"M 52.160938 36 \r\nL 386.960938 36 \r\n\" style=\"fill:none;stroke:#000000;stroke-linecap:square;stroke-linejoin:miter;stroke-width:0.8;\"/>\r\n   </g>\r\n  </g>\r\n  <g id=\"text_19\">\r\n   <!-- X and Y Diffs for voxel at (26, 137, 37 -->\r\n   <g transform=\"translate(101.385313 16.318125)scale(0.12 -0.12)\">\r\n    <defs>\r\n     <path d=\"M 6.296875 72.90625 \r\nL 16.890625 72.90625 \r\nL 35.015625 45.796875 \r\nL 53.21875 72.90625 \r\nL 63.8125 72.90625 \r\nL 40.375 37.890625 \r\nL 65.375 0 \r\nL 54.78125 0 \r\nL 34.28125 31 \r\nL 13.625 0 \r\nL 2.984375 0 \r\nL 29 38.921875 \r\nz\r\n\" id=\"DejaVuSans-88\"/>\r\n     <path d=\"M 45.40625 46.390625 \r\nL 45.40625 75.984375 \r\nL 54.390625 75.984375 \r\nL 54.390625 0 \r\nL 45.40625 0 \r\nL 45.40625 8.203125 \r\nQ 42.578125 3.328125 38.25 0.953125 \r\nQ 33.9375 -1.421875 27.875 -1.421875 \r\nQ 17.96875 -1.421875 11.734375 6.484375 \r\nQ 5.515625 14.40625 5.515625 27.296875 \r\nQ 5.515625 40.1875 11.734375 48.09375 \r\nQ 17.96875 56 27.875 56 \r\nQ 33.9375 56 38.25 53.625 \r\nQ 42.578125 51.265625 45.40625 46.390625 \r\nz\r\nM 14.796875 27.296875 \r\nQ 14.796875 17.390625 18.875 11.75 \r\nQ 22.953125 6.109375 30.078125 6.109375 \r\nQ 37.203125 6.109375 41.296875 11.75 \r\nQ 45.40625 17.390625 45.40625 27.296875 \r\nQ 45.40625 37.203125 41.296875 42.84375 \r\nQ 37.203125 48.484375 30.078125 48.484375 \r\nQ 22.953125 48.484375 18.875 42.84375 \r\nQ 14.796875 37.203125 14.796875 27.296875 \r\nz\r\n\" id=\"DejaVuSans-100\"/>\r\n     <path d=\"M -0.203125 72.90625 \r\nL 10.40625 72.90625 \r\nL 30.609375 42.921875 \r\nL 50.6875 72.90625 \r\nL 61.28125 72.90625 \r\nL 35.5 34.71875 \r\nL 35.5 0 \r\nL 25.59375 0 \r\nL 25.59375 34.71875 \r\nz\r\n\" id=\"DejaVuSans-89\"/>\r\n     <path d=\"M 19.671875 64.796875 \r\nL 19.671875 8.109375 \r\nL 31.59375 8.109375 \r\nQ 46.6875 8.109375 53.6875 14.9375 \r\nQ 60.6875 21.78125 60.6875 36.53125 \r\nQ 60.6875 51.171875 53.6875 57.984375 \r\nQ 46.6875 64.796875 31.59375 64.796875 \r\nz\r\nM 9.8125 72.90625 \r\nL 30.078125 72.90625 \r\nQ 51.265625 72.90625 61.171875 64.09375 \r\nQ 71.09375 55.28125 71.09375 36.53125 \r\nQ 71.09375 17.671875 61.125 8.828125 \r\nQ 51.171875 0 30.078125 0 \r\nL 9.8125 0 \r\nz\r\n\" id=\"DejaVuSans-68\"/>\r\n     <path d=\"M 37.109375 75.984375 \r\nL 37.109375 68.5 \r\nL 28.515625 68.5 \r\nQ 23.6875 68.5 21.796875 66.546875 \r\nQ 19.921875 64.59375 19.921875 59.515625 \r\nL 19.921875 54.6875 \r\nL 34.71875 54.6875 \r\nL 34.71875 47.703125 \r\nL 19.921875 47.703125 \r\nL 19.921875 0 \r\nL 10.890625 0 \r\nL 10.890625 47.703125 \r\nL 2.296875 47.703125 \r\nL 2.296875 54.6875 \r\nL 10.890625 54.6875 \r\nL 10.890625 58.5 \r\nQ 10.890625 67.625 15.140625 71.796875 \r\nQ 19.390625 75.984375 28.609375 75.984375 \r\nz\r\n\" id=\"DejaVuSans-102\"/>\r\n     <path d=\"M 30.609375 48.390625 \r\nQ 23.390625 48.390625 19.1875 42.75 \r\nQ 14.984375 37.109375 14.984375 27.296875 \r\nQ 14.984375 17.484375 19.15625 11.84375 \r\nQ 23.34375 6.203125 30.609375 6.203125 \r\nQ 37.796875 6.203125 41.984375 11.859375 \r\nQ 46.1875 17.53125 46.1875 27.296875 \r\nQ 46.1875 37.015625 41.984375 42.703125 \r\nQ 37.796875 48.390625 30.609375 48.390625 \r\nz\r\nM 30.609375 56 \r\nQ 42.328125 56 49.015625 48.375 \r\nQ 55.71875 40.765625 55.71875 27.296875 \r\nQ 55.71875 13.875 49.015625 6.21875 \r\nQ 42.328125 -1.421875 30.609375 -1.421875 \r\nQ 18.84375 -1.421875 12.171875 6.21875 \r\nQ 5.515625 13.875 5.515625 27.296875 \r\nQ 5.515625 40.765625 12.171875 48.375 \r\nQ 18.84375 56 30.609375 56 \r\nz\r\n\" id=\"DejaVuSans-111\"/>\r\n     <path d=\"M 41.109375 46.296875 \r\nQ 39.59375 47.171875 37.8125 47.578125 \r\nQ 36.03125 48 33.890625 48 \r\nQ 26.265625 48 22.1875 43.046875 \r\nQ 18.109375 38.09375 18.109375 28.8125 \r\nL 18.109375 0 \r\nL 9.078125 0 \r\nL 9.078125 54.6875 \r\nL 18.109375 54.6875 \r\nL 18.109375 46.1875 \r\nQ 20.953125 51.171875 25.484375 53.578125 \r\nQ 30.03125 56 36.53125 56 \r\nQ 37.453125 56 38.578125 55.875 \r\nQ 39.703125 55.765625 41.0625 55.515625 \r\nz\r\n\" id=\"DejaVuSans-114\"/>\r\n     <path d=\"M 54.890625 54.6875 \r\nL 35.109375 28.078125 \r\nL 55.90625 0 \r\nL 45.3125 0 \r\nL 29.390625 21.484375 \r\nL 13.484375 0 \r\nL 2.875 0 \r\nL 24.125 28.609375 \r\nL 4.6875 54.6875 \r\nL 15.28125 54.6875 \r\nL 29.78125 35.203125 \r\nL 44.28125 54.6875 \r\nz\r\n\" id=\"DejaVuSans-120\"/>\r\n     <path d=\"M 31 75.875 \r\nQ 24.46875 64.65625 21.28125 53.65625 \r\nQ 18.109375 42.671875 18.109375 31.390625 \r\nQ 18.109375 20.125 21.3125 9.0625 \r\nQ 24.515625 -2 31 -13.1875 \r\nL 23.1875 -13.1875 \r\nQ 15.875 -1.703125 12.234375 9.375 \r\nQ 8.59375 20.453125 8.59375 31.390625 \r\nQ 8.59375 42.28125 12.203125 53.3125 \r\nQ 15.828125 64.359375 23.1875 75.875 \r\nz\r\n\" id=\"DejaVuSans-40\"/>\r\n     <path d=\"M 33.015625 40.375 \r\nQ 26.375 40.375 22.484375 35.828125 \r\nQ 18.609375 31.296875 18.609375 23.390625 \r\nQ 18.609375 15.53125 22.484375 10.953125 \r\nQ 26.375 6.390625 33.015625 6.390625 \r\nQ 39.65625 6.390625 43.53125 10.953125 \r\nQ 47.40625 15.53125 47.40625 23.390625 \r\nQ 47.40625 31.296875 43.53125 35.828125 \r\nQ 39.65625 40.375 33.015625 40.375 \r\nz\r\nM 52.59375 71.296875 \r\nL 52.59375 62.3125 \r\nQ 48.875 64.0625 45.09375 64.984375 \r\nQ 41.3125 65.921875 37.59375 65.921875 \r\nQ 27.828125 65.921875 22.671875 59.328125 \r\nQ 17.53125 52.734375 16.796875 39.40625 \r\nQ 19.671875 43.65625 24.015625 45.921875 \r\nQ 28.375 48.1875 33.59375 48.1875 \r\nQ 44.578125 48.1875 50.953125 41.515625 \r\nQ 57.328125 34.859375 57.328125 23.390625 \r\nQ 57.328125 12.15625 50.6875 5.359375 \r\nQ 44.046875 -1.421875 33.015625 -1.421875 \r\nQ 20.359375 -1.421875 13.671875 8.265625 \r\nQ 6.984375 17.96875 6.984375 36.375 \r\nQ 6.984375 53.65625 15.1875 63.9375 \r\nQ 23.390625 74.21875 37.203125 74.21875 \r\nQ 40.921875 74.21875 44.703125 73.484375 \r\nQ 48.484375 72.75 52.59375 71.296875 \r\nz\r\n\" id=\"DejaVuSans-54\"/>\r\n     <path d=\"M 11.71875 12.40625 \r\nL 22.015625 12.40625 \r\nL 22.015625 4 \r\nL 14.015625 -11.625 \r\nL 7.71875 -11.625 \r\nL 11.71875 4 \r\nz\r\n\" id=\"DejaVuSans-44\"/>\r\n     <path d=\"M 8.203125 72.90625 \r\nL 55.078125 72.90625 \r\nL 55.078125 68.703125 \r\nL 28.609375 0 \r\nL 18.3125 0 \r\nL 43.21875 64.59375 \r\nL 8.203125 64.59375 \r\nz\r\n\" id=\"DejaVuSans-55\"/>\r\n    </defs>\r\n    <use xlink:href=\"#DejaVuSans-88\"/>\r\n    <use x=\"68.505859\" xlink:href=\"#DejaVuSans-32\"/>\r\n    <use x=\"100.292969\" xlink:href=\"#DejaVuSans-97\"/>\r\n    <use x=\"161.572266\" xlink:href=\"#DejaVuSans-110\"/>\r\n    <use x=\"224.951172\" xlink:href=\"#DejaVuSans-100\"/>\r\n    <use x=\"288.427734\" xlink:href=\"#DejaVuSans-32\"/>\r\n    <use x=\"320.214844\" xlink:href=\"#DejaVuSans-89\"/>\r\n    <use x=\"381.298828\" xlink:href=\"#DejaVuSans-32\"/>\r\n    <use x=\"413.085938\" xlink:href=\"#DejaVuSans-68\"/>\r\n    <use x=\"490.087891\" xlink:href=\"#DejaVuSans-105\"/>\r\n    <use x=\"517.871094\" xlink:href=\"#DejaVuSans-102\"/>\r\n    <use x=\"553.076172\" xlink:href=\"#DejaVuSans-102\"/>\r\n    <use x=\"588.28125\" xlink:href=\"#DejaVuSans-115\"/>\r\n    <use x=\"640.380859\" xlink:href=\"#DejaVuSans-32\"/>\r\n    <use x=\"672.167969\" xlink:href=\"#DejaVuSans-102\"/>\r\n    <use x=\"707.373047\" xlink:href=\"#DejaVuSans-111\"/>\r\n    <use x=\"768.554688\" xlink:href=\"#DejaVuSans-114\"/>\r\n    <use x=\"809.667969\" xlink:href=\"#DejaVuSans-32\"/>\r\n    <use x=\"841.455078\" xlink:href=\"#DejaVuSans-118\"/>\r\n    <use x=\"900.634766\" xlink:href=\"#DejaVuSans-111\"/>\r\n    <use x=\"958.691406\" xlink:href=\"#DejaVuSans-120\"/>\r\n    <use x=\"1014.746094\" xlink:href=\"#DejaVuSans-101\"/>\r\n    <use x=\"1076.269531\" xlink:href=\"#DejaVuSans-108\"/>\r\n    <use x=\"1104.052734\" xlink:href=\"#DejaVuSans-32\"/>\r\n    <use x=\"1135.839844\" xlink:href=\"#DejaVuSans-97\"/>\r\n    <use x=\"1197.119141\" xlink:href=\"#DejaVuSans-116\"/>\r\n    <use x=\"1236.328125\" xlink:href=\"#DejaVuSans-32\"/>\r\n    <use x=\"1268.115234\" xlink:href=\"#DejaVuSans-40\"/>\r\n    <use x=\"1307.128906\" xlink:href=\"#DejaVuSans-50\"/>\r\n    <use x=\"1370.751953\" xlink:href=\"#DejaVuSans-54\"/>\r\n    <use x=\"1434.375\" xlink:href=\"#DejaVuSans-44\"/>\r\n    <use x=\"1466.162109\" xlink:href=\"#DejaVuSans-32\"/>\r\n    <use x=\"1497.949219\" xlink:href=\"#DejaVuSans-49\"/>\r\n    <use x=\"1561.572266\" xlink:href=\"#DejaVuSans-51\"/>\r\n    <use x=\"1625.195312\" xlink:href=\"#DejaVuSans-55\"/>\r\n    <use x=\"1688.818359\" xlink:href=\"#DejaVuSans-44\"/>\r\n    <use x=\"1720.605469\" xlink:href=\"#DejaVuSans-32\"/>\r\n    <use x=\"1752.392578\" xlink:href=\"#DejaVuSans-51\"/>\r\n    <use x=\"1816.015625\" xlink:href=\"#DejaVuSans-55\"/>\r\n   </g>\r\n  </g>\r\n </g>\r\n <defs>\r\n  <clipPath id=\"p71265e72ac\">\r\n   <rect height=\"217.44\" width=\"334.8\" x=\"52.160938\" y=\"36\"/>\r\n  </clipPath>\r\n </defs>\r\n</svg>\r\n",
      "image/png": "[encoded data removed]"
     },
     "metadata": {
      "needs_background": "light"
     }
    }
   ],
   "source": [
    "import matplotlib.lines as mlines\n",
    "plt.scatter(all_data['X_diffs'], all_data['Y_diffs'])\n",
    "\n",
    "m, b = np.polyfit(all_data['X_diffs'], all_data['Y_diffs'],  1)\n",
    "\n",
    "#add linear regression line to scatterplot \n",
    "plt.plot(all_data['X_diffs'], m*all_data['X_diffs']+b)\n",
    "\n",
    "plt.ylabel('Change in time spent in light')\n",
    "plt.xlabel('Change in MRI activity')\n",
    "plt.suptitle('X and Y Diffs for voxel at (26, 137, 37')\n",
    "plt.show()"
   ]
  },
  {
   "source": [
    "import scipy.ndimage as ndimage\n",
    "\n",
    "X_smooth = np.zeros(X_unflat.shape)\n",
    "for i, image in enumerate(X_unflat): \n",
    "    X_smooth[i] = ndimage.gaussian_filter(img, sigma=1)\n",
    "\n",
    "\n",
    "np.save('X_smooth.npy', X_smooth)"
   ],
   "cell_type": "code",
   "metadata": {},
   "execution_count": 113,
   "outputs": []
  },
  {
   "cell_type": "code",
   "execution_count": 109,
   "metadata": {},
   "outputs": [
    {
     "output_type": "execute_result",
     "data": {
      "text/plain": [
       "(79, 124, 200, 82)"
      ]
     },
     "metadata": {},
     "execution_count": 109
    }
   ],
   "source": [
    "X_smooth.shape"
   ]
  },
  {
   "cell_type": "code",
   "execution_count": 117,
   "metadata": {},
   "outputs": [
    {
     "output_type": "display_data",
     "data": {
      "text/plain": "interactive(children=(IntSlider(value=0, continuous_update=False, description='brain_slice', max=123), Output(…",
      "application/vnd.jupyter.widget-view+json": {
       "version_major": 2,
       "version_minor": 0,
       "model_id": "aba8576ab7c145f8a76b980be941ab05"
      }
     },
     "metadata": {}
    },
    {
     "output_type": "display_data",
     "data": {
      "text/plain": "interactive(children=(IntSlider(value=0, continuous_update=False, description='brain_slice', max=199), Output(…",
      "application/vnd.jupyter.widget-view+json": {
       "version_major": 2,
       "version_minor": 0,
       "model_id": "155c85c169434fba83abd0e886fb4b58"
      }
     },
     "metadata": {}
    },
    {
     "output_type": "display_data",
     "data": {
      "text/plain": "interactive(children=(IntSlider(value=0, continuous_update=False, description='brain_slice', max=81), Output()…",
      "application/vnd.jupyter.widget-view+json": {
       "version_major": 2,
       "version_minor": 0,
       "model_id": "901000466df44d38aaefd53fe7618bc0"
      }
     },
     "metadata": {}
    }
   ],
   "source": [
    "\n",
    "# specify labels for plot (note the labels below are specifically for RAS orientation)\n",
    "dir_labels = { 'saggital' :   ['P', 'A', 'D', 'V'],\n",
    "               'coronal' :    ['L', 'R', 'D', 'V'],\n",
    "               'horizontal' : ['L', 'R', 'A', 'P']} \n",
    "\n",
    "# Show first 5 baseline images \n",
    "BV.plot_interactive_panels(np.vstack((X[0], BU.flatten(X_smooth[1]))), mri_dims, np.ones(mri_dims), figsize=(15, 5), colormap=\"seismic\", dir_labels=dir_labels, column_titles=[\"Mouse\", \"Smooth Mouse\"])"
   ]
  }
 ]
}