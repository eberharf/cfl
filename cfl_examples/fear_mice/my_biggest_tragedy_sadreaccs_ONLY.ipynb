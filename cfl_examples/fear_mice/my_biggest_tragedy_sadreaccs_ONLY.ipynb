{
 "metadata": {
  "language_info": {
   "codemirror_mode": {
    "name": "ipython",
    "version": 3
   },
   "file_extension": ".py",
   "mimetype": "text/x-python",
   "name": "python",
   "nbconvert_exporter": "python",
   "pygments_lexer": "ipython3",
   "version": "3.8.5-final"
  },
  "orig_nbformat": 2,
  "kernelspec": {
   "name": "cfl-env",
   "display_name": "cfl-env",
   "language": "python"
  }
 },
 "nbformat": 4,
 "nbformat_minor": 2,
 "cells": [
  {
   "cell_type": "code",
   "execution_count": 15,
   "metadata": {},
   "outputs": [
    {
     "output_type": "stream",
     "name": "stdout",
     "text": [
      "(124, 200, 82)\n"
     ]
    }
   ],
   "source": [
    "# Import needed packages for analysis\n",
    "import os\n",
    "\n",
    "import numpy as np\n",
    "import pandas as pd\n",
    "import matplotlib.pyplot as plt\n",
    "import nibabel as nib\n",
    "\n",
    "import cfl.util.brain_util as BU\n",
    "import cfl.util.brain_vis as BV\n",
    "\n",
    "mri_dir = 'PTSD_Data_Share\\MEMRI_data'\n",
    "\n",
    "# load one image to check out its dimensions\n",
    "img = BU.load_brain(os.path.join(mri_dir, \"PTSD_KO_03_BL.nii\"))\n",
    "mri_dims = img.shape\n",
    "print(mri_dims)\n",
    "\n",
    "# load the non-linear mask template\n",
    "nl_mask_path = os.path.join('PTSD_Data_Share/templates\\MuseTemplate_nonlinear_mask.nii')\n",
    "nl_mask = BU.load_brain(nl_mask_path, ori='RPS')\n",
    "nolin_mask_vec = BU.flatten(nl_mask)\n",
    "\n",
    "\n",
    "# specify labels for plot (note the labels below are specifically for RAS orientation)\n",
    "dir_labels = { 'saggital' :   ['P', 'A', 'D', 'V'],\n",
    "               'coronal' :    ['L', 'R', 'D', 'V'],\n",
    "               'horizontal' : ['L', 'R', 'A', 'P']} \n"
   ]
  },
  {
   "cell_type": "code",
   "execution_count": 16,
   "metadata": {},
   "outputs": [],
   "source": [
    "corrs_og = np.load('corrs_og.npy')\n",
    "corrs_KO = np.load('corrs_KO.npy')\n",
    "corrs_WT = np.load('corrs_WT.npy')"
   ]
  },
  {
   "cell_type": "code",
   "execution_count": 17,
   "metadata": {},
   "outputs": [
    {
     "output_type": "display_data",
     "data": {
      "text/plain": "interactive(children=(IntSlider(value=0, continuous_update=False, description='brain_slice', max=123), Output(…",
      "application/vnd.jupyter.widget-view+json": {
       "version_major": 2,
       "version_minor": 0,
       "model_id": "76a25be280404a2684053818b08d68c1"
      }
     },
     "metadata": {}
    },
    {
     "output_type": "display_data",
     "data": {
      "text/plain": "interactive(children=(IntSlider(value=0, continuous_update=False, description='brain_slice', max=199), Output(…",
      "application/vnd.jupyter.widget-view+json": {
       "version_major": 2,
       "version_minor": 0,
       "model_id": "0aac9ce028f64cf698f080a59cd609c1"
      }
     },
     "metadata": {}
    },
    {
     "output_type": "display_data",
     "data": {
      "text/plain": "interactive(children=(IntSlider(value=0, continuous_update=False, description='brain_slice', max=81), Output()…",
      "application/vnd.jupyter.widget-view+json": {
       "version_major": 2,
       "version_minor": 0,
       "model_id": "f71b4addd5d6452390c60b8d53dc673f"
      }
     },
     "metadata": {}
    }
   ],
   "source": [
    "\n",
    "BV.plot_interactive_panels(np.vstack((corrs_og, corrs_KO, corrs_WT)), mri_dims, nolin_mask_vec, figsize=(17, 3), dir_labels=dir_labels, column_titles=[\"All mice\", \"KO\", \"WT\"])"
   ]
  },
  {
   "cell_type": "code",
   "execution_count": 6,
   "metadata": {},
   "outputs": [],
   "source": [
    "# load one of the original MRI Images \n",
    "nib_img = nib.load(os.path.join(mri_dir, \"PTSD_KO_03_BL.nii\"))\n",
    "affine = nib_img.affine\n",
    "np.save('BU_load_affine.npy', affine)"
   ]
  },
  {
   "cell_type": "code",
   "execution_count": 31,
   "metadata": {},
   "outputs": [],
   "source": [
    "def save_as_nifti(flat_array, fname): \n",
    "    # get the affine from one of the original MRIs \n",
    "    nib_loaded_img = nib.load(os.path.join(mri_dir, \"PTSD_KO_03_BL.nii\"))\n",
    "\n",
    "    # change any NaNs to 0s\n",
    "    flat_array = np.nan_to_num(flat_array)\n",
    "\n",
    "    # convert np array to NIFTI and save\n",
    "    nifti_im = nib.Nifti1Image(BU.unflatten(flat_array, mri_dims), affine=nib_loaded_img.affine)\n",
    "    nib.save(nifti_im, fname)"
   ]
  },
  {
   "cell_type": "code",
   "execution_count": 8,
   "metadata": {},
   "outputs": [],
   "source": [
    "# same some things as niftis\n",
    "save_as_nifti(corrs_og, 'corrs_og.nii')\n",
    "save_as_nifti(corrs_WT, 'corrs_WT.nii')\n",
    "save_as_nifti(corrs_KO, 'corrs_KO.nii')"
   ]
  },
  {
   "cell_type": "code",
   "execution_count": 18,
   "metadata": {},
   "outputs": [],
   "source": [
    "corrs_og_nii = BU.load_brain('corrs_og.nii', ori='RPS')\n",
    "corrs_WT_nii = BU.load_brain('corrs_WT.nii', ori='RPS')\n",
    "corrs_KO_nii = BU.load_brain('corrs_KO.nii', ori='RPS')"
   ]
  },
  {
   "cell_type": "code",
   "execution_count": 19,
   "metadata": {},
   "outputs": [],
   "source": [
    "corrs_og_nii = BU.flatten(corrs_og_nii)\n",
    "corrs_KO_nii = BU.flatten(corrs_KO_nii)\n",
    "corrs_WT_nii = BU.flatten(corrs_WT_nii)"
   ]
  },
  {
   "cell_type": "code",
   "execution_count": 20,
   "metadata": {},
   "outputs": [
    {
     "output_type": "display_data",
     "data": {
      "text/plain": "interactive(children=(IntSlider(value=0, continuous_update=False, description='brain_slice', max=123), Output(…",
      "application/vnd.jupyter.widget-view+json": {
       "version_major": 2,
       "version_minor": 0,
       "model_id": "da07997bd69d48138e088c32b112c338"
      }
     },
     "metadata": {}
    },
    {
     "output_type": "display_data",
     "data": {
      "text/plain": "interactive(children=(IntSlider(value=0, continuous_update=False, description='brain_slice', max=199), Output(…",
      "application/vnd.jupyter.widget-view+json": {
       "version_major": 2,
       "version_minor": 0,
       "model_id": "a92ff16dd43d4117aefe61d914b6bdd6"
      }
     },
     "metadata": {}
    },
    {
     "output_type": "display_data",
     "data": {
      "text/plain": "interactive(children=(IntSlider(value=0, continuous_update=False, description='brain_slice', max=81), Output()…",
      "application/vnd.jupyter.widget-view+json": {
       "version_major": 2,
       "version_minor": 0,
       "model_id": "6d0acb6064254f188ddd70e0c73e6441"
      }
     },
     "metadata": {}
    }
   ],
   "source": [
    "BV.plot_interactive_panels(np.vstack((corrs_og_nii, corrs_KO_nii, corrs_WT_nii)), mri_dims, nolin_mask_vec, figsize=(17, 3), dir_labels=dir_labels, column_titles=[\"All mice\", \"KO\", \"WT\"])\n"
   ]
  },
  {
   "cell_type": "code",
   "execution_count": 12,
   "metadata": {},
   "outputs": [],
   "source": [
    "# load\n",
    "kcorrs_og = np.load('kcorrs_og.npy')\n",
    "kcorrs_KO = np.load('kcorrs_KO.npy')\n",
    "kcorrs_WT = np.load('kcorrs_WT.npy')\n",
    "\n",
    "# same as niftis\n",
    "save_as_nifti(kcorrs_og, 'kcorrs_og.nii')\n",
    "save_as_nifti(kcorrs_WT, 'kcorrs_WT.nii')\n",
    "save_as_nifti(kcorrs_KO, 'kcorrs_KO.nii')"
   ]
  },
  {
   "cell_type": "code",
   "execution_count": 8,
   "metadata": {},
   "outputs": [
    {
     "output_type": "execute_result",
     "data": {
      "text/plain": [
       "(124, 200, 82)"
      ]
     },
     "metadata": {},
     "execution_count": 8
    }
   ],
   "source": [
    "kcorrs_og_nii.shape\n"
   ]
  },
  {
   "cell_type": "code",
   "execution_count": 39,
   "metadata": {},
   "outputs": [
    {
     "output_type": "display_data",
     "data": {
      "text/plain": "interactive(children=(IntSlider(value=0, continuous_update=False, description='brain_slice', max=123), Output(…",
      "application/vnd.jupyter.widget-view+json": {
       "version_major": 2,
       "version_minor": 0,
       "model_id": "011e180b211649dd876f8128a8d0fdbe"
      }
     },
     "metadata": {}
    },
    {
     "output_type": "display_data",
     "data": {
      "text/plain": "interactive(children=(IntSlider(value=0, continuous_update=False, description='brain_slice', max=199), Output(…",
      "application/vnd.jupyter.widget-view+json": {
       "version_major": 2,
       "version_minor": 0,
       "model_id": "96e27d4e6b5b48bd817b75142a80ebbc"
      }
     },
     "metadata": {}
    },
    {
     "output_type": "display_data",
     "data": {
      "text/plain": "interactive(children=(IntSlider(value=0, continuous_update=False, description='brain_slice', max=81), Output()…",
      "application/vnd.jupyter.widget-view+json": {
       "version_major": 2,
       "version_minor": 0,
       "model_id": "fb649d536a13446d9ef7160741b55ecb"
      }
     },
     "metadata": {}
    }
   ],
   "source": [
    "kcorrs_og_nii = BU.load_brain('kcorrs_og.nii', ori='RPS')\n",
    "kcorrs_WT_nii = BU.load_brain('kcorrs_WT.nii', ori='RPS')\n",
    "kcorrs_KO_nii = BU.load_brain('kcorrs_KO.nii', ori='RPS')\n",
    "\n",
    "BV.plot_interactive_panels(np.vstack((BU.flatten(kcorrs_og_nii), BU.flatten(kcorrs_KO_nii), BU.flatten(kcorrs_WT_nii))), mri_dims, np.ones(mri_dims), figsize=(17, 3), dir_labels=dir_labels, column_titles=[\"All mice\", \"KO\", \"WT\"], colormap='seismic')\n"
   ]
  },
  {
   "cell_type": "code",
   "execution_count": 51,
   "metadata": {},
   "outputs": [
    {
     "output_type": "display_data",
     "data": {
      "text/plain": "interactive(children=(IntSlider(value=0, continuous_update=False, description='brain_slice', max=123), Output(…",
      "application/vnd.jupyter.widget-view+json": {
       "version_major": 2,
       "version_minor": 0,
       "model_id": "72f55fa8ff734af1b8071e65b6899369"
      }
     },
     "metadata": {}
    },
    {
     "output_type": "display_data",
     "data": {
      "text/plain": "interactive(children=(IntSlider(value=0, continuous_update=False, description='brain_slice', max=199), Output(…",
      "application/vnd.jupyter.widget-view+json": {
       "version_major": 2,
       "version_minor": 0,
       "model_id": "d61e5f2040ec4cc2ab7960b4e6e1eeb0"
      }
     },
     "metadata": {}
    },
    {
     "output_type": "display_data",
     "data": {
      "text/plain": "interactive(children=(IntSlider(value=0, continuous_update=False, description='brain_slice', max=81), Output()…",
      "application/vnd.jupyter.widget-view+json": {
       "version_major": 2,
       "version_minor": 0,
       "model_id": "2e947d178f8341f4a8255cf9ea63cee7"
      }
     },
     "metadata": {}
    }
   ],
   "source": [
    "fear_minus_pref_KO = np.load('fear_minus_pref_KO.npy')\n",
    "fear_minus_pref_WT = np.load('fear_minus_pref_WT.npy')\n",
    "fear_minus_pref_all = np.load('fear_minus_pref_all.npy')\n",
    "\n",
    "BV.plot_interactive_panels(np.vstack((fear_minus_pref_all, fear_minus_pref_KO, fear_minus_pref_WT)), mri_dims, np.ones(mri_dims), figsize=(17, 3), dir_labels=dir_labels, column_titles=[\"All mice\", \"KO\", \"WT\"], colormap='seismic')"
   ]
  },
  {
   "cell_type": "code",
   "execution_count": 55,
   "metadata": {},
   "outputs": [],
   "source": [
    "fear_minus_pref_KO = BU.unflatten(fear_minus_pref_KO, mri_dims)\n",
    "fear_minus_pref_WT = BU.unflatten(fear_minus_pref_KO, mri_dims)\n",
    "fear_minus_pref_all = BU.unflatten(fear_minus_pref_KO, mri_dims)\n",
    "\n",
    "# same as niftis\n",
    "save_as_nifti(fear_minus_pref_all, 'fear_minus_pref_all.nii')\n",
    "save_as_nifti(fear_minus_pref_WT, 'fear_minus_pref_WT.nii')\n",
    "save_as_nifti(fear_minus_pref_KO, 'fear_minus_pref_KO.nii')"
   ]
  },
  {
   "cell_type": "code",
   "execution_count": 53,
   "metadata": {},
   "outputs": [
    {
     "output_type": "display_data",
     "data": {
      "text/plain": "interactive(children=(IntSlider(value=0, continuous_update=False, description='brain_slice', max=123), Output(…",
      "application/vnd.jupyter.widget-view+json": {
       "version_major": 2,
       "version_minor": 0,
       "model_id": "04b7f0fb7650441a861e2ce4fb6b3d72"
      }
     },
     "metadata": {}
    },
    {
     "output_type": "display_data",
     "data": {
      "text/plain": "interactive(children=(IntSlider(value=0, continuous_update=False, description='brain_slice', max=199), Output(…",
      "application/vnd.jupyter.widget-view+json": {
       "version_major": 2,
       "version_minor": 0,
       "model_id": "54cc4e31a57c4b6e9c4556f9ecc264e8"
      }
     },
     "metadata": {}
    },
    {
     "output_type": "display_data",
     "data": {
      "text/plain": "interactive(children=(IntSlider(value=0, continuous_update=False, description='brain_slice', max=81), Output()…",
      "application/vnd.jupyter.widget-view+json": {
       "version_major": 2,
       "version_minor": 0,
       "model_id": "ee375309f309427c9ef3a7f1259e14b9"
      }
     },
     "metadata": {}
    }
   ],
   "source": [
    "fear_minus_pref_KO = BU.load_brain('fear_minus_pref_KO.nii', ori='RAS')\n",
    "fear_minus_pref_WT = BU.load_brain('fear_minus_pref_WT.nii', ori='RAS')\n",
    "fear_minus_pref_all = BU.load_brain('fear_minus_pref_all.nii', ori='RAS')\n",
    "\n",
    "fear_minus_pref_KO = BU.flatten(fear_minus_pref_KO)\n",
    "fear_minus_pref_WT = BU.flatten(fear_minus_pref_WT)\n",
    "fear_minus_pref_all = BU.flatten(fear_minus_pref_all)\n",
    "\n",
    "BV.plot_interactive_panels(np.vstack((fear_minus_pref_all, fear_minus_pref_KO, fear_minus_pref_WT)), mri_dims, np.ones(mri_dims), figsize=(17, 3), dir_labels=dir_labels, column_titles=[\"K mice\", \"KO\", \"WT\"], colormap='seismic')"
   ]
  },
  {
   "cell_type": "code",
   "execution_count": 54,
   "metadata": {},
   "outputs": [
    {
     "output_type": "execute_result",
     "data": {
      "text/plain": [
       "array([0., 0., 0., ..., 0., 0., 0.], dtype=float32)"
      ]
     },
     "metadata": {},
     "execution_count": 54
    }
   ],
   "source": [
    "fear_minus_pref_KO"
   ]
  },
  {
   "cell_type": "code",
   "execution_count": 25,
   "metadata": {},
   "outputs": [
    {
     "output_type": "execute_result",
     "data": {
      "text/plain": [
       "('R', 'P', 'S')"
      ]
     },
     "metadata": {},
     "execution_count": 25
    }
   ],
   "source": [
    "    # get the affine from one of the original MRIs \n",
    "nib_loaded_img = nib.load('fear_minus_pref_all.nii')\n",
    "nib.aff2axcodes(nib_loaded_img.affine)"
   ]
  }
 ]
}