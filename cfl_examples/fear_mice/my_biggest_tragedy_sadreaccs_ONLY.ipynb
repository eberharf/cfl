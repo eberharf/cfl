{
 "metadata": {
  "language_info": {
   "codemirror_mode": {
    "name": "ipython",
    "version": 3
   },
   "file_extension": ".py",
   "mimetype": "text/x-python",
   "name": "python",
   "nbconvert_exporter": "python",
   "pygments_lexer": "ipython3",
   "version": "3.8.5-final"
  },
  "orig_nbformat": 2,
  "kernelspec": {
   "name": "cfl-env",
   "display_name": "cfl-env",
   "language": "python"
  }
 },
 "nbformat": 4,
 "nbformat_minor": 2,
 "cells": [
  {
   "cell_type": "code",
   "execution_count": 2,
   "metadata": {},
   "outputs": [
    {
     "output_type": "stream",
     "name": "stdout",
     "text": [
      "(124, 200, 82)\n"
     ]
    }
   ],
   "source": [
    "# Import needed packages for analysis\n",
    "import os\n",
    "\n",
    "import numpy as np\n",
    "import pandas as pd\n",
    "import matplotlib.pyplot as plt\n",
    "import nibabel as nib\n",
    "\n",
    "import cfl.util.brain_util as BU\n",
    "import cfl.util.brain_vis as BV\n",
    "\n",
    "mri_dir = 'PTSD_Data_Share\\MEMRI_data'\n",
    "\n",
    "# load one image to check out its dimensions\n",
    "img = BU.load_brain(os.path.join(mri_dir, \"PTSD_KO_03_BL.nii\"))\n",
    "mri_dims = img.shape\n",
    "print(mri_dims)\n",
    "\n",
    "# load the non-linear mask template\n",
    "nl_mask_path = os.path.join('PTSD_Data_Share/templates\\MuseTemplate_nonlinear_mask.nii')\n",
    "nl_mask = BU.load_brain(nl_mask_path)\n",
    "nolin_mask_vec = BU.flatten(nl_mask)"
   ]
  },
  {
   "cell_type": "code",
   "execution_count": 4,
   "metadata": {},
   "outputs": [],
   "source": [
    "corrs_og = np.load('corrs_og.npy')\n",
    "corrs_KO = np.load('corrs_KO.npy')\n",
    "corrs_WT = np.load('corrs_WT.npy')"
   ]
  },
  {
   "cell_type": "code",
   "execution_count": 5,
   "metadata": {},
   "outputs": [
    {
     "output_type": "display_data",
     "data": {
      "text/plain": "interactive(children=(IntSlider(value=0, continuous_update=False, description='brain_slice', max=123), Output(…",
      "application/vnd.jupyter.widget-view+json": {
       "version_major": 2,
       "version_minor": 0,
       "model_id": "25ff6fb1c3e34b1697265dcf30fdbc4d"
      }
     },
     "metadata": {}
    },
    {
     "output_type": "display_data",
     "data": {
      "text/plain": "interactive(children=(IntSlider(value=0, continuous_update=False, description='brain_slice', max=199), Output(…",
      "application/vnd.jupyter.widget-view+json": {
       "version_major": 2,
       "version_minor": 0,
       "model_id": "9fd46b495a63480c949234d775664503"
      }
     },
     "metadata": {}
    },
    {
     "output_type": "display_data",
     "data": {
      "text/plain": "interactive(children=(IntSlider(value=0, continuous_update=False, description='brain_slice', max=81), Output()…",
      "application/vnd.jupyter.widget-view+json": {
       "version_major": 2,
       "version_minor": 0,
       "model_id": "fe0a5794e39341699f2902b7a83a367c"
      }
     },
     "metadata": {}
    }
   ],
   "source": [
    "\n",
    "# specify labels for plot (note the labels below are specifically for RAS orientation)\n",
    "dir_labels = { 'saggital' :   ['P', 'A', 'D', 'V'],\n",
    "               'coronal' :    ['L', 'R', 'D', 'V'],\n",
    "               'horizontal' : ['L', 'R', 'A', 'P']} \n",
    "\n",
    "BV.plot_interactive_panels(np.vstack((corrs_og, corrs_KO, corrs_WT)), mri_dims, nolin_mask_vec, figsize=(17, 3), dir_labels=dir_labels, column_titles=[\"All mice\", \"KO\", \"WT\"])"
   ]
  },
  {
   "cell_type": "code",
   "execution_count": 6,
   "metadata": {},
   "outputs": [],
   "source": [
    "# load one of the original MRI Images \n",
    "nib_img = nib.load(os.path.join(mri_dir, \"PTSD_KO_03_BL.nii\"))\n",
    "affine = nib_img.affine\n",
    "np.save('BU_load_affine.npy', affine)"
   ]
  },
  {
   "cell_type": "code",
   "execution_count": 7,
   "metadata": {},
   "outputs": [],
   "source": [
    "def save_as_nifti(flat_array, fname): \n",
    "    # get the affine from one of the original MRIs \n",
    "    nib_loaded_img = nib.load(os.path.join(mri_dir, \"PTSD_KO_03_BL.nii\"))\n",
    "\n",
    "    # change any NaNs to 0s\n",
    "    flat_array = np.nan_to_num(flat_array)\n",
    "\n",
    "    # convert np array to NIFTI and save\n",
    "    nifti_im = nib.Nifti1Image(BU.unflatten(flat_array, mri_dims), affine=nib_loaded_img.affine)\n",
    "    nib.save(nifti_im, fname)"
   ]
  },
  {
   "cell_type": "code",
   "execution_count": 8,
   "metadata": {},
   "outputs": [],
   "source": [
    "# same some things as niftis\n",
    "save_as_nifti(corrs_og, 'corrs_og.nii')\n",
    "save_as_nifti(corrs_WT, 'corrs_WT.nii')\n",
    "save_as_nifti(corrs_KO, 'corrs_KO.nii')"
   ]
  },
  {
   "cell_type": "code",
   "execution_count": 9,
   "metadata": {},
   "outputs": [],
   "source": [
    "corrs_og_nii = BU.load_brain('corrs_og.nii', ori='RPS')\n",
    "corrs_WT_nii = BU.load_brain('corrs_WT.nii', ori='RPS')\n",
    "corrs_KO_nii = BU.load_brain('corrs_KO.nii', ori='RPS')"
   ]
  },
  {
   "cell_type": "code",
   "execution_count": 10,
   "metadata": {},
   "outputs": [],
   "source": [
    "corrs_og_nii = BU.flatten(corrs_og_nii)\n",
    "corrs_KO_nii = BU.flatten(corrs_KO_nii)\n",
    "corrs_WT_nii = BU.flatten(corrs_WT_nii)"
   ]
  },
  {
   "cell_type": "code",
   "execution_count": 11,
   "metadata": {},
   "outputs": [
    {
     "output_type": "display_data",
     "data": {
      "text/plain": "interactive(children=(IntSlider(value=0, continuous_update=False, description='brain_slice', max=123), Output(…",
      "application/vnd.jupyter.widget-view+json": {
       "version_major": 2,
       "version_minor": 0,
       "model_id": "6a01d9a1f66a4e7fa9f315822a5b8334"
      }
     },
     "metadata": {}
    },
    {
     "output_type": "display_data",
     "data": {
      "text/plain": "interactive(children=(IntSlider(value=0, continuous_update=False, description='brain_slice', max=199), Output(…",
      "application/vnd.jupyter.widget-view+json": {
       "version_major": 2,
       "version_minor": 0,
       "model_id": "5e407172cb364efca0eebd5690154ea3"
      }
     },
     "metadata": {}
    },
    {
     "output_type": "display_data",
     "data": {
      "text/plain": "interactive(children=(IntSlider(value=0, continuous_update=False, description='brain_slice', max=81), Output()…",
      "application/vnd.jupyter.widget-view+json": {
       "version_major": 2,
       "version_minor": 0,
       "model_id": "1612dbe352ae462aa123fac6407d30f0"
      }
     },
     "metadata": {}
    }
   ],
   "source": [
    "BV.plot_interactive_panels(np.vstack((corrs_og_nii, corrs_KO_nii, corrs_WT_nii)), mri_dims, nolin_mask_vec, figsize=(17, 3), dir_labels=dir_labels, column_titles=[\"All mice\", \"KO\", \"WT\"])\n"
   ]
  },
  {
   "cell_type": "code",
   "execution_count": 12,
   "metadata": {},
   "outputs": [],
   "source": [
    "# load\n",
    "kcorrs_og = np.load('kcorrs_og.npy')\n",
    "kcorrs_KO = np.load('kcorrs_KO.npy')\n",
    "kcorrs_WT = np.load('kcorrs_WT.npy')\n",
    "\n",
    "# same as niftis\n",
    "save_as_nifti(kcorrs_og, 'kcorrs_og.nii')\n",
    "save_as_nifti(kcorrs_WT, 'kcorrs_WT.nii')\n",
    "save_as_nifti(kcorrs_KO, 'kcorrs_KO.nii')"
   ]
  },
  {
   "cell_type": "code",
   "execution_count": null,
   "metadata": {},
   "outputs": [],
   "source": []
  },
  {
   "cell_type": "code",
   "execution_count": 13,
   "metadata": {},
   "outputs": [
    {
     "output_type": "display_data",
     "data": {
      "text/plain": "interactive(children=(IntSlider(value=0, continuous_update=False, description='brain_slice', max=123), Output(…",
      "application/vnd.jupyter.widget-view+json": {
       "version_major": 2,
       "version_minor": 0,
       "model_id": "4a84bff89213438b9675682316881139"
      }
     },
     "metadata": {}
    },
    {
     "output_type": "display_data",
     "data": {
      "text/plain": "interactive(children=(IntSlider(value=0, continuous_update=False, description='brain_slice', max=199), Output(…",
      "application/vnd.jupyter.widget-view+json": {
       "version_major": 2,
       "version_minor": 0,
       "model_id": "669b3fcd5c4d49f592020e2491a6a4a5"
      }
     },
     "metadata": {}
    },
    {
     "output_type": "display_data",
     "data": {
      "text/plain": "interactive(children=(IntSlider(value=0, continuous_update=False, description='brain_slice', max=81), Output()…",
      "application/vnd.jupyter.widget-view+json": {
       "version_major": 2,
       "version_minor": 0,
       "model_id": "72a320371c5c4306bd70dfa857d8044f"
      }
     },
     "metadata": {}
    }
   ],
   "source": [
    "kcorrs_og_nii = BU.load_brain('kcorrs_og.nii', ori='RPS')\n",
    "kcorrs_WT_nii = BU.load_brain('kcorrs_WT.nii', ori='RPS')\n",
    "kcorrs_KO_nii = BU.load_brain('kcorrs_KO.nii', ori='RPS')\n",
    "\n",
    "BV.plot_interactive_panels(np.vstack((kcorrs_og_nii, kcorrs_KO_nii, kcorrs_WT_nii)), mri_dims, nolin_mask_vec, figsize=(17, 3), dir_labels=dir_labels, column_titles=[\"All mice\", \"KO\", \"WT\"])\n"
   ]
  },
  {
   "cell_type": "code",
   "execution_count": 17,
   "metadata": {},
   "outputs": [
    {
     "output_type": "display_data",
     "data": {
      "text/plain": "interactive(children=(IntSlider(value=0, continuous_update=False, description='brain_slice', max=123), Output(…",
      "application/vnd.jupyter.widget-view+json": {
       "version_major": 2,
       "version_minor": 0,
       "model_id": "4a057fb0d3164decb42045f41ee56d13"
      }
     },
     "metadata": {}
    },
    {
     "output_type": "display_data",
     "data": {
      "text/plain": "interactive(children=(IntSlider(value=0, continuous_update=False, description='brain_slice', max=199), Output(…",
      "application/vnd.jupyter.widget-view+json": {
       "version_major": 2,
       "version_minor": 0,
       "model_id": "dba8b32d045e421ab4b4481f065ae1e1"
      }
     },
     "metadata": {}
    },
    {
     "output_type": "display_data",
     "data": {
      "text/plain": "interactive(children=(IntSlider(value=0, continuous_update=False, description='brain_slice', max=81), Output()…",
      "application/vnd.jupyter.widget-view+json": {
       "version_major": 2,
       "version_minor": 0,
       "model_id": "b9edc618e67e41ebae9d689dc3c44cce"
      }
     },
     "metadata": {}
    }
   ],
   "source": [
    "fear_minus_pref_KO = np.load('fear_minus_pref_KO.npy')\n",
    "fear_minus_pref_WT = np.load('fear_minus_pref_WT.npy')\n",
    "fear_minus_pref_all = np.load('fear_minus_pref_all.npy')\n",
    "\n",
    "BV.plot_interactive_panels(np.vstack((fear_minus_pref_all, fear_minus_pref_KO, fear_minus_pref_WT)), mri_dims, nolin_mask_vec, figsize=(17, 3), dir_labels=dir_labels, column_titles=[\"All mice\", \"KO\", \"WT\"])"
   ]
  },
  {
   "cell_type": "code",
   "execution_count": 18,
   "metadata": {},
   "outputs": [],
   "source": [
    "fear_minus_pref_KO = BU.unflatten(fear_minus_pref_KO, mri_dims)\n",
    "fear_minus_pref_WT = BU.unflatten(fear_minus_pref_KO, mri_dims)\n",
    "fear_minus_pref_all = BU.unflatten(fear_minus_pref_KO, mri_dims)\n",
    "\n",
    "# same as niftis\n",
    "save_as_nifti(fear_minus_pref_all, 'fear_minus_pref_all.nii')\n",
    "save_as_nifti(fear_minus_pref_WT, 'fear_minus_pref_WT.nii')\n",
    "save_as_nifti(fear_minus_pref_KO, 'fear_minus_pref_KO.nii')"
   ]
  },
  {
   "cell_type": "code",
   "execution_count": 21,
   "metadata": {},
   "outputs": [
    {
     "output_type": "display_data",
     "data": {
      "text/plain": "interactive(children=(IntSlider(value=0, continuous_update=False, description='brain_slice', max=123), Output(…",
      "application/vnd.jupyter.widget-view+json": {
       "version_major": 2,
       "version_minor": 0,
       "model_id": "85e4848996dc4534bb97944e1abc8b7a"
      }
     },
     "metadata": {}
    },
    {
     "output_type": "display_data",
     "data": {
      "text/plain": "interactive(children=(IntSlider(value=0, continuous_update=False, description='brain_slice', max=199), Output(…",
      "application/vnd.jupyter.widget-view+json": {
       "version_major": 2,
       "version_minor": 0,
       "model_id": "e85d1a859de34623a91bce405ce1b3af"
      }
     },
     "metadata": {}
    },
    {
     "output_type": "display_data",
     "data": {
      "text/plain": "interactive(children=(IntSlider(value=0, continuous_update=False, description='brain_slice', max=81), Output()…",
      "application/vnd.jupyter.widget-view+json": {
       "version_major": 2,
       "version_minor": 0,
       "model_id": "b2924a4dd96a440ab565b9c42b5afcc6"
      }
     },
     "metadata": {}
    }
   ],
   "source": [
    "fear_minus_pref_KO = BU.load_brain('fear_minus_pref_KO.nii', ori='RPS')\n",
    "fear_minus_pref_WT = BU.load_brain('fear_minus_pref_WT.nii', ori='RPS')\n",
    "fear_minus_pref_all = BU.load_brain('fear_minus_pref_all.nii', ori='RPS')\n",
    "\n",
    "# kcorrs_og_nii = BU.flatten(kcorrs_og_nii)\n",
    "# kcorrs_KO_nii = BU.flatten(kcorrs_KO_nii)\n",
    "# kcorrs_WT_nii = BU.flatten(kcorrs_WT_nii)\n",
    "\n",
    "BV.plot_interactive_panels(np.vstack((kcorrs_og_nii, kcorrs_KO_nii, kcorrs_WT_nii)), mri_dims, nolin_mask_vec, figsize=(17, 3), dir_labels=dir_labels, column_titles=[\"All mice\", \"KO\", \"WT\"])"
   ]
  },
  {
   "cell_type": "code",
   "execution_count": 25,
   "metadata": {},
   "outputs": [
    {
     "output_type": "execute_result",
     "data": {
      "text/plain": [
       "('R', 'P', 'S')"
      ]
     },
     "metadata": {},
     "execution_count": 25
    }
   ],
   "source": [
    "    # get the affine from one of the original MRIs \n",
    "nib_loaded_img = nib.load('fear_minus_pref_all.nii')\n",
    "nib.aff2axcodes(nib_loaded_img.affine)"
   ]
  }
 ]
}