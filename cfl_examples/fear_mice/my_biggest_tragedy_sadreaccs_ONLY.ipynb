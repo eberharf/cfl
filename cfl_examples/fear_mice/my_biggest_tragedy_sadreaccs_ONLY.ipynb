{
 "metadata": {
  "language_info": {
   "codemirror_mode": {
    "name": "ipython",
    "version": 3
   },
   "file_extension": ".py",
   "mimetype": "text/x-python",
   "name": "python",
   "nbconvert_exporter": "python",
   "pygments_lexer": "ipython3",
   "version": "3.8.5-final"
  },
  "orig_nbformat": 2,
  "kernelspec": {
   "name": "cfl-env",
   "display_name": "cfl-env",
   "language": "python"
  }
 },
 "nbformat": 4,
 "nbformat_minor": 2,
 "cells": [
  {
   "cell_type": "code",
   "execution_count": 2,
   "metadata": {},
   "outputs": [
    {
     "output_type": "stream",
     "name": "stdout",
     "text": [
      "(124, 200, 82)\n"
     ]
    }
   ],
   "source": [
    "# Import needed packages for analysis\n",
    "import os\n",
    "\n",
    "import numpy as np\n",
    "import pandas as pd\n",
    "import matplotlib.pyplot as plt\n",
    "import nibabel as nib\n",
    "\n",
    "import cfl.util.brain_util as BU\n",
    "import cfl.util.brain_vis as BV\n",
    "from cfl.util.fear_mice_functions import save_as_nifti\n",
    "mri_dir = 'PTSD_Data_Share\\MEMRI_data'\n",
    "\n",
    "# load one image to check out its dimensions\n",
    "img = BU.load_brain(os.path.join(mri_dir, \"PTSD_KO_03_BL.nii\"))\n",
    "mri_dims = img.shape\n",
    "print(mri_dims)\n",
    "\n",
    "# load one image to get affine\n",
    "nib_img = nib.load(os.path.join(mri_dir, \"PTSD_KO_03_BL.nii\"))\n",
    "affine = nib_img.affine\n",
    "\n",
    "# load the non-linear mask template\n",
    "nl_mask_path = os.path.join('PTSD_Data_Share/templates\\MuseTemplate_nonlinear_mask.nii')\n",
    "nl_mask = BU.load_brain(nl_mask_path, ori='RPS')\n",
    "nolin_mask_vec = BU.flatten(nl_mask)\n",
    "\n",
    "\n",
    "# specify labels for plot (note the labels below are specifically for RAS orientation)\n",
    "dir_labels = { 'saggital' :   ['P', 'A', 'D', 'V'],\n",
    "               'coronal' :    ['L', 'R', 'D', 'V'],\n",
    "               'horizontal' : ['L', 'R', 'A', 'P']} \n"
   ]
  },
  {
   "source": [
    "## Examining Orientation of Corrs Images"
   ],
   "cell_type": "markdown",
   "metadata": {}
  },
  {
   "cell_type": "code",
   "execution_count": 3,
   "metadata": {},
   "outputs": [],
   "source": [
    "corrs_og = np.load('corrs_og.npy')\n",
    "corrs_KO = np.load('corrs_KO.npy')\n",
    "corrs_WT = np.load('corrs_WT.npy')"
   ]
  },
  {
   "cell_type": "code",
   "execution_count": 4,
   "metadata": {},
   "outputs": [
    {
     "output_type": "display_data",
     "data": {
      "text/plain": "interactive(children=(IntSlider(value=0, continuous_update=False, description='brain_slice', max=123), Output(…",
      "application/vnd.jupyter.widget-view+json": {
       "version_major": 2,
       "version_minor": 0,
       "model_id": "aeea6761a94644bc9b3bbee3e17ffb1b"
      }
     },
     "metadata": {}
    },
    {
     "output_type": "display_data",
     "data": {
      "text/plain": "interactive(children=(IntSlider(value=0, continuous_update=False, description='brain_slice', max=199), Output(…",
      "application/vnd.jupyter.widget-view+json": {
       "version_major": 2,
       "version_minor": 0,
       "model_id": "71567729301c4f949eb032aa232e7d81"
      }
     },
     "metadata": {}
    },
    {
     "output_type": "display_data",
     "data": {
      "text/plain": "interactive(children=(IntSlider(value=0, continuous_update=False, description='brain_slice', max=81), Output()…",
      "application/vnd.jupyter.widget-view+json": {
       "version_major": 2,
       "version_minor": 0,
       "model_id": "24534c2cab1a43ed973ba236b491d819"
      }
     },
     "metadata": {}
    }
   ],
   "source": [
    "BV.plot_interactive_panels(np.vstack((corrs_og, corrs_KO, corrs_WT)), mri_dims, nolin_mask_vec, figsize=(17, 3), dir_labels=dir_labels, column_titles=[\"All mice\", \"KO\", \"WT\"])"
   ]
  },
  {
   "cell_type": "code",
   "execution_count": 6,
   "metadata": {},
   "outputs": [],
   "source": [
    "# same some things as niftis\n",
    "save_as_nifti(corrs_og, 'corrs_og.nii', mri_dims, affine\n",
    ")\n",
    "save_as_nifti(corrs_WT, 'corrs_WT.nii', mri_dims, affine)\n",
    "save_as_nifti(corrs_KO, 'corrs_KO.nii', mri_dims, affine)"
   ]
  },
  {
   "cell_type": "code",
   "execution_count": 7,
   "metadata": {},
   "outputs": [],
   "source": [
    "corrs_og_nii = BU.load_brain('corrs_og.nii', ori='RPS')\n",
    "corrs_WT_nii = BU.load_brain('corrs_WT.nii', ori='RPS')\n",
    "corrs_KO_nii = BU.load_brain('corrs_KO.nii', ori='RPS')"
   ]
  },
  {
   "cell_type": "code",
   "execution_count": 8,
   "metadata": {},
   "outputs": [],
   "source": [
    "corrs_og_nii = BU.flatten(corrs_og_nii)\n",
    "corrs_KO_nii = BU.flatten(corrs_KO_nii)\n",
    "corrs_WT_nii = BU.flatten(corrs_WT_nii)"
   ]
  },
  {
   "cell_type": "code",
   "execution_count": 9,
   "metadata": {},
   "outputs": [
    {
     "output_type": "display_data",
     "data": {
      "text/plain": "interactive(children=(IntSlider(value=0, continuous_update=False, description='brain_slice', max=123), Output(…",
      "application/vnd.jupyter.widget-view+json": {
       "version_major": 2,
       "version_minor": 0,
       "model_id": "7200a306e59944ed8f3ef2c417690786"
      }
     },
     "metadata": {}
    },
    {
     "output_type": "display_data",
     "data": {
      "text/plain": "interactive(children=(IntSlider(value=0, continuous_update=False, description='brain_slice', max=199), Output(…",
      "application/vnd.jupyter.widget-view+json": {
       "version_major": 2,
       "version_minor": 0,
       "model_id": "d74e52260a9940d092fa9e0d9ce15304"
      }
     },
     "metadata": {}
    },
    {
     "output_type": "display_data",
     "data": {
      "text/plain": "interactive(children=(IntSlider(value=0, continuous_update=False, description='brain_slice', max=81), Output()…",
      "application/vnd.jupyter.widget-view+json": {
       "version_major": 2,
       "version_minor": 0,
       "model_id": "d6a9db82a0b64a48a8a142f8997d5a4b"
      }
     },
     "metadata": {}
    }
   ],
   "source": [
    "BV.plot_interactive_panels(np.vstack((corrs_og_nii, corrs_KO_nii, corrs_WT_nii)), mri_dims, nolin_mask_vec, figsize=(17, 3), dir_labels=dir_labels, column_titles=[\"All mice\", \"KO\", \"WT\"])\n"
   ]
  },
  {
   "source": [
    "## Check out Orientation of Kendall correlation images"
   ],
   "cell_type": "markdown",
   "metadata": {}
  },
  {
   "cell_type": "code",
   "execution_count": 11,
   "metadata": {},
   "outputs": [],
   "source": [
    "# load\n",
    "kcorrs_og = np.load('kcorrs_og.npy')\n",
    "kcorrs_KO = np.load('kcorrs_KO.npy')\n",
    "kcorrs_WT = np.load('kcorrs_WT.npy')\n"
   ]
  },
  {
   "cell_type": "code",
   "execution_count": 12,
   "metadata": {},
   "outputs": [
    {
     "output_type": "display_data",
     "data": {
      "text/plain": "interactive(children=(IntSlider(value=0, continuous_update=False, description='brain_slice', max=123), Output(…",
      "application/vnd.jupyter.widget-view+json": {
       "version_major": 2,
       "version_minor": 0,
       "model_id": "c287f4730aaa4ab4868180d0b1eadf9d"
      }
     },
     "metadata": {}
    },
    {
     "output_type": "display_data",
     "data": {
      "text/plain": "interactive(children=(IntSlider(value=0, continuous_update=False, description='brain_slice', max=199), Output(…",
      "application/vnd.jupyter.widget-view+json": {
       "version_major": 2,
       "version_minor": 0,
       "model_id": "3f356045272f4e609378be605ecb4748"
      }
     },
     "metadata": {}
    },
    {
     "output_type": "display_data",
     "data": {
      "text/plain": "interactive(children=(IntSlider(value=0, continuous_update=False, description='brain_slice', max=81), Output()…",
      "application/vnd.jupyter.widget-view+json": {
       "version_major": 2,
       "version_minor": 0,
       "model_id": "da54eb44479747ddacf950d6844b3d9f"
      }
     },
     "metadata": {}
    }
   ],
   "source": [
    "BV.plot_interactive_panels(np.vstack((kcorrs_og, kcorrs_KO, kcorrs_WT)), mri_dims, nolin_mask_vec, figsize=(17, 3), dir_labels=dir_labels, column_titles=[\"All mice\", \"KO\", \"WT\"])\n"
   ]
  },
  {
   "cell_type": "code",
   "execution_count": 8,
   "metadata": {},
   "outputs": [
    {
     "output_type": "execute_result",
     "data": {
      "text/plain": [
       "(124, 200, 82)"
      ]
     },
     "metadata": {},
     "execution_count": 8
    }
   ],
   "source": [
    "kcorrs_og_nii.shape"
   ]
  },
  {
   "cell_type": "code",
   "execution_count": null,
   "metadata": {},
   "outputs": [],
   "source": [
    "# same as niftis\n",
    "save_as_nifti(kcorrs_og, 'kcorrs_og.nii')\n",
    "save_as_nifti(kcorrs_WT, 'kcorrs_WT.nii')\n",
    "save_as_nifti(kcorrs_KO, 'kcorrs_KO.nii')"
   ]
  },
  {
   "cell_type": "code",
   "execution_count": 39,
   "metadata": {},
   "outputs": [
    {
     "output_type": "display_data",
     "data": {
      "text/plain": "interactive(children=(IntSlider(value=0, continuous_update=False, description='brain_slice', max=123), Output(…",
      "application/vnd.jupyter.widget-view+json": {
       "version_major": 2,
       "version_minor": 0,
       "model_id": "011e180b211649dd876f8128a8d0fdbe"
      }
     },
     "metadata": {}
    },
    {
     "output_type": "display_data",
     "data": {
      "text/plain": "interactive(children=(IntSlider(value=0, continuous_update=False, description='brain_slice', max=199), Output(…",
      "application/vnd.jupyter.widget-view+json": {
       "version_major": 2,
       "version_minor": 0,
       "model_id": "96e27d4e6b5b48bd817b75142a80ebbc"
      }
     },
     "metadata": {}
    },
    {
     "output_type": "display_data",
     "data": {
      "text/plain": "interactive(children=(IntSlider(value=0, continuous_update=False, description='brain_slice', max=81), Output()…",
      "application/vnd.jupyter.widget-view+json": {
       "version_major": 2,
       "version_minor": 0,
       "model_id": "fb649d536a13446d9ef7160741b55ecb"
      }
     },
     "metadata": {}
    }
   ],
   "source": [
    "kcorrs_og_nii = BU.load_brain('kcorrs_og.nii', ori='RPS')\n",
    "kcorrs_WT_nii = BU.load_brain('kcorrs_WT.nii', ori='RPS')\n",
    "kcorrs_KO_nii = BU.load_brain('kcorrs_KO.nii', ori='RPS')\n",
    "\n",
    "BV.plot_interactive_panels(np.vstack((BU.flatten(kcorrs_og_nii), BU.flatten(kcorrs_KO_nii), BU.flatten(kcorrs_WT_nii))), mri_dims, np.ones(mri_dims), figsize=(17, 3), dir_labels=dir_labels, column_titles=[\"All mice\", \"KO\", \"WT\"], colormap='seismic')"
   ]
  },
  {
   "source": [
    "## Recreate Fear Minus Prefear images so that they're good"
   ],
   "cell_type": "markdown",
   "metadata": {}
  },
  {
   "cell_type": "code",
   "execution_count": 5,
   "metadata": {},
   "outputs": [],
   "source": [
    "fear_KO = np.load('npy_files\\heatmap_Fear_KO.npy')\n",
    "prefear_KO = np.load('npy_files\\heatmap_PreF_KO.npy')\n",
    "\n",
    "fear_WT = np.load('npy_files\\heatmap_Fear_WT.npy')\n",
    "prefear_WT = np.load('npy_files\\heatmap_PreF_WT.npy')\n",
    "\n",
    "fear_all = np.load('npy_files\\heatmap_Fear.npy')\n",
    "prefear_all = np.load('npy_files\\heatmap_PreF.npy')"
   ]
  },
  {
   "cell_type": "code",
   "execution_count": 17,
   "metadata": {},
   "outputs": [],
   "source": [
    "save_as_nifti(BU.flatten(fear_WT), 'heatmap_fear_WT.nii', mri_dims, affine)"
   ]
  },
  {
   "cell_type": "code",
   "execution_count": 6,
   "metadata": {},
   "outputs": [
    {
     "output_type": "display_data",
     "data": {
      "text/plain": "interactive(children=(IntSlider(value=0, continuous_update=False, description='brain_slice', max=123), Output(…",
      "application/vnd.jupyter.widget-view+json": {
       "version_major": 2,
       "version_minor": 0,
       "model_id": "d7afdaeb24ec41df83e9b605ea8c3a5c"
      }
     },
     "metadata": {}
    },
    {
     "output_type": "display_data",
     "data": {
      "text/plain": "interactive(children=(IntSlider(value=0, continuous_update=False, description='brain_slice', max=199), Output(…",
      "application/vnd.jupyter.widget-view+json": {
       "version_major": 2,
       "version_minor": 0,
       "model_id": "a77bcf10dca348f8ba2f17a0a1a5e24f"
      }
     },
     "metadata": {}
    },
    {
     "output_type": "display_data",
     "data": {
      "text/plain": "interactive(children=(IntSlider(value=0, continuous_update=False, description='brain_slice', max=81), Output()…",
      "application/vnd.jupyter.widget-view+json": {
       "version_major": 2,
       "version_minor": 0,
       "model_id": "9eb0234f25ef44f7b825934d71a03308"
      }
     },
     "metadata": {}
    }
   ],
   "source": [
    "BV.plot_interactive_panels(np.vstack((fear_all, prefear_all, fear_KO, prefear_KO, fear_WT, prefear_WT)), mri_dims, np.ones(mri_dims), figsize=(17, 3), dir_labels=dir_labels, colormap='seismic')"
   ]
  },
  {
   "cell_type": "code",
   "execution_count": 7,
   "metadata": {},
   "outputs": [
    {
     "output_type": "display_data",
     "data": {
      "text/plain": "interactive(children=(IntSlider(value=0, continuous_update=False, description='brain_slice', max=123), Output(…",
      "application/vnd.jupyter.widget-view+json": {
       "version_major": 2,
       "version_minor": 0,
       "model_id": "597ad8c44803487494717ec95725cf6f"
      }
     },
     "metadata": {}
    },
    {
     "output_type": "display_data",
     "data": {
      "text/plain": "interactive(children=(IntSlider(value=0, continuous_update=False, description='brain_slice', max=199), Output(…",
      "application/vnd.jupyter.widget-view+json": {
       "version_major": 2,
       "version_minor": 0,
       "model_id": "d177b560dde54a2fb5bf7d1b112d5ea7"
      }
     },
     "metadata": {}
    },
    {
     "output_type": "display_data",
     "data": {
      "text/plain": "interactive(children=(IntSlider(value=0, continuous_update=False, description='brain_slice', max=81), Output()…",
      "application/vnd.jupyter.widget-view+json": {
       "version_major": 2,
       "version_minor": 0,
       "model_id": "0dbbde716bce4f599339fb43a34d2f80"
      }
     },
     "metadata": {}
    }
   ],
   "source": [
    "fear_minus_pref_KO = fear_KO - prefear_KO \n",
    "\n",
    "fear_minus_pref_WT = fear_WT - prefear_WT\n",
    "\n",
    "fear_minus_pref_all = fear_all - prefear_all\n",
    "\n",
    "BV.plot_interactive_panels(np.vstack((fear_minus_pref_all, fear_minus_pref_KO, fear_minus_pref_WT)), mri_dims, np.ones(mri_dims), figsize=(17, 3), dir_labels=dir_labels, column_titles=['all', \"KO\", \"WT\"], colormap='seismic')"
   ]
  },
  {
   "cell_type": "code",
   "execution_count": 9,
   "metadata": {},
   "outputs": [
    {
     "output_type": "stream",
     "name": "stdout",
     "text": [
      "(124, 200, 82)\n"
     ]
    }
   ],
   "source": [
    "print(fear_minus_pref_all.shape)"
   ]
  },
  {
   "cell_type": "code",
   "execution_count": 8,
   "metadata": {},
   "outputs": [],
   "source": [
    "# save as numpy files\n",
    "np.save('fear_minus_pref_all.npy', fear_minus_pref_all)\n",
    "np.save('fear_minus_pref_WT.npy', fear_minus_pref_WT)\n",
    "np.save('fear_minus_pref_KO.npy', fear_minus_pref_KO)"
   ]
  },
  {
   "cell_type": "code",
   "execution_count": 9,
   "metadata": {},
   "outputs": [],
   "source": [
    "fear_minus_pref_KO = BU.flatten(fear_minus_pref_KO)\n",
    "fear_minus_pref_WT = BU.flatten(fear_minus_pref_WT)\n",
    "fear_minus_pref_all = BU.flatten(fear_minus_pref_all)\n",
    "\n",
    "# same as niftis\n",
    "save_as_nifti(fear_minus_pref_all, 'fear_minus_pref_all.nii', mri_dims, affine)\n",
    "save_as_nifti(fear_minus_pref_WT, 'fear_minus_pref_WT.nii', mri_dims, affine)\n",
    "save_as_nifti(fear_minus_pref_KO, 'fear_minus_pref_KO.nii', mri_dims, affine)"
   ]
  },
  {
   "cell_type": "code",
   "execution_count": 11,
   "metadata": {},
   "outputs": [
    {
     "output_type": "display_data",
     "data": {
      "text/plain": "interactive(children=(IntSlider(value=0, continuous_update=False, description='brain_slice', max=123), Output(…",
      "application/vnd.jupyter.widget-view+json": {
       "version_major": 2,
       "version_minor": 0,
       "model_id": "94e1209371be46a1ba121fd38e97088b"
      }
     },
     "metadata": {}
    },
    {
     "output_type": "display_data",
     "data": {
      "text/plain": "interactive(children=(IntSlider(value=0, continuous_update=False, description='brain_slice', max=199), Output(…",
      "application/vnd.jupyter.widget-view+json": {
       "version_major": 2,
       "version_minor": 0,
       "model_id": "28b2878e724749c88fe9054e25c54dc6"
      }
     },
     "metadata": {}
    },
    {
     "output_type": "display_data",
     "data": {
      "text/plain": "interactive(children=(IntSlider(value=0, continuous_update=False, description='brain_slice', max=81), Output()…",
      "application/vnd.jupyter.widget-view+json": {
       "version_major": 2,
       "version_minor": 0,
       "model_id": "02868f03409741a0b9652ffcaa17652e"
      }
     },
     "metadata": {}
    }
   ],
   "source": [
    "fear_minus_pref_KO = BU.load_brain('fear_minus_pref_KO.nii', ori='RPS')\n",
    "fear_minus_pref_WT = BU.load_brain('fear_minus_pref_WT.nii', ori='RPS')\n",
    "fear_minus_pref_all = BU.load_brain('fear_minus_pref_all.nii', ori='RPS')\n",
    "\n",
    "fear_minus_pref_KO = BU.flatten(fear_minus_pref_KO)\n",
    "fear_minus_pref_WT = BU.flatten(fear_minus_pref_WT)\n",
    "fear_minus_pref_all = BU.flatten(fear_minus_pref_all)\n",
    "\n",
    "BV.plot_interactive_panels(np.vstack((fear_minus_pref_all, fear_minus_pref_KO, fear_minus_pref_WT)), mri_dims, np.ones(mri_dims), figsize=(17, 3), dir_labels=dir_labels, column_titles=[\"K mice\", \"KO\", \"WT\"], colormap='seismic')"
   ]
  }
 ]
}