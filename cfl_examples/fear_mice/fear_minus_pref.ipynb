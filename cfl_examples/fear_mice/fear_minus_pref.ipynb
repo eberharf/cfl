{
 "cells": [
  {
   "cell_type": "code",
   "execution_count": 3,
   "metadata": {},
   "outputs": [],
   "source": [
    "# Import needed packages for analysis\n",
    "import os\n",
    "\n",
    "import numpy as np\n",
    "import pandas as pd\n",
    "import matplotlib.pyplot as plt\n",
    "import nibabel as nib\n",
    "\n",
    "import cfl.util.brain_util as BU\n",
    "import cfl.util.brain_vis as BV\n",
    "from cfl.util.fear_mice_functions import save_as_nifti\n",
    "\n",
    "from cfl.util.fear_mice_functions import get_global_values\n",
    "\n",
    "\n",
    "mri_dir, mri_dims, affine, dir_labels = get_global_values()\n",
    "\n",
    "# load the non-linear mask template\n",
    "nl_mask_path = os.path.join('PTSD_Data_Share/templates\\MuseTemplate_nonlinear_mask.nii')\n",
    "nl_mask = BU.load_brain(nl_mask_path, ori='RPS')\n",
    "nolin_mask_vec = BU.flatten(nl_mask)"
   ]
  },
  {
   "cell_type": "code",
   "execution_count": 5,
   "metadata": {},
   "outputs": [],
   "source": [
    "data_id = 'X_'\n",
    "folder_path = os.path.join('npy_files', 'smooth')"
   ]
  },
  {
   "cell_type": "markdown",
   "metadata": {},
   "source": [
    "# Generate Fear Minus Pre-Fear for each Genotype and Overall (both genotypes together)"
   ]
  },
  {
   "source": [
    "## Load Heatmaps"
   ],
   "cell_type": "markdown",
   "metadata": {}
  },
  {
   "source": [
    " Note: you must generate the heatmap files by running the heatmap notebook before running this one "
   ],
   "cell_type": "markdown",
   "metadata": {}
  },
  {
   "cell_type": "code",
   "execution_count": 9,
   "metadata": {},
   "outputs": [],
   "source": [
    "fear_KO = np.load(os.path.join(folder_path, data_id + 'heatmap_Fear_KO.npy'))\n",
    "prefear_KO = np.load(os.path.join(folder_path, data_id + 'heatmap_PreF_KO.npy'))\n",
    "\n",
    "fear_WT = np.load(os.path.join(folder_path, data_id + 'heatmap_Fear_WT.npy'))\n",
    "prefear_WT = np.load(os.path.join(folder_path, data_id + 'heatmap_PreF_WT.npy'))\n",
    "\n",
    "fear_all = np.load(os.path.join(folder_path, data_id + 'heatmap_Fear.npy'))\n",
    "prefear_all = np.load(os.path.join(folder_path, data_id + 'heatmap_PreF.npy'))"
   ]
  },
  {
   "cell_type": "code",
   "execution_count": 10,
   "metadata": {},
   "outputs": [
    {
     "output_type": "display_data",
     "data": {
      "text/plain": "interactive(children=(IntSlider(value=0, continuous_update=False, description='brain_slice', max=123), Output(…",
      "application/vnd.jupyter.widget-view+json": {
       "version_major": 2,
       "version_minor": 0,
       "model_id": "670facca914144958b0ff1274d29a474"
      }
     },
     "metadata": {}
    },
    {
     "output_type": "display_data",
     "data": {
      "text/plain": "interactive(children=(IntSlider(value=0, continuous_update=False, description='brain_slice', max=199), Output(…",
      "application/vnd.jupyter.widget-view+json": {
       "version_major": 2,
       "version_minor": 0,
       "model_id": "b935df2131b749039cecb0adc4b94e58"
      }
     },
     "metadata": {}
    },
    {
     "output_type": "display_data",
     "data": {
      "text/plain": "interactive(children=(IntSlider(value=0, continuous_update=False, description='brain_slice', max=81), Output()…",
      "application/vnd.jupyter.widget-view+json": {
       "version_major": 2,
       "version_minor": 0,
       "model_id": "57db3cc7b39b4e738f4a9bde7a754527"
      }
     },
     "metadata": {}
    }
   ],
   "source": [
    "# graph all the heatmaps \n",
    "BV.plot_interactive_panels(np.vstack((fear_all, prefear_all, fear_KO, prefear_KO, fear_WT, prefear_WT)), mri_dims, nolin_mask_vec, figsize=(17, 3), dir_labels=dir_labels, colormap='seismic', column_titles=['Fear all', \"Pref All\", 'Fear KO', \"PreF KO\", \"Fear WT\", \"PreF WT\"])"
   ]
  },
  {
   "source": [
    "## Calculate differences and visualize results "
   ],
   "cell_type": "markdown",
   "metadata": {}
  },
  {
   "cell_type": "code",
   "execution_count": 11,
   "metadata": {},
   "outputs": [],
   "source": [
    "fear_minus_pref_KO = fear_KO - prefear_KO \n",
    "\n",
    "fear_minus_pref_WT = fear_WT - prefear_WT\n",
    "\n",
    "fear_minus_pref_all = fear_all - prefear_all\n",
    "\n",
    "# BV.plot_interactive_panels(np.vstack((fear_minus_pref_all, fear_minus_pref_KO, fear_minus_pref_WT)), mri_dims, nolin_mask_vec, figsize=(17, 3), dir_labels=dir_labels, column_titles=['all', \"KO\", \"WT\"], colormap='seismic')"
   ]
  },
  {
   "source": [
    "## Save results "
   ],
   "cell_type": "markdown",
   "metadata": {}
  },
  {
   "cell_type": "code",
   "execution_count": 12,
   "metadata": {},
   "outputs": [],
   "source": [
    "# save as numpy files\n",
    "np.save(os.path.join(folder_path, data_id + 'fear_minus_pref_all.npy'), fear_minus_pref_all)\n",
    "np.save(os.path.join(folder_path, data_id + 'fear_minus_pref_WT.npy'), fear_minus_pref_WT)\n",
    "np.save(os.path.join(folder_path, data_id + 'fear_minus_pref_KO.npy'), fear_minus_pref_KO)"
   ]
  },
  {
   "cell_type": "code",
   "execution_count": 13,
   "metadata": {},
   "outputs": [],
   "source": [
    "# same as niftis\n",
    "save_as_nifti(fear_minus_pref_all, os.path.join('correctly_oriented_niis', data_id + 'fear_minus_pref_all.nii'), mri_dims, affine)\n",
    "save_as_nifti(fear_minus_pref_WT, os.path.join('correctly_oriented_niis', data_id + 'fear_minus_pref_WT.nii'), mri_dims, affine)\n",
    "save_as_nifti(fear_minus_pref_KO, os.path.join('correctly_oriented_niis', data_id + 'fear_minus_pref_KO.nii'), mri_dims, affine)"
   ]
  },
  {
   "source": [
    "## Verify that the saved images are oriented correctly "
   ],
   "cell_type": "markdown",
   "metadata": {}
  },
  {
   "cell_type": "code",
   "execution_count": 14,
   "metadata": {},
   "outputs": [
    {
     "output_type": "display_data",
     "data": {
      "text/plain": "interactive(children=(IntSlider(value=0, continuous_update=False, description='brain_slice', max=123), Output(…",
      "application/vnd.jupyter.widget-view+json": {
       "version_major": 2,
       "version_minor": 0,
       "model_id": "94a5339b680c45fd9b56eab8ca1482f6"
      }
     },
     "metadata": {}
    },
    {
     "output_type": "display_data",
     "data": {
      "text/plain": "interactive(children=(IntSlider(value=0, continuous_update=False, description='brain_slice', max=199), Output(…",
      "application/vnd.jupyter.widget-view+json": {
       "version_major": 2,
       "version_minor": 0,
       "model_id": "96c61eef647442fd84ad755515e46890"
      }
     },
     "metadata": {}
    },
    {
     "output_type": "display_data",
     "data": {
      "text/plain": "interactive(children=(IntSlider(value=0, continuous_update=False, description='brain_slice', max=81), Output()…",
      "application/vnd.jupyter.widget-view+json": {
       "version_major": 2,
       "version_minor": 0,
       "model_id": "57a690e8ef514ec690e8f2ebac41832a"
      }
     },
     "metadata": {}
    }
   ],
   "source": [
    "fear_minus_pref_KO = BU.load_brain(os.path.join('correctly_oriented_niis', data_id + 'fear_minus_pref_KO.nii'), ori='RPS')\n",
    "fear_minus_pref_WT = BU.load_brain(os.path.join('correctly_oriented_niis', data_id + 'fear_minus_pref_WT.nii'), ori='RPS')\n",
    "fear_minus_pref_all = BU.load_brain(os.path.join('correctly_oriented_niis', data_id + 'fear_minus_pref_all.nii'), ori='RPS')\n",
    "\n",
    "fear_minus_pref_KO = BU.flatten(fear_minus_pref_KO)\n",
    "fear_minus_pref_WT = BU.flatten(fear_minus_pref_WT)\n",
    "fear_minus_pref_all = BU.flatten(fear_minus_pref_all)\n",
    "\n",
    "BV.plot_interactive_panels(np.vstack((fear_minus_pref_all, fear_minus_pref_KO, fear_minus_pref_WT)), mri_dims, nolin_mask_vec, figsize=(17, 3), dir_labels=dir_labels, column_titles=[\"all mice\", \"KO\", \"WT\"], colormap='seismic')"
   ]
  }
 ],
 "metadata": {
  "kernelspec": {
   "display_name": "cfl-env",
   "language": "python",
   "name": "cfl-env"
  },
  "language_info": {
   "name": "",
   "version": "3.8.5-final"
  }
 },
 "nbformat": 4,
 "nbformat_minor": 4
}